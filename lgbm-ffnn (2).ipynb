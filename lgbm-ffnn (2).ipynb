{
 "cells": [
  {
   "cell_type": "code",
   "execution_count": 1,
   "id": "36de4083",
   "metadata": {
    "_cell_guid": "b1076dfc-b9ad-4769-8c92-a6c4dae69d19",
    "_uuid": "8f2839f25d086af736a60e9eeb907d3b93b6e0e5",
    "execution": {
     "iopub.execute_input": "2023-12-13T13:54:44.705808Z",
     "iopub.status.busy": "2023-12-13T13:54:44.700632Z",
     "iopub.status.idle": "2023-12-13T13:54:45.747951Z",
     "shell.execute_reply": "2023-12-13T13:54:45.747198Z",
     "shell.execute_reply.started": "2023-12-13T07:26:27.842964Z"
    },
    "papermill": {
     "duration": 1.089362,
     "end_time": "2023-12-13T13:54:45.748142",
     "exception": false,
     "start_time": "2023-12-13T13:54:44.658780",
     "status": "completed"
    },
    "tags": []
   },
   "outputs": [],
   "source": [
    "from IPython.core.display import display, HTML\n",
    "\n",
    "import pandas as pd\n",
    "import numpy as np # linear algebra\n",
    "import pandas as pd # data processing, CSV file I/O (e.g. pd.read_csv)\n",
    "import glob\n",
    "import os\n",
    "import gc\n",
    "\n",
    "from joblib import Parallel, delayed\n",
    "\n",
    "from sklearn import preprocessing, model_selection\n",
    "from sklearn.preprocessing import MinMaxScaler,StandardScaler,LabelEncoder\n",
    "from sklearn.preprocessing import QuantileTransformer\n",
    "from sklearn.metrics import r2_score\n",
    "\n",
    "import matplotlib.pyplot as plt \n",
    "import seaborn as sns\n",
    "import numpy.matlib\n",
    "\n",
    "\n",
    "path_submissions = '/'\n",
    "\n",
    "target_name = 'target'\n",
    "scores_folds = {}"
   ]
  },
  {
   "cell_type": "code",
   "execution_count": 2,
   "id": "90067738",
   "metadata": {
    "execution": {
     "iopub.execute_input": "2023-12-13T13:54:45.820923Z",
     "iopub.status.busy": "2023-12-13T13:54:45.820191Z",
     "iopub.status.idle": "2023-12-13T13:55:15.466600Z",
     "shell.execute_reply": "2023-12-13T13:55:15.465854Z",
     "shell.execute_reply.started": "2023-12-13T07:26:28.944320Z"
    },
    "papermill": {
     "duration": 29.684533,
     "end_time": "2023-12-13T13:55:15.466808",
     "exception": false,
     "start_time": "2023-12-13T13:54:45.782275",
     "status": "completed"
    },
    "tags": []
   },
   "outputs": [
    {
     "name": "stdout",
     "output_type": "stream",
     "text": [
      "Python 3.7.10\r\n",
      "\u001b[33mWARNING: Running pip as root will break packages and permissions. You should install packages reliably by using venv: https://pip.pypa.io/warnings/venv\u001b[0m\r\n"
     ]
    }
   ],
   "source": [
    "!python --version\n",
    "!pip -q install ../input/tabnet/pytorch_tabnet-2.0.1-py3-none-any.whl"
   ]
  },
  {
   "cell_type": "markdown",
   "id": "4fe40c46",
   "metadata": {
    "papermill": {
     "duration": 0.034446,
     "end_time": "2023-12-13T13:55:15.536326",
     "exception": false,
     "start_time": "2023-12-13T13:55:15.501880",
     "status": "completed"
    },
    "tags": []
   },
   "source": [
    "* ### I just tried different parameters and weights of 2  models. Cross validation with different folds was also attempted, but failed."
   ]
  },
  {
   "cell_type": "code",
   "execution_count": 3,
   "id": "3f371e3e",
   "metadata": {
    "execution": {
     "iopub.execute_input": "2023-12-13T13:55:15.659224Z",
     "iopub.status.busy": "2023-12-13T13:55:15.620632Z",
     "iopub.status.idle": "2023-12-13T13:55:15.679690Z",
     "shell.execute_reply": "2023-12-13T13:55:15.679236Z",
     "shell.execute_reply.started": "2023-12-13T07:26:58.390345Z"
    },
    "papermill": {
     "duration": 0.111264,
     "end_time": "2023-12-13T13:55:15.679846",
     "exception": false,
     "start_time": "2023-12-13T13:55:15.568582",
     "status": "completed"
    },
    "tags": []
   },
   "outputs": [],
   "source": [
    "# data directory\n",
    "data_dir = '../input/optiver-realized-volatility-prediction/'\n",
    "\n",
    "# Function to calculate first WAP\n",
    "def calc_wap1(df):\n",
    "    wap = (df['bid_price1'] * df['ask_size1'] + df['ask_price1'] * df['bid_size1']) / (df['bid_size1'] + df['ask_size1'])\n",
    "    return wap\n",
    "\n",
    "# Function to calculate second WAP\n",
    "def calc_wap2(df):\n",
    "    wap = (df['bid_price2'] * df['ask_size2'] + df['ask_price2'] * df['bid_size2']) / (df['bid_size2'] + df['ask_size2'])\n",
    "    return wap\n",
    "\n",
    "def calc_wap3(df):\n",
    "    wap = (df['bid_price1'] * df['bid_size1'] + df['ask_price1'] * df['ask_size1']) / (df['bid_size1'] + df['ask_size1'])\n",
    "    return wap\n",
    "\n",
    "def calc_wap4(df):\n",
    "    wap = (df['bid_price2'] * df['bid_size2'] + df['ask_price2'] * df['ask_size2']) / (df['bid_size2'] + df['ask_size2'])\n",
    "    return wap\n",
    "\n",
    "# Function to calculate the log of the return\n",
    "# Remember that logb(x / y) = logb(x) - logb(y)\n",
    "def log_return(series):\n",
    "    return np.log(series).diff()\n",
    "\n",
    "# Calculate the realized volatility\n",
    "def realized_volatility(series):\n",
    "    return np.sqrt(np.sum(series**2))\n",
    "\n",
    "#我加的===================================================================\n",
    "\n",
    "def RSI(close,n):\n",
    "    delta = close.diff()\n",
    "    delta = delta[1:]\n",
    "    pricesUp = delta.copy()\n",
    "    pricesDown = delta.copy()\n",
    "    pricesUp[pricesUp < 0] = 0\n",
    "    pricesDown[pricesDown > 0] = 0\n",
    "    rollUp = pricesUp.rolling(n).mean()\n",
    "    rollDown = pricesDown.abs().rolling(n).mean()\n",
    "    rs = rollUp / rollDown\n",
    "    rsi = 100.0 - (100.0 / (1.0 + rs))\n",
    "    return rsi\n",
    "\n",
    "#========================================================================\n",
    "\n",
    "# Function to count unique elements of a series\n",
    "def count_unique(series):\n",
    "    return len(np.unique(series))\n",
    "\n",
    "# Function to read our base train and test set\n",
    "def read_train_test():\n",
    "    train = pd.read_csv('../input/optiver-realized-volatility-prediction/train.csv')\n",
    "    test = pd.read_csv('../input/optiver-realized-volatility-prediction/test.csv')\n",
    "#     train = train[:100]\n",
    "#     test=test[:100]\n",
    "    # Create a key to merge with book and trade data\n",
    "    train['row_id'] = train['stock_id'].astype(str) + '-' + train['time_id'].astype(str)\n",
    "    test['row_id'] = test['stock_id'].astype(str) + '-' + test['time_id'].astype(str)\n",
    "    \n",
    "    print(f'Our training set has {train.shape[0]} rows')\n",
    "    return train, test\n",
    "\n",
    "# Function to preprocess book data (for each stock id)\n",
    "def book_preprocessor(file_path):\n",
    "    df = pd.read_parquet(file_path)\n",
    "    # Calculate Wap\n",
    "    df['wap1'] = calc_wap1(df)\n",
    "    df['wap2'] = calc_wap2(df)\n",
    "    df['wap3'] = calc_wap3(df)\n",
    "    df['wap4'] = calc_wap4(df)\n",
    "    # Calculate log returns\n",
    "    df['log_return1'] = df.groupby(['time_id'])['wap1'].apply(log_return)\n",
    "    df['log_return2'] = df.groupby(['time_id'])['wap2'].apply(log_return)\n",
    "    df['log_return3'] = df.groupby(['time_id'])['wap3'].apply(log_return)\n",
    "    df['log_return4'] = df.groupby(['time_id'])['wap4'].apply(log_return)\n",
    "    # Calculate wap balance\n",
    "    df['wap_balance'] = abs(df['wap1'] - df['wap2'])\n",
    "    # Calculate spread\n",
    "    df['price_spread'] = (df['ask_price1'] - df['bid_price1']) / ((df['ask_price1'] + df['bid_price1']) / 2)\n",
    "    df['price_spread2'] = (df['ask_price2'] - df['bid_price2']) / ((df['ask_price2'] + df['bid_price2']) / 2)\n",
    "    df['bid_spread'] = df['bid_price1'] - df['bid_price2']\n",
    "    df['ask_spread'] = df['ask_price1'] - df['ask_price2']\n",
    "    df[\"bid_ask_spread\"] = abs(df['bid_spread'] - df['ask_spread'])\n",
    "    df['total_volume'] = (df['ask_size1'] + df['ask_size2']) + (df['bid_size1'] + df['bid_size2'])\n",
    "    df['volume_imbalance'] = abs((df['ask_size1'] + df['ask_size2']) - (df['bid_size1'] + df['bid_size2']))\n",
    "    \n",
    "    # Dict for aggregations\n",
    "    create_feature_dict = {\n",
    "        'wap1': [np.sum, np.mean, np.std],\n",
    "        'wap2': [np.sum, np.mean, np.std],\n",
    "        'wap3': [np.sum, np.mean, np.std],\n",
    "        'wap4': [np.sum, np.mean, np.std],\n",
    "        'log_return1': [np.sum, realized_volatility, np.mean, np.std],\n",
    "        'log_return2': [np.sum, realized_volatility, np.mean, np.std],\n",
    "        'log_return3': [np.sum, realized_volatility, np.mean, np.std],\n",
    "        'log_return4': [np.sum, realized_volatility, np.mean, np.std],\n",
    "        'wap_balance': [np.sum, np.mean, np.std],\n",
    "        'price_spread':[np.sum, np.mean, np.std],\n",
    "        'price_spread2':[np.sum, np.mean, np.std],\n",
    "        'bid_spread':[np.sum, np.mean, np.std],\n",
    "        'ask_spread':[np.sum, np.mean, np.std],\n",
    "        'total_volume':[np.sum, np.mean, np.std],\n",
    "        'volume_imbalance':[np.sum, np.mean, np.std],\n",
    "        \"bid_ask_spread\":[np.sum, np.mean, np.std],\n",
    "    }\n",
    "    create_feature_dict_time = {\n",
    "        'log_return1': [realized_volatility],\n",
    "        'log_return2': [realized_volatility],\n",
    "        'log_return3': [realized_volatility],\n",
    "        'log_return4': [realized_volatility],\n",
    "    }\n",
    "    \n",
    "    # Function to get group stats for different windows (seconds in bucket)\n",
    "    def get_stats_window(fe_dict,seconds_in_bucket, add_suffix = False):\n",
    "        # Group by the window\n",
    "        df_feature = df[df['seconds_in_bucket'] >= seconds_in_bucket].groupby(['time_id']).agg(fe_dict).reset_index()\n",
    "        # Rename columns joining suffix\n",
    "        df_feature.columns = ['_'.join(col) for col in df_feature.columns]\n",
    "        # Add a suffix to differentiate windows\n",
    "        if add_suffix:\n",
    "            df_feature = df_feature.add_suffix('_' + str(seconds_in_bucket))\n",
    "        return df_feature\n",
    "    \n",
    "    # Get the stats for different windows\n",
    "    df_feature = get_stats_window(create_feature_dict,seconds_in_bucket = 0, add_suffix = False)\n",
    "    df_feature_500 = get_stats_window(create_feature_dict_time,seconds_in_bucket = 500, add_suffix = True)\n",
    "    df_feature_400 = get_stats_window(create_feature_dict_time,seconds_in_bucket = 400, add_suffix = True)\n",
    "    df_feature_300 = get_stats_window(create_feature_dict_time,seconds_in_bucket = 300, add_suffix = True)\n",
    "    df_feature_200 = get_stats_window(create_feature_dict_time,seconds_in_bucket = 200, add_suffix = True)\n",
    "    df_feature_100 = get_stats_window(create_feature_dict_time,seconds_in_bucket = 100, add_suffix = True)\n",
    "\n",
    "    # Merge all\n",
    "    df_feature = df_feature.merge(df_feature_500, how = 'left', left_on = 'time_id_', right_on = 'time_id__500')\n",
    "    df_feature = df_feature.merge(df_feature_400, how = 'left', left_on = 'time_id_', right_on = 'time_id__400')\n",
    "    df_feature = df_feature.merge(df_feature_300, how = 'left', left_on = 'time_id_', right_on = 'time_id__300')\n",
    "    df_feature = df_feature.merge(df_feature_200, how = 'left', left_on = 'time_id_', right_on = 'time_id__200')\n",
    "    df_feature = df_feature.merge(df_feature_100, how = 'left', left_on = 'time_id_', right_on = 'time_id__100')\n",
    "    # Drop unnecesary time_ids\n",
    "    df_feature.drop(['time_id__500','time_id__400', 'time_id__300', 'time_id__200','time_id__100'], axis = 1, inplace = True)\n",
    "    \n",
    "    #我加的===================================================================\n",
    "    df_new_features = df[['time_id']].copy()\n",
    "    df['mid'] = (df['ask_price1']+ df['bid_price1'])/2\n",
    "    #STD(price)\n",
    "    for window in [100,200,300,400,500]:\n",
    "        df[f'mid_ma_{window}'] = df['mid'].rolling(window=window).mean()\n",
    "        #|price-MA|\n",
    "        df[f'price_to_ma_{window}'] = abs(df['mid'] - df[f'mid_ma_{window}'])\n",
    "        df[f'price_to_ma_{window}'].bfill(inplace=True)\n",
    "        df_new_features[f'price_to_ma_{window}'] = df.groupby('time_id')[f'price_to_ma_{window}'].transform('mean')\n",
    "    for n in [30,60,100]:\n",
    "        df[f'rsi_{n}']=RSI(df['mid'],n=n)\n",
    "        df[f'rsi_{n}'].bfill(inplace=True)\n",
    "        df_new_features[f'rsi_{n}'] = df.groupby('time_id')[f'rsi_{n}'].transform('mean')\n",
    "    df_new_features.drop_duplicates(subset='time_id', keep='first', inplace=True)     \n",
    "    df_feature = df_feature.merge(df_new_features, how = 'left', left_on = 'time_id_', right_on = 'time_id')\n",
    "    df_feature.drop(['time_id'], axis = 1, inplace = True)\n",
    "    #我加的===================================================================\n",
    "    \n",
    "    # Create row_id so we can merge\n",
    "    stock_id = file_path.split('=')[1]\n",
    "    df_feature['row_id'] = df_feature['time_id_'].apply(lambda x: f'{stock_id}-{x}')\n",
    "    df_feature.drop(['time_id_'], axis = 1, inplace = True)\n",
    "    return df_feature\n",
    "\n",
    "# Function to preprocess trade data (for each stock id)\n",
    "def trade_preprocessor(file_path):\n",
    "    df = pd.read_parquet(file_path)\n",
    "    df['log_return'] = df.groupby('time_id')['price'].apply(log_return)\n",
    "    df['amount']=df['price']*df['size']\n",
    "    # Dict for aggregations\n",
    "    create_feature_dict = {\n",
    "        'log_return':[realized_volatility],\n",
    "        'seconds_in_bucket':[count_unique],\n",
    "        'size':[np.sum, np.max, np.min],\n",
    "        'order_count':[np.sum,np.max],\n",
    "        'amount':[np.sum,np.max,np.min],\n",
    "    }\n",
    "    create_feature_dict_time = {\n",
    "        'log_return':[realized_volatility],\n",
    "        'seconds_in_bucket':[count_unique],\n",
    "        'size':[np.sum],\n",
    "        'order_count':[np.sum],\n",
    "    }\n",
    "    # Function to get group stats for different windows (seconds in bucket)\n",
    "    def get_stats_window(fe_dict,seconds_in_bucket, add_suffix = False):\n",
    "        # Group by the window\n",
    "        df_feature = df[df['seconds_in_bucket'] >= seconds_in_bucket].groupby(['time_id']).agg(fe_dict).reset_index()\n",
    "        # Rename columns joining suffix\n",
    "        df_feature.columns = ['_'.join(col) for col in df_feature.columns]\n",
    "        # Add a suffix to differentiate windows\n",
    "        if add_suffix:\n",
    "            df_feature = df_feature.add_suffix('_' + str(seconds_in_bucket))\n",
    "        return df_feature\n",
    "    \n",
    "\n",
    "    # Get the stats for different windows\n",
    "    df_feature = get_stats_window(create_feature_dict,seconds_in_bucket = 0, add_suffix = False)\n",
    "    df_feature_500 = get_stats_window(create_feature_dict_time,seconds_in_bucket = 500, add_suffix = True)\n",
    "    df_feature_400 = get_stats_window(create_feature_dict_time,seconds_in_bucket = 400, add_suffix = True)\n",
    "    df_feature_300 = get_stats_window(create_feature_dict_time,seconds_in_bucket = 300, add_suffix = True)\n",
    "    df_feature_200 = get_stats_window(create_feature_dict_time,seconds_in_bucket = 200, add_suffix = True)\n",
    "    df_feature_100 = get_stats_window(create_feature_dict_time,seconds_in_bucket = 100, add_suffix = True)\n",
    "    \n",
    "    def tendency(price, vol):    \n",
    "        df_diff = np.diff(price)\n",
    "        val = (df_diff/price[1:])*100\n",
    "        power = np.sum(val*vol[1:])\n",
    "        return(power)\n",
    "    \n",
    "    lis = []\n",
    "    for n_time_id in df['time_id'].unique():\n",
    "        df_id = df[df['time_id'] == n_time_id]        \n",
    "        tendencyV = tendency(df_id['price'].values, df_id['size'].values)      \n",
    "        f_max = np.sum(df_id['price'].values > np.mean(df_id['price'].values))\n",
    "        f_min = np.sum(df_id['price'].values < np.mean(df_id['price'].values))\n",
    "        df_max =  np.sum(np.diff(df_id['price'].values) > 0)\n",
    "        df_min =  np.sum(np.diff(df_id['price'].values) < 0)\n",
    "        # new\n",
    "        abs_diff = np.median(np.abs( df_id['price'].values - np.mean(df_id['price'].values)))        \n",
    "        energy = np.mean(df_id['price'].values**2)\n",
    "        iqr_p = np.percentile(df_id['price'].values,75) - np.percentile(df_id['price'].values,25)\n",
    "        \n",
    "        # vol vars\n",
    "        \n",
    "        abs_diff_v = np.median(np.abs( df_id['size'].values - np.mean(df_id['size'].values)))        \n",
    "        energy_v = np.sum(df_id['size'].values**2)\n",
    "        iqr_p_v = np.percentile(df_id['size'].values,75) - np.percentile(df_id['size'].values,25)\n",
    "        \n",
    "        lis.append({'time_id':n_time_id,'tendency':tendencyV,'f_max':f_max,'f_min':f_min,'df_max':df_max,'df_min':df_min,\n",
    "                   'abs_diff':abs_diff,'energy':energy,'iqr_p':iqr_p,'abs_diff_v':abs_diff_v,'energy_v':energy_v,'iqr_p_v':iqr_p_v})\n",
    "    \n",
    "    df_lr = pd.DataFrame(lis)\n",
    "        \n",
    "   \n",
    "    df_feature = df_feature.merge(df_lr, how = 'left', left_on = 'time_id_', right_on = 'time_id')\n",
    "    \n",
    "    # Merge all\n",
    "    df_feature = df_feature.merge(df_feature_500, how = 'left', left_on = 'time_id_', right_on = 'time_id__500')\n",
    "    df_feature = df_feature.merge(df_feature_400, how = 'left', left_on = 'time_id_', right_on = 'time_id__400')\n",
    "    df_feature = df_feature.merge(df_feature_300, how = 'left', left_on = 'time_id_', right_on = 'time_id__300')\n",
    "    df_feature = df_feature.merge(df_feature_200, how = 'left', left_on = 'time_id_', right_on = 'time_id__200')\n",
    "    df_feature = df_feature.merge(df_feature_100, how = 'left', left_on = 'time_id_', right_on = 'time_id__100')\n",
    "    # Drop unnecesary time_ids\n",
    "    df_feature.drop(['time_id__500','time_id__400', 'time_id__300', 'time_id__200','time_id','time_id__100'], axis = 1, inplace = True)\n",
    "    \n",
    "    \n",
    "    df_feature = df_feature.add_prefix('trade_')\n",
    "    stock_id = file_path.split('=')[1]\n",
    "    df_feature['row_id'] = df_feature['trade_time_id_'].apply(lambda x:f'{stock_id}-{x}')\n",
    "    df_feature.drop(['trade_time_id_'], axis = 1, inplace = True)\n",
    "    return df_feature\n",
    "\n",
    "# Function to get group stats for the stock_id and time_id\n",
    "def get_time_stock(df):\n",
    "    vol_cols = ['log_return1_realized_volatility', 'log_return2_realized_volatility', 'log_return1_realized_volatility_400', 'log_return2_realized_volatility_400', \n",
    "                'log_return1_realized_volatility_300', 'log_return2_realized_volatility_300', 'log_return1_realized_volatility_200', 'log_return2_realized_volatility_200', \n",
    "                'trade_log_return_realized_volatility', 'trade_log_return_realized_volatility_400', 'trade_log_return_realized_volatility_300', 'trade_log_return_realized_volatility_200']\n",
    "\n",
    "\n",
    "    # Group by the stock id\n",
    "    df_stock_id = df.groupby(['stock_id'])[vol_cols].agg(['mean', 'std', 'max', 'min', ]).reset_index()\n",
    "    # Rename columns joining suffix\n",
    "    df_stock_id.columns = ['_'.join(col) for col in df_stock_id.columns]\n",
    "    df_stock_id = df_stock_id.add_suffix('_' + 'stock')\n",
    "\n",
    "    # Group by the stock id\n",
    "    df_time_id = df.groupby(['time_id'])[vol_cols].agg(['mean', 'std', 'max', 'min', ]).reset_index()\n",
    "    # Rename columns joining suffix\n",
    "    df_time_id.columns = ['_'.join(col) for col in df_time_id.columns]\n",
    "    df_time_id = df_time_id.add_suffix('_' + 'time')\n",
    "    \n",
    "    # Merge with original dataframe\n",
    "    df = df.merge(df_stock_id, how = 'left', left_on = ['stock_id'], right_on = ['stock_id__stock'])\n",
    "    df = df.merge(df_time_id, how = 'left', left_on = ['time_id'], right_on = ['time_id__time'])\n",
    "    df.drop(['stock_id__stock', 'time_id__time'], axis = 1, inplace = True)\n",
    "    return df\n",
    "    \n",
    "# Funtion to make preprocessing function in parallel (for each stock id)\n",
    "def preprocessor(list_stock_ids, is_train = True):\n",
    "    \n",
    "    # Parrallel for loop\n",
    "    def for_joblib(stock_id):\n",
    "        # Train\n",
    "        if is_train:\n",
    "            file_path_book = data_dir + \"book_train.parquet/stock_id=\" + str(stock_id)\n",
    "            file_path_trade = data_dir + \"trade_train.parquet/stock_id=\" + str(stock_id)\n",
    "        # Test\n",
    "        else:\n",
    "            file_path_book = data_dir + \"book_test.parquet/stock_id=\" + str(stock_id)\n",
    "            file_path_trade = data_dir + \"trade_test.parquet/stock_id=\" + str(stock_id)\n",
    "    \n",
    "        # Preprocess book and trade data and merge them\n",
    "        df_tmp = pd.merge(book_preprocessor(file_path_book), trade_preprocessor(file_path_trade), on = 'row_id', how = 'left')\n",
    "        \n",
    "        # Return the merge dataframe\n",
    "        return df_tmp\n",
    "    \n",
    "    # Use parallel api to call paralle for loop\n",
    "    df = Parallel(n_jobs = -1, verbose = 1)(delayed(for_joblib)(stock_id) for stock_id in list_stock_ids)\n",
    "    # Concatenate all the dataframes that return from Parallel\n",
    "    df = pd.concat(df, ignore_index = True)\n",
    "    return df\n",
    "\n",
    "# Function to calculate the root mean squared percentage error\n",
    "def rmspe(y_true, y_pred):\n",
    "    return np.sqrt(np.mean(np.square((y_true - y_pred) / y_true)))\n",
    "\n",
    "# Function to early stop with root mean squared percentage error\n",
    "def feval_rmspe(y_pred, lgb_train):\n",
    "    y_true = lgb_train.get_label()\n",
    "    return 'RMSPE', rmspe(y_true, y_pred), False"
   ]
  },
  {
   "cell_type": "code",
   "execution_count": 4,
   "id": "d5442006",
   "metadata": {
    "execution": {
     "iopub.execute_input": "2023-12-13T13:55:15.751756Z",
     "iopub.status.busy": "2023-12-13T13:55:15.751130Z",
     "iopub.status.idle": "2023-12-13T14:37:46.894683Z",
     "shell.execute_reply": "2023-12-13T14:37:46.893935Z",
     "shell.execute_reply.started": "2023-12-13T07:26:58.468896Z"
    },
    "papermill": {
     "duration": 2551.182912,
     "end_time": "2023-12-13T14:37:46.894879",
     "exception": false,
     "start_time": "2023-12-13T13:55:15.711967",
     "status": "completed"
    },
    "tags": []
   },
   "outputs": [
    {
     "name": "stdout",
     "output_type": "stream",
     "text": [
      "Our training set has 428932 rows\n"
     ]
    },
    {
     "name": "stderr",
     "output_type": "stream",
     "text": [
      "[Parallel(n_jobs=-1)]: Using backend LokyBackend with 4 concurrent workers.\n",
      "[Parallel(n_jobs=-1)]: Done  42 tasks      | elapsed: 16.5min\n",
      "[Parallel(n_jobs=-1)]: Done 112 out of 112 | elapsed: 42.3min finished\n",
      "[Parallel(n_jobs=-1)]: Using backend LokyBackend with 4 concurrent workers.\n",
      "[Parallel(n_jobs=-1)]: Done   1 out of   1 | elapsed:    0.4s finished\n"
     ]
    }
   ],
   "source": [
    "# Read train and test\n",
    "train, test = read_train_test()\n",
    "\n",
    "# Get unique stock ids \n",
    "train_stock_ids = train['stock_id'].unique()\n",
    "# Preprocess them using Parallel and our single stock id functions\n",
    "train_ = preprocessor(train_stock_ids, is_train = True)\n",
    "train = train.merge(train_, on = ['row_id'], how = 'left')\n",
    "\n",
    "# Get unique stock ids \n",
    "test_stock_ids = test['stock_id'].unique()\n",
    "# Preprocess them using Parallel and our single stock id functions\n",
    "test_ = preprocessor(test_stock_ids, is_train = False)\n",
    "test = test.merge(test_, on = ['row_id'], how = 'left')\n",
    "\n",
    "# Get group stats of time_id and stock_id\n",
    "train = get_time_stock(train)\n",
    "test = get_time_stock(test)\n"
   ]
  },
  {
   "cell_type": "code",
   "execution_count": 5,
   "id": "1185bd73",
   "metadata": {
    "execution": {
     "iopub.execute_input": "2023-12-13T14:37:46.979939Z",
     "iopub.status.busy": "2023-12-13T14:37:46.978662Z",
     "iopub.status.idle": "2023-12-13T14:37:46.996134Z",
     "shell.execute_reply": "2023-12-13T14:37:46.995483Z",
     "shell.execute_reply.started": "2023-12-13T08:07:48.856054Z"
    },
    "papermill": {
     "duration": 0.063217,
     "end_time": "2023-12-13T14:37:46.996261",
     "exception": false,
     "start_time": "2023-12-13T14:37:46.933044",
     "status": "completed"
    },
    "tags": []
   },
   "outputs": [],
   "source": [
    "# replace by order sum (tau)\n",
    "train['size_tau'] = np.sqrt( 1/ train['trade_seconds_in_bucket_count_unique'] )\n",
    "test['size_tau'] = np.sqrt( 1/ test['trade_seconds_in_bucket_count_unique'] )\n",
    "#train['size_tau_450'] = np.sqrt( 1/ train['trade_seconds_in_bucket_count_unique_450'] )\n",
    "#test['size_tau_450'] = np.sqrt( 1/ test['trade_seconds_in_bucket_count_unique_450'] )\n",
    "train['size_tau_400'] = np.sqrt( 1/ train['trade_seconds_in_bucket_count_unique_400'] )\n",
    "test['size_tau_400'] = np.sqrt( 1/ test['trade_seconds_in_bucket_count_unique_400'] )\n",
    "train['size_tau_300'] = np.sqrt( 1/ train['trade_seconds_in_bucket_count_unique_300'] )\n",
    "test['size_tau_300'] = np.sqrt( 1/ test['trade_seconds_in_bucket_count_unique_300'] )\n",
    "#train['size_tau_150'] = np.sqrt( 1/ train['trade_seconds_in_bucket_count_unique_150'] )\n",
    "#test['size_tau_150'] = np.sqrt( 1/ test['trade_seconds_in_bucket_count_unique_150'] )\n",
    "train['size_tau_200'] = np.sqrt( 1/ train['trade_seconds_in_bucket_count_unique_200'] )\n",
    "test['size_tau_200'] = np.sqrt( 1/ test['trade_seconds_in_bucket_count_unique_200'] )"
   ]
  },
  {
   "cell_type": "code",
   "execution_count": 6,
   "id": "e7bb689f",
   "metadata": {
    "execution": {
     "iopub.execute_input": "2023-12-13T14:37:47.072759Z",
     "iopub.status.busy": "2023-12-13T14:37:47.072149Z",
     "iopub.status.idle": "2023-12-13T14:37:47.090871Z",
     "shell.execute_reply": "2023-12-13T14:37:47.090321Z",
     "shell.execute_reply.started": "2023-12-13T08:07:48.879919Z"
    },
    "papermill": {
     "duration": 0.060214,
     "end_time": "2023-12-13T14:37:47.091003",
     "exception": false,
     "start_time": "2023-12-13T14:37:47.030789",
     "status": "completed"
    },
    "tags": []
   },
   "outputs": [],
   "source": [
    "train['size_tau2'] = np.sqrt( 1/ train['trade_order_count_sum'] )\n",
    "test['size_tau2'] = np.sqrt( 1/ test['trade_order_count_sum'] )\n",
    "#train['size_tau2_450'] = np.sqrt( 0.25/ train['trade_order_count_sum'] )\n",
    "#test['size_tau2_450'] = np.sqrt( 0.25/ test['trade_order_count_sum'] )\n",
    "train['size_tau2_400'] = np.sqrt( 0.33/ train['trade_order_count_sum'] )\n",
    "test['size_tau2_400'] = np.sqrt( 0.33/ test['trade_order_count_sum'] )\n",
    "train['size_tau2_300'] = np.sqrt( 0.5/ train['trade_order_count_sum'] )\n",
    "test['size_tau2_300'] = np.sqrt( 0.5/ test['trade_order_count_sum'] )\n",
    "#train['size_tau2_150'] = np.sqrt( 0.75/ train['trade_order_count_sum'] )\n",
    "#test['size_tau2_150'] = np.sqrt( 0.75/ test['trade_order_count_sum'] )\n",
    "train['size_tau2_200'] = np.sqrt( 0.66/ train['trade_order_count_sum'] )\n",
    "test['size_tau2_200'] = np.sqrt( 0.66/ test['trade_order_count_sum'] )\n",
    "\n",
    "# delta tau\n",
    "train['size_tau2_d'] = train['size_tau2_400'] - train['size_tau2']\n",
    "test['size_tau2_d'] = test['size_tau2_400'] - test['size_tau2']"
   ]
  },
  {
   "cell_type": "code",
   "execution_count": 7,
   "id": "2fc4681a",
   "metadata": {
    "execution": {
     "iopub.execute_input": "2023-12-13T14:37:47.170673Z",
     "iopub.status.busy": "2023-12-13T14:37:47.169873Z",
     "iopub.status.idle": "2023-12-13T14:37:47.173207Z",
     "shell.execute_reply": "2023-12-13T14:37:47.173778Z",
     "shell.execute_reply.started": "2023-12-13T08:07:48.904976Z"
    },
    "papermill": {
     "duration": 0.047174,
     "end_time": "2023-12-13T14:37:47.173939",
     "exception": false,
     "start_time": "2023-12-13T14:37:47.126765",
     "status": "completed"
    },
    "tags": []
   },
   "outputs": [
    {
     "data": {
      "text/plain": [
       "226"
      ]
     },
     "execution_count": 7,
     "metadata": {},
     "output_type": "execute_result"
    }
   ],
   "source": [
    "colNames = [col for col in list(train.columns)\n",
    "            if col not in {\"stock_id\", \"time_id\", \"target\", \"row_id\"}]\n",
    "len(colNames)"
   ]
  },
  {
   "cell_type": "code",
   "execution_count": 8,
   "id": "fbbf114a",
   "metadata": {
    "execution": {
     "iopub.execute_input": "2023-12-13T14:37:47.255496Z",
     "iopub.status.busy": "2023-12-13T14:37:47.254911Z",
     "iopub.status.idle": "2023-12-13T14:37:49.708468Z",
     "shell.execute_reply": "2023-12-13T14:37:49.707800Z",
     "shell.execute_reply.started": "2023-12-13T08:07:48.916652Z"
    },
    "papermill": {
     "duration": 2.498786,
     "end_time": "2023-12-13T14:37:49.708624",
     "exception": false,
     "start_time": "2023-12-13T14:37:47.209838",
     "status": "completed"
    },
    "tags": []
   },
   "outputs": [
    {
     "name": "stdout",
     "output_type": "stream",
     "text": [
      "[1 0 4 2 1 1 2 4 6 2 1 0 4 4 1 1 1 2 4 4 4 0 1 1 3 1 1 4 3 4 3 4 4 1 3 3 4\n",
      " 3 4 1 4 1 4 4 1 0 4 4 1 0 0 3 3 3 2 0 2 4 1 4 4 1 4 1 0 3 3 0 3 0 6 5 3 3\n",
      " 0 1 2 0 3 3 3 4 1 1 0 2 3 3 1 0 1 4 4 4 4 4 1 3 1 0 1 4 1 0 1 4 1 0 4 0 4\n",
      " 0]\n",
      "[1, 11, 22, 50, 55, 56, 62, 73, 76, 78, 84, 87, 96, 101, 112, 116, 122, 124, 126]\n",
      "(0, 227)\n",
      "[0, 4, 5, 10, 15, 16, 17, 23, 26, 28, 29, 36, 42, 44, 48, 53, 66, 69, 72, 85, 94, 95, 100, 102, 109, 111, 113, 115, 118, 120]\n",
      "(3, 227)\n",
      "[3, 6, 9, 18, 61, 63, 86, 97]\n",
      "(0, 227)\n",
      "[27, 31, 33, 37, 38, 40, 58, 59, 60, 74, 75, 77, 82, 83, 88, 89, 90, 98, 99, 110]\n",
      "(0, 227)\n",
      "[2, 7, 13, 14, 19, 20, 21, 30, 32, 34, 35, 39, 41, 43, 46, 47, 51, 52, 64, 67, 68, 70, 93, 103, 104, 105, 107, 108, 114, 119, 123, 125]\n",
      "(0, 227)\n",
      "[81]\n",
      "(0, 227)\n",
      "[8, 80]\n",
      "(0, 227)\n"
     ]
    }
   ],
   "source": [
    "from sklearn.cluster import KMeans\n",
    "# making agg features\n",
    "\n",
    "train_p = pd.read_csv('../input/optiver-realized-volatility-prediction/train.csv')\n",
    "train_p = train_p.pivot(index='time_id', columns='stock_id', values='target')\n",
    "\n",
    "corr = train_p.corr()\n",
    "\n",
    "ids = corr.index\n",
    "\n",
    "kmeans = KMeans(n_clusters=7, random_state=0).fit(corr.values)\n",
    "print(kmeans.labels_)\n",
    "\n",
    "l = []\n",
    "for n in range(7):\n",
    "    l.append ( [ (x-1) for x in ( (ids+1)*(kmeans.labels_ == n)) if x > 0] )\n",
    "    \n",
    "\n",
    "mat = []\n",
    "matTest = []\n",
    "\n",
    "n = 0\n",
    "for ind in l:\n",
    "    print(ind)\n",
    "    newDf = train.loc[train['stock_id'].isin(ind) ]\n",
    "    newDf = newDf.groupby(['time_id']).agg(np.nanmean)\n",
    "    newDf.loc[:,'stock_id'] = str(n)+'c1'\n",
    "    mat.append ( newDf )\n",
    "    \n",
    "    newDf = test.loc[test['stock_id'].isin(ind) ]    \n",
    "    newDf = newDf.groupby(['time_id']).agg(np.nanmean)\n",
    "    newDf.loc[:,'stock_id'] = str(n)+'c1'\n",
    "    matTest.append ( newDf )\n",
    "    print(newDf.shape)\n",
    "    n+=1\n",
    "    \n",
    "mat1 = pd.concat(mat).reset_index()\n",
    "mat1.drop(columns=['target'],inplace=True)\n",
    "\n",
    "mat2 = pd.concat(matTest).reset_index()"
   ]
  },
  {
   "cell_type": "code",
   "execution_count": 9,
   "id": "027402f5",
   "metadata": {
    "execution": {
     "iopub.execute_input": "2023-12-13T14:37:49.793737Z",
     "iopub.status.busy": "2023-12-13T14:37:49.793087Z",
     "iopub.status.idle": "2023-12-13T14:37:49.993814Z",
     "shell.execute_reply": "2023-12-13T14:37:49.994302Z",
     "shell.execute_reply.started": "2023-12-13T08:07:51.323093Z"
    },
    "papermill": {
     "duration": 0.247066,
     "end_time": "2023-12-13T14:37:49.994464",
     "exception": false,
     "start_time": "2023-12-13T14:37:49.747398",
     "status": "completed"
    },
    "tags": []
   },
   "outputs": [
    {
     "name": "stderr",
     "output_type": "stream",
     "text": [
      "/opt/conda/lib/python3.7/site-packages/ipykernel_launcher.py:3: FutureWarning: Index.ravel returning ndarray is deprecated; in a future version this will return a view on self.\n",
      "  This is separate from the ipykernel package so we can avoid doing imports until\n",
      "/opt/conda/lib/python3.7/site-packages/ipykernel_launcher.py:7: FutureWarning: Index.ravel returning ndarray is deprecated; in a future version this will return a view on self.\n",
      "  import sys\n"
     ]
    }
   ],
   "source": [
    "mat2 = pd.concat([mat2,mat1.loc[mat1.time_id==5]])\n",
    "mat1 = mat1.pivot(index='time_id', columns='stock_id')\n",
    "mat1.columns = [\"_\".join(x) for x in mat1.columns.ravel()]\n",
    "mat1.reset_index(inplace=True)\n",
    "\n",
    "mat2 = mat2.pivot(index='time_id', columns='stock_id')\n",
    "mat2.columns = [\"_\".join(x) for x in mat2.columns.ravel()]\n",
    "mat2.reset_index(inplace=True)"
   ]
  },
  {
   "cell_type": "code",
   "execution_count": 10,
   "id": "fd2dbfb2",
   "metadata": {
    "execution": {
     "iopub.execute_input": "2023-12-13T14:37:50.081689Z",
     "iopub.status.busy": "2023-12-13T14:37:50.080764Z",
     "iopub.status.idle": "2023-12-13T14:38:08.693033Z",
     "shell.execute_reply": "2023-12-13T14:38:08.692355Z",
     "shell.execute_reply.started": "2023-12-13T08:07:51.520585Z"
    },
    "papermill": {
     "duration": 18.659606,
     "end_time": "2023-12-13T14:38:08.693177",
     "exception": false,
     "start_time": "2023-12-13T14:37:50.033571",
     "status": "completed"
    },
    "tags": []
   },
   "outputs": [
    {
     "name": "stdout",
     "output_type": "stream",
     "text": [
      "      time_id  wap1_sum_0c1  wap1_sum_1c1  wap1_sum_2c1  wap1_sum_3c1  \\\n",
      "0           5    454.259460    450.296722    410.733185    350.107635   \n",
      "1          11    338.439728    320.296692    278.055267    233.907928   \n",
      "2          16    352.636505    360.082367    347.626770    256.215057   \n",
      "3          31    312.892395    302.954620    298.578033    231.109253   \n",
      "4          62    327.286407    314.466064    315.001099    210.724350   \n",
      "...       ...           ...           ...           ...           ...   \n",
      "3825    32751    419.968994    395.118561    361.749359    297.389282   \n",
      "3826    32753    372.915985    347.497681    303.217072    275.159363   \n",
      "3827    32758    311.283264    327.945435    290.676208    234.331451   \n",
      "3828    32763    443.204437    451.020905    408.540771    354.972992   \n",
      "3829    32767    357.900848    373.544617    305.278687    252.666580   \n",
      "\n",
      "      wap1_sum_4c1  wap1_sum_5c1  wap1_sum_6c1  wap1_mean_0c1  wap1_mean_1c1  \\\n",
      "0       506.105530    537.815308    476.310425       1.003184       1.002290   \n",
      "1       358.379181    281.177979    423.141602       1.000956       1.000588   \n",
      "2       420.425507    355.364594    284.772736       1.000108       0.999730   \n",
      "3       343.913910    449.594482    366.892456       0.999307       0.999252   \n",
      "4       355.398346    218.791824    407.402344       0.999301       0.999558   \n",
      "...            ...           ...           ...            ...            ...   \n",
      "3825    467.723602    338.286774    451.196350       0.999238       0.999701   \n",
      "3826    410.243500    281.197662    362.701538       1.000772       0.999747   \n",
      "3827    381.826019    268.066437    214.089966       1.001127       1.000425   \n",
      "3828    494.760376    467.120056    392.955444       1.001051       1.001303   \n",
      "3829    419.389618    313.938019    423.653992       0.999563       1.000014   \n",
      "\n",
      "      ...  size_tau2_200_4c1  size_tau2_200_5c1  size_tau2_200_6c1  \\\n",
      "0     ...           0.044431           0.044926           0.041189   \n",
      "1     ...           0.063868           0.051484           0.037159   \n",
      "2     ...           0.060912           0.036405           0.065579   \n",
      "3     ...           0.076921           0.037837           0.045045   \n",
      "4     ...           0.070177           0.076425           0.037661   \n",
      "...   ...                ...                ...                ...   \n",
      "3825  ...           0.050041           0.047871           0.033436   \n",
      "3826  ...           0.050737           0.048901           0.050758   \n",
      "3827  ...           0.073582           0.060722           0.097900   \n",
      "3828  ...           0.041723           0.047706           0.033103   \n",
      "3829  ...           0.064281           0.064226           0.043765   \n",
      "\n",
      "      size_tau2_d_0c1  size_tau2_d_1c1  size_tau2_d_2c1  size_tau2_d_3c1  \\\n",
      "0           -0.024915        -0.024369        -0.027101        -0.033393   \n",
      "1           -0.034569        -0.033599        -0.037332        -0.052039   \n",
      "2           -0.033426        -0.037183        -0.027899        -0.049481   \n",
      "3           -0.042717        -0.038160        -0.032851        -0.045086   \n",
      "4           -0.037143        -0.037902        -0.035379        -0.047943   \n",
      "...               ...              ...              ...              ...   \n",
      "3825        -0.027396        -0.027238        -0.027789        -0.038157   \n",
      "3826        -0.031339        -0.028047        -0.035711        -0.036298   \n",
      "3827        -0.041982        -0.039200        -0.041714        -0.052872   \n",
      "3828        -0.021978        -0.023091        -0.023470        -0.028788   \n",
      "3829        -0.032925        -0.033441        -0.036363        -0.046284   \n",
      "\n",
      "      size_tau2_d_4c1  size_tau2_d_5c1  size_tau2_d_6c1  \n",
      "0           -0.023273        -0.023533        -0.021575  \n",
      "1           -0.033454        -0.026968        -0.019464  \n",
      "2           -0.031906        -0.019069        -0.034351  \n",
      "3           -0.040292        -0.019820        -0.023595  \n",
      "4           -0.036759        -0.040032        -0.019727  \n",
      "...               ...              ...              ...  \n",
      "3825        -0.026212        -0.025075        -0.017514  \n",
      "3826        -0.026576        -0.025615        -0.026587  \n",
      "3827        -0.038543        -0.031807        -0.051281  \n",
      "3828        -0.021855        -0.024989        -0.017340  \n",
      "3829        -0.033671        -0.033642        -0.022924  \n",
      "\n",
      "[3830 rows x 1583 columns]\n"
     ]
    }
   ],
   "source": [
    "nnn = ['time_id',\n",
    "     'log_return1_realized_volatility_0c1',\n",
    "     'log_return1_realized_volatility_1c1',     \n",
    "     'log_return1_realized_volatility_3c1',\n",
    "     'log_return1_realized_volatility_4c1',     \n",
    "     'log_return1_realized_volatility_6c1',\n",
    "     'total_volume_sum_0c1',\n",
    "     'total_volume_sum_1c1', \n",
    "     'total_volume_sum_3c1',\n",
    "     'total_volume_sum_4c1', \n",
    "     'total_volume_sum_6c1',\n",
    "     'trade_size_sum_0c1',\n",
    "     'trade_size_sum_1c1', \n",
    "     'trade_size_sum_3c1',\n",
    "     'trade_size_sum_4c1', \n",
    "     'trade_size_sum_6c1',\n",
    "     'trade_order_count_sum_0c1',\n",
    "     'trade_order_count_sum_1c1',\n",
    "     'trade_order_count_sum_3c1',\n",
    "     'trade_order_count_sum_4c1',\n",
    "     'trade_order_count_sum_6c1',      \n",
    "     'price_spread_sum_0c1',\n",
    "     'price_spread_sum_1c1',\n",
    "     'price_spread_sum_3c1',\n",
    "     'price_spread_sum_4c1',\n",
    "     'price_spread_sum_6c1',   \n",
    "     'bid_spread_sum_0c1',\n",
    "     'bid_spread_sum_1c1',\n",
    "     'bid_spread_sum_3c1',\n",
    "     'bid_spread_sum_4c1',\n",
    "     'bid_spread_sum_6c1',       \n",
    "     'ask_spread_sum_0c1',\n",
    "     'ask_spread_sum_1c1',\n",
    "     'ask_spread_sum_3c1',\n",
    "     'ask_spread_sum_4c1',\n",
    "     'ask_spread_sum_6c1',   \n",
    "     'volume_imbalance_sum_0c1',\n",
    "     'volume_imbalance_sum_1c1',\n",
    "     'volume_imbalance_sum_3c1',\n",
    "     'volume_imbalance_sum_4c1',\n",
    "     'volume_imbalance_sum_6c1',       \n",
    "     'bid_ask_spread_sum_0c1',\n",
    "     'bid_ask_spread_sum_1c1',\n",
    "     'bid_ask_spread_sum_3c1',\n",
    "     'bid_ask_spread_sum_4c1',\n",
    "     'bid_ask_spread_sum_6c1',\n",
    "     'size_tau2_0c1',\n",
    "     'size_tau2_1c1',\n",
    "     'size_tau2_3c1',\n",
    "     'size_tau2_4c1',\n",
    "     'size_tau2_6c1'] \n",
    "print(mat1)\n",
    "train = pd.merge(train,mat1[nnn],how='left',on='time_id')\n",
    "test = pd.merge(test,mat2[nnn],how='left',on='time_id')"
   ]
  },
  {
   "cell_type": "code",
   "execution_count": 11,
   "id": "01815f31",
   "metadata": {
    "execution": {
     "iopub.execute_input": "2023-12-13T14:38:08.868713Z",
     "iopub.status.busy": "2023-12-13T14:38:08.867975Z",
     "iopub.status.idle": "2023-12-13T14:38:08.870929Z",
     "shell.execute_reply": "2023-12-13T14:38:08.871402Z",
     "shell.execute_reply.started": "2023-12-13T08:08:09.855689Z"
    },
    "papermill": {
     "duration": 0.140211,
     "end_time": "2023-12-13T14:38:08.871561",
     "exception": false,
     "start_time": "2023-12-13T14:38:08.731350",
     "status": "completed"
    },
    "tags": []
   },
   "outputs": [
    {
     "data": {
      "text/plain": [
       "732"
      ]
     },
     "execution_count": 11,
     "metadata": {},
     "output_type": "execute_result"
    }
   ],
   "source": [
    "import gc\n",
    "del mat1,mat2\n",
    "gc.collect()"
   ]
  },
  {
   "cell_type": "markdown",
   "id": "c128e25f",
   "metadata": {
    "papermill": {
     "duration": 0.037633,
     "end_time": "2023-12-13T14:38:08.946759",
     "exception": false,
     "start_time": "2023-12-13T14:38:08.909126",
     "status": "completed"
    },
    "tags": []
   },
   "source": [
    "## Tabnet"
   ]
  },
  {
   "cell_type": "code",
   "execution_count": 12,
   "id": "fd0eae33",
   "metadata": {
    "execution": {
     "iopub.execute_input": "2023-12-13T14:38:09.030230Z",
     "iopub.status.busy": "2023-12-13T14:38:09.029541Z",
     "iopub.status.idle": "2023-12-13T14:38:09.032302Z",
     "shell.execute_reply": "2023-12-13T14:38:09.031699Z",
     "shell.execute_reply.started": "2023-12-13T08:08:09.955188Z"
    },
    "papermill": {
     "duration": 0.048369,
     "end_time": "2023-12-13T14:38:09.032455",
     "exception": false,
     "start_time": "2023-12-13T14:38:08.984086",
     "status": "completed"
    },
    "tags": []
   },
   "outputs": [],
   "source": [
    "USE_PRECOMPUTE_FEATURES = True  # Load precomputed features for train.csv from private dataset (just for speed up)\n",
    "\n",
    "# model & ensemble configurations\n",
    "PREDICT_CNN = True\n",
    "PREDICT_MLP = True\n",
    "PREDICT_GBDT = True\n",
    "PREDICT_TABNET = False\n",
    "\n",
    "GBDT_NUM_MODELS = 5 #3\n",
    "GBDT_LR = 0.02  # 0.1\n",
    "\n",
    "NN_VALID_TH = 0.185\n",
    "NN_MODEL_TOP_N = 3\n",
    "TAB_MODEL_TOP_N = 3\n",
    "ENSEMBLE_METHOD = 'mean'\n",
    "NN_NUM_MODELS = 10\n",
    "TABNET_NUM_MODELS = 5\n",
    "\n",
    "# for saving quota\n",
    "IS_1ST_STAGE = False\n",
    "SHORTCUT_NN_IN_1ST_STAGE = True  # early-stop training to save GPU quota\n",
    "SHORTCUT_GBDT_IN_1ST_STAGE = False\n",
    "MEMORY_TEST_MODE = False\n",
    "\n",
    "# for ablation studies\n",
    "CV_SPLIT = 'time'  # 'time': time-series KFold 'group': GroupKFold by stock-id\n",
    "USE_PRICE_NN_FEATURES = True  # Use nearest neighbor features that rely on tick size\n",
    "USE_VOL_NN_FEATURES = True  # Use nearest neighbor features that can be calculated without tick size\n",
    "USE_SIZE_NN_FEATURES = True  # Use nearest neighbor features that can be calculated without tick size\n",
    "USE_RANDOM_NN_FEATURES = False  # Use random index to aggregate neighbors\n",
    "\n",
    "USE_TIME_ID_NN = True  # Use time-id based neighbors\n",
    "USE_STOCK_ID_NN = True  # Use stock-id based neighbors\n",
    "\n",
    "ENABLE_RANK_NORMALIZATION = True  # Enable rank-normalization"
   ]
  },
  {
   "cell_type": "code",
   "execution_count": 13,
   "id": "cfc00283",
   "metadata": {
    "execution": {
     "iopub.execute_input": "2023-12-13T14:38:09.144826Z",
     "iopub.status.busy": "2023-12-13T14:38:09.118536Z",
     "iopub.status.idle": "2023-12-13T14:38:10.807590Z",
     "shell.execute_reply": "2023-12-13T14:38:10.806857Z",
     "shell.execute_reply.started": "2023-12-13T08:08:09.965200Z"
    },
    "papermill": {
     "duration": 1.736274,
     "end_time": "2023-12-13T14:38:10.807751",
     "exception": false,
     "start_time": "2023-12-13T14:38:09.071477",
     "status": "completed"
    },
    "tags": []
   },
   "outputs": [],
   "source": [
    "import gc\n",
    "import os\n",
    "import random\n",
    "from typing import List, Tuple, Optional, Union\n",
    "\n",
    "import numpy as np\n",
    "import pandas as pd\n",
    "import torch\n",
    "import torch.nn as nn\n",
    "from sklearn.preprocessing import StandardScaler\n",
    "from torch.utils.data import Dataset, DataLoader\n",
    "from tqdm import tqdm\n",
    "\n",
    "from joblib import Parallel, delayed\n",
    "from sklearn.decomposition import PCA\n",
    "from pytorch_tabnet.metrics import Metric\n",
    "from pytorch_tabnet.tab_model import TabNetRegressor\n",
    "from torch.optim.lr_scheduler import CosineAnnealingWarmRestarts\n",
    "from sklearn.model_selection import KFold\n",
    "\n",
    "\n",
    "null_check_cols = [\n",
    "    'book.log_return1.realized_volatility',\n",
    "    'book_150.log_return1.realized_volatility',\n",
    "    'book_300.log_return1.realized_volatility',\n",
    "    'book_450.log_return1.realized_volatility',\n",
    "    'trade.log_return.realized_volatility',\n",
    "    'trade_150.log_return.realized_volatility',\n",
    "    'trade_300.log_return.realized_volatility',\n",
    "    'trade_450.log_return.realized_volatility'\n",
    "] # might be problems in these columns\n",
    "\n",
    "\n",
    "def seed_everything(seed=42):\n",
    "    random.seed(seed)\n",
    "    os.environ['PYTHONHASHSEED'] = str(seed)\n",
    "    np.random.seed(seed)\n",
    "    torch.manual_seed(seed)\n",
    "    torch.cuda.manual_seed(seed)\n",
    "    torch.backends.cudnn.deterministic = True\n",
    "\n",
    "\n",
    "def rmspe_metric(y_true, y_pred):\n",
    "    rmspe = np.sqrt(np.mean(np.square((y_true - y_pred) / y_true)))\n",
    "    return rmspe\n",
    "\n",
    "\n",
    "def rmspe_loss(y_true, y_pred):\n",
    "    rmspe = torch.sqrt(torch.mean(torch.square((y_true - y_pred) / y_true)))\n",
    "    return rmspe\n",
    "\n",
    "\n",
    "class RMSPE(Metric):\n",
    "    def __init__(self):\n",
    "        self._name = \"rmspe\"\n",
    "        self._maximize = False\n",
    "\n",
    "    def __call__(self, y_true, y_score):\n",
    "        return np.sqrt(np.mean(np.square((y_true - y_score) / y_true)))\n",
    "\n",
    "def RMSPELoss_Tabnet(y_pred, y_true):\n",
    "    return torch.sqrt(torch.mean( ((y_true - y_pred) / y_true) ** 2 )).clone()\n",
    "\n",
    "\n",
    "class AverageMeter:\n",
    "    \"\"\"Computes and stores the average and current value\"\"\"\n",
    "\n",
    "    def __init__(self):\n",
    "        self.val = 0\n",
    "        self.avg = 0\n",
    "        self.sum = 0\n",
    "        self.count = 0\n",
    "        self.reset()\n",
    "\n",
    "    def reset(self):\n",
    "        self.val = 0\n",
    "        self.avg = 0\n",
    "        self.sum = 0\n",
    "        self.count = 0\n",
    "\n",
    "    def update(self, val, n=1):\n",
    "        self.val = val\n",
    "        self.sum += val * n\n",
    "        self.count += n\n",
    "        self.avg = self.sum / self.count\n",
    "\n",
    "\n",
    "class TabularDataset(Dataset):\n",
    "    def __init__(self, x_num: np.ndarray, x_cat: np.ndarray, y: Optional[np.ndarray]):\n",
    "        super().__init__()\n",
    "        self.x_num = x_num\n",
    "        self.x_cat = x_cat\n",
    "        self.y = y\n",
    "\n",
    "    def __len__(self):\n",
    "        return len(self.x_num)\n",
    "\n",
    "    def __getitem__(self, idx):\n",
    "        if self.y is None:\n",
    "            return self.x_num[idx], torch.LongTensor(self.x_cat[idx])\n",
    "        else:\n",
    "            return self.x_num[idx], torch.LongTensor(self.x_cat[idx]), self.y[idx]\n",
    "\n",
    "\n",
    "class MLP(nn.Module): \n",
    "    def __init__(self,\n",
    "                 src_num_dim: int,\n",
    "                 n_categories: List[int],\n",
    "                 dropout: float = 0.0,\n",
    "                 hidden: int = 50,\n",
    "                 emb_dim: int = 10,\n",
    "                 dropout_cat: float = 0.2,\n",
    "                 bn: bool = False):\n",
    "        super().__init__()\n",
    "\n",
    "        self.embs = nn.ModuleList([\n",
    "            nn.Embedding(x, emb_dim) for x in n_categories])\n",
    "        self.cat_dim = emb_dim * len(n_categories)\n",
    "        self.dropout_cat = nn.Dropout(dropout_cat)\n",
    "\n",
    "        if bn:\n",
    "            self.sequence = nn.Sequential(\n",
    "                nn.Linear(src_num_dim + self.cat_dim, hidden),\n",
    "                nn.Dropout(dropout),\n",
    "                nn.BatchNorm1d(hidden),\n",
    "                nn.ReLU(),\n",
    "                nn.Linear(hidden, hidden),\n",
    "                nn.Dropout(dropout),\n",
    "                nn.BatchNorm1d(hidden),\n",
    "                nn.ReLU(),\n",
    "                nn.Linear(hidden, 1)\n",
    "            )\n",
    "        else:\n",
    "            self.sequence = nn.Sequential(\n",
    "                nn.Linear(src_num_dim + self.cat_dim, hidden),\n",
    "                nn.Dropout(dropout),\n",
    "                nn.ReLU(),\n",
    "                nn.Linear(hidden, hidden),\n",
    "                nn.Dropout(dropout),\n",
    "                nn.ReLU(),\n",
    "                nn.Linear(hidden, 1)\n",
    "            )\n",
    "\n",
    "    def forward(self, x_num, x_cat):\n",
    "        embs = [embedding(x_cat[:, i]) for i, embedding in enumerate(self.embs)]\n",
    "        x_cat_emb = self.dropout_cat(torch.cat(embs, 1))\n",
    "        x_all = torch.cat([x_num, x_cat_emb], 1)\n",
    "        x = self.sequence(x_all)\n",
    "        return torch.squeeze(x)\n",
    "\n",
    "\n",
    "class CNN(nn.Module):\n",
    "    def __init__(self,\n",
    "                 num_features: int,\n",
    "                 hidden_size: int,\n",
    "                 n_categories: List[int],\n",
    "                 emb_dim: int = 10,\n",
    "                 dropout_cat: float = 0.2,\n",
    "                 channel_1: int = 256,\n",
    "                 channel_2: int = 512,\n",
    "                 channel_3: int = 512,\n",
    "                 dropout_top: float = 0.1,\n",
    "                 dropout_mid: float = 0.3,\n",
    "                 dropout_bottom: float = 0.2,\n",
    "                 weight_norm: bool = True,\n",
    "                 two_stage: bool = True,\n",
    "                 celu: bool = True,\n",
    "                 kernel1: int = 5,\n",
    "                 leaky_relu: bool = False):\n",
    "        super().__init__()\n",
    "\n",
    "        num_targets = 1\n",
    "\n",
    "        cha_1_reshape = int(hidden_size / channel_1)\n",
    "        cha_po_1 = int(hidden_size / channel_1 / 2)\n",
    "        cha_po_2 = int(hidden_size / channel_1 / 2 / 2) * channel_3\n",
    "\n",
    "        self.cat_dim = emb_dim * len(n_categories)\n",
    "        self.cha_1 = channel_1\n",
    "        self.cha_2 = channel_2\n",
    "        self.cha_3 = channel_3\n",
    "        self.cha_1_reshape = cha_1_reshape\n",
    "        self.cha_po_1 = cha_po_1\n",
    "        self.cha_po_2 = cha_po_2\n",
    "        self.two_stage = two_stage\n",
    "\n",
    "        self.expand = nn.Sequential(\n",
    "            nn.BatchNorm1d(num_features + self.cat_dim),\n",
    "            nn.Dropout(dropout_top),\n",
    "            nn.utils.weight_norm(nn.Linear(num_features + self.cat_dim, hidden_size), dim=None),\n",
    "            nn.CELU(0.06) if celu else nn.ReLU()\n",
    "        )\n",
    "\n",
    "        def _norm(layer, dim=None):\n",
    "            return nn.utils.weight_norm(layer, dim=dim) if weight_norm else layer\n",
    "\n",
    "        self.conv1 = nn.Sequential(\n",
    "            nn.BatchNorm1d(channel_1),\n",
    "            nn.Dropout(dropout_top),\n",
    "            _norm(nn.Conv1d(channel_1, channel_2, kernel_size=kernel1, stride=1, padding=kernel1 // 2, bias=False)),\n",
    "            nn.ReLU(),\n",
    "            nn.AdaptiveAvgPool1d(output_size=cha_po_1),\n",
    "            nn.BatchNorm1d(channel_2),\n",
    "            nn.Dropout(dropout_top),\n",
    "            _norm(nn.Conv1d(channel_2, channel_2, kernel_size=3, stride=1, padding=1, bias=True)),\n",
    "            nn.ReLU()\n",
    "        )\n",
    "\n",
    "        if self.two_stage:\n",
    "            self.conv2 = nn.Sequential(\n",
    "                nn.BatchNorm1d(channel_2),\n",
    "                nn.Dropout(dropout_mid),\n",
    "                _norm(nn.Conv1d(channel_2, channel_2, kernel_size=3, stride=1, padding=1, bias=True)),\n",
    "                nn.ReLU(),\n",
    "                nn.BatchNorm1d(channel_2),\n",
    "                nn.Dropout(dropout_bottom),\n",
    "                _norm(nn.Conv1d(channel_2, channel_3, kernel_size=5, stride=1, padding=2, bias=True)),\n",
    "                nn.ReLU()\n",
    "            )\n",
    "\n",
    "        self.max_po_c2 = nn.MaxPool1d(kernel_size=4, stride=2, padding=1)\n",
    "\n",
    "        self.flt = nn.Flatten()\n",
    "\n",
    "        if leaky_relu:\n",
    "            self.dense = nn.Sequential(\n",
    "                nn.BatchNorm1d(cha_po_2),\n",
    "                nn.Dropout(dropout_bottom),\n",
    "                _norm(nn.Linear(cha_po_2, num_targets), dim=0),\n",
    "                nn.LeakyReLU()\n",
    "            )\n",
    "        else:\n",
    "            self.dense = nn.Sequential(\n",
    "                nn.BatchNorm1d(cha_po_2),\n",
    "                nn.Dropout(dropout_bottom),\n",
    "                _norm(nn.Linear(cha_po_2, num_targets), dim=0)\n",
    "            )\n",
    "\n",
    "        self.embs = nn.ModuleList([nn.Embedding(x, emb_dim) for x in n_categories])\n",
    "        self.cat_dim = emb_dim * len(n_categories)\n",
    "        self.dropout_cat = nn.Dropout(dropout_cat)\n",
    "\n",
    "    def forward(self, x_num, x_cat):\n",
    "        embs = [embedding(x_cat[:, i]) for i, embedding in enumerate(self.embs)]\n",
    "        x_cat_emb = self.dropout_cat(torch.cat(embs, 1))\n",
    "        x = torch.cat([x_num, x_cat_emb], 1)\n",
    "\n",
    "        x = self.expand(x)\n",
    "\n",
    "        x = x.reshape(x.shape[0], self.cha_1, self.cha_1_reshape)\n",
    "\n",
    "        x = self.conv1(x)\n",
    "\n",
    "        if self.two_stage:\n",
    "            x = self.conv2(x) * x\n",
    "\n",
    "        x = self.max_po_c2(x)\n",
    "        x = self.flt(x)\n",
    "        x = self.dense(x)\n",
    "\n",
    "        return torch.squeeze(x)\n",
    "\n",
    "\n",
    "def preprocess_nn(\n",
    "        X: pd.DataFrame,\n",
    "        scaler: Optional[StandardScaler] = None,\n",
    "        scaler_type: str = 'standard',\n",
    "        n_pca: int = -1,\n",
    "        na_cols: bool = True):\n",
    "    if na_cols:\n",
    "        #for c in X.columns:\n",
    "        for c in null_check_cols:\n",
    "            if c in X.columns:\n",
    "                X[f\"{c}_isnull\"] = X[c].isnull().astype(int)\n",
    "\n",
    "    cat_cols = [c for c in X.columns if c in ['time_id', 'stock_id']]\n",
    "    num_cols = [c for c in X.columns if c not in cat_cols]\n",
    "\n",
    "    X_num = X[num_cols].values.astype(np.float32)\n",
    "    X_cat = np.nan_to_num(X[cat_cols].values.astype(np.int32))\n",
    "\n",
    "    def _pca(X_num_):\n",
    "        if n_pca > 0:\n",
    "            pca = PCA(n_components=n_pca, random_state=0)\n",
    "            return pca.fit_transform(X_num)\n",
    "        return X_num\n",
    "\n",
    "    if scaler is None:\n",
    "        scaler = StandardScaler()\n",
    "        X_num = scaler.fit_transform(X_num)\n",
    "        X_num = np.nan_to_num(X_num, posinf=0, neginf=0)\n",
    "        return _pca(X_num), X_cat, cat_cols, scaler\n",
    "    else:\n",
    "        X_num = scaler.transform(X_num) #TODO: infでも大丈夫？\n",
    "        X_num = np.nan_to_num(X_num, posinf=0, neginf=0)\n",
    "        return _pca(X_num), X_cat, cat_cols\n",
    "\n",
    "\n",
    "def train_epoch(data_loader: DataLoader,\n",
    "                model: nn.Module,\n",
    "                optimizer,\n",
    "                scheduler,\n",
    "                device,\n",
    "                clip_grad: float = 1.5):\n",
    "    model.train()\n",
    "    losses = AverageMeter()\n",
    "    step = 0\n",
    "\n",
    "    for x_num, x_cat, y in tqdm(data_loader, position=0, leave=True, desc='Training'):\n",
    "        batch_size = x_num.size(0)\n",
    "        x_num = x_num.to(device, dtype=torch.float)\n",
    "        x_cat = x_cat.to(device)\n",
    "        y = y.to(device, dtype=torch.float)\n",
    "\n",
    "        loss = rmspe_loss(y, model(x_num, x_cat))\n",
    "        losses.update(loss.detach().cpu().numpy(), batch_size)\n",
    "        loss.backward()\n",
    "\n",
    "        torch.nn.utils.clip_grad_norm_(model.parameters(), clip_grad)\n",
    "        optimizer.step()\n",
    "        optimizer.zero_grad()\n",
    "\n",
    "        if scheduler is not None:\n",
    "            scheduler.step()\n",
    "\n",
    "        step += 1\n",
    "\n",
    "    return losses.avg\n",
    "\n",
    "\n",
    "def evaluate(data_loader: DataLoader, model, device):\n",
    "    model.eval()\n",
    "\n",
    "    losses = AverageMeter()\n",
    "\n",
    "    final_targets = []\n",
    "    final_outputs = []\n",
    "\n",
    "    with torch.no_grad():\n",
    "        for x_num, x_cat, y in tqdm(data_loader, position=0, leave=True, desc='Evaluating'):\n",
    "            batch_size = x_num.size(0)\n",
    "            x_num = x_num.to(device, dtype=torch.float)\n",
    "            x_cat = x_cat.to(device)\n",
    "            y = y.to(device, dtype=torch.float)\n",
    "\n",
    "            with torch.no_grad():\n",
    "                output = model(x_num, x_cat)\n",
    "\n",
    "            loss = rmspe_loss(y, output)\n",
    "            # record loss\n",
    "            losses.update(loss.detach().cpu().numpy(), batch_size)\n",
    "\n",
    "            targets = y.detach().cpu().numpy()\n",
    "            output = output.detach().cpu().numpy()\n",
    "\n",
    "            final_targets.append(targets)\n",
    "            final_outputs.append(output)\n",
    "\n",
    "    final_targets = np.concatenate(final_targets)\n",
    "    final_outputs = np.concatenate(final_outputs)\n",
    "\n",
    "    try:\n",
    "        metric = rmspe_metric(final_targets, final_outputs)\n",
    "    except:\n",
    "        metric = None\n",
    "\n",
    "    return final_outputs, final_targets, losses.avg, metric\n",
    "\n",
    "\n",
    "def predict_nn(X: pd.DataFrame,\n",
    "               model: Union[List[MLP], MLP],\n",
    "               scaler: StandardScaler,\n",
    "               device,\n",
    "               ensemble_method='mean'):\n",
    "    if not isinstance(model, list):\n",
    "        model = [model]\n",
    "\n",
    "    for m in model:\n",
    "        m.eval()\n",
    "    X_num, X_cat, cat_cols = preprocess_nn(X.copy(), scaler=scaler)\n",
    "    valid_dataset = TabularDataset(X_num, X_cat, None)\n",
    "    valid_loader = torch.utils.data.DataLoader(valid_dataset,\n",
    "                                               batch_size=512,\n",
    "                                               shuffle=False,\n",
    "                                               num_workers=4)\n",
    "\n",
    "    final_outputs = []\n",
    "\n",
    "    with torch.no_grad():\n",
    "        for x_num, x_cat in tqdm(valid_loader, position=0, leave=True, desc='Evaluating'):\n",
    "            x_num = x_num.to(device, dtype=torch.float)\n",
    "            x_cat = x_cat.to(device)\n",
    "\n",
    "            outputs = []\n",
    "            with torch.no_grad():\n",
    "                for m in model:\n",
    "                    output = m(x_num, x_cat)\n",
    "                    outputs.append(output.detach().cpu().numpy())\n",
    "\n",
    "            if ensemble_method == 'median':\n",
    "                pred = np.nanmedian(np.array(outputs), axis=0)\n",
    "            else:\n",
    "                pred = np.array(outputs).mean(axis=0)\n",
    "            final_outputs.append(pred)\n",
    "\n",
    "    final_outputs = np.concatenate(final_outputs)\n",
    "    return final_outputs\n",
    "\n",
    "\n",
    "def predict_tabnet(X: pd.DataFrame,\n",
    "                   model: Union[List[TabNetRegressor], TabNetRegressor],\n",
    "                   scaler: StandardScaler,\n",
    "                   ensemble_method='mean'):\n",
    "    if not isinstance(model, list):\n",
    "        model = [model]\n",
    "\n",
    "    X_num, X_cat, cat_cols = preprocess_nn(X.copy(), scaler=scaler)\n",
    "    X_processed = np.concatenate([X_cat, X_num], axis=1)\n",
    "\n",
    "    predicted = []\n",
    "    for m in model:\n",
    "        predicted.append(m.predict(X_processed))\n",
    "\n",
    "    if ensemble_method == 'median':\n",
    "        pred = np.nanmedian(np.array(predicted), axis=0)\n",
    "    else:\n",
    "        pred = np.array(predicted).mean(axis=0)\n",
    "\n",
    "    return pred\n",
    "\n",
    "\n",
    "def train_tabnet(X: pd.DataFrame,\n",
    "                 y: pd.DataFrame,\n",
    "                 #folds: List[Tuple],\n",
    "                 batch_size: int = 1024,\n",
    "                 lr: float = 1e-3,\n",
    "                 model_path: str = 'fold_{}.pth',\n",
    "                 scaler_type: str = 'standard',\n",
    "                 output_dir: str = 'artifacts',\n",
    "                 epochs: int = 250,\n",
    "                 seed: int = 42,\n",
    "                 n_pca: int = -1,\n",
    "                 na_cols: bool = True,\n",
    "                 patience: int = 10,\n",
    "                 factor: float = 0.5,\n",
    "                 gamma: float = 2.0,\n",
    "                 lambda_sparse: float = 8.0,\n",
    "                 n_steps: int = 2,\n",
    "                 scheduler_type: str = 'cosine',\n",
    "                 n_a: int = 16):\n",
    "    seed_everything(seed)\n",
    "\n",
    "    os.makedirs(output_dir, exist_ok=True)\n",
    "\n",
    "    y = y.values.astype(np.float32)\n",
    "    X_num, X_cat, cat_cols, scaler = preprocess_nn(X.copy(), scaler_type=scaler_type, n_pca=n_pca, na_cols=na_cols)\n",
    "\n",
    "    best_losses = []\n",
    "    best_predictions = []\n",
    "    kfold = KFold(n_splits = 3, random_state = 2021, shuffle = True)\n",
    "    for cv_idx, (train_idx, valid_idx) in enumerate(kfold.split(train)):\n",
    "        X_tr, X_va = X_num[train_idx], X_num[valid_idx]\n",
    "        X_tr_cat, X_va_cat = X_cat[train_idx], X_cat[valid_idx]\n",
    "        y_tr, y_va = y[train_idx], y[valid_idx]\n",
    "        y_tr = y_tr.reshape(-1,1)\n",
    "        y_va = y_va.reshape(-1,1)\n",
    "        X_tr = np.concatenate([X_tr_cat, X_tr], axis=1)\n",
    "        X_va = np.concatenate([X_va_cat, X_va], axis=1)\n",
    "\n",
    "        cat_idxs = [0]\n",
    "        cat_dims = [128]\n",
    "\n",
    "        if scheduler_type == 'cosine':\n",
    "            scheduler_params = dict(T_0=200, T_mult=1, eta_min=1e-4, last_epoch=-1, verbose=False)\n",
    "            scheduler_fn = CosineAnnealingWarmRestarts\n",
    "        else:\n",
    "            scheduler_params = {'mode': 'min', 'min_lr': 1e-7, 'patience': patience, 'factor': factor, 'verbose': True}\n",
    "            scheduler_fn = torch.optim.lr_scheduler.ReduceLROnPlateau\n",
    "\n",
    "        model = TabNetRegressor(\n",
    "            cat_idxs=cat_idxs,\n",
    "            cat_dims=cat_dims,\n",
    "            cat_emb_dim=1,\n",
    "            n_d=n_a,\n",
    "            n_a=n_a,\n",
    "            n_steps=n_steps,\n",
    "            gamma=gamma,\n",
    "            n_independent=2,\n",
    "            n_shared=2,\n",
    "            lambda_sparse=lambda_sparse,\n",
    "            optimizer_fn=torch.optim.Adam,\n",
    "            optimizer_params={'lr': lr},\n",
    "            mask_type=\"entmax\",\n",
    "            scheduler_fn=scheduler_fn,\n",
    "            scheduler_params=scheduler_params,\n",
    "            seed=seed,\n",
    "            verbose=10\n",
    "            #device_name=device,\n",
    "            #clip_value=1.5\n",
    "        )\n",
    "\n",
    "        model.fit(X_tr, y_tr, eval_set=[(X_va, y_va)], max_epochs=epochs, patience=50, batch_size=1024*20,\n",
    "                  virtual_batch_size=batch_size, num_workers=4, drop_last=False, eval_metric=[RMSPE], loss_fn=RMSPELoss_Tabnet)\n",
    "\n",
    "        path = os.path.join(output_dir, model_path.format(cv_idx))\n",
    "        model.save_model(path)\n",
    "\n",
    "        predicted = model.predict(X_va)\n",
    "\n",
    "        rmspe = rmspe_metric(y_va, predicted)\n",
    "        best_losses.append(rmspe)\n",
    "        best_predictions.append(predicted)\n",
    "\n",
    "    return best_losses, best_predictions, scaler, model\n",
    "\n",
    "\n",
    "def train_nn(X: pd.DataFrame,\n",
    "             y: pd.DataFrame,\n",
    "             #folds: List[Tuple],\n",
    "             device,\n",
    "             emb_dim: int = 25,\n",
    "             batch_size: int = 1024,\n",
    "             model_type: str = 'mlp',\n",
    "             mlp_dropout: float = 0.0,\n",
    "             mlp_hidden: int = 64,\n",
    "             mlp_bn: bool = False,\n",
    "             cnn_hidden: int = 64,\n",
    "             cnn_channel1: int = 32,\n",
    "             cnn_channel2: int = 32,\n",
    "             cnn_channel3: int = 32,\n",
    "             cnn_kernel1: int = 5,\n",
    "             cnn_celu: bool = False,\n",
    "             cnn_weight_norm: bool = False,\n",
    "             dropout_emb: bool = 0.0,\n",
    "             lr: float = 1e-3,\n",
    "             weight_decay: float = 0.0,\n",
    "             model_path: str = 'fold_{}.pth',\n",
    "             scaler_type: str = 'standard',\n",
    "             output_dir: str = 'artifacts',\n",
    "             scheduler_type: str = 'onecycle',\n",
    "             optimizer_type: str = 'adam',\n",
    "             max_lr: float = 0.01,\n",
    "             epochs: int = 30,\n",
    "             seed: int = 42,\n",
    "             n_pca: int = 100,\n",
    "             batch_double_freq: int = 50,\n",
    "             cnn_dropout: float = 0.1,\n",
    "             na_cols: bool = True,\n",
    "             cnn_leaky_relu: bool = False,\n",
    "             patience: int = 8,\n",
    "             factor: float = 0.5):\n",
    "    seed_everything(seed)\n",
    "\n",
    "    os.makedirs(output_dir, exist_ok=True)\n",
    "\n",
    "    y = y.values.astype(np.float32)\n",
    "    X_num, X_cat, cat_cols, scaler = preprocess_nn(X.copy(), scaler_type=scaler_type, n_pca=n_pca, na_cols=na_cols)\n",
    "\n",
    "    best_losses = []\n",
    "    best_predictions = []\n",
    "    kfold = KFold(n_splits = 5, random_state = 2021, shuffle = True)\n",
    "    # Iterate through each fold\n",
    "    \n",
    "    for cv_idx, (train_idx, valid_idx) in enumerate(kfold.split(train)):\n",
    "        X_tr, X_va = X_num[train_idx], X_num[valid_idx]\n",
    "        X_tr_cat, X_va_cat = X_cat[train_idx], X_cat[valid_idx]\n",
    "        y_tr, y_va = y[train_idx], y[valid_idx]\n",
    "\n",
    "        cur_batch = batch_size\n",
    "        best_loss = 1e10\n",
    "        best_prediction = None\n",
    "\n",
    "        print(f\"fold {cv_idx} train: {X_tr.shape}, valid: {X_va.shape}\")\n",
    "\n",
    "        train_dataset = TabularDataset(X_tr, X_tr_cat, y_tr)\n",
    "        valid_dataset = TabularDataset(X_va, X_va_cat, y_va)\n",
    "        train_loader = torch.utils.data.DataLoader(train_dataset, batch_size=cur_batch, shuffle=True,\n",
    "                                                   num_workers=4)\n",
    "        valid_loader = torch.utils.data.DataLoader(valid_dataset, batch_size=cur_batch, shuffle=False,\n",
    "                                                   num_workers=4)\n",
    "\n",
    "        if model_type == 'mlp':\n",
    "            model = MLP(X_tr.shape[1],\n",
    "                        n_categories=[128],\n",
    "                        dropout=mlp_dropout, hidden=mlp_hidden, emb_dim=emb_dim,\n",
    "                        dropout_cat=dropout_emb, bn=mlp_bn)\n",
    "        elif model_type == 'cnn':\n",
    "            model = CNN(X_tr.shape[1],\n",
    "                        hidden_size=cnn_hidden,\n",
    "                        n_categories=[128],\n",
    "                        emb_dim=emb_dim,\n",
    "                        dropout_cat=dropout_emb,\n",
    "                        channel_1=cnn_channel1,\n",
    "                        channel_2=cnn_channel2,\n",
    "                        channel_3=cnn_channel3,\n",
    "                        two_stage=False,\n",
    "                        kernel1=cnn_kernel1,\n",
    "                        celu=cnn_celu,\n",
    "                        dropout_top=cnn_dropout,\n",
    "                        dropout_mid=cnn_dropout,\n",
    "                        dropout_bottom=cnn_dropout,\n",
    "                        weight_norm=cnn_weight_norm,\n",
    "                        leaky_relu=cnn_leaky_relu)\n",
    "        else:\n",
    "            raise NotImplementedError()\n",
    "        model = model.to(device)\n",
    "\n",
    "        if optimizer_type == 'adamw':\n",
    "            opt = torch.optim.AdamW(model.parameters(), lr=lr, weight_decay=weight_decay)\n",
    "        elif optimizer_type == 'adam':\n",
    "            opt = torch.optim.Adam(model.parameters(), lr=lr, weight_decay=weight_decay)\n",
    "        else:\n",
    "            raise NotImplementedError()\n",
    "\n",
    "        scheduler = epoch_scheduler = None\n",
    "        if scheduler_type == 'onecycle':\n",
    "            scheduler = torch.optim.lr_scheduler.OneCycleLR(optimizer=opt, pct_start=0.1, div_factor=1e3,\n",
    "                                                            max_lr=max_lr, epochs=epochs,\n",
    "                                                            steps_per_epoch=len(train_loader))\n",
    "        elif scheduler_type == 'reduce':\n",
    "            epoch_scheduler = torch.optim.lr_scheduler.ReduceLROnPlateau(optimizer=opt,\n",
    "                                                                         mode='min',\n",
    "                                                                         min_lr=1e-7,\n",
    "                                                                         patience=patience,\n",
    "                                                                         verbose=True,\n",
    "                                                                         factor=factor)\n",
    "\n",
    "        for epoch in range(epochs):\n",
    "            if epoch > 0 and epoch % batch_double_freq == 0:\n",
    "                cur_batch = cur_batch * 2\n",
    "                print(f'batch: {cur_batch}')\n",
    "                train_loader = torch.utils.data.DataLoader(train_dataset,\n",
    "                                                           batch_size=cur_batch,\n",
    "                                                           shuffle=True,\n",
    "                                                           num_workers=4)\n",
    "            train_loss = train_epoch(train_loader, model, opt, scheduler, device)\n",
    "            predictions, valid_targets, valid_loss, rmspe = evaluate(valid_loader, model, device=device)\n",
    "            print(f\"epoch {epoch}, train loss: {train_loss:.3f}, valid rmspe: {rmspe:.3f}\")\n",
    "\n",
    "            if epoch_scheduler is not None:\n",
    "                epoch_scheduler.step(rmspe)\n",
    "\n",
    "            if rmspe < best_loss:\n",
    "                print(f'new best:{rmspe}')\n",
    "                best_loss = rmspe\n",
    "                best_prediction = predictions\n",
    "                torch.save(model, os.path.join(output_dir, model_path.format(cv_idx)))\n",
    "\n",
    "        best_predictions.append(best_prediction)\n",
    "        best_losses.append(best_loss)\n",
    "        del model, train_dataset, valid_dataset, train_loader, valid_loader, X_tr, X_va, X_tr_cat, X_va_cat, y_tr, y_va, opt\n",
    "        if scheduler is not None:\n",
    "            del scheduler\n",
    "        gc.collect()\n",
    "\n",
    "    return best_losses, best_predictions, scaler\n"
   ]
  },
  {
   "cell_type": "code",
   "execution_count": 14,
   "id": "f3de7886",
   "metadata": {
    "execution": {
     "iopub.execute_input": "2023-12-13T14:38:11.017268Z",
     "iopub.status.busy": "2023-12-13T14:38:11.012216Z",
     "iopub.status.idle": "2023-12-13T17:00:12.522369Z",
     "shell.execute_reply": "2023-12-13T17:00:12.521751Z",
     "shell.execute_reply.started": "2023-12-13T08:08:11.588546Z"
    },
    "papermill": {
     "duration": 8521.675946,
     "end_time": "2023-12-13T17:00:12.522516",
     "exception": false,
     "start_time": "2023-12-13T14:38:10.846570",
     "status": "completed"
    },
    "tags": []
   },
   "outputs": [
    {
     "name": "stdout",
     "output_type": "stream",
     "text": [
      "cuda\n",
      "cuda\n",
      "fold 0 train: (343145, 100), valid: (85787, 100)\n"
     ]
    },
    {
     "name": "stderr",
     "output_type": "stream",
     "text": [
      "Training: 100%|██████████| 269/269 [00:09<00:00, 27.74it/s]\n",
      "Evaluating: 100%|██████████| 68/68 [00:01<00:00, 59.69it/s]\n",
      "Training:   0%|          | 0/269 [00:00<?, ?it/s]"
     ]
    },
    {
     "name": "stdout",
     "output_type": "stream",
     "text": [
      "epoch 0, train loss: 80.994, valid rmspe: 33.618\n",
      "new best:33.61837387084961\n"
     ]
    },
    {
     "name": "stderr",
     "output_type": "stream",
     "text": [
      "Training: 100%|██████████| 269/269 [00:07<00:00, 33.65it/s]\n",
      "Evaluating: 100%|██████████| 68/68 [00:01<00:00, 58.55it/s]\n",
      "Training:   0%|          | 0/269 [00:00<?, ?it/s]"
     ]
    },
    {
     "name": "stdout",
     "output_type": "stream",
     "text": [
      "epoch 1, train loss: 20.507, valid rmspe: 10.534\n",
      "new best:10.533888816833496\n"
     ]
    },
    {
     "name": "stderr",
     "output_type": "stream",
     "text": [
      "Training: 100%|██████████| 269/269 [00:08<00:00, 33.22it/s]\n",
      "Evaluating: 100%|██████████| 68/68 [00:01<00:00, 58.07it/s]\n",
      "Training:   0%|          | 0/269 [00:00<?, ?it/s]"
     ]
    },
    {
     "name": "stdout",
     "output_type": "stream",
     "text": [
      "epoch 2, train loss: 12.493, valid rmspe: 17.430\n"
     ]
    },
    {
     "name": "stderr",
     "output_type": "stream",
     "text": [
      "Training: 100%|██████████| 269/269 [00:07<00:00, 34.06it/s]\n",
      "Evaluating: 100%|██████████| 68/68 [00:01<00:00, 56.04it/s]\n",
      "Training:   0%|          | 0/269 [00:00<?, ?it/s]"
     ]
    },
    {
     "name": "stdout",
     "output_type": "stream",
     "text": [
      "epoch 3, train loss: 8.601, valid rmspe: 4.377\n",
      "new best:4.376883029937744\n"
     ]
    },
    {
     "name": "stderr",
     "output_type": "stream",
     "text": [
      "Training: 100%|██████████| 269/269 [00:07<00:00, 33.66it/s]\n",
      "Evaluating: 100%|██████████| 68/68 [00:01<00:00, 59.22it/s]\n",
      "Training:   0%|          | 0/269 [00:00<?, ?it/s]"
     ]
    },
    {
     "name": "stdout",
     "output_type": "stream",
     "text": [
      "epoch 4, train loss: 6.961, valid rmspe: 4.709\n"
     ]
    },
    {
     "name": "stderr",
     "output_type": "stream",
     "text": [
      "Training: 100%|██████████| 269/269 [00:07<00:00, 33.79it/s]\n",
      "Evaluating: 100%|██████████| 68/68 [00:01<00:00, 45.64it/s]\n",
      "Training:   0%|          | 0/269 [00:00<?, ?it/s]"
     ]
    },
    {
     "name": "stdout",
     "output_type": "stream",
     "text": [
      "epoch 5, train loss: 6.008, valid rmspe: 2.181\n",
      "new best:2.1809237003326416\n"
     ]
    },
    {
     "name": "stderr",
     "output_type": "stream",
     "text": [
      "Training: 100%|██████████| 269/269 [00:07<00:00, 33.71it/s]\n",
      "Evaluating: 100%|██████████| 68/68 [00:01<00:00, 60.21it/s]\n",
      "Training:   0%|          | 0/269 [00:00<?, ?it/s]"
     ]
    },
    {
     "name": "stdout",
     "output_type": "stream",
     "text": [
      "epoch 6, train loss: 5.443, valid rmspe: 9.178\n"
     ]
    },
    {
     "name": "stderr",
     "output_type": "stream",
     "text": [
      "Training: 100%|██████████| 269/269 [00:08<00:00, 33.45it/s]\n",
      "Evaluating: 100%|██████████| 68/68 [00:01<00:00, 57.80it/s]\n",
      "Training:   0%|          | 0/269 [00:00<?, ?it/s]"
     ]
    },
    {
     "name": "stdout",
     "output_type": "stream",
     "text": [
      "epoch 7, train loss: 3.227, valid rmspe: 3.426\n"
     ]
    },
    {
     "name": "stderr",
     "output_type": "stream",
     "text": [
      "Training: 100%|██████████| 269/269 [00:07<00:00, 33.78it/s]\n",
      "Evaluating: 100%|██████████| 68/68 [00:01<00:00, 53.17it/s]\n",
      "Training:   0%|          | 0/269 [00:00<?, ?it/s]"
     ]
    },
    {
     "name": "stdout",
     "output_type": "stream",
     "text": [
      "epoch 8, train loss: 2.842, valid rmspe: 1.292\n",
      "new best:1.2918000221252441\n"
     ]
    },
    {
     "name": "stderr",
     "output_type": "stream",
     "text": [
      "Training: 100%|██████████| 269/269 [00:08<00:00, 32.88it/s]\n",
      "Evaluating: 100%|██████████| 68/68 [00:01<00:00, 57.82it/s]\n",
      "Training:   0%|          | 0/269 [00:00<?, ?it/s]"
     ]
    },
    {
     "name": "stdout",
     "output_type": "stream",
     "text": [
      "epoch 9, train loss: 1.695, valid rmspe: 4.140\n"
     ]
    },
    {
     "name": "stderr",
     "output_type": "stream",
     "text": [
      "Training: 100%|██████████| 269/269 [00:08<00:00, 33.12it/s]\n",
      "Evaluating: 100%|██████████| 68/68 [00:01<00:00, 53.17it/s]\n",
      "Training:   0%|          | 0/269 [00:00<?, ?it/s]"
     ]
    },
    {
     "name": "stdout",
     "output_type": "stream",
     "text": [
      "epoch 10, train loss: 1.316, valid rmspe: 0.551\n",
      "new best:0.5512531995773315\n"
     ]
    },
    {
     "name": "stderr",
     "output_type": "stream",
     "text": [
      "Training: 100%|██████████| 269/269 [00:08<00:00, 32.97it/s]\n",
      "Evaluating: 100%|██████████| 68/68 [00:01<00:00, 56.71it/s]\n",
      "Training:   0%|          | 0/269 [00:00<?, ?it/s]"
     ]
    },
    {
     "name": "stdout",
     "output_type": "stream",
     "text": [
      "epoch 11, train loss: 0.867, valid rmspe: 0.949\n"
     ]
    },
    {
     "name": "stderr",
     "output_type": "stream",
     "text": [
      "Training: 100%|██████████| 269/269 [00:08<00:00, 32.62it/s]\n",
      "Evaluating: 100%|██████████| 68/68 [00:01<00:00, 57.69it/s]\n",
      "Training:   0%|          | 0/269 [00:00<?, ?it/s]"
     ]
    },
    {
     "name": "stdout",
     "output_type": "stream",
     "text": [
      "epoch 12, train loss: 0.747, valid rmspe: 1.029\n"
     ]
    },
    {
     "name": "stderr",
     "output_type": "stream",
     "text": [
      "Training: 100%|██████████| 269/269 [00:08<00:00, 32.63it/s]\n",
      "Evaluating: 100%|██████████| 68/68 [00:01<00:00, 56.13it/s]\n",
      "Training:   0%|          | 0/269 [00:00<?, ?it/s]"
     ]
    },
    {
     "name": "stdout",
     "output_type": "stream",
     "text": [
      "epoch 13, train loss: 0.851, valid rmspe: 0.654\n"
     ]
    },
    {
     "name": "stderr",
     "output_type": "stream",
     "text": [
      "Training: 100%|██████████| 269/269 [00:08<00:00, 32.46it/s]\n",
      "Evaluating: 100%|██████████| 68/68 [00:01<00:00, 57.79it/s]\n",
      "Training:   0%|          | 0/269 [00:00<?, ?it/s]"
     ]
    },
    {
     "name": "stdout",
     "output_type": "stream",
     "text": [
      "epoch 14, train loss: 0.633, valid rmspe: 0.416\n",
      "new best:0.41565173864364624\n"
     ]
    },
    {
     "name": "stderr",
     "output_type": "stream",
     "text": [
      "Training: 100%|██████████| 269/269 [00:08<00:00, 32.76it/s]\n",
      "Evaluating: 100%|██████████| 68/68 [00:01<00:00, 52.13it/s]\n",
      "Training:   0%|          | 0/269 [00:00<?, ?it/s]"
     ]
    },
    {
     "name": "stdout",
     "output_type": "stream",
     "text": [
      "epoch 15, train loss: 0.491, valid rmspe: 1.363\n"
     ]
    },
    {
     "name": "stderr",
     "output_type": "stream",
     "text": [
      "Training: 100%|██████████| 269/269 [00:08<00:00, 32.85it/s]\n",
      "Evaluating: 100%|██████████| 68/68 [00:01<00:00, 58.78it/s]\n",
      "Training:   0%|          | 0/269 [00:00<?, ?it/s]"
     ]
    },
    {
     "name": "stdout",
     "output_type": "stream",
     "text": [
      "epoch 16, train loss: 0.410, valid rmspe: 0.755\n"
     ]
    },
    {
     "name": "stderr",
     "output_type": "stream",
     "text": [
      "Training: 100%|██████████| 269/269 [00:08<00:00, 32.91it/s]\n",
      "Evaluating: 100%|██████████| 68/68 [00:01<00:00, 58.23it/s]\n",
      "Training:   0%|          | 0/269 [00:00<?, ?it/s]"
     ]
    },
    {
     "name": "stdout",
     "output_type": "stream",
     "text": [
      "epoch 17, train loss: 0.406, valid rmspe: 0.322\n",
      "new best:0.3224969804286957\n"
     ]
    },
    {
     "name": "stderr",
     "output_type": "stream",
     "text": [
      "Training: 100%|██████████| 269/269 [00:08<00:00, 33.26it/s]\n",
      "Evaluating: 100%|██████████| 68/68 [00:01<00:00, 58.10it/s]\n",
      "Training:   0%|          | 0/269 [00:00<?, ?it/s]"
     ]
    },
    {
     "name": "stdout",
     "output_type": "stream",
     "text": [
      "epoch 18, train loss: 0.322, valid rmspe: 0.236\n",
      "new best:0.23593057692050934\n"
     ]
    },
    {
     "name": "stderr",
     "output_type": "stream",
     "text": [
      "Training: 100%|██████████| 269/269 [00:08<00:00, 32.51it/s]\n",
      "Evaluating: 100%|██████████| 68/68 [00:01<00:00, 58.76it/s]\n",
      "Training:   0%|          | 0/269 [00:00<?, ?it/s]"
     ]
    },
    {
     "name": "stdout",
     "output_type": "stream",
     "text": [
      "epoch 19, train loss: 0.346, valid rmspe: 0.302\n"
     ]
    },
    {
     "name": "stderr",
     "output_type": "stream",
     "text": [
      "Training: 100%|██████████| 269/269 [00:08<00:00, 32.83it/s]\n",
      "Evaluating: 100%|██████████| 68/68 [00:01<00:00, 58.78it/s]\n",
      "Training:   0%|          | 0/269 [00:00<?, ?it/s]"
     ]
    },
    {
     "name": "stdout",
     "output_type": "stream",
     "text": [
      "epoch 20, train loss: 0.333, valid rmspe: 0.242\n"
     ]
    },
    {
     "name": "stderr",
     "output_type": "stream",
     "text": [
      "Training: 100%|██████████| 269/269 [00:08<00:00, 32.71it/s]\n",
      "Evaluating: 100%|██████████| 68/68 [00:01<00:00, 57.67it/s]\n",
      "Training:   0%|          | 0/269 [00:00<?, ?it/s]"
     ]
    },
    {
     "name": "stdout",
     "output_type": "stream",
     "text": [
      "epoch 21, train loss: 0.278, valid rmspe: 0.243\n"
     ]
    },
    {
     "name": "stderr",
     "output_type": "stream",
     "text": [
      "Training: 100%|██████████| 269/269 [00:08<00:00, 32.11it/s]\n",
      "Evaluating: 100%|██████████| 68/68 [00:01<00:00, 56.89it/s]\n",
      "Training:   0%|          | 0/269 [00:00<?, ?it/s]"
     ]
    },
    {
     "name": "stdout",
     "output_type": "stream",
     "text": [
      "epoch 22, train loss: 0.287, valid rmspe: 0.230\n",
      "new best:0.23034866154193878\n"
     ]
    },
    {
     "name": "stderr",
     "output_type": "stream",
     "text": [
      "Training: 100%|██████████| 269/269 [00:08<00:00, 32.72it/s]\n",
      "Evaluating: 100%|██████████| 68/68 [00:01<00:00, 51.09it/s]\n",
      "Training:   0%|          | 0/269 [00:00<?, ?it/s]"
     ]
    },
    {
     "name": "stdout",
     "output_type": "stream",
     "text": [
      "epoch 23, train loss: 0.254, valid rmspe: 0.318\n"
     ]
    },
    {
     "name": "stderr",
     "output_type": "stream",
     "text": [
      "Training: 100%|██████████| 269/269 [00:08<00:00, 33.03it/s]\n",
      "Evaluating: 100%|██████████| 68/68 [00:01<00:00, 56.92it/s]\n",
      "Training:   0%|          | 0/269 [00:00<?, ?it/s]"
     ]
    },
    {
     "name": "stdout",
     "output_type": "stream",
     "text": [
      "epoch 24, train loss: 0.236, valid rmspe: 0.234\n"
     ]
    },
    {
     "name": "stderr",
     "output_type": "stream",
     "text": [
      "Training: 100%|██████████| 269/269 [00:08<00:00, 33.33it/s]\n",
      "Evaluating: 100%|██████████| 68/68 [00:01<00:00, 49.37it/s]\n",
      "Training:   0%|          | 0/269 [00:00<?, ?it/s]"
     ]
    },
    {
     "name": "stdout",
     "output_type": "stream",
     "text": [
      "epoch 25, train loss: 0.230, valid rmspe: 0.223\n",
      "new best:0.22339491546154022\n"
     ]
    },
    {
     "name": "stderr",
     "output_type": "stream",
     "text": [
      "Training: 100%|██████████| 269/269 [00:08<00:00, 33.07it/s]\n",
      "Evaluating: 100%|██████████| 68/68 [00:01<00:00, 57.59it/s]\n",
      "Training:   0%|          | 0/269 [00:00<?, ?it/s]"
     ]
    },
    {
     "name": "stdout",
     "output_type": "stream",
     "text": [
      "epoch 26, train loss: 0.225, valid rmspe: 0.221\n",
      "new best:0.22067438066005707\n"
     ]
    },
    {
     "name": "stderr",
     "output_type": "stream",
     "text": [
      "Training: 100%|██████████| 269/269 [00:08<00:00, 32.87it/s]\n",
      "Evaluating: 100%|██████████| 68/68 [00:01<00:00, 57.17it/s]\n",
      "Training:   0%|          | 0/269 [00:00<?, ?it/s]"
     ]
    },
    {
     "name": "stdout",
     "output_type": "stream",
     "text": [
      "epoch 27, train loss: 0.217, valid rmspe: 0.231\n"
     ]
    },
    {
     "name": "stderr",
     "output_type": "stream",
     "text": [
      "Training: 100%|██████████| 269/269 [00:08<00:00, 33.23it/s]\n",
      "Evaluating: 100%|██████████| 68/68 [00:01<00:00, 57.94it/s]\n",
      "Training:   0%|          | 0/269 [00:00<?, ?it/s]"
     ]
    },
    {
     "name": "stdout",
     "output_type": "stream",
     "text": [
      "epoch 28, train loss: 0.218, valid rmspe: 0.211\n",
      "new best:0.21050873398780823\n"
     ]
    },
    {
     "name": "stderr",
     "output_type": "stream",
     "text": [
      "Training: 100%|██████████| 269/269 [00:08<00:00, 32.59it/s]\n",
      "Evaluating: 100%|██████████| 68/68 [00:01<00:00, 56.25it/s]\n",
      "Training:   0%|          | 0/269 [00:00<?, ?it/s]"
     ]
    },
    {
     "name": "stdout",
     "output_type": "stream",
     "text": [
      "epoch 29, train loss: 0.211, valid rmspe: 0.265\n"
     ]
    },
    {
     "name": "stderr",
     "output_type": "stream",
     "text": [
      "Training: 100%|██████████| 269/269 [00:08<00:00, 32.81it/s]\n",
      "Evaluating: 100%|██████████| 68/68 [00:01<00:00, 58.98it/s]\n",
      "Training:   0%|          | 0/269 [00:00<?, ?it/s]"
     ]
    },
    {
     "name": "stdout",
     "output_type": "stream",
     "text": [
      "epoch 30, train loss: 0.216, valid rmspe: 0.214\n"
     ]
    },
    {
     "name": "stderr",
     "output_type": "stream",
     "text": [
      "Training: 100%|██████████| 269/269 [00:08<00:00, 33.37it/s]\n",
      "Evaluating: 100%|██████████| 68/68 [00:01<00:00, 57.58it/s]\n",
      "Training:   0%|          | 0/269 [00:00<?, ?it/s]"
     ]
    },
    {
     "name": "stdout",
     "output_type": "stream",
     "text": [
      "epoch 31, train loss: 0.221, valid rmspe: 0.234\n"
     ]
    },
    {
     "name": "stderr",
     "output_type": "stream",
     "text": [
      "Training: 100%|██████████| 269/269 [00:08<00:00, 32.59it/s]\n",
      "Evaluating: 100%|██████████| 68/68 [00:01<00:00, 57.04it/s]\n",
      "Training:   0%|          | 0/269 [00:00<?, ?it/s]"
     ]
    },
    {
     "name": "stdout",
     "output_type": "stream",
     "text": [
      "epoch 32, train loss: 0.222, valid rmspe: 0.211\n"
     ]
    },
    {
     "name": "stderr",
     "output_type": "stream",
     "text": [
      "Training: 100%|██████████| 269/269 [00:08<00:00, 33.14it/s]\n",
      "Evaluating: 100%|██████████| 68/68 [00:01<00:00, 48.15it/s]\n",
      "Training:   0%|          | 0/269 [00:00<?, ?it/s]"
     ]
    },
    {
     "name": "stdout",
     "output_type": "stream",
     "text": [
      "epoch 33, train loss: 0.214, valid rmspe: 0.222\n"
     ]
    },
    {
     "name": "stderr",
     "output_type": "stream",
     "text": [
      "Training: 100%|██████████| 269/269 [00:08<00:00, 32.95it/s]\n",
      "Evaluating: 100%|██████████| 68/68 [00:01<00:00, 58.08it/s]\n",
      "Training:   0%|          | 0/269 [00:00<?, ?it/s]"
     ]
    },
    {
     "name": "stdout",
     "output_type": "stream",
     "text": [
      "epoch 34, train loss: 0.208, valid rmspe: 0.219\n"
     ]
    },
    {
     "name": "stderr",
     "output_type": "stream",
     "text": [
      "Training: 100%|██████████| 269/269 [00:08<00:00, 33.05it/s]\n",
      "Evaluating: 100%|██████████| 68/68 [00:01<00:00, 56.56it/s]\n",
      "Training:   0%|          | 0/269 [00:00<?, ?it/s]"
     ]
    },
    {
     "name": "stdout",
     "output_type": "stream",
     "text": [
      "epoch 35, train loss: 0.209, valid rmspe: 0.216\n"
     ]
    },
    {
     "name": "stderr",
     "output_type": "stream",
     "text": [
      "Training: 100%|██████████| 269/269 [00:08<00:00, 32.30it/s]\n",
      "Evaluating: 100%|██████████| 68/68 [00:01<00:00, 56.49it/s]\n",
      "Training:   0%|          | 0/269 [00:00<?, ?it/s]"
     ]
    },
    {
     "name": "stdout",
     "output_type": "stream",
     "text": [
      "epoch 36, train loss: 0.213, valid rmspe: 0.285\n"
     ]
    },
    {
     "name": "stderr",
     "output_type": "stream",
     "text": [
      "Training: 100%|██████████| 269/269 [00:08<00:00, 32.35it/s]\n",
      "Evaluating: 100%|██████████| 68/68 [00:01<00:00, 57.83it/s]\n",
      "Training:   0%|          | 0/269 [00:00<?, ?it/s]"
     ]
    },
    {
     "name": "stdout",
     "output_type": "stream",
     "text": [
      "epoch 37, train loss: 0.217, valid rmspe: 0.219\n",
      "Epoch    38: reducing learning rate of group 0 to 1.1400e-04.\n"
     ]
    },
    {
     "name": "stderr",
     "output_type": "stream",
     "text": [
      "Training: 100%|██████████| 269/269 [00:08<00:00, 33.15it/s]\n",
      "Evaluating: 100%|██████████| 68/68 [00:01<00:00, 56.19it/s]\n",
      "Training:   0%|          | 0/269 [00:00<?, ?it/s]"
     ]
    },
    {
     "name": "stdout",
     "output_type": "stream",
     "text": [
      "epoch 38, train loss: 0.199, valid rmspe: 0.207\n",
      "new best:0.20706097781658173\n"
     ]
    },
    {
     "name": "stderr",
     "output_type": "stream",
     "text": [
      "Training: 100%|██████████| 269/269 [00:08<00:00, 32.75it/s]\n",
      "Evaluating: 100%|██████████| 68/68 [00:01<00:00, 58.07it/s]\n",
      "Training:   0%|          | 0/269 [00:00<?, ?it/s]"
     ]
    },
    {
     "name": "stdout",
     "output_type": "stream",
     "text": [
      "epoch 39, train loss: 0.196, valid rmspe: 0.209\n"
     ]
    },
    {
     "name": "stderr",
     "output_type": "stream",
     "text": [
      "Training: 100%|██████████| 269/269 [00:08<00:00, 32.41it/s]\n",
      "Evaluating: 100%|██████████| 68/68 [00:01<00:00, 58.71it/s]\n",
      "Training:   0%|          | 0/269 [00:00<?, ?it/s]"
     ]
    },
    {
     "name": "stdout",
     "output_type": "stream",
     "text": [
      "epoch 40, train loss: 0.195, valid rmspe: 0.211\n"
     ]
    },
    {
     "name": "stderr",
     "output_type": "stream",
     "text": [
      "Training: 100%|██████████| 269/269 [00:08<00:00, 33.15it/s]\n",
      "Evaluating: 100%|██████████| 68/68 [00:01<00:00, 57.86it/s]\n",
      "Training:   0%|          | 0/269 [00:00<?, ?it/s]"
     ]
    },
    {
     "name": "stdout",
     "output_type": "stream",
     "text": [
      "epoch 41, train loss: 0.198, valid rmspe: 0.224\n"
     ]
    },
    {
     "name": "stderr",
     "output_type": "stream",
     "text": [
      "Training: 100%|██████████| 269/269 [00:08<00:00, 32.76it/s]\n",
      "Evaluating: 100%|██████████| 68/68 [00:01<00:00, 56.17it/s]\n",
      "Training:   0%|          | 0/269 [00:00<?, ?it/s]"
     ]
    },
    {
     "name": "stdout",
     "output_type": "stream",
     "text": [
      "epoch 42, train loss: 0.194, valid rmspe: 0.210\n"
     ]
    },
    {
     "name": "stderr",
     "output_type": "stream",
     "text": [
      "Training: 100%|██████████| 269/269 [00:08<00:00, 33.42it/s]\n",
      "Evaluating: 100%|██████████| 68/68 [00:01<00:00, 49.49it/s]\n",
      "Training:   0%|          | 0/269 [00:00<?, ?it/s]"
     ]
    },
    {
     "name": "stdout",
     "output_type": "stream",
     "text": [
      "epoch 43, train loss: 0.192, valid rmspe: 0.213\n"
     ]
    },
    {
     "name": "stderr",
     "output_type": "stream",
     "text": [
      "Training: 100%|██████████| 269/269 [00:08<00:00, 32.78it/s]\n",
      "Evaluating: 100%|██████████| 68/68 [00:01<00:00, 58.44it/s]\n",
      "Training:   0%|          | 0/269 [00:00<?, ?it/s]"
     ]
    },
    {
     "name": "stdout",
     "output_type": "stream",
     "text": [
      "epoch 44, train loss: 0.191, valid rmspe: 0.211\n"
     ]
    },
    {
     "name": "stderr",
     "output_type": "stream",
     "text": [
      "Training: 100%|██████████| 269/269 [00:08<00:00, 33.49it/s]\n",
      "Evaluating: 100%|██████████| 68/68 [00:01<00:00, 58.26it/s]\n",
      "Training:   0%|          | 0/269 [00:00<?, ?it/s]"
     ]
    },
    {
     "name": "stdout",
     "output_type": "stream",
     "text": [
      "epoch 45, train loss: 0.190, valid rmspe: 0.208\n"
     ]
    },
    {
     "name": "stderr",
     "output_type": "stream",
     "text": [
      "Training: 100%|██████████| 269/269 [00:08<00:00, 33.09it/s]\n",
      "Evaluating: 100%|██████████| 68/68 [00:01<00:00, 59.32it/s]\n",
      "Training:   0%|          | 0/269 [00:00<?, ?it/s]"
     ]
    },
    {
     "name": "stdout",
     "output_type": "stream",
     "text": [
      "epoch 46, train loss: 0.190, valid rmspe: 0.213\n"
     ]
    },
    {
     "name": "stderr",
     "output_type": "stream",
     "text": [
      "Training: 100%|██████████| 269/269 [00:08<00:00, 32.70it/s]\n",
      "Evaluating: 100%|██████████| 68/68 [00:01<00:00, 58.96it/s]\n",
      "Training:   0%|          | 0/269 [00:00<?, ?it/s]"
     ]
    },
    {
     "name": "stdout",
     "output_type": "stream",
     "text": [
      "epoch 47, train loss: 0.191, valid rmspe: 0.210\n",
      "Epoch    48: reducing learning rate of group 0 to 3.4200e-05.\n"
     ]
    },
    {
     "name": "stderr",
     "output_type": "stream",
     "text": [
      "Training: 100%|██████████| 269/269 [00:08<00:00, 33.19it/s]\n",
      "Evaluating: 100%|██████████| 68/68 [00:01<00:00, 57.86it/s]\n",
      "Training:   0%|          | 0/269 [00:00<?, ?it/s]"
     ]
    },
    {
     "name": "stdout",
     "output_type": "stream",
     "text": [
      "epoch 48, train loss: 0.184, valid rmspe: 0.214\n"
     ]
    },
    {
     "name": "stderr",
     "output_type": "stream",
     "text": [
      "Training: 100%|██████████| 269/269 [00:08<00:00, 32.48it/s]\n",
      "Evaluating: 100%|██████████| 68/68 [00:01<00:00, 58.24it/s]\n",
      "Training:   0%|          | 0/269 [00:00<?, ?it/s]"
     ]
    },
    {
     "name": "stdout",
     "output_type": "stream",
     "text": [
      "epoch 49, train loss: 0.183, valid rmspe: 0.207\n",
      "fold 1 train: (343145, 100), valid: (85787, 100)\n"
     ]
    },
    {
     "name": "stderr",
     "output_type": "stream",
     "text": [
      "Training: 100%|██████████| 269/269 [00:08<00:00, 32.36it/s]\n",
      "Evaluating: 100%|██████████| 68/68 [00:01<00:00, 58.63it/s]\n",
      "Training:   0%|          | 0/269 [00:00<?, ?it/s]"
     ]
    },
    {
     "name": "stdout",
     "output_type": "stream",
     "text": [
      "epoch 0, train loss: 58.724, valid rmspe: 25.453\n",
      "new best:25.452754974365234\n"
     ]
    },
    {
     "name": "stderr",
     "output_type": "stream",
     "text": [
      "Training: 100%|██████████| 269/269 [00:08<00:00, 33.03it/s]\n",
      "Evaluating: 100%|██████████| 68/68 [00:01<00:00, 58.54it/s]\n",
      "Training:   0%|          | 0/269 [00:00<?, ?it/s]"
     ]
    },
    {
     "name": "stdout",
     "output_type": "stream",
     "text": [
      "epoch 1, train loss: 14.616, valid rmspe: 6.105\n",
      "new best:6.104581356048584\n"
     ]
    },
    {
     "name": "stderr",
     "output_type": "stream",
     "text": [
      "Training: 100%|██████████| 269/269 [00:08<00:00, 32.53it/s]\n",
      "Evaluating: 100%|██████████| 68/68 [00:01<00:00, 55.65it/s]\n",
      "Training:   0%|          | 0/269 [00:00<?, ?it/s]"
     ]
    },
    {
     "name": "stdout",
     "output_type": "stream",
     "text": [
      "epoch 2, train loss: 13.201, valid rmspe: 28.466\n"
     ]
    },
    {
     "name": "stderr",
     "output_type": "stream",
     "text": [
      "Training: 100%|██████████| 269/269 [00:08<00:00, 32.94it/s]\n",
      "Evaluating: 100%|██████████| 68/68 [00:01<00:00, 57.80it/s]\n",
      "Training:   0%|          | 0/269 [00:00<?, ?it/s]"
     ]
    },
    {
     "name": "stdout",
     "output_type": "stream",
     "text": [
      "epoch 3, train loss: 10.074, valid rmspe: 6.810\n"
     ]
    },
    {
     "name": "stderr",
     "output_type": "stream",
     "text": [
      "Training: 100%|██████████| 269/269 [00:08<00:00, 32.01it/s]\n",
      "Evaluating: 100%|██████████| 68/68 [00:01<00:00, 56.87it/s]\n",
      "Training:   0%|          | 0/269 [00:00<?, ?it/s]"
     ]
    },
    {
     "name": "stdout",
     "output_type": "stream",
     "text": [
      "epoch 4, train loss: 6.505, valid rmspe: 3.898\n",
      "new best:3.898336410522461\n"
     ]
    },
    {
     "name": "stderr",
     "output_type": "stream",
     "text": [
      "Training: 100%|██████████| 269/269 [00:08<00:00, 32.78it/s]\n",
      "Evaluating: 100%|██████████| 68/68 [00:01<00:00, 56.71it/s]\n",
      "Training:   0%|          | 0/269 [00:00<?, ?it/s]"
     ]
    },
    {
     "name": "stdout",
     "output_type": "stream",
     "text": [
      "epoch 5, train loss: 6.792, valid rmspe: 4.790\n"
     ]
    },
    {
     "name": "stderr",
     "output_type": "stream",
     "text": [
      "Training: 100%|██████████| 269/269 [00:08<00:00, 32.61it/s]\n",
      "Evaluating: 100%|██████████| 68/68 [00:01<00:00, 57.65it/s]\n",
      "Training:   0%|          | 0/269 [00:00<?, ?it/s]"
     ]
    },
    {
     "name": "stdout",
     "output_type": "stream",
     "text": [
      "epoch 6, train loss: 4.490, valid rmspe: 6.562\n"
     ]
    },
    {
     "name": "stderr",
     "output_type": "stream",
     "text": [
      "Training: 100%|██████████| 269/269 [00:08<00:00, 32.15it/s]\n",
      "Evaluating: 100%|██████████| 68/68 [00:01<00:00, 58.89it/s]\n",
      "Training:   0%|          | 0/269 [00:00<?, ?it/s]"
     ]
    },
    {
     "name": "stdout",
     "output_type": "stream",
     "text": [
      "epoch 7, train loss: 3.464, valid rmspe: 2.167\n",
      "new best:2.1672487258911133\n"
     ]
    },
    {
     "name": "stderr",
     "output_type": "stream",
     "text": [
      "Training: 100%|██████████| 269/269 [00:08<00:00, 33.13it/s]\n",
      "Evaluating: 100%|██████████| 68/68 [00:01<00:00, 58.18it/s]\n",
      "Training:   0%|          | 0/269 [00:00<?, ?it/s]"
     ]
    },
    {
     "name": "stdout",
     "output_type": "stream",
     "text": [
      "epoch 8, train loss: 1.893, valid rmspe: 1.292\n",
      "new best:1.291668176651001\n"
     ]
    },
    {
     "name": "stderr",
     "output_type": "stream",
     "text": [
      "Training: 100%|██████████| 269/269 [00:08<00:00, 32.79it/s]\n",
      "Evaluating: 100%|██████████| 68/68 [00:01<00:00, 56.03it/s]\n",
      "Training:   0%|          | 0/269 [00:00<?, ?it/s]"
     ]
    },
    {
     "name": "stdout",
     "output_type": "stream",
     "text": [
      "epoch 9, train loss: 1.353, valid rmspe: 1.008\n",
      "new best:1.007637619972229\n"
     ]
    },
    {
     "name": "stderr",
     "output_type": "stream",
     "text": [
      "Training: 100%|██████████| 269/269 [00:08<00:00, 33.28it/s]\n",
      "Evaluating: 100%|██████████| 68/68 [00:01<00:00, 46.29it/s]\n",
      "Training:   0%|          | 0/269 [00:00<?, ?it/s]"
     ]
    },
    {
     "name": "stdout",
     "output_type": "stream",
     "text": [
      "epoch 10, train loss: 0.832, valid rmspe: 0.324\n",
      "new best:0.3241455852985382\n"
     ]
    },
    {
     "name": "stderr",
     "output_type": "stream",
     "text": [
      "Training: 100%|██████████| 269/269 [00:08<00:00, 33.05it/s]\n",
      "Evaluating: 100%|██████████| 68/68 [00:01<00:00, 58.07it/s]\n",
      "Training:   0%|          | 0/269 [00:00<?, ?it/s]"
     ]
    },
    {
     "name": "stdout",
     "output_type": "stream",
     "text": [
      "epoch 11, train loss: 0.401, valid rmspe: 0.270\n",
      "new best:0.27011922001838684\n"
     ]
    },
    {
     "name": "stderr",
     "output_type": "stream",
     "text": [
      "Training: 100%|██████████| 269/269 [00:08<00:00, 32.75it/s]\n",
      "Evaluating: 100%|██████████| 68/68 [00:01<00:00, 58.74it/s]\n",
      "Training:   0%|          | 0/269 [00:00<?, ?it/s]"
     ]
    },
    {
     "name": "stdout",
     "output_type": "stream",
     "text": [
      "epoch 12, train loss: 0.255, valid rmspe: 0.225\n",
      "new best:0.2254498302936554\n"
     ]
    },
    {
     "name": "stderr",
     "output_type": "stream",
     "text": [
      "Training: 100%|██████████| 269/269 [00:08<00:00, 32.87it/s]\n",
      "Evaluating: 100%|██████████| 68/68 [00:01<00:00, 58.32it/s]\n",
      "Training:   0%|          | 0/269 [00:00<?, ?it/s]"
     ]
    },
    {
     "name": "stdout",
     "output_type": "stream",
     "text": [
      "epoch 13, train loss: 0.244, valid rmspe: 0.229\n"
     ]
    },
    {
     "name": "stderr",
     "output_type": "stream",
     "text": [
      "Training: 100%|██████████| 269/269 [00:08<00:00, 32.74it/s]\n",
      "Evaluating: 100%|██████████| 68/68 [00:01<00:00, 58.41it/s]\n",
      "Training:   0%|          | 0/269 [00:00<?, ?it/s]"
     ]
    },
    {
     "name": "stdout",
     "output_type": "stream",
     "text": [
      "epoch 14, train loss: 0.236, valid rmspe: 0.237\n"
     ]
    },
    {
     "name": "stderr",
     "output_type": "stream",
     "text": [
      "Training: 100%|██████████| 269/269 [00:08<00:00, 33.03it/s]\n",
      "Evaluating: 100%|██████████| 68/68 [00:01<00:00, 58.27it/s]\n",
      "Training:   0%|          | 0/269 [00:00<?, ?it/s]"
     ]
    },
    {
     "name": "stdout",
     "output_type": "stream",
     "text": [
      "epoch 15, train loss: 0.230, valid rmspe: 0.221\n",
      "new best:0.22105860710144043\n"
     ]
    },
    {
     "name": "stderr",
     "output_type": "stream",
     "text": [
      "Training: 100%|██████████| 269/269 [00:08<00:00, 32.15it/s]\n",
      "Evaluating: 100%|██████████| 68/68 [00:01<00:00, 56.81it/s]\n",
      "Training:   0%|          | 0/269 [00:00<?, ?it/s]"
     ]
    },
    {
     "name": "stdout",
     "output_type": "stream",
     "text": [
      "epoch 16, train loss: 0.226, valid rmspe: 0.212\n",
      "new best:0.2123938351869583\n"
     ]
    },
    {
     "name": "stderr",
     "output_type": "stream",
     "text": [
      "Training: 100%|██████████| 269/269 [00:08<00:00, 32.33it/s]\n",
      "Evaluating: 100%|██████████| 68/68 [00:01<00:00, 48.56it/s]\n",
      "Training:   0%|          | 0/269 [00:00<?, ?it/s]"
     ]
    },
    {
     "name": "stdout",
     "output_type": "stream",
     "text": [
      "epoch 17, train loss: 0.227, valid rmspe: 0.222\n"
     ]
    },
    {
     "name": "stderr",
     "output_type": "stream",
     "text": [
      "Training: 100%|██████████| 269/269 [00:08<00:00, 32.93it/s]\n",
      "Evaluating: 100%|██████████| 68/68 [00:01<00:00, 57.58it/s]\n",
      "Training:   0%|          | 0/269 [00:00<?, ?it/s]"
     ]
    },
    {
     "name": "stdout",
     "output_type": "stream",
     "text": [
      "epoch 18, train loss: 0.221, valid rmspe: 0.214\n"
     ]
    },
    {
     "name": "stderr",
     "output_type": "stream",
     "text": [
      "Training: 100%|██████████| 269/269 [00:08<00:00, 32.63it/s]\n",
      "Evaluating: 100%|██████████| 68/68 [00:01<00:00, 56.63it/s]\n",
      "Training:   0%|          | 0/269 [00:00<?, ?it/s]"
     ]
    },
    {
     "name": "stdout",
     "output_type": "stream",
     "text": [
      "epoch 19, train loss: 0.220, valid rmspe: 0.222\n"
     ]
    },
    {
     "name": "stderr",
     "output_type": "stream",
     "text": [
      "Training: 100%|██████████| 269/269 [00:08<00:00, 33.03it/s]\n",
      "Evaluating: 100%|██████████| 68/68 [00:01<00:00, 58.26it/s]\n",
      "Training:   0%|          | 0/269 [00:00<?, ?it/s]"
     ]
    },
    {
     "name": "stdout",
     "output_type": "stream",
     "text": [
      "epoch 20, train loss: 0.228, valid rmspe: 0.244\n"
     ]
    },
    {
     "name": "stderr",
     "output_type": "stream",
     "text": [
      "Training: 100%|██████████| 269/269 [00:08<00:00, 32.36it/s]\n",
      "Evaluating: 100%|██████████| 68/68 [00:01<00:00, 58.08it/s]\n",
      "Training:   0%|          | 0/269 [00:00<?, ?it/s]"
     ]
    },
    {
     "name": "stdout",
     "output_type": "stream",
     "text": [
      "epoch 21, train loss: 0.217, valid rmspe: 0.212\n",
      "new best:0.21173375844955444\n"
     ]
    },
    {
     "name": "stderr",
     "output_type": "stream",
     "text": [
      "Training: 100%|██████████| 269/269 [00:08<00:00, 32.60it/s]\n",
      "Evaluating: 100%|██████████| 68/68 [00:01<00:00, 57.58it/s]\n",
      "Training:   0%|          | 0/269 [00:00<?, ?it/s]"
     ]
    },
    {
     "name": "stdout",
     "output_type": "stream",
     "text": [
      "epoch 22, train loss: 0.217, valid rmspe: 0.212\n"
     ]
    },
    {
     "name": "stderr",
     "output_type": "stream",
     "text": [
      "Training: 100%|██████████| 269/269 [00:08<00:00, 32.95it/s]\n",
      "Evaluating: 100%|██████████| 68/68 [00:01<00:00, 58.60it/s]\n",
      "Training:   0%|          | 0/269 [00:00<?, ?it/s]"
     ]
    },
    {
     "name": "stdout",
     "output_type": "stream",
     "text": [
      "epoch 23, train loss: 0.221, valid rmspe: 0.208\n",
      "new best:0.20808979868888855\n"
     ]
    },
    {
     "name": "stderr",
     "output_type": "stream",
     "text": [
      "Training: 100%|██████████| 269/269 [00:08<00:00, 31.68it/s]\n",
      "Evaluating: 100%|██████████| 68/68 [00:01<00:00, 54.90it/s]\n",
      "Training:   0%|          | 0/269 [00:00<?, ?it/s]"
     ]
    },
    {
     "name": "stdout",
     "output_type": "stream",
     "text": [
      "epoch 24, train loss: 0.215, valid rmspe: 0.214\n"
     ]
    },
    {
     "name": "stderr",
     "output_type": "stream",
     "text": [
      "Training: 100%|██████████| 269/269 [00:08<00:00, 33.08it/s]\n",
      "Evaluating: 100%|██████████| 68/68 [00:01<00:00, 57.09it/s]\n",
      "Training:   0%|          | 0/269 [00:00<?, ?it/s]"
     ]
    },
    {
     "name": "stdout",
     "output_type": "stream",
     "text": [
      "epoch 25, train loss: 0.217, valid rmspe: 0.210\n"
     ]
    },
    {
     "name": "stderr",
     "output_type": "stream",
     "text": [
      "Training: 100%|██████████| 269/269 [00:08<00:00, 32.86it/s]\n",
      "Evaluating: 100%|██████████| 68/68 [00:01<00:00, 56.78it/s]\n",
      "Training:   0%|          | 0/269 [00:00<?, ?it/s]"
     ]
    },
    {
     "name": "stdout",
     "output_type": "stream",
     "text": [
      "epoch 26, train loss: 0.213, valid rmspe: 0.215\n"
     ]
    },
    {
     "name": "stderr",
     "output_type": "stream",
     "text": [
      "Training: 100%|██████████| 269/269 [00:08<00:00, 33.31it/s]\n",
      "Evaluating: 100%|██████████| 68/68 [00:01<00:00, 55.45it/s]\n",
      "Training:   0%|          | 0/269 [00:00<?, ?it/s]"
     ]
    },
    {
     "name": "stdout",
     "output_type": "stream",
     "text": [
      "epoch 27, train loss: 0.214, valid rmspe: 0.209\n"
     ]
    },
    {
     "name": "stderr",
     "output_type": "stream",
     "text": [
      "Training: 100%|██████████| 269/269 [00:08<00:00, 32.37it/s]\n",
      "Evaluating: 100%|██████████| 68/68 [00:01<00:00, 56.73it/s]\n",
      "Training:   0%|          | 0/269 [00:00<?, ?it/s]"
     ]
    },
    {
     "name": "stdout",
     "output_type": "stream",
     "text": [
      "epoch 28, train loss: 0.222, valid rmspe: 0.209\n"
     ]
    },
    {
     "name": "stderr",
     "output_type": "stream",
     "text": [
      "Training: 100%|██████████| 269/269 [00:08<00:00, 32.72it/s]\n",
      "Evaluating: 100%|██████████| 68/68 [00:01<00:00, 58.94it/s]\n",
      "Training:   0%|          | 0/269 [00:00<?, ?it/s]"
     ]
    },
    {
     "name": "stdout",
     "output_type": "stream",
     "text": [
      "epoch 29, train loss: 0.214, valid rmspe: 0.228\n"
     ]
    },
    {
     "name": "stderr",
     "output_type": "stream",
     "text": [
      "Training: 100%|██████████| 269/269 [00:08<00:00, 33.49it/s]\n",
      "Evaluating: 100%|██████████| 68/68 [00:01<00:00, 57.15it/s]\n",
      "Training:   0%|          | 0/269 [00:00<?, ?it/s]"
     ]
    },
    {
     "name": "stdout",
     "output_type": "stream",
     "text": [
      "epoch 30, train loss: 0.217, valid rmspe: 0.207\n",
      "new best:0.20730145275592804\n"
     ]
    },
    {
     "name": "stderr",
     "output_type": "stream",
     "text": [
      "Training: 100%|██████████| 269/269 [00:08<00:00, 32.41it/s]\n",
      "Evaluating: 100%|██████████| 68/68 [00:01<00:00, 50.10it/s]\n",
      "Training:   0%|          | 0/269 [00:00<?, ?it/s]"
     ]
    },
    {
     "name": "stdout",
     "output_type": "stream",
     "text": [
      "epoch 31, train loss: 0.210, valid rmspe: 0.209\n"
     ]
    },
    {
     "name": "stderr",
     "output_type": "stream",
     "text": [
      "Training: 100%|██████████| 269/269 [00:08<00:00, 32.52it/s]\n",
      "Evaluating: 100%|██████████| 68/68 [00:01<00:00, 58.24it/s]\n",
      "Training:   0%|          | 0/269 [00:00<?, ?it/s]"
     ]
    },
    {
     "name": "stdout",
     "output_type": "stream",
     "text": [
      "epoch 32, train loss: 0.213, valid rmspe: 0.220\n"
     ]
    },
    {
     "name": "stderr",
     "output_type": "stream",
     "text": [
      "Training: 100%|██████████| 269/269 [00:08<00:00, 33.23it/s]\n",
      "Evaluating: 100%|██████████| 68/68 [00:01<00:00, 59.45it/s]\n",
      "Training:   0%|          | 0/269 [00:00<?, ?it/s]"
     ]
    },
    {
     "name": "stdout",
     "output_type": "stream",
     "text": [
      "epoch 33, train loss: 0.208, valid rmspe: 0.235\n"
     ]
    },
    {
     "name": "stderr",
     "output_type": "stream",
     "text": [
      "Training: 100%|██████████| 269/269 [00:08<00:00, 33.23it/s]\n",
      "Evaluating: 100%|██████████| 68/68 [00:01<00:00, 54.95it/s]\n",
      "Training:   0%|          | 0/269 [00:00<?, ?it/s]"
     ]
    },
    {
     "name": "stdout",
     "output_type": "stream",
     "text": [
      "epoch 34, train loss: 0.209, valid rmspe: 0.210\n"
     ]
    },
    {
     "name": "stderr",
     "output_type": "stream",
     "text": [
      "Training: 100%|██████████| 269/269 [00:08<00:00, 32.27it/s]\n",
      "Evaluating: 100%|██████████| 68/68 [00:01<00:00, 58.90it/s]\n",
      "Training:   0%|          | 0/269 [00:00<?, ?it/s]"
     ]
    },
    {
     "name": "stdout",
     "output_type": "stream",
     "text": [
      "epoch 35, train loss: 0.217, valid rmspe: 0.252\n"
     ]
    },
    {
     "name": "stderr",
     "output_type": "stream",
     "text": [
      "Training: 100%|██████████| 269/269 [00:08<00:00, 32.64it/s]\n",
      "Evaluating: 100%|██████████| 68/68 [00:01<00:00, 58.53it/s]\n",
      "Training:   0%|          | 0/269 [00:00<?, ?it/s]"
     ]
    },
    {
     "name": "stdout",
     "output_type": "stream",
     "text": [
      "epoch 36, train loss: 0.212, valid rmspe: 0.216\n"
     ]
    },
    {
     "name": "stderr",
     "output_type": "stream",
     "text": [
      "Training: 100%|██████████| 269/269 [00:08<00:00, 33.38it/s]\n",
      "Evaluating: 100%|██████████| 68/68 [00:01<00:00, 58.28it/s]\n",
      "Training:   0%|          | 0/269 [00:00<?, ?it/s]"
     ]
    },
    {
     "name": "stdout",
     "output_type": "stream",
     "text": [
      "epoch 37, train loss: 0.210, valid rmspe: 0.220\n"
     ]
    },
    {
     "name": "stderr",
     "output_type": "stream",
     "text": [
      "Training: 100%|██████████| 269/269 [00:08<00:00, 32.57it/s]\n",
      "Evaluating: 100%|██████████| 68/68 [00:01<00:00, 46.98it/s]\n",
      "Training:   0%|          | 0/269 [00:00<?, ?it/s]"
     ]
    },
    {
     "name": "stdout",
     "output_type": "stream",
     "text": [
      "epoch 38, train loss: 0.214, valid rmspe: 0.214\n"
     ]
    },
    {
     "name": "stderr",
     "output_type": "stream",
     "text": [
      "Training: 100%|██████████| 269/269 [00:08<00:00, 32.54it/s]\n",
      "Evaluating: 100%|██████████| 68/68 [00:01<00:00, 58.46it/s]\n",
      "Training:   0%|          | 0/269 [00:00<?, ?it/s]"
     ]
    },
    {
     "name": "stdout",
     "output_type": "stream",
     "text": [
      "epoch 39, train loss: 0.211, valid rmspe: 0.230\n",
      "Epoch    40: reducing learning rate of group 0 to 1.1400e-04.\n"
     ]
    },
    {
     "name": "stderr",
     "output_type": "stream",
     "text": [
      "Training: 100%|██████████| 269/269 [00:08<00:00, 33.02it/s]\n",
      "Evaluating: 100%|██████████| 68/68 [00:01<00:00, 57.84it/s]\n",
      "Training:   0%|          | 0/269 [00:00<?, ?it/s]"
     ]
    },
    {
     "name": "stdout",
     "output_type": "stream",
     "text": [
      "epoch 40, train loss: 0.199, valid rmspe: 0.208\n"
     ]
    },
    {
     "name": "stderr",
     "output_type": "stream",
     "text": [
      "Training: 100%|██████████| 269/269 [00:08<00:00, 33.29it/s]\n",
      "Evaluating: 100%|██████████| 68/68 [00:01<00:00, 55.85it/s]\n",
      "Training:   0%|          | 0/269 [00:00<?, ?it/s]"
     ]
    },
    {
     "name": "stdout",
     "output_type": "stream",
     "text": [
      "epoch 41, train loss: 0.194, valid rmspe: 0.205\n",
      "new best:0.2049465775489807\n"
     ]
    },
    {
     "name": "stderr",
     "output_type": "stream",
     "text": [
      "Training: 100%|██████████| 269/269 [00:08<00:00, 31.39it/s]\n",
      "Evaluating: 100%|██████████| 68/68 [00:01<00:00, 57.64it/s]\n",
      "Training:   0%|          | 0/269 [00:00<?, ?it/s]"
     ]
    },
    {
     "name": "stdout",
     "output_type": "stream",
     "text": [
      "epoch 42, train loss: 0.192, valid rmspe: 0.209\n"
     ]
    },
    {
     "name": "stderr",
     "output_type": "stream",
     "text": [
      "Training: 100%|██████████| 269/269 [00:08<00:00, 33.41it/s]\n",
      "Evaluating: 100%|██████████| 68/68 [00:01<00:00, 53.53it/s]\n",
      "Training:   0%|          | 0/269 [00:00<?, ?it/s]"
     ]
    },
    {
     "name": "stdout",
     "output_type": "stream",
     "text": [
      "epoch 43, train loss: 0.192, valid rmspe: 0.201\n",
      "new best:0.2010989636182785\n"
     ]
    },
    {
     "name": "stderr",
     "output_type": "stream",
     "text": [
      "Training: 100%|██████████| 269/269 [00:08<00:00, 33.14it/s]\n",
      "Evaluating: 100%|██████████| 68/68 [00:01<00:00, 55.17it/s]\n",
      "Training:   0%|          | 0/269 [00:00<?, ?it/s]"
     ]
    },
    {
     "name": "stdout",
     "output_type": "stream",
     "text": [
      "epoch 44, train loss: 0.190, valid rmspe: 0.202\n"
     ]
    },
    {
     "name": "stderr",
     "output_type": "stream",
     "text": [
      "Training: 100%|██████████| 269/269 [00:08<00:00, 32.24it/s]\n",
      "Evaluating: 100%|██████████| 68/68 [00:01<00:00, 39.64it/s]\n",
      "Training:   0%|          | 0/269 [00:00<?, ?it/s]"
     ]
    },
    {
     "name": "stdout",
     "output_type": "stream",
     "text": [
      "epoch 45, train loss: 0.188, valid rmspe: 0.205\n"
     ]
    },
    {
     "name": "stderr",
     "output_type": "stream",
     "text": [
      "Training: 100%|██████████| 269/269 [00:08<00:00, 31.80it/s]\n",
      "Evaluating: 100%|██████████| 68/68 [00:01<00:00, 54.93it/s]\n",
      "Training:   0%|          | 0/269 [00:00<?, ?it/s]"
     ]
    },
    {
     "name": "stdout",
     "output_type": "stream",
     "text": [
      "epoch 46, train loss: 0.185, valid rmspe: 0.223\n"
     ]
    },
    {
     "name": "stderr",
     "output_type": "stream",
     "text": [
      "Training: 100%|██████████| 269/269 [00:08<00:00, 32.80it/s]\n",
      "Evaluating: 100%|██████████| 68/68 [00:01<00:00, 53.49it/s]\n",
      "Training:   0%|          | 0/269 [00:00<?, ?it/s]"
     ]
    },
    {
     "name": "stdout",
     "output_type": "stream",
     "text": [
      "epoch 47, train loss: 0.188, valid rmspe: 0.200\n",
      "new best:0.20033249258995056\n"
     ]
    },
    {
     "name": "stderr",
     "output_type": "stream",
     "text": [
      "Training: 100%|██████████| 269/269 [00:08<00:00, 32.68it/s]\n",
      "Evaluating: 100%|██████████| 68/68 [00:01<00:00, 56.58it/s]\n",
      "Training:   0%|          | 0/269 [00:00<?, ?it/s]"
     ]
    },
    {
     "name": "stdout",
     "output_type": "stream",
     "text": [
      "epoch 48, train loss: 0.186, valid rmspe: 0.206\n"
     ]
    },
    {
     "name": "stderr",
     "output_type": "stream",
     "text": [
      "Training: 100%|██████████| 269/269 [00:08<00:00, 30.71it/s]\n",
      "Evaluating: 100%|██████████| 68/68 [00:01<00:00, 57.34it/s]\n",
      "Training:   0%|          | 0/269 [00:00<?, ?it/s]"
     ]
    },
    {
     "name": "stdout",
     "output_type": "stream",
     "text": [
      "epoch 49, train loss: 0.184, valid rmspe: 0.203\n",
      "fold 2 train: (343146, 100), valid: (85786, 100)\n"
     ]
    },
    {
     "name": "stderr",
     "output_type": "stream",
     "text": [
      "Training: 100%|██████████| 269/269 [00:08<00:00, 32.70it/s]\n",
      "Evaluating: 100%|██████████| 68/68 [00:01<00:00, 57.21it/s]\n",
      "Training:   0%|          | 0/269 [00:00<?, ?it/s]"
     ]
    },
    {
     "name": "stdout",
     "output_type": "stream",
     "text": [
      "epoch 0, train loss: 62.350, valid rmspe: 51.997\n",
      "new best:51.99661636352539\n"
     ]
    },
    {
     "name": "stderr",
     "output_type": "stream",
     "text": [
      "Training: 100%|██████████| 269/269 [00:08<00:00, 33.08it/s]\n",
      "Evaluating: 100%|██████████| 68/68 [00:01<00:00, 56.85it/s]\n",
      "Training:   0%|          | 0/269 [00:00<?, ?it/s]"
     ]
    },
    {
     "name": "stdout",
     "output_type": "stream",
     "text": [
      "epoch 1, train loss: 17.683, valid rmspe: 46.670\n",
      "new best:46.670021057128906\n"
     ]
    },
    {
     "name": "stderr",
     "output_type": "stream",
     "text": [
      "Training: 100%|██████████| 269/269 [00:08<00:00, 32.04it/s]\n",
      "Evaluating: 100%|██████████| 68/68 [00:01<00:00, 47.90it/s]\n",
      "Training:   0%|          | 0/269 [00:00<?, ?it/s]"
     ]
    },
    {
     "name": "stdout",
     "output_type": "stream",
     "text": [
      "epoch 2, train loss: 11.974, valid rmspe: 15.711\n",
      "new best:15.71083927154541\n"
     ]
    },
    {
     "name": "stderr",
     "output_type": "stream",
     "text": [
      "Training: 100%|██████████| 269/269 [00:08<00:00, 32.13it/s]\n",
      "Evaluating: 100%|██████████| 68/68 [00:01<00:00, 57.65it/s]\n",
      "Training:   0%|          | 0/269 [00:00<?, ?it/s]"
     ]
    },
    {
     "name": "stdout",
     "output_type": "stream",
     "text": [
      "epoch 3, train loss: 8.893, valid rmspe: 25.735\n"
     ]
    },
    {
     "name": "stderr",
     "output_type": "stream",
     "text": [
      "Training: 100%|██████████| 269/269 [00:08<00:00, 32.72it/s]\n",
      "Evaluating: 100%|██████████| 68/68 [00:01<00:00, 57.58it/s]\n",
      "Training:   0%|          | 0/269 [00:00<?, ?it/s]"
     ]
    },
    {
     "name": "stdout",
     "output_type": "stream",
     "text": [
      "epoch 4, train loss: 8.683, valid rmspe: 5.584\n",
      "new best:5.583968162536621\n"
     ]
    },
    {
     "name": "stderr",
     "output_type": "stream",
     "text": [
      "Training: 100%|██████████| 269/269 [00:08<00:00, 32.98it/s]\n",
      "Evaluating: 100%|██████████| 68/68 [00:01<00:00, 46.35it/s]\n",
      "Training:   0%|          | 0/269 [00:00<?, ?it/s]"
     ]
    },
    {
     "name": "stdout",
     "output_type": "stream",
     "text": [
      "epoch 5, train loss: 5.580, valid rmspe: 4.941\n",
      "new best:4.940836429595947\n"
     ]
    },
    {
     "name": "stderr",
     "output_type": "stream",
     "text": [
      "Training: 100%|██████████| 269/269 [00:08<00:00, 32.10it/s]\n",
      "Evaluating: 100%|██████████| 68/68 [00:01<00:00, 57.06it/s]\n",
      "Training:   0%|          | 0/269 [00:00<?, ?it/s]"
     ]
    },
    {
     "name": "stdout",
     "output_type": "stream",
     "text": [
      "epoch 6, train loss: 3.276, valid rmspe: 2.537\n",
      "new best:2.5365729331970215\n"
     ]
    },
    {
     "name": "stderr",
     "output_type": "stream",
     "text": [
      "Training: 100%|██████████| 269/269 [00:08<00:00, 33.33it/s]\n",
      "Evaluating: 100%|██████████| 68/68 [00:01<00:00, 58.31it/s]\n",
      "Training:   0%|          | 0/269 [00:00<?, ?it/s]"
     ]
    },
    {
     "name": "stdout",
     "output_type": "stream",
     "text": [
      "epoch 7, train loss: 3.340, valid rmspe: 7.291\n"
     ]
    },
    {
     "name": "stderr",
     "output_type": "stream",
     "text": [
      "Training: 100%|██████████| 269/269 [00:08<00:00, 33.33it/s]\n",
      "Evaluating: 100%|██████████| 68/68 [00:01<00:00, 58.85it/s]\n",
      "Training:   0%|          | 0/269 [00:00<?, ?it/s]"
     ]
    },
    {
     "name": "stdout",
     "output_type": "stream",
     "text": [
      "epoch 8, train loss: 2.743, valid rmspe: 2.688\n"
     ]
    },
    {
     "name": "stderr",
     "output_type": "stream",
     "text": [
      "Training: 100%|██████████| 269/269 [00:08<00:00, 32.64it/s]\n",
      "Evaluating: 100%|██████████| 68/68 [00:01<00:00, 52.34it/s]\n",
      "Training:   0%|          | 0/269 [00:00<?, ?it/s]"
     ]
    },
    {
     "name": "stdout",
     "output_type": "stream",
     "text": [
      "epoch 9, train loss: 1.953, valid rmspe: 1.662\n",
      "new best:1.6618080139160156\n"
     ]
    },
    {
     "name": "stderr",
     "output_type": "stream",
     "text": [
      "Training: 100%|██████████| 269/269 [00:08<00:00, 32.40it/s]\n",
      "Evaluating: 100%|██████████| 68/68 [00:01<00:00, 58.24it/s]\n",
      "Training:   0%|          | 0/269 [00:00<?, ?it/s]"
     ]
    },
    {
     "name": "stdout",
     "output_type": "stream",
     "text": [
      "epoch 10, train loss: 0.745, valid rmspe: 0.632\n",
      "new best:0.6324846148490906\n"
     ]
    },
    {
     "name": "stderr",
     "output_type": "stream",
     "text": [
      "Training: 100%|██████████| 269/269 [00:08<00:00, 33.32it/s]\n",
      "Evaluating: 100%|██████████| 68/68 [00:01<00:00, 57.52it/s]\n",
      "Training:   0%|          | 0/269 [00:00<?, ?it/s]"
     ]
    },
    {
     "name": "stdout",
     "output_type": "stream",
     "text": [
      "epoch 11, train loss: 0.458, valid rmspe: 0.381\n",
      "new best:0.380692720413208\n"
     ]
    },
    {
     "name": "stderr",
     "output_type": "stream",
     "text": [
      "Training: 100%|██████████| 269/269 [00:08<00:00, 32.62it/s]\n",
      "Evaluating: 100%|██████████| 68/68 [00:01<00:00, 57.79it/s]\n",
      "Training:   0%|          | 0/269 [00:00<?, ?it/s]"
     ]
    },
    {
     "name": "stdout",
     "output_type": "stream",
     "text": [
      "epoch 12, train loss: 0.313, valid rmspe: 0.336\n",
      "new best:0.336494117975235\n"
     ]
    },
    {
     "name": "stderr",
     "output_type": "stream",
     "text": [
      "Training: 100%|██████████| 269/269 [00:08<00:00, 31.98it/s]\n",
      "Evaluating: 100%|██████████| 68/68 [00:01<00:00, 49.28it/s]\n",
      "Training:   0%|          | 0/269 [00:00<?, ?it/s]"
     ]
    },
    {
     "name": "stdout",
     "output_type": "stream",
     "text": [
      "epoch 13, train loss: 0.256, valid rmspe: 0.305\n",
      "new best:0.304878294467926\n"
     ]
    },
    {
     "name": "stderr",
     "output_type": "stream",
     "text": [
      "Training: 100%|██████████| 269/269 [00:08<00:00, 33.38it/s]\n",
      "Evaluating: 100%|██████████| 68/68 [00:01<00:00, 57.76it/s]\n",
      "Training:   0%|          | 0/269 [00:00<?, ?it/s]"
     ]
    },
    {
     "name": "stdout",
     "output_type": "stream",
     "text": [
      "epoch 14, train loss: 0.240, valid rmspe: 0.247\n",
      "new best:0.24653570353984833\n"
     ]
    },
    {
     "name": "stderr",
     "output_type": "stream",
     "text": [
      "Training: 100%|██████████| 269/269 [00:08<00:00, 32.92it/s]\n",
      "Evaluating: 100%|██████████| 68/68 [00:01<00:00, 50.13it/s]\n",
      "Training:   0%|          | 0/269 [00:00<?, ?it/s]"
     ]
    },
    {
     "name": "stdout",
     "output_type": "stream",
     "text": [
      "epoch 15, train loss: 0.231, valid rmspe: 0.232\n",
      "new best:0.23197360336780548\n"
     ]
    },
    {
     "name": "stderr",
     "output_type": "stream",
     "text": [
      "Training: 100%|██████████| 269/269 [00:08<00:00, 33.48it/s]\n",
      "Evaluating: 100%|██████████| 68/68 [00:01<00:00, 55.57it/s]\n",
      "Training:   0%|          | 0/269 [00:00<?, ?it/s]"
     ]
    },
    {
     "name": "stdout",
     "output_type": "stream",
     "text": [
      "epoch 16, train loss: 0.231, valid rmspe: 0.258\n"
     ]
    },
    {
     "name": "stderr",
     "output_type": "stream",
     "text": [
      "Training: 100%|██████████| 269/269 [00:08<00:00, 32.26it/s]\n",
      "Evaluating: 100%|██████████| 68/68 [00:01<00:00, 56.31it/s]\n",
      "Training:   0%|          | 0/269 [00:00<?, ?it/s]"
     ]
    },
    {
     "name": "stdout",
     "output_type": "stream",
     "text": [
      "epoch 17, train loss: 0.225, valid rmspe: 0.305\n"
     ]
    },
    {
     "name": "stderr",
     "output_type": "stream",
     "text": [
      "Training: 100%|██████████| 269/269 [00:08<00:00, 33.43it/s]\n",
      "Evaluating: 100%|██████████| 68/68 [00:01<00:00, 58.77it/s]\n",
      "Training:   0%|          | 0/269 [00:00<?, ?it/s]"
     ]
    },
    {
     "name": "stdout",
     "output_type": "stream",
     "text": [
      "epoch 18, train loss: 0.222, valid rmspe: 0.235\n"
     ]
    },
    {
     "name": "stderr",
     "output_type": "stream",
     "text": [
      "Training: 100%|██████████| 269/269 [00:08<00:00, 32.71it/s]\n",
      "Evaluating: 100%|██████████| 68/68 [00:01<00:00, 59.17it/s]\n",
      "Training:   0%|          | 0/269 [00:00<?, ?it/s]"
     ]
    },
    {
     "name": "stdout",
     "output_type": "stream",
     "text": [
      "epoch 19, train loss: 0.221, valid rmspe: 0.234\n"
     ]
    },
    {
     "name": "stderr",
     "output_type": "stream",
     "text": [
      "Training: 100%|██████████| 269/269 [00:08<00:00, 32.05it/s]\n",
      "Evaluating: 100%|██████████| 68/68 [00:01<00:00, 45.43it/s]\n",
      "Training:   0%|          | 0/269 [00:00<?, ?it/s]"
     ]
    },
    {
     "name": "stdout",
     "output_type": "stream",
     "text": [
      "epoch 20, train loss: 0.218, valid rmspe: 0.240\n"
     ]
    },
    {
     "name": "stderr",
     "output_type": "stream",
     "text": [
      "Training: 100%|██████████| 269/269 [00:08<00:00, 31.10it/s]\n",
      "Evaluating: 100%|██████████| 68/68 [00:01<00:00, 56.06it/s]\n",
      "Training:   0%|          | 0/269 [00:00<?, ?it/s]"
     ]
    },
    {
     "name": "stdout",
     "output_type": "stream",
     "text": [
      "epoch 21, train loss: 0.236, valid rmspe: 0.234\n"
     ]
    },
    {
     "name": "stderr",
     "output_type": "stream",
     "text": [
      "Training: 100%|██████████| 269/269 [00:08<00:00, 31.96it/s]\n",
      "Evaluating: 100%|██████████| 68/68 [00:01<00:00, 55.78it/s]\n",
      "Training:   0%|          | 0/269 [00:00<?, ?it/s]"
     ]
    },
    {
     "name": "stdout",
     "output_type": "stream",
     "text": [
      "epoch 22, train loss: 0.220, valid rmspe: 0.231\n",
      "new best:0.23138292133808136\n"
     ]
    },
    {
     "name": "stderr",
     "output_type": "stream",
     "text": [
      "Training: 100%|██████████| 269/269 [00:08<00:00, 32.77it/s]\n",
      "Evaluating: 100%|██████████| 68/68 [00:01<00:00, 57.32it/s]\n",
      "Training:   0%|          | 0/269 [00:00<?, ?it/s]"
     ]
    },
    {
     "name": "stdout",
     "output_type": "stream",
     "text": [
      "epoch 23, train loss: 0.221, valid rmspe: 0.215\n",
      "new best:0.21489346027374268\n"
     ]
    },
    {
     "name": "stderr",
     "output_type": "stream",
     "text": [
      "Training: 100%|██████████| 269/269 [00:08<00:00, 31.38it/s]\n",
      "Evaluating: 100%|██████████| 68/68 [00:01<00:00, 56.56it/s]\n",
      "Training:   0%|          | 0/269 [00:00<?, ?it/s]"
     ]
    },
    {
     "name": "stdout",
     "output_type": "stream",
     "text": [
      "epoch 24, train loss: 0.221, valid rmspe: 0.223\n"
     ]
    },
    {
     "name": "stderr",
     "output_type": "stream",
     "text": [
      "Training: 100%|██████████| 269/269 [00:08<00:00, 32.06it/s]\n",
      "Evaluating: 100%|██████████| 68/68 [00:01<00:00, 57.60it/s]\n",
      "Training:   0%|          | 0/269 [00:00<?, ?it/s]"
     ]
    },
    {
     "name": "stdout",
     "output_type": "stream",
     "text": [
      "epoch 25, train loss: 0.217, valid rmspe: 0.233\n"
     ]
    },
    {
     "name": "stderr",
     "output_type": "stream",
     "text": [
      "Training: 100%|██████████| 269/269 [00:08<00:00, 32.53it/s]\n",
      "Evaluating: 100%|██████████| 68/68 [00:01<00:00, 55.09it/s]\n",
      "Training:   0%|          | 0/269 [00:00<?, ?it/s]"
     ]
    },
    {
     "name": "stdout",
     "output_type": "stream",
     "text": [
      "epoch 26, train loss: 0.215, valid rmspe: 0.226\n"
     ]
    },
    {
     "name": "stderr",
     "output_type": "stream",
     "text": [
      "Training: 100%|██████████| 269/269 [00:08<00:00, 32.59it/s]\n",
      "Evaluating: 100%|██████████| 68/68 [00:01<00:00, 52.31it/s]\n",
      "Training:   0%|          | 0/269 [00:00<?, ?it/s]"
     ]
    },
    {
     "name": "stdout",
     "output_type": "stream",
     "text": [
      "epoch 27, train loss: 0.212, valid rmspe: 0.228\n"
     ]
    },
    {
     "name": "stderr",
     "output_type": "stream",
     "text": [
      "Training: 100%|██████████| 269/269 [00:08<00:00, 31.06it/s]\n",
      "Evaluating: 100%|██████████| 68/68 [00:01<00:00, 46.45it/s]\n",
      "Training:   0%|          | 0/269 [00:00<?, ?it/s]"
     ]
    },
    {
     "name": "stdout",
     "output_type": "stream",
     "text": [
      "epoch 28, train loss: 0.210, valid rmspe: 0.255\n"
     ]
    },
    {
     "name": "stderr",
     "output_type": "stream",
     "text": [
      "Training: 100%|██████████| 269/269 [00:08<00:00, 32.35it/s]\n",
      "Evaluating: 100%|██████████| 68/68 [00:01<00:00, 55.34it/s]\n",
      "Training:   0%|          | 0/269 [00:00<?, ?it/s]"
     ]
    },
    {
     "name": "stdout",
     "output_type": "stream",
     "text": [
      "epoch 29, train loss: 0.210, valid rmspe: 0.229\n"
     ]
    },
    {
     "name": "stderr",
     "output_type": "stream",
     "text": [
      "Training: 100%|██████████| 269/269 [00:08<00:00, 32.59it/s]\n",
      "Evaluating: 100%|██████████| 68/68 [00:01<00:00, 53.17it/s]\n",
      "Training:   0%|          | 0/269 [00:00<?, ?it/s]"
     ]
    },
    {
     "name": "stdout",
     "output_type": "stream",
     "text": [
      "epoch 30, train loss: 0.213, valid rmspe: 0.257\n"
     ]
    },
    {
     "name": "stderr",
     "output_type": "stream",
     "text": [
      "Training: 100%|██████████| 269/269 [00:08<00:00, 30.44it/s]\n",
      "Evaluating: 100%|██████████| 68/68 [00:01<00:00, 44.76it/s]\n",
      "Training:   0%|          | 0/269 [00:00<?, ?it/s]"
     ]
    },
    {
     "name": "stdout",
     "output_type": "stream",
     "text": [
      "epoch 31, train loss: 0.215, valid rmspe: 0.225\n"
     ]
    },
    {
     "name": "stderr",
     "output_type": "stream",
     "text": [
      "Training: 100%|██████████| 269/269 [00:08<00:00, 31.76it/s]\n",
      "Evaluating: 100%|██████████| 68/68 [00:01<00:00, 56.35it/s]\n",
      "Training:   0%|          | 0/269 [00:00<?, ?it/s]"
     ]
    },
    {
     "name": "stdout",
     "output_type": "stream",
     "text": [
      "epoch 32, train loss: 0.211, valid rmspe: 0.233\n",
      "Epoch    33: reducing learning rate of group 0 to 1.1400e-04.\n"
     ]
    },
    {
     "name": "stderr",
     "output_type": "stream",
     "text": [
      "Training: 100%|██████████| 269/269 [00:08<00:00, 32.61it/s]\n",
      "Evaluating: 100%|██████████| 68/68 [00:01<00:00, 56.89it/s]\n",
      "Training:   0%|          | 0/269 [00:00<?, ?it/s]"
     ]
    },
    {
     "name": "stdout",
     "output_type": "stream",
     "text": [
      "epoch 33, train loss: 0.202, valid rmspe: 0.221\n"
     ]
    },
    {
     "name": "stderr",
     "output_type": "stream",
     "text": [
      "Training: 100%|██████████| 269/269 [00:08<00:00, 32.28it/s]\n",
      "Evaluating: 100%|██████████| 68/68 [00:01<00:00, 54.36it/s]\n",
      "Training:   0%|          | 0/269 [00:00<?, ?it/s]"
     ]
    },
    {
     "name": "stdout",
     "output_type": "stream",
     "text": [
      "epoch 34, train loss: 0.199, valid rmspe: 0.219\n"
     ]
    },
    {
     "name": "stderr",
     "output_type": "stream",
     "text": [
      "Training: 100%|██████████| 269/269 [00:09<00:00, 29.67it/s]\n",
      "Evaluating: 100%|██████████| 68/68 [00:01<00:00, 54.92it/s]\n",
      "Training:   0%|          | 0/269 [00:00<?, ?it/s]"
     ]
    },
    {
     "name": "stdout",
     "output_type": "stream",
     "text": [
      "epoch 35, train loss: 0.197, valid rmspe: 0.222\n"
     ]
    },
    {
     "name": "stderr",
     "output_type": "stream",
     "text": [
      "Training: 100%|██████████| 269/269 [00:08<00:00, 32.19it/s]\n",
      "Evaluating: 100%|██████████| 68/68 [00:01<00:00, 53.84it/s]\n",
      "Training:   0%|          | 0/269 [00:00<?, ?it/s]"
     ]
    },
    {
     "name": "stdout",
     "output_type": "stream",
     "text": [
      "epoch 36, train loss: 0.195, valid rmspe: 0.216\n"
     ]
    },
    {
     "name": "stderr",
     "output_type": "stream",
     "text": [
      "Training: 100%|██████████| 269/269 [00:08<00:00, 31.79it/s]\n",
      "Evaluating: 100%|██████████| 68/68 [00:01<00:00, 53.81it/s]\n",
      "Training:   0%|          | 0/269 [00:00<?, ?it/s]"
     ]
    },
    {
     "name": "stdout",
     "output_type": "stream",
     "text": [
      "epoch 37, train loss: 0.195, valid rmspe: 0.219\n"
     ]
    },
    {
     "name": "stderr",
     "output_type": "stream",
     "text": [
      "Training: 100%|██████████| 269/269 [00:08<00:00, 31.05it/s]\n",
      "Evaluating: 100%|██████████| 68/68 [00:01<00:00, 44.00it/s]\n",
      "Training:   0%|          | 0/269 [00:00<?, ?it/s]"
     ]
    },
    {
     "name": "stdout",
     "output_type": "stream",
     "text": [
      "epoch 38, train loss: 0.193, valid rmspe: 0.217\n"
     ]
    },
    {
     "name": "stderr",
     "output_type": "stream",
     "text": [
      "Training: 100%|██████████| 269/269 [00:08<00:00, 31.02it/s]\n",
      "Evaluating: 100%|██████████| 68/68 [00:01<00:00, 55.41it/s]\n",
      "Training:   0%|          | 0/269 [00:00<?, ?it/s]"
     ]
    },
    {
     "name": "stdout",
     "output_type": "stream",
     "text": [
      "epoch 39, train loss: 0.191, valid rmspe: 0.221\n"
     ]
    },
    {
     "name": "stderr",
     "output_type": "stream",
     "text": [
      "Training: 100%|██████████| 269/269 [00:08<00:00, 32.07it/s]\n",
      "Evaluating: 100%|██████████| 68/68 [00:01<00:00, 54.25it/s]\n",
      "Training:   0%|          | 0/269 [00:00<?, ?it/s]"
     ]
    },
    {
     "name": "stdout",
     "output_type": "stream",
     "text": [
      "epoch 40, train loss: 0.191, valid rmspe: 0.217\n"
     ]
    },
    {
     "name": "stderr",
     "output_type": "stream",
     "text": [
      "Training: 100%|██████████| 269/269 [00:08<00:00, 32.28it/s]\n",
      "Evaluating: 100%|██████████| 68/68 [00:01<00:00, 50.18it/s]\n",
      "Training:   0%|          | 0/269 [00:00<?, ?it/s]"
     ]
    },
    {
     "name": "stdout",
     "output_type": "stream",
     "text": [
      "epoch 41, train loss: 0.190, valid rmspe: 0.223\n",
      "Epoch    42: reducing learning rate of group 0 to 3.4200e-05.\n"
     ]
    },
    {
     "name": "stderr",
     "output_type": "stream",
     "text": [
      "Training: 100%|██████████| 269/269 [00:08<00:00, 30.92it/s]\n",
      "Evaluating: 100%|██████████| 68/68 [00:01<00:00, 56.73it/s]\n",
      "Training:   0%|          | 0/269 [00:00<?, ?it/s]"
     ]
    },
    {
     "name": "stdout",
     "output_type": "stream",
     "text": [
      "epoch 42, train loss: 0.184, valid rmspe: 0.213\n",
      "new best:0.21314366161823273\n"
     ]
    },
    {
     "name": "stderr",
     "output_type": "stream",
     "text": [
      "Training: 100%|██████████| 269/269 [00:08<00:00, 32.87it/s]\n",
      "Evaluating: 100%|██████████| 68/68 [00:01<00:00, 57.13it/s]\n",
      "Training:   0%|          | 0/269 [00:00<?, ?it/s]"
     ]
    },
    {
     "name": "stdout",
     "output_type": "stream",
     "text": [
      "epoch 43, train loss: 0.183, valid rmspe: 0.218\n"
     ]
    },
    {
     "name": "stderr",
     "output_type": "stream",
     "text": [
      "Training: 100%|██████████| 269/269 [00:08<00:00, 33.06it/s]\n",
      "Evaluating: 100%|██████████| 68/68 [00:01<00:00, 57.89it/s]\n",
      "Training:   0%|          | 0/269 [00:00<?, ?it/s]"
     ]
    },
    {
     "name": "stdout",
     "output_type": "stream",
     "text": [
      "epoch 44, train loss: 0.182, valid rmspe: 0.221\n"
     ]
    },
    {
     "name": "stderr",
     "output_type": "stream",
     "text": [
      "Training: 100%|██████████| 269/269 [00:08<00:00, 32.31it/s]\n",
      "Evaluating: 100%|██████████| 68/68 [00:01<00:00, 56.49it/s]\n",
      "Training:   0%|          | 0/269 [00:00<?, ?it/s]"
     ]
    },
    {
     "name": "stdout",
     "output_type": "stream",
     "text": [
      "epoch 45, train loss: 0.181, valid rmspe: 0.222\n"
     ]
    },
    {
     "name": "stderr",
     "output_type": "stream",
     "text": [
      "Training: 100%|██████████| 269/269 [00:08<00:00, 31.37it/s]\n",
      "Evaluating: 100%|██████████| 68/68 [00:01<00:00, 55.77it/s]\n",
      "Training:   0%|          | 0/269 [00:00<?, ?it/s]"
     ]
    },
    {
     "name": "stdout",
     "output_type": "stream",
     "text": [
      "epoch 46, train loss: 0.180, valid rmspe: 0.219\n"
     ]
    },
    {
     "name": "stderr",
     "output_type": "stream",
     "text": [
      "Training: 100%|██████████| 269/269 [00:08<00:00, 32.87it/s]\n",
      "Evaluating: 100%|██████████| 68/68 [00:01<00:00, 55.60it/s]\n",
      "Training:   0%|          | 0/269 [00:00<?, ?it/s]"
     ]
    },
    {
     "name": "stdout",
     "output_type": "stream",
     "text": [
      "epoch 47, train loss: 0.180, valid rmspe: 0.219\n"
     ]
    },
    {
     "name": "stderr",
     "output_type": "stream",
     "text": [
      "Training: 100%|██████████| 269/269 [00:08<00:00, 32.11it/s]\n",
      "Evaluating: 100%|██████████| 68/68 [00:01<00:00, 54.92it/s]\n",
      "Training:   0%|          | 0/269 [00:00<?, ?it/s]"
     ]
    },
    {
     "name": "stdout",
     "output_type": "stream",
     "text": [
      "epoch 48, train loss: 0.178, valid rmspe: 0.229\n"
     ]
    },
    {
     "name": "stderr",
     "output_type": "stream",
     "text": [
      "Training: 100%|██████████| 269/269 [00:08<00:00, 31.96it/s]\n",
      "Evaluating: 100%|██████████| 68/68 [00:01<00:00, 45.42it/s]\n"
     ]
    },
    {
     "name": "stdout",
     "output_type": "stream",
     "text": [
      "epoch 49, train loss: 0.178, valid rmspe: 0.228\n"
     ]
    },
    {
     "name": "stderr",
     "output_type": "stream",
     "text": [
      "Training:   0%|          | 0/269 [00:00<?, ?it/s]"
     ]
    },
    {
     "name": "stdout",
     "output_type": "stream",
     "text": [
      "fold 3 train: (343146, 100), valid: (85786, 100)\n"
     ]
    },
    {
     "name": "stderr",
     "output_type": "stream",
     "text": [
      "Training: 100%|██████████| 269/269 [00:08<00:00, 32.20it/s]\n",
      "Evaluating: 100%|██████████| 68/68 [00:01<00:00, 54.55it/s]\n",
      "Training:   0%|          | 0/269 [00:00<?, ?it/s]"
     ]
    },
    {
     "name": "stdout",
     "output_type": "stream",
     "text": [
      "epoch 0, train loss: 64.792, valid rmspe: 27.260\n",
      "new best:27.260080337524414\n"
     ]
    },
    {
     "name": "stderr",
     "output_type": "stream",
     "text": [
      "Training: 100%|██████████| 269/269 [00:08<00:00, 31.87it/s]\n",
      "Evaluating: 100%|██████████| 68/68 [00:01<00:00, 52.49it/s]\n",
      "Training:   0%|          | 0/269 [00:00<?, ?it/s]"
     ]
    },
    {
     "name": "stdout",
     "output_type": "stream",
     "text": [
      "epoch 1, train loss: 16.855, valid rmspe: 17.200\n",
      "new best:17.199552536010742\n"
     ]
    },
    {
     "name": "stderr",
     "output_type": "stream",
     "text": [
      "Training: 100%|██████████| 269/269 [00:08<00:00, 32.74it/s]\n",
      "Evaluating: 100%|██████████| 68/68 [00:01<00:00, 56.94it/s]\n",
      "Training:   0%|          | 0/269 [00:00<?, ?it/s]"
     ]
    },
    {
     "name": "stdout",
     "output_type": "stream",
     "text": [
      "epoch 2, train loss: 10.589, valid rmspe: 16.529\n",
      "new best:16.52877426147461\n"
     ]
    },
    {
     "name": "stderr",
     "output_type": "stream",
     "text": [
      "Training: 100%|██████████| 269/269 [00:08<00:00, 30.80it/s]\n",
      "Evaluating: 100%|██████████| 68/68 [00:01<00:00, 57.51it/s]\n",
      "Training:   0%|          | 0/269 [00:00<?, ?it/s]"
     ]
    },
    {
     "name": "stdout",
     "output_type": "stream",
     "text": [
      "epoch 3, train loss: 10.201, valid rmspe: 15.822\n",
      "new best:15.821653366088867\n"
     ]
    },
    {
     "name": "stderr",
     "output_type": "stream",
     "text": [
      "Training: 100%|██████████| 269/269 [00:08<00:00, 31.86it/s]\n",
      "Evaluating: 100%|██████████| 68/68 [00:01<00:00, 49.06it/s]\n",
      "Training:   0%|          | 0/269 [00:00<?, ?it/s]"
     ]
    },
    {
     "name": "stdout",
     "output_type": "stream",
     "text": [
      "epoch 4, train loss: 7.245, valid rmspe: 7.917\n",
      "new best:7.916903018951416\n"
     ]
    },
    {
     "name": "stderr",
     "output_type": "stream",
     "text": [
      "Training: 100%|██████████| 269/269 [00:08<00:00, 32.40it/s]\n",
      "Evaluating: 100%|██████████| 68/68 [00:01<00:00, 57.05it/s]\n",
      "Training:   0%|          | 0/269 [00:00<?, ?it/s]"
     ]
    },
    {
     "name": "stdout",
     "output_type": "stream",
     "text": [
      "epoch 5, train loss: 6.813, valid rmspe: 3.954\n",
      "new best:3.953911066055298\n"
     ]
    },
    {
     "name": "stderr",
     "output_type": "stream",
     "text": [
      "Training: 100%|██████████| 269/269 [00:08<00:00, 32.77it/s]\n",
      "Evaluating: 100%|██████████| 68/68 [00:01<00:00, 55.03it/s]\n",
      "Training:   0%|          | 0/269 [00:00<?, ?it/s]"
     ]
    },
    {
     "name": "stdout",
     "output_type": "stream",
     "text": [
      "epoch 6, train loss: 4.914, valid rmspe: 3.415\n",
      "new best:3.415496587753296\n"
     ]
    },
    {
     "name": "stderr",
     "output_type": "stream",
     "text": [
      "Training: 100%|██████████| 269/269 [00:08<00:00, 30.67it/s]\n",
      "Evaluating: 100%|██████████| 68/68 [00:01<00:00, 57.52it/s]\n",
      "Training:   0%|          | 0/269 [00:00<?, ?it/s]"
     ]
    },
    {
     "name": "stdout",
     "output_type": "stream",
     "text": [
      "epoch 7, train loss: 3.395, valid rmspe: 1.772\n",
      "new best:1.7722396850585938\n"
     ]
    },
    {
     "name": "stderr",
     "output_type": "stream",
     "text": [
      "Training: 100%|██████████| 269/269 [00:08<00:00, 32.22it/s]\n",
      "Evaluating: 100%|██████████| 68/68 [00:01<00:00, 57.31it/s]\n",
      "Training:   0%|          | 0/269 [00:00<?, ?it/s]"
     ]
    },
    {
     "name": "stdout",
     "output_type": "stream",
     "text": [
      "epoch 8, train loss: 2.261, valid rmspe: 2.378\n"
     ]
    },
    {
     "name": "stderr",
     "output_type": "stream",
     "text": [
      "Training: 100%|██████████| 269/269 [00:08<00:00, 33.08it/s]\n",
      "Evaluating: 100%|██████████| 68/68 [00:01<00:00, 58.07it/s]\n",
      "Training:   0%|          | 0/269 [00:00<?, ?it/s]"
     ]
    },
    {
     "name": "stdout",
     "output_type": "stream",
     "text": [
      "epoch 9, train loss: 2.141, valid rmspe: 3.395\n"
     ]
    },
    {
     "name": "stderr",
     "output_type": "stream",
     "text": [
      "Training: 100%|██████████| 269/269 [00:08<00:00, 32.77it/s]\n",
      "Evaluating: 100%|██████████| 68/68 [00:01<00:00, 46.30it/s]\n",
      "Training:   0%|          | 0/269 [00:00<?, ?it/s]"
     ]
    },
    {
     "name": "stdout",
     "output_type": "stream",
     "text": [
      "epoch 10, train loss: 2.036, valid rmspe: 2.765\n"
     ]
    },
    {
     "name": "stderr",
     "output_type": "stream",
     "text": [
      "Training: 100%|██████████| 269/269 [00:08<00:00, 31.34it/s]\n",
      "Evaluating: 100%|██████████| 68/68 [00:01<00:00, 58.10it/s]\n",
      "Training:   0%|          | 0/269 [00:00<?, ?it/s]"
     ]
    },
    {
     "name": "stdout",
     "output_type": "stream",
     "text": [
      "epoch 11, train loss: 1.451, valid rmspe: 1.860\n"
     ]
    },
    {
     "name": "stderr",
     "output_type": "stream",
     "text": [
      "Training: 100%|██████████| 269/269 [00:08<00:00, 33.20it/s]\n",
      "Evaluating: 100%|██████████| 68/68 [00:01<00:00, 57.25it/s]\n",
      "Training:   0%|          | 0/269 [00:00<?, ?it/s]"
     ]
    },
    {
     "name": "stdout",
     "output_type": "stream",
     "text": [
      "epoch 12, train loss: 0.938, valid rmspe: 0.330\n",
      "new best:0.3299013674259186\n"
     ]
    },
    {
     "name": "stderr",
     "output_type": "stream",
     "text": [
      "Training: 100%|██████████| 269/269 [00:08<00:00, 33.30it/s]\n",
      "Evaluating: 100%|██████████| 68/68 [00:01<00:00, 57.56it/s]\n",
      "Training:   0%|          | 0/269 [00:00<?, ?it/s]"
     ]
    },
    {
     "name": "stdout",
     "output_type": "stream",
     "text": [
      "epoch 13, train loss: 0.670, valid rmspe: 0.494\n"
     ]
    },
    {
     "name": "stderr",
     "output_type": "stream",
     "text": [
      "Training: 100%|██████████| 269/269 [00:08<00:00, 30.48it/s]\n",
      "Evaluating: 100%|██████████| 68/68 [00:01<00:00, 46.48it/s]\n",
      "Training:   0%|          | 0/269 [00:00<?, ?it/s]"
     ]
    },
    {
     "name": "stdout",
     "output_type": "stream",
     "text": [
      "epoch 14, train loss: 0.571, valid rmspe: 0.462\n"
     ]
    },
    {
     "name": "stderr",
     "output_type": "stream",
     "text": [
      "Training: 100%|██████████| 269/269 [00:08<00:00, 32.00it/s]\n",
      "Evaluating: 100%|██████████| 68/68 [00:01<00:00, 55.39it/s]\n",
      "Training:   0%|          | 0/269 [00:00<?, ?it/s]"
     ]
    },
    {
     "name": "stdout",
     "output_type": "stream",
     "text": [
      "epoch 15, train loss: 0.576, valid rmspe: 0.592\n"
     ]
    },
    {
     "name": "stderr",
     "output_type": "stream",
     "text": [
      "Training: 100%|██████████| 269/269 [00:08<00:00, 33.10it/s]\n",
      "Evaluating: 100%|██████████| 68/68 [00:01<00:00, 55.96it/s]\n",
      "Training:   0%|          | 0/269 [00:00<?, ?it/s]"
     ]
    },
    {
     "name": "stdout",
     "output_type": "stream",
     "text": [
      "epoch 16, train loss: 0.599, valid rmspe: 0.913\n"
     ]
    },
    {
     "name": "stderr",
     "output_type": "stream",
     "text": [
      "Training: 100%|██████████| 269/269 [00:08<00:00, 32.92it/s]\n",
      "Evaluating: 100%|██████████| 68/68 [00:01<00:00, 52.25it/s]\n",
      "Training:   0%|          | 0/269 [00:00<?, ?it/s]"
     ]
    },
    {
     "name": "stdout",
     "output_type": "stream",
     "text": [
      "epoch 17, train loss: 0.446, valid rmspe: 0.909\n"
     ]
    },
    {
     "name": "stderr",
     "output_type": "stream",
     "text": [
      "Training: 100%|██████████| 269/269 [00:08<00:00, 30.30it/s]\n",
      "Evaluating: 100%|██████████| 68/68 [00:01<00:00, 54.88it/s]\n",
      "Training:   0%|          | 0/269 [00:00<?, ?it/s]"
     ]
    },
    {
     "name": "stdout",
     "output_type": "stream",
     "text": [
      "epoch 18, train loss: 0.502, valid rmspe: 0.261\n",
      "new best:0.2610951066017151\n"
     ]
    },
    {
     "name": "stderr",
     "output_type": "stream",
     "text": [
      "Training: 100%|██████████| 269/269 [00:08<00:00, 33.05it/s]\n",
      "Evaluating: 100%|██████████| 68/68 [00:01<00:00, 57.70it/s]\n",
      "Training:   0%|          | 0/269 [00:00<?, ?it/s]"
     ]
    },
    {
     "name": "stdout",
     "output_type": "stream",
     "text": [
      "epoch 19, train loss: 0.399, valid rmspe: 0.307\n"
     ]
    },
    {
     "name": "stderr",
     "output_type": "stream",
     "text": [
      "Training: 100%|██████████| 269/269 [00:08<00:00, 33.01it/s]\n",
      "Evaluating: 100%|██████████| 68/68 [00:01<00:00, 57.91it/s]\n",
      "Training:   0%|          | 0/269 [00:00<?, ?it/s]"
     ]
    },
    {
     "name": "stdout",
     "output_type": "stream",
     "text": [
      "epoch 20, train loss: 0.443, valid rmspe: 0.333\n"
     ]
    },
    {
     "name": "stderr",
     "output_type": "stream",
     "text": [
      "Training: 100%|██████████| 269/269 [00:08<00:00, 32.46it/s]\n",
      "Evaluating: 100%|██████████| 68/68 [00:01<00:00, 57.05it/s]\n",
      "Training:   0%|          | 0/269 [00:00<?, ?it/s]"
     ]
    },
    {
     "name": "stdout",
     "output_type": "stream",
     "text": [
      "epoch 21, train loss: 0.420, valid rmspe: 0.341\n"
     ]
    },
    {
     "name": "stderr",
     "output_type": "stream",
     "text": [
      "Training: 100%|██████████| 269/269 [00:08<00:00, 30.61it/s]\n",
      "Evaluating: 100%|██████████| 68/68 [00:01<00:00, 56.45it/s]\n",
      "Training:   0%|          | 0/269 [00:00<?, ?it/s]"
     ]
    },
    {
     "name": "stdout",
     "output_type": "stream",
     "text": [
      "epoch 22, train loss: 0.307, valid rmspe: 0.307\n"
     ]
    },
    {
     "name": "stderr",
     "output_type": "stream",
     "text": [
      "Training: 100%|██████████| 269/269 [00:08<00:00, 32.76it/s]\n",
      "Evaluating: 100%|██████████| 68/68 [00:01<00:00, 56.10it/s]\n",
      "Training:   0%|          | 0/269 [00:00<?, ?it/s]"
     ]
    },
    {
     "name": "stdout",
     "output_type": "stream",
     "text": [
      "epoch 23, train loss: 0.272, valid rmspe: 0.259\n",
      "new best:0.2590181529521942\n"
     ]
    },
    {
     "name": "stderr",
     "output_type": "stream",
     "text": [
      "Training: 100%|██████████| 269/269 [00:08<00:00, 31.86it/s]\n",
      "Evaluating: 100%|██████████| 68/68 [00:01<00:00, 56.77it/s]\n",
      "Training:   0%|          | 0/269 [00:00<?, ?it/s]"
     ]
    },
    {
     "name": "stdout",
     "output_type": "stream",
     "text": [
      "epoch 24, train loss: 0.264, valid rmspe: 0.260\n"
     ]
    },
    {
     "name": "stderr",
     "output_type": "stream",
     "text": [
      "Training: 100%|██████████| 269/269 [00:08<00:00, 32.66it/s]\n",
      "Evaluating: 100%|██████████| 68/68 [00:01<00:00, 45.57it/s]\n",
      "Training:   0%|          | 0/269 [00:00<?, ?it/s]"
     ]
    },
    {
     "name": "stdout",
     "output_type": "stream",
     "text": [
      "epoch 25, train loss: 0.253, valid rmspe: 0.237\n",
      "new best:0.23674140870571136\n"
     ]
    },
    {
     "name": "stderr",
     "output_type": "stream",
     "text": [
      "Training: 100%|██████████| 269/269 [00:08<00:00, 31.33it/s]\n",
      "Evaluating: 100%|██████████| 68/68 [00:01<00:00, 55.81it/s]\n",
      "Training:   0%|          | 0/269 [00:00<?, ?it/s]"
     ]
    },
    {
     "name": "stdout",
     "output_type": "stream",
     "text": [
      "epoch 26, train loss: 0.243, valid rmspe: 0.234\n",
      "new best:0.23390717804431915\n"
     ]
    },
    {
     "name": "stderr",
     "output_type": "stream",
     "text": [
      "Training: 100%|██████████| 269/269 [00:08<00:00, 32.84it/s]\n",
      "Evaluating: 100%|██████████| 68/68 [00:01<00:00, 56.35it/s]\n",
      "Training:   0%|          | 0/269 [00:00<?, ?it/s]"
     ]
    },
    {
     "name": "stdout",
     "output_type": "stream",
     "text": [
      "epoch 27, train loss: 0.238, valid rmspe: 0.220\n",
      "new best:0.22028037905693054\n"
     ]
    },
    {
     "name": "stderr",
     "output_type": "stream",
     "text": [
      "Training: 100%|██████████| 269/269 [00:08<00:00, 33.24it/s]\n",
      "Evaluating: 100%|██████████| 68/68 [00:01<00:00, 57.87it/s]\n",
      "Training:   0%|          | 0/269 [00:00<?, ?it/s]"
     ]
    },
    {
     "name": "stdout",
     "output_type": "stream",
     "text": [
      "epoch 28, train loss: 0.221, valid rmspe: 0.213\n",
      "new best:0.213115856051445\n"
     ]
    },
    {
     "name": "stderr",
     "output_type": "stream",
     "text": [
      "Training: 100%|██████████| 269/269 [00:08<00:00, 32.12it/s]\n",
      "Evaluating: 100%|██████████| 68/68 [00:01<00:00, 46.43it/s]\n",
      "Training:   0%|          | 0/269 [00:00<?, ?it/s]"
     ]
    },
    {
     "name": "stdout",
     "output_type": "stream",
     "text": [
      "epoch 29, train loss: 0.221, valid rmspe: 0.227\n"
     ]
    },
    {
     "name": "stderr",
     "output_type": "stream",
     "text": [
      "Training: 100%|██████████| 269/269 [00:08<00:00, 31.73it/s]\n",
      "Evaluating: 100%|██████████| 68/68 [00:01<00:00, 56.45it/s]\n",
      "Training:   0%|          | 0/269 [00:00<?, ?it/s]"
     ]
    },
    {
     "name": "stdout",
     "output_type": "stream",
     "text": [
      "epoch 30, train loss: 0.217, valid rmspe: 0.218\n"
     ]
    },
    {
     "name": "stderr",
     "output_type": "stream",
     "text": [
      "Training: 100%|██████████| 269/269 [00:08<00:00, 32.73it/s]\n",
      "Evaluating: 100%|██████████| 68/68 [00:01<00:00, 57.50it/s]\n",
      "Training:   0%|          | 0/269 [00:00<?, ?it/s]"
     ]
    },
    {
     "name": "stdout",
     "output_type": "stream",
     "text": [
      "epoch 31, train loss: 0.212, valid rmspe: 0.216\n"
     ]
    },
    {
     "name": "stderr",
     "output_type": "stream",
     "text": [
      "Training: 100%|██████████| 269/269 [00:08<00:00, 32.63it/s]\n",
      "Evaluating: 100%|██████████| 68/68 [00:01<00:00, 56.77it/s]\n",
      "Training:   0%|          | 0/269 [00:00<?, ?it/s]"
     ]
    },
    {
     "name": "stdout",
     "output_type": "stream",
     "text": [
      "epoch 32, train loss: 0.213, valid rmspe: 0.210\n",
      "new best:0.21025611460208893\n"
     ]
    },
    {
     "name": "stderr",
     "output_type": "stream",
     "text": [
      "Training: 100%|██████████| 269/269 [00:08<00:00, 31.78it/s]\n",
      "Evaluating: 100%|██████████| 68/68 [00:01<00:00, 46.86it/s]\n",
      "Training:   0%|          | 0/269 [00:00<?, ?it/s]"
     ]
    },
    {
     "name": "stdout",
     "output_type": "stream",
     "text": [
      "epoch 33, train loss: 0.212, valid rmspe: 0.211\n"
     ]
    },
    {
     "name": "stderr",
     "output_type": "stream",
     "text": [
      "Training: 100%|██████████| 269/269 [00:08<00:00, 31.74it/s]\n",
      "Evaluating: 100%|██████████| 68/68 [00:01<00:00, 57.11it/s]\n",
      "Training:   0%|          | 0/269 [00:00<?, ?it/s]"
     ]
    },
    {
     "name": "stdout",
     "output_type": "stream",
     "text": [
      "epoch 34, train loss: 0.220, valid rmspe: 0.213\n"
     ]
    },
    {
     "name": "stderr",
     "output_type": "stream",
     "text": [
      "Training: 100%|██████████| 269/269 [00:08<00:00, 32.77it/s]\n",
      "Evaluating: 100%|██████████| 68/68 [00:01<00:00, 56.83it/s]\n",
      "Training:   0%|          | 0/269 [00:00<?, ?it/s]"
     ]
    },
    {
     "name": "stdout",
     "output_type": "stream",
     "text": [
      "epoch 35, train loss: 0.215, valid rmspe: 0.283\n"
     ]
    },
    {
     "name": "stderr",
     "output_type": "stream",
     "text": [
      "Training: 100%|██████████| 269/269 [00:08<00:00, 32.89it/s]\n",
      "Evaluating: 100%|██████████| 68/68 [00:01<00:00, 57.17it/s]\n",
      "Training:   0%|          | 0/269 [00:00<?, ?it/s]"
     ]
    },
    {
     "name": "stdout",
     "output_type": "stream",
     "text": [
      "epoch 36, train loss: 0.220, valid rmspe: 0.267\n"
     ]
    },
    {
     "name": "stderr",
     "output_type": "stream",
     "text": [
      "Training: 100%|██████████| 269/269 [00:08<00:00, 30.56it/s]\n",
      "Evaluating: 100%|██████████| 68/68 [00:01<00:00, 46.84it/s]\n",
      "Training:   0%|          | 0/269 [00:00<?, ?it/s]"
     ]
    },
    {
     "name": "stdout",
     "output_type": "stream",
     "text": [
      "epoch 37, train loss: 0.215, valid rmspe: 0.214\n"
     ]
    },
    {
     "name": "stderr",
     "output_type": "stream",
     "text": [
      "Training: 100%|██████████| 269/269 [00:08<00:00, 32.89it/s]\n",
      "Evaluating: 100%|██████████| 68/68 [00:01<00:00, 57.27it/s]\n",
      "Training:   0%|          | 0/269 [00:00<?, ?it/s]"
     ]
    },
    {
     "name": "stdout",
     "output_type": "stream",
     "text": [
      "epoch 38, train loss: 0.217, valid rmspe: 0.212\n"
     ]
    },
    {
     "name": "stderr",
     "output_type": "stream",
     "text": [
      "Training: 100%|██████████| 269/269 [00:08<00:00, 32.79it/s]\n",
      "Evaluating: 100%|██████████| 68/68 [00:01<00:00, 55.89it/s]\n",
      "Training:   0%|          | 0/269 [00:00<?, ?it/s]"
     ]
    },
    {
     "name": "stdout",
     "output_type": "stream",
     "text": [
      "epoch 39, train loss: 0.207, valid rmspe: 0.210\n",
      "new best:0.20985743403434753\n"
     ]
    },
    {
     "name": "stderr",
     "output_type": "stream",
     "text": [
      "Training: 100%|██████████| 269/269 [00:08<00:00, 32.74it/s]\n",
      "Evaluating: 100%|██████████| 68/68 [00:01<00:00, 44.46it/s]\n",
      "Training:   0%|          | 0/269 [00:00<?, ?it/s]"
     ]
    },
    {
     "name": "stdout",
     "output_type": "stream",
     "text": [
      "epoch 40, train loss: 0.205, valid rmspe: 0.214\n"
     ]
    },
    {
     "name": "stderr",
     "output_type": "stream",
     "text": [
      "Training: 100%|██████████| 269/269 [00:08<00:00, 30.50it/s]\n",
      "Evaluating: 100%|██████████| 68/68 [00:01<00:00, 56.20it/s]\n",
      "Training:   0%|          | 0/269 [00:00<?, ?it/s]"
     ]
    },
    {
     "name": "stdout",
     "output_type": "stream",
     "text": [
      "epoch 41, train loss: 0.206, valid rmspe: 0.207\n",
      "new best:0.20731814205646515\n"
     ]
    },
    {
     "name": "stderr",
     "output_type": "stream",
     "text": [
      "Training: 100%|██████████| 269/269 [00:08<00:00, 33.00it/s]\n",
      "Evaluating: 100%|██████████| 68/68 [00:01<00:00, 56.47it/s]\n",
      "Training:   0%|          | 0/269 [00:00<?, ?it/s]"
     ]
    },
    {
     "name": "stdout",
     "output_type": "stream",
     "text": [
      "epoch 42, train loss: 0.206, valid rmspe: 0.210\n"
     ]
    },
    {
     "name": "stderr",
     "output_type": "stream",
     "text": [
      "Training: 100%|██████████| 269/269 [00:08<00:00, 32.63it/s]\n",
      "Evaluating: 100%|██████████| 68/68 [00:01<00:00, 57.40it/s]\n",
      "Training:   0%|          | 0/269 [00:00<?, ?it/s]"
     ]
    },
    {
     "name": "stdout",
     "output_type": "stream",
     "text": [
      "epoch 43, train loss: 0.213, valid rmspe: 0.211\n"
     ]
    },
    {
     "name": "stderr",
     "output_type": "stream",
     "text": [
      "Training: 100%|██████████| 269/269 [00:08<00:00, 32.31it/s]\n",
      "Evaluating: 100%|██████████| 68/68 [00:01<00:00, 57.65it/s]\n",
      "Training:   0%|          | 0/269 [00:00<?, ?it/s]"
     ]
    },
    {
     "name": "stdout",
     "output_type": "stream",
     "text": [
      "epoch 44, train loss: 0.206, valid rmspe: 0.209\n"
     ]
    },
    {
     "name": "stderr",
     "output_type": "stream",
     "text": [
      "Training: 100%|██████████| 269/269 [00:08<00:00, 30.13it/s]\n",
      "Evaluating: 100%|██████████| 68/68 [00:01<00:00, 54.88it/s]\n",
      "Training:   0%|          | 0/269 [00:00<?, ?it/s]"
     ]
    },
    {
     "name": "stdout",
     "output_type": "stream",
     "text": [
      "epoch 45, train loss: 0.203, valid rmspe: 0.224\n"
     ]
    },
    {
     "name": "stderr",
     "output_type": "stream",
     "text": [
      "Training: 100%|██████████| 269/269 [00:08<00:00, 32.54it/s]\n",
      "Evaluating: 100%|██████████| 68/68 [00:01<00:00, 56.25it/s]\n",
      "Training:   0%|          | 0/269 [00:00<?, ?it/s]"
     ]
    },
    {
     "name": "stdout",
     "output_type": "stream",
     "text": [
      "epoch 46, train loss: 0.205, valid rmspe: 0.299\n"
     ]
    },
    {
     "name": "stderr",
     "output_type": "stream",
     "text": [
      "Training: 100%|██████████| 269/269 [00:08<00:00, 32.15it/s]\n",
      "Evaluating: 100%|██████████| 68/68 [00:01<00:00, 57.13it/s]\n",
      "Training:   0%|          | 0/269 [00:00<?, ?it/s]"
     ]
    },
    {
     "name": "stdout",
     "output_type": "stream",
     "text": [
      "epoch 47, train loss: 0.204, valid rmspe: 0.254\n"
     ]
    },
    {
     "name": "stderr",
     "output_type": "stream",
     "text": [
      "Training: 100%|██████████| 269/269 [00:08<00:00, 32.87it/s]\n",
      "Evaluating: 100%|██████████| 68/68 [00:01<00:00, 48.51it/s]\n",
      "Training:   0%|          | 0/269 [00:00<?, ?it/s]"
     ]
    },
    {
     "name": "stdout",
     "output_type": "stream",
     "text": [
      "epoch 48, train loss: 0.210, valid rmspe: 0.224\n"
     ]
    },
    {
     "name": "stderr",
     "output_type": "stream",
     "text": [
      "Training: 100%|██████████| 269/269 [00:08<00:00, 30.40it/s]\n",
      "Evaluating: 100%|██████████| 68/68 [00:01<00:00, 58.36it/s]\n",
      "Training:   0%|          | 0/269 [00:00<?, ?it/s]"
     ]
    },
    {
     "name": "stdout",
     "output_type": "stream",
     "text": [
      "epoch 49, train loss: 0.204, valid rmspe: 0.207\n",
      "fold 4 train: (343146, 100), valid: (85786, 100)\n"
     ]
    },
    {
     "name": "stderr",
     "output_type": "stream",
     "text": [
      "Training: 100%|██████████| 269/269 [00:08<00:00, 32.14it/s]\n",
      "Evaluating: 100%|██████████| 68/68 [00:01<00:00, 56.50it/s]\n",
      "Training:   0%|          | 0/269 [00:00<?, ?it/s]"
     ]
    },
    {
     "name": "stdout",
     "output_type": "stream",
     "text": [
      "epoch 0, train loss: 76.597, valid rmspe: 32.162\n",
      "new best:32.16170120239258\n"
     ]
    },
    {
     "name": "stderr",
     "output_type": "stream",
     "text": [
      "Training: 100%|██████████| 269/269 [00:08<00:00, 32.73it/s]\n",
      "Evaluating: 100%|██████████| 68/68 [00:01<00:00, 56.41it/s]\n",
      "Training:   0%|          | 0/269 [00:00<?, ?it/s]"
     ]
    },
    {
     "name": "stdout",
     "output_type": "stream",
     "text": [
      "epoch 1, train loss: 17.373, valid rmspe: 32.259\n"
     ]
    },
    {
     "name": "stderr",
     "output_type": "stream",
     "text": [
      "Training: 100%|██████████| 269/269 [00:08<00:00, 32.33it/s]\n",
      "Evaluating: 100%|██████████| 68/68 [00:01<00:00, 48.04it/s]\n",
      "Training:   0%|          | 0/269 [00:00<?, ?it/s]"
     ]
    },
    {
     "name": "stdout",
     "output_type": "stream",
     "text": [
      "epoch 2, train loss: 14.836, valid rmspe: 56.040\n"
     ]
    },
    {
     "name": "stderr",
     "output_type": "stream",
     "text": [
      "Training: 100%|██████████| 269/269 [00:08<00:00, 30.84it/s]\n",
      "Evaluating: 100%|██████████| 68/68 [00:01<00:00, 47.32it/s]\n",
      "Training:   0%|          | 0/269 [00:00<?, ?it/s]"
     ]
    },
    {
     "name": "stdout",
     "output_type": "stream",
     "text": [
      "epoch 3, train loss: 10.675, valid rmspe: 12.686\n",
      "new best:12.686274528503418\n"
     ]
    },
    {
     "name": "stderr",
     "output_type": "stream",
     "text": [
      "Training: 100%|██████████| 269/269 [00:08<00:00, 32.64it/s]\n",
      "Evaluating: 100%|██████████| 68/68 [00:01<00:00, 57.77it/s]\n",
      "Training:   0%|          | 0/269 [00:00<?, ?it/s]"
     ]
    },
    {
     "name": "stdout",
     "output_type": "stream",
     "text": [
      "epoch 4, train loss: 7.536, valid rmspe: 12.382\n",
      "new best:12.38157844543457\n"
     ]
    },
    {
     "name": "stderr",
     "output_type": "stream",
     "text": [
      "Training: 100%|██████████| 269/269 [00:08<00:00, 33.08it/s]\n",
      "Evaluating: 100%|██████████| 68/68 [00:01<00:00, 55.15it/s]\n",
      "Training:   0%|          | 0/269 [00:00<?, ?it/s]"
     ]
    },
    {
     "name": "stdout",
     "output_type": "stream",
     "text": [
      "epoch 5, train loss: 5.255, valid rmspe: 4.018\n",
      "new best:4.017996311187744\n"
     ]
    },
    {
     "name": "stderr",
     "output_type": "stream",
     "text": [
      "Training: 100%|██████████| 269/269 [00:08<00:00, 33.01it/s]\n",
      "Evaluating: 100%|██████████| 68/68 [00:01<00:00, 55.84it/s]\n",
      "Training:   0%|          | 0/269 [00:00<?, ?it/s]"
     ]
    },
    {
     "name": "stdout",
     "output_type": "stream",
     "text": [
      "epoch 6, train loss: 5.158, valid rmspe: 2.717\n",
      "new best:2.7166810035705566\n"
     ]
    },
    {
     "name": "stderr",
     "output_type": "stream",
     "text": [
      "Training: 100%|██████████| 269/269 [00:08<00:00, 32.41it/s]\n",
      "Evaluating: 100%|██████████| 68/68 [00:01<00:00, 57.08it/s]\n",
      "Training:   0%|          | 0/269 [00:00<?, ?it/s]"
     ]
    },
    {
     "name": "stdout",
     "output_type": "stream",
     "text": [
      "epoch 7, train loss: 3.086, valid rmspe: 2.644\n",
      "new best:2.6435508728027344\n"
     ]
    },
    {
     "name": "stderr",
     "output_type": "stream",
     "text": [
      "Training: 100%|██████████| 269/269 [00:08<00:00, 32.99it/s]\n",
      "Evaluating: 100%|██████████| 68/68 [00:01<00:00, 56.99it/s]\n",
      "Training:   0%|          | 0/269 [00:00<?, ?it/s]"
     ]
    },
    {
     "name": "stdout",
     "output_type": "stream",
     "text": [
      "epoch 8, train loss: 2.478, valid rmspe: 3.307\n"
     ]
    },
    {
     "name": "stderr",
     "output_type": "stream",
     "text": [
      "Training: 100%|██████████| 269/269 [00:08<00:00, 32.71it/s]\n",
      "Evaluating: 100%|██████████| 68/68 [00:01<00:00, 47.77it/s]\n",
      "Training:   0%|          | 0/269 [00:00<?, ?it/s]"
     ]
    },
    {
     "name": "stdout",
     "output_type": "stream",
     "text": [
      "epoch 9, train loss: 1.575, valid rmspe: 2.423\n",
      "new best:2.423220634460449\n"
     ]
    },
    {
     "name": "stderr",
     "output_type": "stream",
     "text": [
      "Training: 100%|██████████| 269/269 [00:08<00:00, 29.92it/s]\n",
      "Evaluating: 100%|██████████| 68/68 [00:01<00:00, 56.11it/s]\n",
      "Training:   0%|          | 0/269 [00:00<?, ?it/s]"
     ]
    },
    {
     "name": "stdout",
     "output_type": "stream",
     "text": [
      "epoch 10, train loss: 1.507, valid rmspe: 0.644\n",
      "new best:0.6443920135498047\n"
     ]
    },
    {
     "name": "stderr",
     "output_type": "stream",
     "text": [
      "Training: 100%|██████████| 269/269 [00:08<00:00, 33.20it/s]\n",
      "Evaluating: 100%|██████████| 68/68 [00:01<00:00, 57.29it/s]\n",
      "Training:   0%|          | 0/269 [00:00<?, ?it/s]"
     ]
    },
    {
     "name": "stdout",
     "output_type": "stream",
     "text": [
      "epoch 11, train loss: 0.945, valid rmspe: 0.941\n"
     ]
    },
    {
     "name": "stderr",
     "output_type": "stream",
     "text": [
      "Training: 100%|██████████| 269/269 [00:08<00:00, 32.89it/s]\n",
      "Evaluating: 100%|██████████| 68/68 [00:01<00:00, 55.86it/s]\n",
      "Training:   0%|          | 0/269 [00:00<?, ?it/s]"
     ]
    },
    {
     "name": "stdout",
     "output_type": "stream",
     "text": [
      "epoch 12, train loss: 0.613, valid rmspe: 0.568\n",
      "new best:0.5677054524421692\n"
     ]
    },
    {
     "name": "stderr",
     "output_type": "stream",
     "text": [
      "Training: 100%|██████████| 269/269 [00:08<00:00, 32.44it/s]\n",
      "Evaluating: 100%|██████████| 68/68 [00:01<00:00, 57.46it/s]\n",
      "Training:   0%|          | 0/269 [00:00<?, ?it/s]"
     ]
    },
    {
     "name": "stdout",
     "output_type": "stream",
     "text": [
      "epoch 13, train loss: 0.446, valid rmspe: 0.350\n",
      "new best:0.3503914773464203\n"
     ]
    },
    {
     "name": "stderr",
     "output_type": "stream",
     "text": [
      "Training: 100%|██████████| 269/269 [00:08<00:00, 33.05it/s]\n",
      "Evaluating: 100%|██████████| 68/68 [00:01<00:00, 55.32it/s]\n",
      "Training:   0%|          | 0/269 [00:00<?, ?it/s]"
     ]
    },
    {
     "name": "stdout",
     "output_type": "stream",
     "text": [
      "epoch 14, train loss: 0.314, valid rmspe: 0.288\n",
      "new best:0.28811246156692505\n"
     ]
    },
    {
     "name": "stderr",
     "output_type": "stream",
     "text": [
      "Training: 100%|██████████| 269/269 [00:08<00:00, 33.18it/s]\n",
      "Evaluating: 100%|██████████| 68/68 [00:01<00:00, 57.06it/s]\n",
      "Training:   0%|          | 0/269 [00:00<?, ?it/s]"
     ]
    },
    {
     "name": "stdout",
     "output_type": "stream",
     "text": [
      "epoch 15, train loss: 0.275, valid rmspe: 0.264\n",
      "new best:0.263587087392807\n"
     ]
    },
    {
     "name": "stderr",
     "output_type": "stream",
     "text": [
      "Training: 100%|██████████| 269/269 [00:08<00:00, 33.13it/s]\n",
      "Evaluating: 100%|██████████| 68/68 [00:01<00:00, 58.16it/s]\n",
      "Training:   0%|          | 0/269 [00:00<?, ?it/s]"
     ]
    },
    {
     "name": "stdout",
     "output_type": "stream",
     "text": [
      "epoch 16, train loss: 0.238, valid rmspe: 0.225\n",
      "new best:0.22510026395320892\n"
     ]
    },
    {
     "name": "stderr",
     "output_type": "stream",
     "text": [
      "Training: 100%|██████████| 269/269 [00:09<00:00, 29.37it/s]\n",
      "Evaluating: 100%|██████████| 68/68 [00:01<00:00, 56.84it/s]\n",
      "Training:   0%|          | 0/269 [00:00<?, ?it/s]"
     ]
    },
    {
     "name": "stdout",
     "output_type": "stream",
     "text": [
      "epoch 17, train loss: 0.235, valid rmspe: 0.220\n",
      "new best:0.21974220871925354\n"
     ]
    },
    {
     "name": "stderr",
     "output_type": "stream",
     "text": [
      "Training: 100%|██████████| 269/269 [00:08<00:00, 32.64it/s]\n",
      "Evaluating: 100%|██████████| 68/68 [00:01<00:00, 56.01it/s]\n",
      "Training:   0%|          | 0/269 [00:00<?, ?it/s]"
     ]
    },
    {
     "name": "stdout",
     "output_type": "stream",
     "text": [
      "epoch 18, train loss: 0.224, valid rmspe: 0.246\n"
     ]
    },
    {
     "name": "stderr",
     "output_type": "stream",
     "text": [
      "Training: 100%|██████████| 269/269 [00:08<00:00, 32.97it/s]\n",
      "Evaluating: 100%|██████████| 68/68 [00:01<00:00, 56.83it/s]\n",
      "Training:   0%|          | 0/269 [00:00<?, ?it/s]"
     ]
    },
    {
     "name": "stdout",
     "output_type": "stream",
     "text": [
      "epoch 19, train loss: 0.222, valid rmspe: 0.235\n"
     ]
    },
    {
     "name": "stderr",
     "output_type": "stream",
     "text": [
      "Training: 100%|██████████| 269/269 [00:08<00:00, 32.61it/s]\n",
      "Evaluating: 100%|██████████| 68/68 [00:01<00:00, 58.02it/s]\n",
      "Training:   0%|          | 0/269 [00:00<?, ?it/s]"
     ]
    },
    {
     "name": "stdout",
     "output_type": "stream",
     "text": [
      "epoch 20, train loss: 0.228, valid rmspe: 0.225\n"
     ]
    },
    {
     "name": "stderr",
     "output_type": "stream",
     "text": [
      "Training: 100%|██████████| 269/269 [00:08<00:00, 33.03it/s]\n",
      "Evaluating: 100%|██████████| 68/68 [00:01<00:00, 58.34it/s]\n",
      "Training:   0%|          | 0/269 [00:00<?, ?it/s]"
     ]
    },
    {
     "name": "stdout",
     "output_type": "stream",
     "text": [
      "epoch 21, train loss: 0.222, valid rmspe: 0.224\n"
     ]
    },
    {
     "name": "stderr",
     "output_type": "stream",
     "text": [
      "Training: 100%|██████████| 269/269 [00:08<00:00, 33.10it/s]\n",
      "Evaluating: 100%|██████████| 68/68 [00:01<00:00, 57.02it/s]\n",
      "Training:   0%|          | 0/269 [00:00<?, ?it/s]"
     ]
    },
    {
     "name": "stdout",
     "output_type": "stream",
     "text": [
      "epoch 22, train loss: 0.221, valid rmspe: 0.235\n"
     ]
    },
    {
     "name": "stderr",
     "output_type": "stream",
     "text": [
      "Training: 100%|██████████| 269/269 [00:08<00:00, 32.20it/s]\n",
      "Evaluating: 100%|██████████| 68/68 [00:01<00:00, 58.10it/s]\n",
      "Training:   0%|          | 0/269 [00:00<?, ?it/s]"
     ]
    },
    {
     "name": "stdout",
     "output_type": "stream",
     "text": [
      "epoch 23, train loss: 0.213, valid rmspe: 0.222\n"
     ]
    },
    {
     "name": "stderr",
     "output_type": "stream",
     "text": [
      "Training: 100%|██████████| 269/269 [00:08<00:00, 30.28it/s]\n",
      "Evaluating: 100%|██████████| 68/68 [00:01<00:00, 47.44it/s]\n",
      "Training:   0%|          | 0/269 [00:00<?, ?it/s]"
     ]
    },
    {
     "name": "stdout",
     "output_type": "stream",
     "text": [
      "epoch 24, train loss: 0.217, valid rmspe: 0.210\n",
      "new best:0.21006739139556885\n"
     ]
    },
    {
     "name": "stderr",
     "output_type": "stream",
     "text": [
      "Training: 100%|██████████| 269/269 [00:08<00:00, 32.97it/s]\n",
      "Evaluating: 100%|██████████| 68/68 [00:01<00:00, 57.23it/s]\n",
      "Training:   0%|          | 0/269 [00:00<?, ?it/s]"
     ]
    },
    {
     "name": "stdout",
     "output_type": "stream",
     "text": [
      "epoch 25, train loss: 0.214, valid rmspe: 0.219\n"
     ]
    },
    {
     "name": "stderr",
     "output_type": "stream",
     "text": [
      "Training: 100%|██████████| 269/269 [00:08<00:00, 33.12it/s]\n",
      "Evaluating: 100%|██████████| 68/68 [00:01<00:00, 49.68it/s]\n",
      "Training:   0%|          | 0/269 [00:00<?, ?it/s]"
     ]
    },
    {
     "name": "stdout",
     "output_type": "stream",
     "text": [
      "epoch 26, train loss: 0.213, valid rmspe: 0.212\n"
     ]
    },
    {
     "name": "stderr",
     "output_type": "stream",
     "text": [
      "Training: 100%|██████████| 269/269 [00:08<00:00, 32.66it/s]\n",
      "Evaluating: 100%|██████████| 68/68 [00:01<00:00, 53.21it/s]\n",
      "Training:   0%|          | 0/269 [00:00<?, ?it/s]"
     ]
    },
    {
     "name": "stdout",
     "output_type": "stream",
     "text": [
      "epoch 27, train loss: 0.213, valid rmspe: 0.211\n"
     ]
    },
    {
     "name": "stderr",
     "output_type": "stream",
     "text": [
      "Training: 100%|██████████| 269/269 [00:08<00:00, 33.14it/s]\n",
      "Evaluating: 100%|██████████| 68/68 [00:01<00:00, 55.42it/s]\n",
      "Training:   0%|          | 0/269 [00:00<?, ?it/s]"
     ]
    },
    {
     "name": "stdout",
     "output_type": "stream",
     "text": [
      "epoch 28, train loss: 0.211, valid rmspe: 0.223\n"
     ]
    },
    {
     "name": "stderr",
     "output_type": "stream",
     "text": [
      "Training: 100%|██████████| 269/269 [00:08<00:00, 32.59it/s]\n",
      "Evaluating: 100%|██████████| 68/68 [00:01<00:00, 56.63it/s]\n",
      "Training:   0%|          | 0/269 [00:00<?, ?it/s]"
     ]
    },
    {
     "name": "stdout",
     "output_type": "stream",
     "text": [
      "epoch 29, train loss: 0.211, valid rmspe: 0.217\n"
     ]
    },
    {
     "name": "stderr",
     "output_type": "stream",
     "text": [
      "Training: 100%|██████████| 269/269 [00:08<00:00, 32.48it/s]\n",
      "Evaluating: 100%|██████████| 68/68 [00:01<00:00, 56.53it/s]\n",
      "Training:   0%|          | 0/269 [00:00<?, ?it/s]"
     ]
    },
    {
     "name": "stdout",
     "output_type": "stream",
     "text": [
      "epoch 30, train loss: 0.208, valid rmspe: 0.215\n"
     ]
    },
    {
     "name": "stderr",
     "output_type": "stream",
     "text": [
      "Training: 100%|██████████| 269/269 [00:08<00:00, 31.35it/s]\n",
      "Evaluating: 100%|██████████| 68/68 [00:01<00:00, 48.18it/s]\n",
      "Training:   0%|          | 0/269 [00:00<?, ?it/s]"
     ]
    },
    {
     "name": "stdout",
     "output_type": "stream",
     "text": [
      "epoch 31, train loss: 0.213, valid rmspe: 0.215\n"
     ]
    },
    {
     "name": "stderr",
     "output_type": "stream",
     "text": [
      "Training: 100%|██████████| 269/269 [00:08<00:00, 32.26it/s]\n",
      "Evaluating: 100%|██████████| 68/68 [00:01<00:00, 57.01it/s]\n",
      "Training:   0%|          | 0/269 [00:00<?, ?it/s]"
     ]
    },
    {
     "name": "stdout",
     "output_type": "stream",
     "text": [
      "epoch 32, train loss: 0.207, valid rmspe: 0.215\n"
     ]
    },
    {
     "name": "stderr",
     "output_type": "stream",
     "text": [
      "Training: 100%|██████████| 269/269 [00:08<00:00, 31.89it/s]\n",
      "Evaluating: 100%|██████████| 68/68 [00:01<00:00, 57.18it/s]\n",
      "Training:   0%|          | 0/269 [00:00<?, ?it/s]"
     ]
    },
    {
     "name": "stdout",
     "output_type": "stream",
     "text": [
      "epoch 33, train loss: 0.214, valid rmspe: 0.217\n",
      "Epoch    34: reducing learning rate of group 0 to 1.1400e-04.\n"
     ]
    },
    {
     "name": "stderr",
     "output_type": "stream",
     "text": [
      "Training: 100%|██████████| 269/269 [00:08<00:00, 32.75it/s]\n",
      "Evaluating: 100%|██████████| 68/68 [00:01<00:00, 56.73it/s]\n",
      "Training:   0%|          | 0/269 [00:00<?, ?it/s]"
     ]
    },
    {
     "name": "stdout",
     "output_type": "stream",
     "text": [
      "epoch 34, train loss: 0.197, valid rmspe: 0.223\n"
     ]
    },
    {
     "name": "stderr",
     "output_type": "stream",
     "text": [
      "Training: 100%|██████████| 269/269 [00:08<00:00, 33.00it/s]\n",
      "Evaluating: 100%|██████████| 68/68 [00:01<00:00, 57.82it/s]\n",
      "Training:   0%|          | 0/269 [00:00<?, ?it/s]"
     ]
    },
    {
     "name": "stdout",
     "output_type": "stream",
     "text": [
      "epoch 35, train loss: 0.195, valid rmspe: 0.206\n",
      "new best:0.20552855730056763\n"
     ]
    },
    {
     "name": "stderr",
     "output_type": "stream",
     "text": [
      "Training: 100%|██████████| 269/269 [00:08<00:00, 32.75it/s]\n",
      "Evaluating: 100%|██████████| 68/68 [00:01<00:00, 46.39it/s]\n",
      "Training:   0%|          | 0/269 [00:00<?, ?it/s]"
     ]
    },
    {
     "name": "stdout",
     "output_type": "stream",
     "text": [
      "epoch 36, train loss: 0.193, valid rmspe: 0.211\n"
     ]
    },
    {
     "name": "stderr",
     "output_type": "stream",
     "text": [
      "Training: 100%|██████████| 269/269 [00:08<00:00, 32.85it/s]\n",
      "Evaluating: 100%|██████████| 68/68 [00:01<00:00, 55.65it/s]\n",
      "Training:   0%|          | 0/269 [00:00<?, ?it/s]"
     ]
    },
    {
     "name": "stdout",
     "output_type": "stream",
     "text": [
      "epoch 37, train loss: 0.191, valid rmspe: 0.208\n"
     ]
    },
    {
     "name": "stderr",
     "output_type": "stream",
     "text": [
      "Training: 100%|██████████| 269/269 [00:08<00:00, 31.73it/s]\n",
      "Evaluating: 100%|██████████| 68/68 [00:01<00:00, 47.71it/s]\n",
      "Training:   0%|          | 0/269 [00:00<?, ?it/s]"
     ]
    },
    {
     "name": "stdout",
     "output_type": "stream",
     "text": [
      "epoch 38, train loss: 0.193, valid rmspe: 0.206\n"
     ]
    },
    {
     "name": "stderr",
     "output_type": "stream",
     "text": [
      "Training: 100%|██████████| 269/269 [00:08<00:00, 31.32it/s]\n",
      "Evaluating: 100%|██████████| 68/68 [00:01<00:00, 58.02it/s]\n",
      "Training:   0%|          | 0/269 [00:00<?, ?it/s]"
     ]
    },
    {
     "name": "stdout",
     "output_type": "stream",
     "text": [
      "epoch 39, train loss: 0.188, valid rmspe: 0.217\n"
     ]
    },
    {
     "name": "stderr",
     "output_type": "stream",
     "text": [
      "Training: 100%|██████████| 269/269 [00:08<00:00, 32.47it/s]\n",
      "Evaluating: 100%|██████████| 68/68 [00:01<00:00, 56.89it/s]\n",
      "Training:   0%|          | 0/269 [00:00<?, ?it/s]"
     ]
    },
    {
     "name": "stdout",
     "output_type": "stream",
     "text": [
      "epoch 40, train loss: 0.187, valid rmspe: 0.206\n"
     ]
    },
    {
     "name": "stderr",
     "output_type": "stream",
     "text": [
      "Training: 100%|██████████| 269/269 [00:08<00:00, 32.59it/s]\n",
      "Evaluating: 100%|██████████| 68/68 [00:01<00:00, 58.07it/s]\n",
      "Training:   0%|          | 0/269 [00:00<?, ?it/s]"
     ]
    },
    {
     "name": "stdout",
     "output_type": "stream",
     "text": [
      "epoch 41, train loss: 0.188, valid rmspe: 0.208\n"
     ]
    },
    {
     "name": "stderr",
     "output_type": "stream",
     "text": [
      "Training: 100%|██████████| 269/269 [00:08<00:00, 32.91it/s]\n",
      "Evaluating: 100%|██████████| 68/68 [00:01<00:00, 57.69it/s]\n",
      "Training:   0%|          | 0/269 [00:00<?, ?it/s]"
     ]
    },
    {
     "name": "stdout",
     "output_type": "stream",
     "text": [
      "epoch 42, train loss: 0.184, valid rmspe: 0.207\n"
     ]
    },
    {
     "name": "stderr",
     "output_type": "stream",
     "text": [
      "Training: 100%|██████████| 269/269 [00:08<00:00, 32.18it/s]\n",
      "Evaluating: 100%|██████████| 68/68 [00:01<00:00, 56.19it/s]\n",
      "Training:   0%|          | 0/269 [00:00<?, ?it/s]"
     ]
    },
    {
     "name": "stdout",
     "output_type": "stream",
     "text": [
      "epoch 43, train loss: 0.184, valid rmspe: 0.211\n"
     ]
    },
    {
     "name": "stderr",
     "output_type": "stream",
     "text": [
      "Training: 100%|██████████| 269/269 [00:08<00:00, 33.19it/s]\n",
      "Evaluating: 100%|██████████| 68/68 [00:01<00:00, 57.92it/s]\n",
      "Training:   0%|          | 0/269 [00:00<?, ?it/s]"
     ]
    },
    {
     "name": "stdout",
     "output_type": "stream",
     "text": [
      "epoch 44, train loss: 0.183, valid rmspe: 0.208\n",
      "Epoch    45: reducing learning rate of group 0 to 3.4200e-05.\n"
     ]
    },
    {
     "name": "stderr",
     "output_type": "stream",
     "text": [
      "Training: 100%|██████████| 269/269 [00:08<00:00, 32.99it/s]\n",
      "Evaluating: 100%|██████████| 68/68 [00:01<00:00, 47.18it/s]\n",
      "Training:   0%|          | 0/269 [00:00<?, ?it/s]"
     ]
    },
    {
     "name": "stdout",
     "output_type": "stream",
     "text": [
      "epoch 45, train loss: 0.178, valid rmspe: 0.206\n"
     ]
    },
    {
     "name": "stderr",
     "output_type": "stream",
     "text": [
      "Training: 100%|██████████| 269/269 [00:08<00:00, 29.96it/s]\n",
      "Evaluating: 100%|██████████| 68/68 [00:01<00:00, 55.53it/s]\n",
      "Training:   0%|          | 0/269 [00:00<?, ?it/s]"
     ]
    },
    {
     "name": "stdout",
     "output_type": "stream",
     "text": [
      "epoch 46, train loss: 0.176, valid rmspe: 0.208\n"
     ]
    },
    {
     "name": "stderr",
     "output_type": "stream",
     "text": [
      "Training: 100%|██████████| 269/269 [00:08<00:00, 33.03it/s]\n",
      "Evaluating: 100%|██████████| 68/68 [00:01<00:00, 57.21it/s]\n",
      "Training:   0%|          | 0/269 [00:00<?, ?it/s]"
     ]
    },
    {
     "name": "stdout",
     "output_type": "stream",
     "text": [
      "epoch 47, train loss: 0.176, valid rmspe: 0.212\n"
     ]
    },
    {
     "name": "stderr",
     "output_type": "stream",
     "text": [
      "Training: 100%|██████████| 269/269 [00:08<00:00, 33.16it/s]\n",
      "Evaluating: 100%|██████████| 68/68 [00:01<00:00, 58.19it/s]\n",
      "Training:   0%|          | 0/269 [00:00<?, ?it/s]"
     ]
    },
    {
     "name": "stdout",
     "output_type": "stream",
     "text": [
      "epoch 48, train loss: 0.175, valid rmspe: 0.213\n"
     ]
    },
    {
     "name": "stderr",
     "output_type": "stream",
     "text": [
      "Training: 100%|██████████| 269/269 [00:08<00:00, 32.88it/s]\n",
      "Evaluating: 100%|██████████| 68/68 [00:01<00:00, 53.80it/s]\n"
     ]
    },
    {
     "name": "stdout",
     "output_type": "stream",
     "text": [
      "epoch 49, train loss: 0.174, valid rmspe: 0.212\n"
     ]
    },
    {
     "name": "stderr",
     "output_type": "stream",
     "text": [
      "Training:   0%|          | 0/269 [00:00<?, ?it/s]"
     ]
    },
    {
     "name": "stdout",
     "output_type": "stream",
     "text": [
      "fold 0 train: (343145, 100), valid: (85787, 100)\n"
     ]
    },
    {
     "name": "stderr",
     "output_type": "stream",
     "text": [
      "Training: 100%|██████████| 269/269 [00:08<00:00, 32.50it/s]\n",
      "Evaluating: 100%|██████████| 68/68 [00:01<00:00, 55.80it/s]\n",
      "Training:   0%|          | 0/269 [00:00<?, ?it/s]"
     ]
    },
    {
     "name": "stdout",
     "output_type": "stream",
     "text": [
      "epoch 0, train loss: 66.252, valid rmspe: 26.419\n",
      "new best:26.41870880126953\n"
     ]
    },
    {
     "name": "stderr",
     "output_type": "stream",
     "text": [
      "Training: 100%|██████████| 269/269 [00:08<00:00, 32.46it/s]\n",
      "Evaluating: 100%|██████████| 68/68 [00:01<00:00, 47.24it/s]\n",
      "Training:   0%|          | 0/269 [00:00<?, ?it/s]"
     ]
    },
    {
     "name": "stdout",
     "output_type": "stream",
     "text": [
      "epoch 1, train loss: 21.299, valid rmspe: 23.458\n",
      "new best:23.457929611206055\n"
     ]
    },
    {
     "name": "stderr",
     "output_type": "stream",
     "text": [
      "Training: 100%|██████████| 269/269 [00:09<00:00, 29.41it/s]\n",
      "Evaluating: 100%|██████████| 68/68 [00:01<00:00, 58.40it/s]\n",
      "Training:   0%|          | 0/269 [00:00<?, ?it/s]"
     ]
    },
    {
     "name": "stdout",
     "output_type": "stream",
     "text": [
      "epoch 2, train loss: 14.772, valid rmspe: 7.716\n",
      "new best:7.715919017791748\n"
     ]
    },
    {
     "name": "stderr",
     "output_type": "stream",
     "text": [
      "Training: 100%|██████████| 269/269 [00:08<00:00, 32.66it/s]\n",
      "Evaluating: 100%|██████████| 68/68 [00:01<00:00, 57.73it/s]\n",
      "Training:   0%|          | 0/269 [00:00<?, ?it/s]"
     ]
    },
    {
     "name": "stdout",
     "output_type": "stream",
     "text": [
      "epoch 3, train loss: 10.488, valid rmspe: 15.074\n"
     ]
    },
    {
     "name": "stderr",
     "output_type": "stream",
     "text": [
      "Training: 100%|██████████| 269/269 [00:08<00:00, 32.61it/s]\n",
      "Evaluating: 100%|██████████| 68/68 [00:01<00:00, 55.51it/s]\n",
      "Training:   0%|          | 0/269 [00:00<?, ?it/s]"
     ]
    },
    {
     "name": "stdout",
     "output_type": "stream",
     "text": [
      "epoch 4, train loss: 7.833, valid rmspe: 5.015\n",
      "new best:5.015052795410156\n"
     ]
    },
    {
     "name": "stderr",
     "output_type": "stream",
     "text": [
      "Training: 100%|██████████| 269/269 [00:08<00:00, 32.70it/s]\n",
      "Evaluating: 100%|██████████| 68/68 [00:01<00:00, 55.10it/s]\n",
      "Training:   0%|          | 0/269 [00:00<?, ?it/s]"
     ]
    },
    {
     "name": "stdout",
     "output_type": "stream",
     "text": [
      "epoch 5, train loss: 5.954, valid rmspe: 15.907\n"
     ]
    },
    {
     "name": "stderr",
     "output_type": "stream",
     "text": [
      "Training: 100%|██████████| 269/269 [00:08<00:00, 32.73it/s]\n",
      "Evaluating: 100%|██████████| 68/68 [00:01<00:00, 56.08it/s]\n",
      "Training:   0%|          | 0/269 [00:00<?, ?it/s]"
     ]
    },
    {
     "name": "stdout",
     "output_type": "stream",
     "text": [
      "epoch 6, train loss: 5.969, valid rmspe: 3.811\n",
      "new best:3.8111298084259033\n"
     ]
    },
    {
     "name": "stderr",
     "output_type": "stream",
     "text": [
      "Training: 100%|██████████| 269/269 [00:08<00:00, 32.90it/s]\n",
      "Evaluating: 100%|██████████| 68/68 [00:01<00:00, 57.47it/s]\n",
      "Training:   0%|          | 0/269 [00:00<?, ?it/s]"
     ]
    },
    {
     "name": "stdout",
     "output_type": "stream",
     "text": [
      "epoch 7, train loss: 3.099, valid rmspe: 5.494\n"
     ]
    },
    {
     "name": "stderr",
     "output_type": "stream",
     "text": [
      "Training: 100%|██████████| 269/269 [00:08<00:00, 32.21it/s]\n",
      "Evaluating: 100%|██████████| 68/68 [00:01<00:00, 57.35it/s]\n",
      "Training:   0%|          | 0/269 [00:00<?, ?it/s]"
     ]
    },
    {
     "name": "stdout",
     "output_type": "stream",
     "text": [
      "epoch 8, train loss: 2.612, valid rmspe: 1.025\n",
      "new best:1.0251907110214233\n"
     ]
    },
    {
     "name": "stderr",
     "output_type": "stream",
     "text": [
      "Training: 100%|██████████| 269/269 [00:08<00:00, 30.11it/s]\n",
      "Evaluating: 100%|██████████| 68/68 [00:01<00:00, 50.02it/s]\n",
      "Training:   0%|          | 0/269 [00:00<?, ?it/s]"
     ]
    },
    {
     "name": "stdout",
     "output_type": "stream",
     "text": [
      "epoch 9, train loss: 1.607, valid rmspe: 1.349\n"
     ]
    },
    {
     "name": "stderr",
     "output_type": "stream",
     "text": [
      "Training: 100%|██████████| 269/269 [00:08<00:00, 32.81it/s]\n",
      "Evaluating: 100%|██████████| 68/68 [00:01<00:00, 56.97it/s]\n",
      "Training:   0%|          | 0/269 [00:00<?, ?it/s]"
     ]
    },
    {
     "name": "stdout",
     "output_type": "stream",
     "text": [
      "epoch 10, train loss: 1.170, valid rmspe: 0.681\n",
      "new best:0.6810293793678284\n"
     ]
    },
    {
     "name": "stderr",
     "output_type": "stream",
     "text": [
      "Training: 100%|██████████| 269/269 [00:08<00:00, 32.86it/s]\n",
      "Evaluating: 100%|██████████| 68/68 [00:01<00:00, 48.95it/s]\n",
      "Training:   0%|          | 0/269 [00:00<?, ?it/s]"
     ]
    },
    {
     "name": "stdout",
     "output_type": "stream",
     "text": [
      "epoch 11, train loss: 0.417, valid rmspe: 0.243\n",
      "new best:0.2433573454618454\n"
     ]
    },
    {
     "name": "stderr",
     "output_type": "stream",
     "text": [
      "Training: 100%|██████████| 269/269 [00:08<00:00, 33.15it/s]\n",
      "Evaluating: 100%|██████████| 68/68 [00:01<00:00, 57.83it/s]\n",
      "Training:   0%|          | 0/269 [00:00<?, ?it/s]"
     ]
    },
    {
     "name": "stdout",
     "output_type": "stream",
     "text": [
      "epoch 12, train loss: 0.279, valid rmspe: 0.234\n",
      "new best:0.2335636168718338\n"
     ]
    },
    {
     "name": "stderr",
     "output_type": "stream",
     "text": [
      "Training: 100%|██████████| 269/269 [00:08<00:00, 33.18it/s]\n",
      "Evaluating: 100%|██████████| 68/68 [00:01<00:00, 58.01it/s]\n",
      "Training:   0%|          | 0/269 [00:00<?, ?it/s]"
     ]
    },
    {
     "name": "stdout",
     "output_type": "stream",
     "text": [
      "epoch 13, train loss: 0.246, valid rmspe: 0.269\n"
     ]
    },
    {
     "name": "stderr",
     "output_type": "stream",
     "text": [
      "Training: 100%|██████████| 269/269 [00:08<00:00, 33.04it/s]\n",
      "Evaluating: 100%|██████████| 68/68 [00:01<00:00, 57.69it/s]\n",
      "Training:   0%|          | 0/269 [00:00<?, ?it/s]"
     ]
    },
    {
     "name": "stdout",
     "output_type": "stream",
     "text": [
      "epoch 14, train loss: 0.231, valid rmspe: 0.228\n",
      "new best:0.22786305844783783\n"
     ]
    },
    {
     "name": "stderr",
     "output_type": "stream",
     "text": [
      "Training: 100%|██████████| 269/269 [00:08<00:00, 32.40it/s]\n",
      "Evaluating: 100%|██████████| 68/68 [00:01<00:00, 58.16it/s]\n",
      "Training:   0%|          | 0/269 [00:00<?, ?it/s]"
     ]
    },
    {
     "name": "stdout",
     "output_type": "stream",
     "text": [
      "epoch 15, train loss: 0.232, valid rmspe: 0.219\n",
      "new best:0.2189715951681137\n"
     ]
    },
    {
     "name": "stderr",
     "output_type": "stream",
     "text": [
      "Training: 100%|██████████| 269/269 [00:08<00:00, 30.86it/s]\n",
      "Evaluating: 100%|██████████| 68/68 [00:01<00:00, 47.73it/s]\n",
      "Training:   0%|          | 0/269 [00:00<?, ?it/s]"
     ]
    },
    {
     "name": "stdout",
     "output_type": "stream",
     "text": [
      "epoch 16, train loss: 0.225, valid rmspe: 0.252\n"
     ]
    },
    {
     "name": "stderr",
     "output_type": "stream",
     "text": [
      "Training: 100%|██████████| 269/269 [00:08<00:00, 31.69it/s]\n",
      "Evaluating: 100%|██████████| 68/68 [00:01<00:00, 57.53it/s]\n",
      "Training:   0%|          | 0/269 [00:00<?, ?it/s]"
     ]
    },
    {
     "name": "stdout",
     "output_type": "stream",
     "text": [
      "epoch 17, train loss: 0.229, valid rmspe: 0.224\n"
     ]
    },
    {
     "name": "stderr",
     "output_type": "stream",
     "text": [
      "Training: 100%|██████████| 269/269 [00:08<00:00, 32.67it/s]\n",
      "Evaluating: 100%|██████████| 68/68 [00:01<00:00, 56.94it/s]\n",
      "Training:   0%|          | 0/269 [00:00<?, ?it/s]"
     ]
    },
    {
     "name": "stdout",
     "output_type": "stream",
     "text": [
      "epoch 18, train loss: 0.226, valid rmspe: 0.214\n",
      "new best:0.21353048086166382\n"
     ]
    },
    {
     "name": "stderr",
     "output_type": "stream",
     "text": [
      "Training: 100%|██████████| 269/269 [00:08<00:00, 32.87it/s]\n",
      "Evaluating: 100%|██████████| 68/68 [00:01<00:00, 58.50it/s]\n",
      "Training:   0%|          | 0/269 [00:00<?, ?it/s]"
     ]
    },
    {
     "name": "stdout",
     "output_type": "stream",
     "text": [
      "epoch 19, train loss: 0.220, valid rmspe: 0.231\n"
     ]
    },
    {
     "name": "stderr",
     "output_type": "stream",
     "text": [
      "Training: 100%|██████████| 269/269 [00:08<00:00, 33.12it/s]\n",
      "Evaluating: 100%|██████████| 68/68 [00:01<00:00, 57.34it/s]\n",
      "Training:   0%|          | 0/269 [00:00<?, ?it/s]"
     ]
    },
    {
     "name": "stdout",
     "output_type": "stream",
     "text": [
      "epoch 20, train loss: 0.221, valid rmspe: 0.228\n"
     ]
    },
    {
     "name": "stderr",
     "output_type": "stream",
     "text": [
      "Training: 100%|██████████| 269/269 [00:08<00:00, 32.50it/s]\n",
      "Evaluating: 100%|██████████| 68/68 [00:01<00:00, 56.59it/s]\n",
      "Training:   0%|          | 0/269 [00:00<?, ?it/s]"
     ]
    },
    {
     "name": "stdout",
     "output_type": "stream",
     "text": [
      "epoch 21, train loss: 0.217, valid rmspe: 0.254\n"
     ]
    },
    {
     "name": "stderr",
     "output_type": "stream",
     "text": [
      "Training: 100%|██████████| 269/269 [00:08<00:00, 32.71it/s]\n",
      "Evaluating: 100%|██████████| 68/68 [00:01<00:00, 57.44it/s]\n",
      "Training:   0%|          | 0/269 [00:00<?, ?it/s]"
     ]
    },
    {
     "name": "stdout",
     "output_type": "stream",
     "text": [
      "epoch 22, train loss: 0.222, valid rmspe: 0.218\n"
     ]
    },
    {
     "name": "stderr",
     "output_type": "stream",
     "text": [
      "Training: 100%|██████████| 269/269 [00:08<00:00, 32.25it/s]\n",
      "Evaluating: 100%|██████████| 68/68 [00:01<00:00, 45.90it/s]\n",
      "Training:   0%|          | 0/269 [00:00<?, ?it/s]"
     ]
    },
    {
     "name": "stdout",
     "output_type": "stream",
     "text": [
      "epoch 23, train loss: 0.222, valid rmspe: 0.230\n"
     ]
    },
    {
     "name": "stderr",
     "output_type": "stream",
     "text": [
      "Training: 100%|██████████| 269/269 [00:08<00:00, 30.67it/s]\n",
      "Evaluating: 100%|██████████| 68/68 [00:01<00:00, 53.68it/s]\n",
      "Training:   0%|          | 0/269 [00:00<?, ?it/s]"
     ]
    },
    {
     "name": "stdout",
     "output_type": "stream",
     "text": [
      "epoch 24, train loss: 0.223, valid rmspe: 0.228\n"
     ]
    },
    {
     "name": "stderr",
     "output_type": "stream",
     "text": [
      "Training: 100%|██████████| 269/269 [00:08<00:00, 32.76it/s]\n",
      "Evaluating: 100%|██████████| 68/68 [00:01<00:00, 57.01it/s]\n",
      "Training:   0%|          | 0/269 [00:00<?, ?it/s]"
     ]
    },
    {
     "name": "stdout",
     "output_type": "stream",
     "text": [
      "epoch 25, train loss: 0.213, valid rmspe: 0.256\n"
     ]
    },
    {
     "name": "stderr",
     "output_type": "stream",
     "text": [
      "Training: 100%|██████████| 269/269 [00:08<00:00, 33.34it/s]\n",
      "Evaluating: 100%|██████████| 68/68 [00:01<00:00, 57.72it/s]\n",
      "Training:   0%|          | 0/269 [00:00<?, ?it/s]"
     ]
    },
    {
     "name": "stdout",
     "output_type": "stream",
     "text": [
      "epoch 26, train loss: 0.215, valid rmspe: 0.246\n"
     ]
    },
    {
     "name": "stderr",
     "output_type": "stream",
     "text": [
      "Training: 100%|██████████| 269/269 [00:08<00:00, 32.68it/s]\n",
      "Evaluating: 100%|██████████| 68/68 [00:01<00:00, 55.06it/s]\n",
      "Training:   0%|          | 0/269 [00:00<?, ?it/s]"
     ]
    },
    {
     "name": "stdout",
     "output_type": "stream",
     "text": [
      "epoch 27, train loss: 0.214, valid rmspe: 0.218\n",
      "Epoch    28: reducing learning rate of group 0 to 1.1400e-04.\n"
     ]
    },
    {
     "name": "stderr",
     "output_type": "stream",
     "text": [
      "Training: 100%|██████████| 269/269 [00:08<00:00, 32.67it/s]\n",
      "Evaluating: 100%|██████████| 68/68 [00:01<00:00, 56.31it/s]\n",
      "Training:   0%|          | 0/269 [00:00<?, ?it/s]"
     ]
    },
    {
     "name": "stdout",
     "output_type": "stream",
     "text": [
      "epoch 28, train loss: 0.202, valid rmspe: 0.227\n"
     ]
    },
    {
     "name": "stderr",
     "output_type": "stream",
     "text": [
      "Training: 100%|██████████| 269/269 [00:08<00:00, 33.07it/s]\n",
      "Evaluating: 100%|██████████| 68/68 [00:01<00:00, 56.64it/s]\n",
      "Training:   0%|          | 0/269 [00:00<?, ?it/s]"
     ]
    },
    {
     "name": "stdout",
     "output_type": "stream",
     "text": [
      "epoch 29, train loss: 0.200, valid rmspe: 0.215\n"
     ]
    },
    {
     "name": "stderr",
     "output_type": "stream",
     "text": [
      "Training: 100%|██████████| 269/269 [00:08<00:00, 32.72it/s]\n",
      "Evaluating: 100%|██████████| 68/68 [00:01<00:00, 56.89it/s]\n",
      "Training:   0%|          | 0/269 [00:00<?, ?it/s]"
     ]
    },
    {
     "name": "stdout",
     "output_type": "stream",
     "text": [
      "epoch 30, train loss: 0.200, valid rmspe: 0.211\n",
      "new best:0.21093600988388062\n"
     ]
    },
    {
     "name": "stderr",
     "output_type": "stream",
     "text": [
      "Training: 100%|██████████| 269/269 [00:09<00:00, 28.99it/s]\n",
      "Evaluating: 100%|██████████| 68/68 [00:01<00:00, 47.51it/s]\n",
      "Training:   0%|          | 0/269 [00:00<?, ?it/s]"
     ]
    },
    {
     "name": "stdout",
     "output_type": "stream",
     "text": [
      "epoch 31, train loss: 0.199, valid rmspe: 0.214\n"
     ]
    },
    {
     "name": "stderr",
     "output_type": "stream",
     "text": [
      "Training: 100%|██████████| 269/269 [00:08<00:00, 32.87it/s]\n",
      "Evaluating: 100%|██████████| 68/68 [00:01<00:00, 57.06it/s]\n",
      "Training:   0%|          | 0/269 [00:00<?, ?it/s]"
     ]
    },
    {
     "name": "stdout",
     "output_type": "stream",
     "text": [
      "epoch 32, train loss: 0.197, valid rmspe: 0.212\n"
     ]
    },
    {
     "name": "stderr",
     "output_type": "stream",
     "text": [
      "Training: 100%|██████████| 269/269 [00:08<00:00, 33.14it/s]\n",
      "Evaluating: 100%|██████████| 68/68 [00:01<00:00, 57.59it/s]\n",
      "Training:   0%|          | 0/269 [00:00<?, ?it/s]"
     ]
    },
    {
     "name": "stdout",
     "output_type": "stream",
     "text": [
      "epoch 33, train loss: 0.198, valid rmspe: 0.210\n",
      "new best:0.21028441190719604\n"
     ]
    },
    {
     "name": "stderr",
     "output_type": "stream",
     "text": [
      "Training: 100%|██████████| 269/269 [00:08<00:00, 32.86it/s]\n",
      "Evaluating: 100%|██████████| 68/68 [00:01<00:00, 46.27it/s]\n",
      "Training:   0%|          | 0/269 [00:00<?, ?it/s]"
     ]
    },
    {
     "name": "stdout",
     "output_type": "stream",
     "text": [
      "epoch 34, train loss: 0.196, valid rmspe: 0.219\n"
     ]
    },
    {
     "name": "stderr",
     "output_type": "stream",
     "text": [
      "Training: 100%|██████████| 269/269 [00:08<00:00, 32.89it/s]\n",
      "Evaluating: 100%|██████████| 68/68 [00:01<00:00, 56.59it/s]\n",
      "Training:   0%|          | 0/269 [00:00<?, ?it/s]"
     ]
    },
    {
     "name": "stdout",
     "output_type": "stream",
     "text": [
      "epoch 35, train loss: 0.196, valid rmspe: 0.220\n"
     ]
    },
    {
     "name": "stderr",
     "output_type": "stream",
     "text": [
      "Training: 100%|██████████| 269/269 [00:08<00:00, 32.77it/s]\n",
      "Evaluating: 100%|██████████| 68/68 [00:01<00:00, 57.23it/s]\n",
      "Training:   0%|          | 0/269 [00:00<?, ?it/s]"
     ]
    },
    {
     "name": "stdout",
     "output_type": "stream",
     "text": [
      "epoch 36, train loss: 0.197, valid rmspe: 0.212\n"
     ]
    },
    {
     "name": "stderr",
     "output_type": "stream",
     "text": [
      "Training: 100%|██████████| 269/269 [00:08<00:00, 33.12it/s]\n",
      "Evaluating: 100%|██████████| 68/68 [00:01<00:00, 57.34it/s]\n",
      "Training:   0%|          | 0/269 [00:00<?, ?it/s]"
     ]
    },
    {
     "name": "stdout",
     "output_type": "stream",
     "text": [
      "epoch 37, train loss: 0.194, valid rmspe: 0.210\n",
      "new best:0.2100549340248108\n"
     ]
    },
    {
     "name": "stderr",
     "output_type": "stream",
     "text": [
      "Training: 100%|██████████| 269/269 [00:08<00:00, 30.81it/s]\n",
      "Evaluating: 100%|██████████| 68/68 [00:01<00:00, 47.73it/s]\n",
      "Training:   0%|          | 0/269 [00:00<?, ?it/s]"
     ]
    },
    {
     "name": "stdout",
     "output_type": "stream",
     "text": [
      "epoch 38, train loss: 0.192, valid rmspe: 0.214\n"
     ]
    },
    {
     "name": "stderr",
     "output_type": "stream",
     "text": [
      "Training: 100%|██████████| 269/269 [00:08<00:00, 31.68it/s]\n",
      "Evaluating: 100%|██████████| 68/68 [00:01<00:00, 57.24it/s]\n",
      "Training:   0%|          | 0/269 [00:00<?, ?it/s]"
     ]
    },
    {
     "name": "stdout",
     "output_type": "stream",
     "text": [
      "epoch 39, train loss: 0.193, valid rmspe: 0.210\n",
      "new best:0.20951223373413086\n"
     ]
    },
    {
     "name": "stderr",
     "output_type": "stream",
     "text": [
      "Training: 100%|██████████| 269/269 [00:08<00:00, 32.92it/s]\n",
      "Evaluating: 100%|██████████| 68/68 [00:01<00:00, 58.11it/s]\n",
      "Training:   0%|          | 0/269 [00:00<?, ?it/s]"
     ]
    },
    {
     "name": "stdout",
     "output_type": "stream",
     "text": [
      "epoch 40, train loss: 0.194, valid rmspe: 0.211\n"
     ]
    },
    {
     "name": "stderr",
     "output_type": "stream",
     "text": [
      "Training: 100%|██████████| 269/269 [00:08<00:00, 32.26it/s]\n",
      "Evaluating: 100%|██████████| 68/68 [00:01<00:00, 57.18it/s]\n",
      "Training:   0%|          | 0/269 [00:00<?, ?it/s]"
     ]
    },
    {
     "name": "stdout",
     "output_type": "stream",
     "text": [
      "epoch 41, train loss: 0.189, valid rmspe: 0.215\n"
     ]
    },
    {
     "name": "stderr",
     "output_type": "stream",
     "text": [
      "Training: 100%|██████████| 269/269 [00:08<00:00, 32.50it/s]\n",
      "Evaluating: 100%|██████████| 68/68 [00:01<00:00, 57.66it/s]\n",
      "Training:   0%|          | 0/269 [00:00<?, ?it/s]"
     ]
    },
    {
     "name": "stdout",
     "output_type": "stream",
     "text": [
      "epoch 42, train loss: 0.198, valid rmspe: 0.220\n"
     ]
    },
    {
     "name": "stderr",
     "output_type": "stream",
     "text": [
      "Training: 100%|██████████| 269/269 [00:08<00:00, 32.59it/s]\n",
      "Evaluating: 100%|██████████| 68/68 [00:01<00:00, 58.13it/s]\n",
      "Training:   0%|          | 0/269 [00:00<?, ?it/s]"
     ]
    },
    {
     "name": "stdout",
     "output_type": "stream",
     "text": [
      "epoch 43, train loss: 0.190, valid rmspe: 0.218\n"
     ]
    },
    {
     "name": "stderr",
     "output_type": "stream",
     "text": [
      "Training: 100%|██████████| 269/269 [00:08<00:00, 32.62it/s]\n",
      "Evaluating: 100%|██████████| 68/68 [00:01<00:00, 52.35it/s]\n",
      "Training:   0%|          | 0/269 [00:00<?, ?it/s]"
     ]
    },
    {
     "name": "stdout",
     "output_type": "stream",
     "text": [
      "epoch 44, train loss: 0.188, valid rmspe: 0.209\n",
      "new best:0.2087356597185135\n"
     ]
    },
    {
     "name": "stderr",
     "output_type": "stream",
     "text": [
      "Training: 100%|██████████| 269/269 [00:08<00:00, 32.79it/s]\n",
      "Evaluating: 100%|██████████| 68/68 [00:01<00:00, 47.50it/s]\n",
      "Training:   0%|          | 0/269 [00:00<?, ?it/s]"
     ]
    },
    {
     "name": "stdout",
     "output_type": "stream",
     "text": [
      "epoch 45, train loss: 0.187, valid rmspe: 0.218\n"
     ]
    },
    {
     "name": "stderr",
     "output_type": "stream",
     "text": [
      "Training: 100%|██████████| 269/269 [00:08<00:00, 30.40it/s]\n",
      "Evaluating: 100%|██████████| 68/68 [00:01<00:00, 57.67it/s]\n",
      "Training:   0%|          | 0/269 [00:00<?, ?it/s]"
     ]
    },
    {
     "name": "stdout",
     "output_type": "stream",
     "text": [
      "epoch 46, train loss: 0.185, valid rmspe: 0.211\n"
     ]
    },
    {
     "name": "stderr",
     "output_type": "stream",
     "text": [
      "Training: 100%|██████████| 269/269 [00:08<00:00, 32.93it/s]\n",
      "Evaluating: 100%|██████████| 68/68 [00:01<00:00, 57.15it/s]\n",
      "Training:   0%|          | 0/269 [00:00<?, ?it/s]"
     ]
    },
    {
     "name": "stdout",
     "output_type": "stream",
     "text": [
      "epoch 47, train loss: 0.185, valid rmspe: 0.221\n"
     ]
    },
    {
     "name": "stderr",
     "output_type": "stream",
     "text": [
      "Training: 100%|██████████| 269/269 [00:08<00:00, 32.58it/s]\n",
      "Evaluating: 100%|██████████| 68/68 [00:01<00:00, 55.77it/s]\n",
      "Training:   0%|          | 0/269 [00:00<?, ?it/s]"
     ]
    },
    {
     "name": "stdout",
     "output_type": "stream",
     "text": [
      "epoch 48, train loss: 0.186, valid rmspe: 0.213\n"
     ]
    },
    {
     "name": "stderr",
     "output_type": "stream",
     "text": [
      "Training: 100%|██████████| 269/269 [00:08<00:00, 32.96it/s]\n",
      "Evaluating: 100%|██████████| 68/68 [00:01<00:00, 54.96it/s]\n"
     ]
    },
    {
     "name": "stdout",
     "output_type": "stream",
     "text": [
      "epoch 49, train loss: 0.183, valid rmspe: 0.208\n",
      "new best:0.20849047601222992\n"
     ]
    },
    {
     "name": "stderr",
     "output_type": "stream",
     "text": [
      "Training:   0%|          | 0/269 [00:00<?, ?it/s]"
     ]
    },
    {
     "name": "stdout",
     "output_type": "stream",
     "text": [
      "fold 1 train: (343145, 100), valid: (85787, 100)\n"
     ]
    },
    {
     "name": "stderr",
     "output_type": "stream",
     "text": [
      "Training: 100%|██████████| 269/269 [00:08<00:00, 33.11it/s]\n",
      "Evaluating: 100%|██████████| 68/68 [00:01<00:00, 54.61it/s]\n",
      "Training:   0%|          | 0/269 [00:00<?, ?it/s]"
     ]
    },
    {
     "name": "stdout",
     "output_type": "stream",
     "text": [
      "epoch 0, train loss: 64.377, valid rmspe: 31.051\n",
      "new best:31.050561904907227\n"
     ]
    },
    {
     "name": "stderr",
     "output_type": "stream",
     "text": [
      "Training: 100%|██████████| 269/269 [00:08<00:00, 32.32it/s]\n",
      "Evaluating: 100%|██████████| 68/68 [00:01<00:00, 55.85it/s]\n",
      "Training:   0%|          | 0/269 [00:00<?, ?it/s]"
     ]
    },
    {
     "name": "stdout",
     "output_type": "stream",
     "text": [
      "epoch 1, train loss: 18.773, valid rmspe: 12.182\n",
      "new best:12.181533813476562\n"
     ]
    },
    {
     "name": "stderr",
     "output_type": "stream",
     "text": [
      "Training: 100%|██████████| 269/269 [00:08<00:00, 33.00it/s]\n",
      "Evaluating: 100%|██████████| 68/68 [00:01<00:00, 57.12it/s]\n",
      "Training:   0%|          | 0/269 [00:00<?, ?it/s]"
     ]
    },
    {
     "name": "stdout",
     "output_type": "stream",
     "text": [
      "epoch 2, train loss: 13.553, valid rmspe: 7.844\n",
      "new best:7.843871116638184\n"
     ]
    },
    {
     "name": "stderr",
     "output_type": "stream",
     "text": [
      "Training: 100%|██████████| 269/269 [00:08<00:00, 30.13it/s]\n",
      "Evaluating: 100%|██████████| 68/68 [00:01<00:00, 45.27it/s]\n",
      "Training:   0%|          | 0/269 [00:00<?, ?it/s]"
     ]
    },
    {
     "name": "stdout",
     "output_type": "stream",
     "text": [
      "epoch 3, train loss: 10.506, valid rmspe: 5.735\n",
      "new best:5.735016822814941\n"
     ]
    },
    {
     "name": "stderr",
     "output_type": "stream",
     "text": [
      "Training: 100%|██████████| 269/269 [00:08<00:00, 31.71it/s]\n",
      "Evaluating: 100%|██████████| 68/68 [00:01<00:00, 56.88it/s]\n",
      "Training:   0%|          | 0/269 [00:00<?, ?it/s]"
     ]
    },
    {
     "name": "stdout",
     "output_type": "stream",
     "text": [
      "epoch 4, train loss: 8.651, valid rmspe: 14.365\n"
     ]
    },
    {
     "name": "stderr",
     "output_type": "stream",
     "text": [
      "Training: 100%|██████████| 269/269 [00:08<00:00, 33.33it/s]\n",
      "Evaluating: 100%|██████████| 68/68 [00:01<00:00, 56.43it/s]\n",
      "Training:   0%|          | 0/269 [00:00<?, ?it/s]"
     ]
    },
    {
     "name": "stdout",
     "output_type": "stream",
     "text": [
      "epoch 5, train loss: 6.727, valid rmspe: 3.092\n",
      "new best:3.09211802482605\n"
     ]
    },
    {
     "name": "stderr",
     "output_type": "stream",
     "text": [
      "Training: 100%|██████████| 269/269 [00:08<00:00, 32.94it/s]\n",
      "Evaluating: 100%|██████████| 68/68 [00:01<00:00, 56.89it/s]\n",
      "Training:   0%|          | 0/269 [00:00<?, ?it/s]"
     ]
    },
    {
     "name": "stdout",
     "output_type": "stream",
     "text": [
      "epoch 6, train loss: 4.585, valid rmspe: 2.173\n",
      "new best:2.1726107597351074\n"
     ]
    },
    {
     "name": "stderr",
     "output_type": "stream",
     "text": [
      "Training: 100%|██████████| 269/269 [00:08<00:00, 33.08it/s]\n",
      "Evaluating: 100%|██████████| 68/68 [00:01<00:00, 45.13it/s]\n",
      "Training:   0%|          | 0/269 [00:00<?, ?it/s]"
     ]
    },
    {
     "name": "stdout",
     "output_type": "stream",
     "text": [
      "epoch 7, train loss: 3.266, valid rmspe: 1.374\n",
      "new best:1.3743587732315063\n"
     ]
    },
    {
     "name": "stderr",
     "output_type": "stream",
     "text": [
      "Training: 100%|██████████| 269/269 [00:08<00:00, 32.81it/s]\n",
      "Evaluating: 100%|██████████| 68/68 [00:01<00:00, 57.55it/s]\n",
      "Training:   0%|          | 0/269 [00:00<?, ?it/s]"
     ]
    },
    {
     "name": "stdout",
     "output_type": "stream",
     "text": [
      "epoch 8, train loss: 3.018, valid rmspe: 6.445\n"
     ]
    },
    {
     "name": "stderr",
     "output_type": "stream",
     "text": [
      "Training: 100%|██████████| 269/269 [00:08<00:00, 33.12it/s]\n",
      "Evaluating: 100%|██████████| 68/68 [00:01<00:00, 57.56it/s]\n",
      "Training:   0%|          | 0/269 [00:00<?, ?it/s]"
     ]
    },
    {
     "name": "stdout",
     "output_type": "stream",
     "text": [
      "epoch 9, train loss: 2.071, valid rmspe: 1.513\n"
     ]
    },
    {
     "name": "stderr",
     "output_type": "stream",
     "text": [
      "Training: 100%|██████████| 269/269 [00:08<00:00, 32.29it/s]\n",
      "Evaluating: 100%|██████████| 68/68 [00:01<00:00, 47.32it/s]\n",
      "Training:   0%|          | 0/269 [00:00<?, ?it/s]"
     ]
    },
    {
     "name": "stdout",
     "output_type": "stream",
     "text": [
      "epoch 10, train loss: 1.863, valid rmspe: 1.598\n"
     ]
    },
    {
     "name": "stderr",
     "output_type": "stream",
     "text": [
      "Training: 100%|██████████| 269/269 [00:09<00:00, 29.39it/s]\n",
      "Evaluating: 100%|██████████| 68/68 [00:01<00:00, 57.06it/s]\n",
      "Training:   0%|          | 0/269 [00:00<?, ?it/s]"
     ]
    },
    {
     "name": "stdout",
     "output_type": "stream",
     "text": [
      "epoch 11, train loss: 1.275, valid rmspe: 0.501\n",
      "new best:0.5008829236030579\n"
     ]
    },
    {
     "name": "stderr",
     "output_type": "stream",
     "text": [
      "Training: 100%|██████████| 269/269 [00:08<00:00, 33.23it/s]\n",
      "Evaluating: 100%|██████████| 68/68 [00:01<00:00, 58.20it/s]\n",
      "Training:   0%|          | 0/269 [00:00<?, ?it/s]"
     ]
    },
    {
     "name": "stdout",
     "output_type": "stream",
     "text": [
      "epoch 12, train loss: 0.753, valid rmspe: 1.272\n"
     ]
    },
    {
     "name": "stderr",
     "output_type": "stream",
     "text": [
      "Training: 100%|██████████| 269/269 [00:08<00:00, 33.21it/s]\n",
      "Evaluating: 100%|██████████| 68/68 [00:01<00:00, 57.28it/s]\n",
      "Training:   0%|          | 0/269 [00:00<?, ?it/s]"
     ]
    },
    {
     "name": "stdout",
     "output_type": "stream",
     "text": [
      "epoch 13, train loss: 0.843, valid rmspe: 0.754\n"
     ]
    },
    {
     "name": "stderr",
     "output_type": "stream",
     "text": [
      "Training: 100%|██████████| 269/269 [00:08<00:00, 32.61it/s]\n",
      "Evaluating: 100%|██████████| 68/68 [00:01<00:00, 57.06it/s]\n",
      "Training:   0%|          | 0/269 [00:00<?, ?it/s]"
     ]
    },
    {
     "name": "stdout",
     "output_type": "stream",
     "text": [
      "epoch 14, train loss: 0.660, valid rmspe: 0.445\n",
      "new best:0.44472241401672363\n"
     ]
    },
    {
     "name": "stderr",
     "output_type": "stream",
     "text": [
      "Training: 100%|██████████| 269/269 [00:08<00:00, 33.22it/s]\n",
      "Evaluating: 100%|██████████| 68/68 [00:01<00:00, 54.94it/s]\n",
      "Training:   0%|          | 0/269 [00:00<?, ?it/s]"
     ]
    },
    {
     "name": "stdout",
     "output_type": "stream",
     "text": [
      "epoch 15, train loss: 0.454, valid rmspe: 0.331\n",
      "new best:0.33125317096710205\n"
     ]
    },
    {
     "name": "stderr",
     "output_type": "stream",
     "text": [
      "Training: 100%|██████████| 269/269 [00:08<00:00, 33.04it/s]\n",
      "Evaluating: 100%|██████████| 68/68 [00:01<00:00, 57.56it/s]\n",
      "Training:   0%|          | 0/269 [00:00<?, ?it/s]"
     ]
    },
    {
     "name": "stdout",
     "output_type": "stream",
     "text": [
      "epoch 16, train loss: 0.422, valid rmspe: 0.497\n"
     ]
    },
    {
     "name": "stderr",
     "output_type": "stream",
     "text": [
      "Training: 100%|██████████| 269/269 [00:08<00:00, 32.28it/s]\n",
      "Evaluating: 100%|██████████| 68/68 [00:01<00:00, 53.39it/s]\n",
      "Training:   0%|          | 0/269 [00:00<?, ?it/s]"
     ]
    },
    {
     "name": "stdout",
     "output_type": "stream",
     "text": [
      "epoch 17, train loss: 0.363, valid rmspe: 0.234\n",
      "new best:0.23389244079589844\n"
     ]
    },
    {
     "name": "stderr",
     "output_type": "stream",
     "text": [
      "Training: 100%|██████████| 269/269 [00:08<00:00, 30.71it/s]\n",
      "Evaluating: 100%|██████████| 68/68 [00:01<00:00, 46.15it/s]\n",
      "Training:   0%|          | 0/269 [00:00<?, ?it/s]"
     ]
    },
    {
     "name": "stdout",
     "output_type": "stream",
     "text": [
      "epoch 18, train loss: 0.310, valid rmspe: 0.657\n"
     ]
    },
    {
     "name": "stderr",
     "output_type": "stream",
     "text": [
      "Training: 100%|██████████| 269/269 [00:08<00:00, 32.22it/s]\n",
      "Evaluating: 100%|██████████| 68/68 [00:01<00:00, 55.64it/s]\n",
      "Training:   0%|          | 0/269 [00:00<?, ?it/s]"
     ]
    },
    {
     "name": "stdout",
     "output_type": "stream",
     "text": [
      "epoch 19, train loss: 0.310, valid rmspe: 0.303\n"
     ]
    },
    {
     "name": "stderr",
     "output_type": "stream",
     "text": [
      "Training: 100%|██████████| 269/269 [00:08<00:00, 32.44it/s]\n",
      "Evaluating: 100%|██████████| 68/68 [00:01<00:00, 58.77it/s]\n",
      "Training:   0%|          | 0/269 [00:00<?, ?it/s]"
     ]
    },
    {
     "name": "stdout",
     "output_type": "stream",
     "text": [
      "epoch 20, train loss: 0.284, valid rmspe: 0.237\n"
     ]
    },
    {
     "name": "stderr",
     "output_type": "stream",
     "text": [
      "Training: 100%|██████████| 269/269 [00:08<00:00, 32.61it/s]\n",
      "Evaluating: 100%|██████████| 68/68 [00:01<00:00, 57.18it/s]\n",
      "Training:   0%|          | 0/269 [00:00<?, ?it/s]"
     ]
    },
    {
     "name": "stdout",
     "output_type": "stream",
     "text": [
      "epoch 21, train loss: 0.250, valid rmspe: 0.277\n"
     ]
    },
    {
     "name": "stderr",
     "output_type": "stream",
     "text": [
      "Training: 100%|██████████| 269/269 [00:08<00:00, 32.67it/s]\n",
      "Evaluating: 100%|██████████| 68/68 [00:01<00:00, 58.34it/s]\n",
      "Training:   0%|          | 0/269 [00:00<?, ?it/s]"
     ]
    },
    {
     "name": "stdout",
     "output_type": "stream",
     "text": [
      "epoch 22, train loss: 0.243, valid rmspe: 0.225\n",
      "new best:0.22546446323394775\n"
     ]
    },
    {
     "name": "stderr",
     "output_type": "stream",
     "text": [
      "Training: 100%|██████████| 269/269 [00:08<00:00, 33.13it/s]\n",
      "Evaluating: 100%|██████████| 68/68 [00:01<00:00, 56.78it/s]\n",
      "Training:   0%|          | 0/269 [00:00<?, ?it/s]"
     ]
    },
    {
     "name": "stdout",
     "output_type": "stream",
     "text": [
      "epoch 23, train loss: 0.240, valid rmspe: 0.234\n"
     ]
    },
    {
     "name": "stderr",
     "output_type": "stream",
     "text": [
      "Training: 100%|██████████| 269/269 [00:08<00:00, 32.50it/s]\n",
      "Evaluating: 100%|██████████| 68/68 [00:01<00:00, 55.01it/s]\n",
      "Training:   0%|          | 0/269 [00:00<?, ?it/s]"
     ]
    },
    {
     "name": "stdout",
     "output_type": "stream",
     "text": [
      "epoch 24, train loss: 0.228, valid rmspe: 0.213\n",
      "new best:0.21277911961078644\n"
     ]
    },
    {
     "name": "stderr",
     "output_type": "stream",
     "text": [
      "Training: 100%|██████████| 269/269 [00:08<00:00, 31.33it/s]\n",
      "Evaluating: 100%|██████████| 68/68 [00:01<00:00, 43.82it/s]\n",
      "Training:   0%|          | 0/269 [00:00<?, ?it/s]"
     ]
    },
    {
     "name": "stdout",
     "output_type": "stream",
     "text": [
      "epoch 25, train loss: 0.222, valid rmspe: 0.224\n"
     ]
    },
    {
     "name": "stderr",
     "output_type": "stream",
     "text": [
      "Training: 100%|██████████| 269/269 [00:08<00:00, 30.19it/s]\n",
      "Evaluating: 100%|██████████| 68/68 [00:01<00:00, 55.53it/s]\n",
      "Training:   0%|          | 0/269 [00:00<?, ?it/s]"
     ]
    },
    {
     "name": "stdout",
     "output_type": "stream",
     "text": [
      "epoch 26, train loss: 0.219, valid rmspe: 0.241\n"
     ]
    },
    {
     "name": "stderr",
     "output_type": "stream",
     "text": [
      "Training: 100%|██████████| 269/269 [00:08<00:00, 32.24it/s]\n",
      "Evaluating: 100%|██████████| 68/68 [00:01<00:00, 55.91it/s]\n",
      "Training:   0%|          | 0/269 [00:00<?, ?it/s]"
     ]
    },
    {
     "name": "stdout",
     "output_type": "stream",
     "text": [
      "epoch 27, train loss: 0.220, valid rmspe: 0.217\n"
     ]
    },
    {
     "name": "stderr",
     "output_type": "stream",
     "text": [
      "Training: 100%|██████████| 269/269 [00:08<00:00, 32.96it/s]\n",
      "Evaluating: 100%|██████████| 68/68 [00:01<00:00, 57.01it/s]\n",
      "Training:   0%|          | 0/269 [00:00<?, ?it/s]"
     ]
    },
    {
     "name": "stdout",
     "output_type": "stream",
     "text": [
      "epoch 28, train loss: 0.217, valid rmspe: 0.216\n"
     ]
    },
    {
     "name": "stderr",
     "output_type": "stream",
     "text": [
      "Training: 100%|██████████| 269/269 [00:08<00:00, 33.51it/s]\n",
      "Evaluating: 100%|██████████| 68/68 [00:01<00:00, 56.05it/s]\n",
      "Training:   0%|          | 0/269 [00:00<?, ?it/s]"
     ]
    },
    {
     "name": "stdout",
     "output_type": "stream",
     "text": [
      "epoch 29, train loss: 0.217, valid rmspe: 0.212\n",
      "new best:0.21225956082344055\n"
     ]
    },
    {
     "name": "stderr",
     "output_type": "stream",
     "text": [
      "Training: 100%|██████████| 269/269 [00:08<00:00, 33.04it/s]\n",
      "Evaluating: 100%|██████████| 68/68 [00:01<00:00, 45.18it/s]\n",
      "Training:   0%|          | 0/269 [00:00<?, ?it/s]"
     ]
    },
    {
     "name": "stdout",
     "output_type": "stream",
     "text": [
      "epoch 30, train loss: 0.218, valid rmspe: 0.213\n"
     ]
    },
    {
     "name": "stderr",
     "output_type": "stream",
     "text": [
      "Training: 100%|██████████| 269/269 [00:08<00:00, 32.68it/s]\n",
      "Evaluating: 100%|██████████| 68/68 [00:01<00:00, 57.96it/s]\n",
      "Training:   0%|          | 0/269 [00:00<?, ?it/s]"
     ]
    },
    {
     "name": "stdout",
     "output_type": "stream",
     "text": [
      "epoch 31, train loss: 0.220, valid rmspe: 0.208\n",
      "new best:0.20774374902248383\n"
     ]
    },
    {
     "name": "stderr",
     "output_type": "stream",
     "text": [
      "Training: 100%|██████████| 269/269 [00:08<00:00, 32.53it/s]\n",
      "Evaluating: 100%|██████████| 68/68 [00:01<00:00, 58.22it/s]\n",
      "Training:   0%|          | 0/269 [00:00<?, ?it/s]"
     ]
    },
    {
     "name": "stdout",
     "output_type": "stream",
     "text": [
      "epoch 32, train loss: 0.219, valid rmspe: 0.214\n"
     ]
    },
    {
     "name": "stderr",
     "output_type": "stream",
     "text": [
      "Training: 100%|██████████| 269/269 [00:08<00:00, 30.14it/s]\n",
      "Evaluating: 100%|██████████| 68/68 [00:01<00:00, 47.44it/s]\n",
      "Training:   0%|          | 0/269 [00:00<?, ?it/s]"
     ]
    },
    {
     "name": "stdout",
     "output_type": "stream",
     "text": [
      "epoch 33, train loss: 0.217, valid rmspe: 0.207\n",
      "new best:0.20741283893585205\n"
     ]
    },
    {
     "name": "stderr",
     "output_type": "stream",
     "text": [
      "Training: 100%|██████████| 269/269 [00:08<00:00, 30.90it/s]\n",
      "Evaluating: 100%|██████████| 68/68 [00:01<00:00, 57.07it/s]\n",
      "Training:   0%|          | 0/269 [00:00<?, ?it/s]"
     ]
    },
    {
     "name": "stdout",
     "output_type": "stream",
     "text": [
      "epoch 34, train loss: 0.223, valid rmspe: 0.214\n"
     ]
    },
    {
     "name": "stderr",
     "output_type": "stream",
     "text": [
      "Training: 100%|██████████| 269/269 [00:08<00:00, 33.18it/s]\n",
      "Evaluating: 100%|██████████| 68/68 [00:01<00:00, 57.50it/s]\n",
      "Training:   0%|          | 0/269 [00:00<?, ?it/s]"
     ]
    },
    {
     "name": "stdout",
     "output_type": "stream",
     "text": [
      "epoch 35, train loss: 0.212, valid rmspe: 0.215\n"
     ]
    },
    {
     "name": "stderr",
     "output_type": "stream",
     "text": [
      "Training: 100%|██████████| 269/269 [00:08<00:00, 32.92it/s]\n",
      "Evaluating: 100%|██████████| 68/68 [00:01<00:00, 55.94it/s]\n",
      "Training:   0%|          | 0/269 [00:00<?, ?it/s]"
     ]
    },
    {
     "name": "stdout",
     "output_type": "stream",
     "text": [
      "epoch 36, train loss: 0.210, valid rmspe: 0.208\n"
     ]
    },
    {
     "name": "stderr",
     "output_type": "stream",
     "text": [
      "Training: 100%|██████████| 269/269 [00:08<00:00, 32.46it/s]\n",
      "Evaluating: 100%|██████████| 68/68 [00:01<00:00, 57.26it/s]\n",
      "Training:   0%|          | 0/269 [00:00<?, ?it/s]"
     ]
    },
    {
     "name": "stdout",
     "output_type": "stream",
     "text": [
      "epoch 37, train loss: 0.213, valid rmspe: 0.219\n"
     ]
    },
    {
     "name": "stderr",
     "output_type": "stream",
     "text": [
      "Training: 100%|██████████| 269/269 [00:08<00:00, 33.03it/s]\n",
      "Evaluating: 100%|██████████| 68/68 [00:01<00:00, 58.27it/s]\n",
      "Training:   0%|          | 0/269 [00:00<?, ?it/s]"
     ]
    },
    {
     "name": "stdout",
     "output_type": "stream",
     "text": [
      "epoch 38, train loss: 0.218, valid rmspe: 0.251\n"
     ]
    },
    {
     "name": "stderr",
     "output_type": "stream",
     "text": [
      "Training: 100%|██████████| 269/269 [00:08<00:00, 32.97it/s]\n",
      "Evaluating: 100%|██████████| 68/68 [00:01<00:00, 57.22it/s]\n",
      "Training:   0%|          | 0/269 [00:00<?, ?it/s]"
     ]
    },
    {
     "name": "stdout",
     "output_type": "stream",
     "text": [
      "epoch 39, train loss: 0.218, valid rmspe: 0.207\n",
      "new best:0.20733126997947693\n"
     ]
    },
    {
     "name": "stderr",
     "output_type": "stream",
     "text": [
      "Training: 100%|██████████| 269/269 [00:08<00:00, 31.86it/s]\n",
      "Evaluating: 100%|██████████| 68/68 [00:01<00:00, 43.06it/s]\n",
      "Training:   0%|          | 0/269 [00:00<?, ?it/s]"
     ]
    },
    {
     "name": "stdout",
     "output_type": "stream",
     "text": [
      "epoch 40, train loss: 0.212, valid rmspe: 0.208\n"
     ]
    },
    {
     "name": "stderr",
     "output_type": "stream",
     "text": [
      "Training: 100%|██████████| 269/269 [00:09<00:00, 29.77it/s]\n",
      "Evaluating: 100%|██████████| 68/68 [00:01<00:00, 56.62it/s]\n",
      "Training:   0%|          | 0/269 [00:00<?, ?it/s]"
     ]
    },
    {
     "name": "stdout",
     "output_type": "stream",
     "text": [
      "epoch 41, train loss: 0.211, valid rmspe: 0.210\n"
     ]
    },
    {
     "name": "stderr",
     "output_type": "stream",
     "text": [
      "Training: 100%|██████████| 269/269 [00:08<00:00, 33.08it/s]\n",
      "Evaluating: 100%|██████████| 68/68 [00:01<00:00, 56.80it/s]\n",
      "Training:   0%|          | 0/269 [00:00<?, ?it/s]"
     ]
    },
    {
     "name": "stdout",
     "output_type": "stream",
     "text": [
      "epoch 42, train loss: 0.209, valid rmspe: 0.221\n"
     ]
    },
    {
     "name": "stderr",
     "output_type": "stream",
     "text": [
      "Training: 100%|██████████| 269/269 [00:08<00:00, 32.89it/s]\n",
      "Evaluating: 100%|██████████| 68/68 [00:01<00:00, 56.91it/s]\n",
      "Training:   0%|          | 0/269 [00:00<?, ?it/s]"
     ]
    },
    {
     "name": "stdout",
     "output_type": "stream",
     "text": [
      "epoch 43, train loss: 0.207, valid rmspe: 0.234\n"
     ]
    },
    {
     "name": "stderr",
     "output_type": "stream",
     "text": [
      "Training: 100%|██████████| 269/269 [00:08<00:00, 32.29it/s]\n",
      "Evaluating: 100%|██████████| 68/68 [00:01<00:00, 55.67it/s]\n",
      "Training:   0%|          | 0/269 [00:00<?, ?it/s]"
     ]
    },
    {
     "name": "stdout",
     "output_type": "stream",
     "text": [
      "epoch 44, train loss: 0.209, valid rmspe: 0.211\n"
     ]
    },
    {
     "name": "stderr",
     "output_type": "stream",
     "text": [
      "Training: 100%|██████████| 269/269 [00:08<00:00, 33.09it/s]\n",
      "Evaluating: 100%|██████████| 68/68 [00:01<00:00, 56.96it/s]\n",
      "Training:   0%|          | 0/269 [00:00<?, ?it/s]"
     ]
    },
    {
     "name": "stdout",
     "output_type": "stream",
     "text": [
      "epoch 45, train loss: 0.209, valid rmspe: 0.261\n"
     ]
    },
    {
     "name": "stderr",
     "output_type": "stream",
     "text": [
      "Training: 100%|██████████| 269/269 [00:08<00:00, 32.98it/s]\n",
      "Evaluating: 100%|██████████| 68/68 [00:01<00:00, 57.68it/s]\n",
      "Training:   0%|          | 0/269 [00:00<?, ?it/s]"
     ]
    },
    {
     "name": "stdout",
     "output_type": "stream",
     "text": [
      "epoch 46, train loss: 0.216, valid rmspe: 0.205\n",
      "new best:0.20523984730243683\n"
     ]
    },
    {
     "name": "stderr",
     "output_type": "stream",
     "text": [
      "Training: 100%|██████████| 269/269 [00:08<00:00, 32.46it/s]\n",
      "Evaluating: 100%|██████████| 68/68 [00:01<00:00, 57.54it/s]\n",
      "Training:   0%|          | 0/269 [00:00<?, ?it/s]"
     ]
    },
    {
     "name": "stdout",
     "output_type": "stream",
     "text": [
      "epoch 47, train loss: 0.212, valid rmspe: 0.279\n"
     ]
    },
    {
     "name": "stderr",
     "output_type": "stream",
     "text": [
      "Training: 100%|██████████| 269/269 [00:08<00:00, 30.58it/s]\n",
      "Evaluating: 100%|██████████| 68/68 [00:01<00:00, 47.01it/s]\n",
      "Training:   0%|          | 0/269 [00:00<?, ?it/s]"
     ]
    },
    {
     "name": "stdout",
     "output_type": "stream",
     "text": [
      "epoch 48, train loss: 0.231, valid rmspe: 0.209\n"
     ]
    },
    {
     "name": "stderr",
     "output_type": "stream",
     "text": [
      "Training: 100%|██████████| 269/269 [00:08<00:00, 31.07it/s]\n",
      "Evaluating: 100%|██████████| 68/68 [00:01<00:00, 57.78it/s]\n"
     ]
    },
    {
     "name": "stdout",
     "output_type": "stream",
     "text": [
      "epoch 49, train loss: 0.211, valid rmspe: 0.244\n",
      "fold 2 train: (343146, 100), valid: (85786, 100)\n"
     ]
    },
    {
     "name": "stderr",
     "output_type": "stream",
     "text": [
      "Training: 100%|██████████| 269/269 [00:08<00:00, 32.18it/s]\n",
      "Evaluating: 100%|██████████| 68/68 [00:01<00:00, 57.75it/s]\n",
      "Training:   0%|          | 0/269 [00:00<?, ?it/s]"
     ]
    },
    {
     "name": "stdout",
     "output_type": "stream",
     "text": [
      "epoch 0, train loss: 63.716, valid rmspe: 30.100\n",
      "new best:30.10003089904785\n"
     ]
    },
    {
     "name": "stderr",
     "output_type": "stream",
     "text": [
      "Training: 100%|██████████| 269/269 [00:08<00:00, 33.15it/s]\n",
      "Evaluating: 100%|██████████| 68/68 [00:01<00:00, 55.92it/s]\n",
      "Training:   0%|          | 0/269 [00:00<?, ?it/s]"
     ]
    },
    {
     "name": "stdout",
     "output_type": "stream",
     "text": [
      "epoch 1, train loss: 15.911, valid rmspe: 13.828\n",
      "new best:13.828407287597656\n"
     ]
    },
    {
     "name": "stderr",
     "output_type": "stream",
     "text": [
      "Training: 100%|██████████| 269/269 [00:08<00:00, 33.13it/s]\n",
      "Evaluating: 100%|██████████| 68/68 [00:01<00:00, 57.31it/s]\n",
      "Training:   0%|          | 0/269 [00:00<?, ?it/s]"
     ]
    },
    {
     "name": "stdout",
     "output_type": "stream",
     "text": [
      "epoch 2, train loss: 10.272, valid rmspe: 14.434\n"
     ]
    },
    {
     "name": "stderr",
     "output_type": "stream",
     "text": [
      "Training: 100%|██████████| 269/269 [00:08<00:00, 32.45it/s]\n",
      "Evaluating: 100%|██████████| 68/68 [00:01<00:00, 47.92it/s]\n",
      "Training:   0%|          | 0/269 [00:00<?, ?it/s]"
     ]
    },
    {
     "name": "stdout",
     "output_type": "stream",
     "text": [
      "epoch 3, train loss: 9.739, valid rmspe: 16.139\n"
     ]
    },
    {
     "name": "stderr",
     "output_type": "stream",
     "text": [
      "Training: 100%|██████████| 269/269 [00:08<00:00, 32.44it/s]\n",
      "Evaluating: 100%|██████████| 68/68 [00:01<00:00, 56.78it/s]\n",
      "Training:   0%|          | 0/269 [00:00<?, ?it/s]"
     ]
    },
    {
     "name": "stdout",
     "output_type": "stream",
     "text": [
      "epoch 4, train loss: 8.780, valid rmspe: 11.686\n",
      "new best:11.686483383178711\n"
     ]
    },
    {
     "name": "stderr",
     "output_type": "stream",
     "text": [
      "Training: 100%|██████████| 269/269 [00:08<00:00, 32.85it/s]\n",
      "Evaluating: 100%|██████████| 68/68 [00:01<00:00, 46.82it/s]\n",
      "Training:   0%|          | 0/269 [00:00<?, ?it/s]"
     ]
    },
    {
     "name": "stdout",
     "output_type": "stream",
     "text": [
      "epoch 5, train loss: 5.932, valid rmspe: 5.578\n",
      "new best:5.577866554260254\n"
     ]
    },
    {
     "name": "stderr",
     "output_type": "stream",
     "text": [
      "Training: 100%|██████████| 269/269 [00:08<00:00, 29.94it/s]\n",
      "Evaluating: 100%|██████████| 68/68 [00:01<00:00, 47.46it/s]\n",
      "Training:   0%|          | 0/269 [00:00<?, ?it/s]"
     ]
    },
    {
     "name": "stdout",
     "output_type": "stream",
     "text": [
      "epoch 6, train loss: 4.159, valid rmspe: 2.952\n",
      "new best:2.9520106315612793\n"
     ]
    },
    {
     "name": "stderr",
     "output_type": "stream",
     "text": [
      "Training: 100%|██████████| 269/269 [00:08<00:00, 31.81it/s]\n",
      "Evaluating: 100%|██████████| 68/68 [00:01<00:00, 55.47it/s]\n",
      "Training:   0%|          | 0/269 [00:00<?, ?it/s]"
     ]
    },
    {
     "name": "stdout",
     "output_type": "stream",
     "text": [
      "epoch 7, train loss: 3.124, valid rmspe: 4.906\n"
     ]
    },
    {
     "name": "stderr",
     "output_type": "stream",
     "text": [
      "Training: 100%|██████████| 269/269 [00:08<00:00, 33.08it/s]\n",
      "Evaluating: 100%|██████████| 68/68 [00:01<00:00, 59.26it/s]\n",
      "Training:   0%|          | 0/269 [00:00<?, ?it/s]"
     ]
    },
    {
     "name": "stdout",
     "output_type": "stream",
     "text": [
      "epoch 8, train loss: 2.229, valid rmspe: 2.363\n",
      "new best:2.363154172897339\n"
     ]
    },
    {
     "name": "stderr",
     "output_type": "stream",
     "text": [
      "Training: 100%|██████████| 269/269 [00:08<00:00, 33.13it/s]\n",
      "Evaluating: 100%|██████████| 68/68 [00:01<00:00, 57.18it/s]\n",
      "Training:   0%|          | 0/269 [00:00<?, ?it/s]"
     ]
    },
    {
     "name": "stdout",
     "output_type": "stream",
     "text": [
      "epoch 9, train loss: 1.952, valid rmspe: 3.258\n"
     ]
    },
    {
     "name": "stderr",
     "output_type": "stream",
     "text": [
      "Training: 100%|██████████| 269/269 [00:08<00:00, 32.00it/s]\n",
      "Evaluating: 100%|██████████| 68/68 [00:01<00:00, 57.87it/s]\n",
      "Training:   0%|          | 0/269 [00:00<?, ?it/s]"
     ]
    },
    {
     "name": "stdout",
     "output_type": "stream",
     "text": [
      "epoch 10, train loss: 1.033, valid rmspe: 1.725\n",
      "new best:1.7248499393463135\n"
     ]
    },
    {
     "name": "stderr",
     "output_type": "stream",
     "text": [
      "Training: 100%|██████████| 269/269 [00:08<00:00, 32.94it/s]\n",
      "Evaluating: 100%|██████████| 68/68 [00:01<00:00, 58.28it/s]\n",
      "Training:   0%|          | 0/269 [00:00<?, ?it/s]"
     ]
    },
    {
     "name": "stdout",
     "output_type": "stream",
     "text": [
      "epoch 11, train loss: 0.491, valid rmspe: 0.318\n",
      "new best:0.3178824782371521\n"
     ]
    },
    {
     "name": "stderr",
     "output_type": "stream",
     "text": [
      "Training: 100%|██████████| 269/269 [00:08<00:00, 33.43it/s]\n",
      "Evaluating: 100%|██████████| 68/68 [00:01<00:00, 56.51it/s]\n",
      "Training:   0%|          | 0/269 [00:00<?, ?it/s]"
     ]
    },
    {
     "name": "stdout",
     "output_type": "stream",
     "text": [
      "epoch 12, train loss: 0.262, valid rmspe: 0.320\n"
     ]
    },
    {
     "name": "stderr",
     "output_type": "stream",
     "text": [
      "Training: 100%|██████████| 269/269 [00:08<00:00, 31.12it/s]\n",
      "Evaluating: 100%|██████████| 68/68 [00:01<00:00, 47.43it/s]\n",
      "Training:   0%|          | 0/269 [00:00<?, ?it/s]"
     ]
    },
    {
     "name": "stdout",
     "output_type": "stream",
     "text": [
      "epoch 13, train loss: 0.241, valid rmspe: 0.236\n",
      "new best:0.23596689105033875\n"
     ]
    },
    {
     "name": "stderr",
     "output_type": "stream",
     "text": [
      "Training: 100%|██████████| 269/269 [00:08<00:00, 30.40it/s]\n",
      "Evaluating: 100%|██████████| 68/68 [00:01<00:00, 57.92it/s]\n",
      "Training:   0%|          | 0/269 [00:00<?, ?it/s]"
     ]
    },
    {
     "name": "stdout",
     "output_type": "stream",
     "text": [
      "epoch 14, train loss: 0.237, valid rmspe: 0.255\n"
     ]
    },
    {
     "name": "stderr",
     "output_type": "stream",
     "text": [
      "Training: 100%|██████████| 269/269 [00:08<00:00, 32.99it/s]\n",
      "Evaluating: 100%|██████████| 68/68 [00:01<00:00, 57.08it/s]\n",
      "Training:   0%|          | 0/269 [00:00<?, ?it/s]"
     ]
    },
    {
     "name": "stdout",
     "output_type": "stream",
     "text": [
      "epoch 15, train loss: 0.230, valid rmspe: 0.232\n",
      "new best:0.23228763043880463\n"
     ]
    },
    {
     "name": "stderr",
     "output_type": "stream",
     "text": [
      "Training: 100%|██████████| 269/269 [00:08<00:00, 32.64it/s]\n",
      "Evaluating: 100%|██████████| 68/68 [00:01<00:00, 47.67it/s]\n",
      "Training:   0%|          | 0/269 [00:00<?, ?it/s]"
     ]
    },
    {
     "name": "stdout",
     "output_type": "stream",
     "text": [
      "epoch 16, train loss: 0.227, valid rmspe: 0.232\n",
      "new best:0.23185686767101288\n"
     ]
    },
    {
     "name": "stderr",
     "output_type": "stream",
     "text": [
      "Training: 100%|██████████| 269/269 [00:08<00:00, 32.96it/s]\n",
      "Evaluating: 100%|██████████| 68/68 [00:01<00:00, 57.60it/s]\n",
      "Training:   0%|          | 0/269 [00:00<?, ?it/s]"
     ]
    },
    {
     "name": "stdout",
     "output_type": "stream",
     "text": [
      "epoch 17, train loss: 0.221, valid rmspe: 0.226\n",
      "new best:0.22587990760803223\n"
     ]
    },
    {
     "name": "stderr",
     "output_type": "stream",
     "text": [
      "Training: 100%|██████████| 269/269 [00:08<00:00, 33.09it/s]\n",
      "Evaluating: 100%|██████████| 68/68 [00:01<00:00, 58.93it/s]\n",
      "Training:   0%|          | 0/269 [00:00<?, ?it/s]"
     ]
    },
    {
     "name": "stdout",
     "output_type": "stream",
     "text": [
      "epoch 18, train loss: 0.219, valid rmspe: 0.225\n",
      "new best:0.22454389929771423\n"
     ]
    },
    {
     "name": "stderr",
     "output_type": "stream",
     "text": [
      "Training: 100%|██████████| 269/269 [00:08<00:00, 33.03it/s]\n",
      "Evaluating: 100%|██████████| 68/68 [00:01<00:00, 58.04it/s]\n",
      "Training:   0%|          | 0/269 [00:00<?, ?it/s]"
     ]
    },
    {
     "name": "stdout",
     "output_type": "stream",
     "text": [
      "epoch 19, train loss: 0.219, valid rmspe: 0.242\n"
     ]
    },
    {
     "name": "stderr",
     "output_type": "stream",
     "text": [
      "Training: 100%|██████████| 269/269 [00:08<00:00, 32.69it/s]\n",
      "Evaluating: 100%|██████████| 68/68 [00:01<00:00, 58.62it/s]\n",
      "Training:   0%|          | 0/269 [00:00<?, ?it/s]"
     ]
    },
    {
     "name": "stdout",
     "output_type": "stream",
     "text": [
      "epoch 20, train loss: 0.217, valid rmspe: 0.245\n"
     ]
    },
    {
     "name": "stderr",
     "output_type": "stream",
     "text": [
      "Training: 100%|██████████| 269/269 [00:08<00:00, 30.52it/s]\n",
      "Evaluating: 100%|██████████| 68/68 [00:01<00:00, 48.06it/s]\n",
      "Training:   0%|          | 0/269 [00:00<?, ?it/s]"
     ]
    },
    {
     "name": "stdout",
     "output_type": "stream",
     "text": [
      "epoch 21, train loss: 0.217, valid rmspe: 0.233\n"
     ]
    },
    {
     "name": "stderr",
     "output_type": "stream",
     "text": [
      "Training: 100%|██████████| 269/269 [00:08<00:00, 31.27it/s]\n",
      "Evaluating: 100%|██████████| 68/68 [00:01<00:00, 57.73it/s]\n",
      "Training:   0%|          | 0/269 [00:00<?, ?it/s]"
     ]
    },
    {
     "name": "stdout",
     "output_type": "stream",
     "text": [
      "epoch 22, train loss: 0.215, valid rmspe: 0.234\n"
     ]
    },
    {
     "name": "stderr",
     "output_type": "stream",
     "text": [
      "Training: 100%|██████████| 269/269 [00:08<00:00, 32.02it/s]\n",
      "Evaluating: 100%|██████████| 68/68 [00:01<00:00, 56.80it/s]\n",
      "Training:   0%|          | 0/269 [00:00<?, ?it/s]"
     ]
    },
    {
     "name": "stdout",
     "output_type": "stream",
     "text": [
      "epoch 23, train loss: 0.216, valid rmspe: 0.226\n"
     ]
    },
    {
     "name": "stderr",
     "output_type": "stream",
     "text": [
      "Training: 100%|██████████| 269/269 [00:08<00:00, 32.68it/s]\n",
      "Evaluating: 100%|██████████| 68/68 [00:01<00:00, 57.86it/s]\n",
      "Training:   0%|          | 0/269 [00:00<?, ?it/s]"
     ]
    },
    {
     "name": "stdout",
     "output_type": "stream",
     "text": [
      "epoch 24, train loss: 0.210, valid rmspe: 0.224\n",
      "new best:0.22448812425136566\n"
     ]
    },
    {
     "name": "stderr",
     "output_type": "stream",
     "text": [
      "Training: 100%|██████████| 269/269 [00:08<00:00, 32.95it/s]\n",
      "Evaluating: 100%|██████████| 68/68 [00:01<00:00, 56.25it/s]\n",
      "Training:   0%|          | 0/269 [00:00<?, ?it/s]"
     ]
    },
    {
     "name": "stdout",
     "output_type": "stream",
     "text": [
      "epoch 25, train loss: 0.213, valid rmspe: 0.225\n"
     ]
    },
    {
     "name": "stderr",
     "output_type": "stream",
     "text": [
      "Training: 100%|██████████| 269/269 [00:08<00:00, 32.48it/s]\n",
      "Evaluating: 100%|██████████| 68/68 [00:01<00:00, 48.67it/s]\n",
      "Training:   0%|          | 0/269 [00:00<?, ?it/s]"
     ]
    },
    {
     "name": "stdout",
     "output_type": "stream",
     "text": [
      "epoch 26, train loss: 0.218, valid rmspe: 0.229\n"
     ]
    },
    {
     "name": "stderr",
     "output_type": "stream",
     "text": [
      "Training: 100%|██████████| 269/269 [00:08<00:00, 33.36it/s]\n",
      "Evaluating: 100%|██████████| 68/68 [00:01<00:00, 56.53it/s]\n",
      "Training:   0%|          | 0/269 [00:00<?, ?it/s]"
     ]
    },
    {
     "name": "stdout",
     "output_type": "stream",
     "text": [
      "epoch 27, train loss: 0.219, valid rmspe: 0.228\n"
     ]
    },
    {
     "name": "stderr",
     "output_type": "stream",
     "text": [
      "Training: 100%|██████████| 269/269 [00:08<00:00, 32.94it/s]\n",
      "Evaluating: 100%|██████████| 68/68 [00:01<00:00, 47.99it/s]\n",
      "Training:   0%|          | 0/269 [00:00<?, ?it/s]"
     ]
    },
    {
     "name": "stdout",
     "output_type": "stream",
     "text": [
      "epoch 28, train loss: 0.224, valid rmspe: 0.275\n"
     ]
    },
    {
     "name": "stderr",
     "output_type": "stream",
     "text": [
      "Training: 100%|██████████| 269/269 [00:09<00:00, 29.70it/s]\n",
      "Evaluating: 100%|██████████| 68/68 [00:01<00:00, 44.85it/s]\n",
      "Training:   0%|          | 0/269 [00:00<?, ?it/s]"
     ]
    },
    {
     "name": "stdout",
     "output_type": "stream",
     "text": [
      "epoch 29, train loss: 0.218, valid rmspe: 0.231\n"
     ]
    },
    {
     "name": "stderr",
     "output_type": "stream",
     "text": [
      "Training: 100%|██████████| 269/269 [00:08<00:00, 31.65it/s]\n",
      "Evaluating: 100%|██████████| 68/68 [00:01<00:00, 58.11it/s]\n",
      "Training:   0%|          | 0/269 [00:00<?, ?it/s]"
     ]
    },
    {
     "name": "stdout",
     "output_type": "stream",
     "text": [
      "epoch 30, train loss: 0.222, valid rmspe: 0.219\n",
      "new best:0.21948190033435822\n"
     ]
    },
    {
     "name": "stderr",
     "output_type": "stream",
     "text": [
      "Training: 100%|██████████| 269/269 [00:08<00:00, 33.29it/s]\n",
      "Evaluating: 100%|██████████| 68/68 [00:01<00:00, 57.94it/s]\n",
      "Training:   0%|          | 0/269 [00:00<?, ?it/s]"
     ]
    },
    {
     "name": "stdout",
     "output_type": "stream",
     "text": [
      "epoch 31, train loss: 0.217, valid rmspe: 0.222\n"
     ]
    },
    {
     "name": "stderr",
     "output_type": "stream",
     "text": [
      "Training: 100%|██████████| 269/269 [00:08<00:00, 32.99it/s]\n",
      "Evaluating: 100%|██████████| 68/68 [00:01<00:00, 57.17it/s]\n",
      "Training:   0%|          | 0/269 [00:00<?, ?it/s]"
     ]
    },
    {
     "name": "stdout",
     "output_type": "stream",
     "text": [
      "epoch 32, train loss: 0.211, valid rmspe: 0.227\n"
     ]
    },
    {
     "name": "stderr",
     "output_type": "stream",
     "text": [
      "Training: 100%|██████████| 269/269 [00:08<00:00, 32.52it/s]\n",
      "Evaluating: 100%|██████████| 68/68 [00:01<00:00, 57.29it/s]\n",
      "Training:   0%|          | 0/269 [00:00<?, ?it/s]"
     ]
    },
    {
     "name": "stdout",
     "output_type": "stream",
     "text": [
      "epoch 33, train loss: 0.207, valid rmspe: 0.230\n"
     ]
    },
    {
     "name": "stderr",
     "output_type": "stream",
     "text": [
      "Training: 100%|██████████| 269/269 [00:08<00:00, 32.98it/s]\n",
      "Evaluating: 100%|██████████| 68/68 [00:01<00:00, 57.85it/s]\n",
      "Training:   0%|          | 0/269 [00:00<?, ?it/s]"
     ]
    },
    {
     "name": "stdout",
     "output_type": "stream",
     "text": [
      "epoch 34, train loss: 0.212, valid rmspe: 0.237\n"
     ]
    },
    {
     "name": "stderr",
     "output_type": "stream",
     "text": [
      "Training: 100%|██████████| 269/269 [00:08<00:00, 32.58it/s]\n",
      "Evaluating: 100%|██████████| 68/68 [00:01<00:00, 57.72it/s]\n",
      "Training:   0%|          | 0/269 [00:00<?, ?it/s]"
     ]
    },
    {
     "name": "stdout",
     "output_type": "stream",
     "text": [
      "epoch 35, train loss: 0.206, valid rmspe: 0.212\n",
      "new best:0.21210666000843048\n"
     ]
    },
    {
     "name": "stderr",
     "output_type": "stream",
     "text": [
      "Training: 100%|██████████| 269/269 [00:08<00:00, 31.08it/s]\n",
      "Evaluating: 100%|██████████| 68/68 [00:01<00:00, 46.09it/s]\n",
      "Training:   0%|          | 0/269 [00:00<?, ?it/s]"
     ]
    },
    {
     "name": "stdout",
     "output_type": "stream",
     "text": [
      "epoch 36, train loss: 0.205, valid rmspe: 0.219\n"
     ]
    },
    {
     "name": "stderr",
     "output_type": "stream",
     "text": [
      "Training: 100%|██████████| 269/269 [00:08<00:00, 30.42it/s]\n",
      "Evaluating: 100%|██████████| 68/68 [00:01<00:00, 48.50it/s]\n",
      "Training:   0%|          | 0/269 [00:00<?, ?it/s]"
     ]
    },
    {
     "name": "stdout",
     "output_type": "stream",
     "text": [
      "epoch 37, train loss: 0.206, valid rmspe: 0.243\n"
     ]
    },
    {
     "name": "stderr",
     "output_type": "stream",
     "text": [
      "Training: 100%|██████████| 269/269 [00:08<00:00, 32.79it/s]\n",
      "Evaluating: 100%|██████████| 68/68 [00:01<00:00, 57.73it/s]\n",
      "Training:   0%|          | 0/269 [00:00<?, ?it/s]"
     ]
    },
    {
     "name": "stdout",
     "output_type": "stream",
     "text": [
      "epoch 38, train loss: 0.214, valid rmspe: 0.230\n"
     ]
    },
    {
     "name": "stderr",
     "output_type": "stream",
     "text": [
      "Training: 100%|██████████| 269/269 [00:08<00:00, 32.95it/s]\n",
      "Evaluating: 100%|██████████| 68/68 [00:01<00:00, 44.65it/s]\n",
      "Training:   0%|          | 0/269 [00:00<?, ?it/s]"
     ]
    },
    {
     "name": "stdout",
     "output_type": "stream",
     "text": [
      "epoch 39, train loss: 0.205, valid rmspe: 0.213\n"
     ]
    },
    {
     "name": "stderr",
     "output_type": "stream",
     "text": [
      "Training: 100%|██████████| 269/269 [00:08<00:00, 32.74it/s]\n",
      "Evaluating: 100%|██████████| 68/68 [00:01<00:00, 57.83it/s]\n",
      "Training:   0%|          | 0/269 [00:00<?, ?it/s]"
     ]
    },
    {
     "name": "stdout",
     "output_type": "stream",
     "text": [
      "epoch 40, train loss: 0.201, valid rmspe: 0.209\n",
      "new best:0.2090134620666504\n"
     ]
    },
    {
     "name": "stderr",
     "output_type": "stream",
     "text": [
      "Training: 100%|██████████| 269/269 [00:08<00:00, 33.07it/s]\n",
      "Evaluating: 100%|██████████| 68/68 [00:01<00:00, 57.42it/s]\n",
      "Training:   0%|          | 0/269 [00:00<?, ?it/s]"
     ]
    },
    {
     "name": "stdout",
     "output_type": "stream",
     "text": [
      "epoch 41, train loss: 0.204, valid rmspe: 0.248\n"
     ]
    },
    {
     "name": "stderr",
     "output_type": "stream",
     "text": [
      "Training: 100%|██████████| 269/269 [00:08<00:00, 33.23it/s]\n",
      "Evaluating: 100%|██████████| 68/68 [00:01<00:00, 57.85it/s]\n",
      "Training:   0%|          | 0/269 [00:00<?, ?it/s]"
     ]
    },
    {
     "name": "stdout",
     "output_type": "stream",
     "text": [
      "epoch 42, train loss: 0.204, valid rmspe: 0.217\n"
     ]
    },
    {
     "name": "stderr",
     "output_type": "stream",
     "text": [
      "Training: 100%|██████████| 269/269 [00:08<00:00, 32.78it/s]\n",
      "Evaluating: 100%|██████████| 68/68 [00:01<00:00, 57.78it/s]\n",
      "Training:   0%|          | 0/269 [00:00<?, ?it/s]"
     ]
    },
    {
     "name": "stdout",
     "output_type": "stream",
     "text": [
      "epoch 43, train loss: 0.203, valid rmspe: 0.210\n"
     ]
    },
    {
     "name": "stderr",
     "output_type": "stream",
     "text": [
      "Training: 100%|██████████| 269/269 [00:08<00:00, 31.11it/s]\n",
      "Evaluating: 100%|██████████| 68/68 [00:01<00:00, 45.55it/s]\n",
      "Training:   0%|          | 0/269 [00:00<?, ?it/s]"
     ]
    },
    {
     "name": "stdout",
     "output_type": "stream",
     "text": [
      "epoch 44, train loss: 0.200, valid rmspe: 0.222\n"
     ]
    },
    {
     "name": "stderr",
     "output_type": "stream",
     "text": [
      "Training: 100%|██████████| 269/269 [00:09<00:00, 29.51it/s]\n",
      "Evaluating: 100%|██████████| 68/68 [00:01<00:00, 58.22it/s]\n",
      "Training:   0%|          | 0/269 [00:00<?, ?it/s]"
     ]
    },
    {
     "name": "stdout",
     "output_type": "stream",
     "text": [
      "epoch 45, train loss: 0.199, valid rmspe: 0.207\n",
      "new best:0.20748409628868103\n"
     ]
    },
    {
     "name": "stderr",
     "output_type": "stream",
     "text": [
      "Training: 100%|██████████| 269/269 [00:08<00:00, 32.37it/s]\n",
      "Evaluating: 100%|██████████| 68/68 [00:01<00:00, 58.11it/s]\n",
      "Training:   0%|          | 0/269 [00:00<?, ?it/s]"
     ]
    },
    {
     "name": "stdout",
     "output_type": "stream",
     "text": [
      "epoch 46, train loss: 0.198, valid rmspe: 0.221\n"
     ]
    },
    {
     "name": "stderr",
     "output_type": "stream",
     "text": [
      "Training: 100%|██████████| 269/269 [00:08<00:00, 32.93it/s]\n",
      "Evaluating: 100%|██████████| 68/68 [00:01<00:00, 56.65it/s]\n",
      "Training:   0%|          | 0/269 [00:00<?, ?it/s]"
     ]
    },
    {
     "name": "stdout",
     "output_type": "stream",
     "text": [
      "epoch 47, train loss: 0.204, valid rmspe: 0.219\n"
     ]
    },
    {
     "name": "stderr",
     "output_type": "stream",
     "text": [
      "Training: 100%|██████████| 269/269 [00:08<00:00, 32.92it/s]\n",
      "Evaluating: 100%|██████████| 68/68 [00:01<00:00, 57.10it/s]\n",
      "Training:   0%|          | 0/269 [00:00<?, ?it/s]"
     ]
    },
    {
     "name": "stdout",
     "output_type": "stream",
     "text": [
      "epoch 48, train loss: 0.201, valid rmspe: 0.211\n"
     ]
    },
    {
     "name": "stderr",
     "output_type": "stream",
     "text": [
      "Training: 100%|██████████| 269/269 [00:08<00:00, 32.26it/s]\n",
      "Evaluating: 100%|██████████| 68/68 [00:01<00:00, 57.27it/s]\n",
      "Training:   0%|          | 0/269 [00:00<?, ?it/s]"
     ]
    },
    {
     "name": "stdout",
     "output_type": "stream",
     "text": [
      "epoch 49, train loss: 0.200, valid rmspe: 0.217\n",
      "fold 3 train: (343146, 100), valid: (85786, 100)\n"
     ]
    },
    {
     "name": "stderr",
     "output_type": "stream",
     "text": [
      "Training: 100%|██████████| 269/269 [00:08<00:00, 32.73it/s]\n",
      "Evaluating: 100%|██████████| 68/68 [00:01<00:00, 57.35it/s]\n",
      "Training:   0%|          | 0/269 [00:00<?, ?it/s]"
     ]
    },
    {
     "name": "stdout",
     "output_type": "stream",
     "text": [
      "epoch 0, train loss: 71.106, valid rmspe: 44.150\n",
      "new best:44.14954376220703\n"
     ]
    },
    {
     "name": "stderr",
     "output_type": "stream",
     "text": [
      "Training: 100%|██████████| 269/269 [00:08<00:00, 33.05it/s]\n",
      "Evaluating: 100%|██████████| 68/68 [00:01<00:00, 55.89it/s]\n",
      "Training:   0%|          | 0/269 [00:00<?, ?it/s]"
     ]
    },
    {
     "name": "stdout",
     "output_type": "stream",
     "text": [
      "epoch 1, train loss: 19.912, valid rmspe: 44.908\n"
     ]
    },
    {
     "name": "stderr",
     "output_type": "stream",
     "text": [
      "Training: 100%|██████████| 269/269 [00:08<00:00, 33.18it/s]\n",
      "Evaluating: 100%|██████████| 68/68 [00:01<00:00, 54.91it/s]\n",
      "Training:   0%|          | 0/269 [00:00<?, ?it/s]"
     ]
    },
    {
     "name": "stdout",
     "output_type": "stream",
     "text": [
      "epoch 2, train loss: 14.387, valid rmspe: 32.660\n",
      "new best:32.65995407104492\n"
     ]
    },
    {
     "name": "stderr",
     "output_type": "stream",
     "text": [
      "Training: 100%|██████████| 269/269 [00:08<00:00, 32.10it/s]\n",
      "Evaluating: 100%|██████████| 68/68 [00:01<00:00, 57.38it/s]\n",
      "Training:   0%|          | 0/269 [00:00<?, ?it/s]"
     ]
    },
    {
     "name": "stdout",
     "output_type": "stream",
     "text": [
      "epoch 3, train loss: 10.296, valid rmspe: 6.847\n",
      "new best:6.846987724304199\n"
     ]
    },
    {
     "name": "stderr",
     "output_type": "stream",
     "text": [
      "Training: 100%|██████████| 269/269 [00:08<00:00, 32.23it/s]\n",
      "Evaluating: 100%|██████████| 68/68 [00:01<00:00, 57.69it/s]\n",
      "Training:   0%|          | 0/269 [00:00<?, ?it/s]"
     ]
    },
    {
     "name": "stdout",
     "output_type": "stream",
     "text": [
      "epoch 4, train loss: 6.781, valid rmspe: 12.481\n"
     ]
    },
    {
     "name": "stderr",
     "output_type": "stream",
     "text": [
      "Training: 100%|██████████| 269/269 [00:08<00:00, 32.81it/s]\n",
      "Evaluating: 100%|██████████| 68/68 [00:01<00:00, 57.87it/s]\n",
      "Training:   0%|          | 0/269 [00:00<?, ?it/s]"
     ]
    },
    {
     "name": "stdout",
     "output_type": "stream",
     "text": [
      "epoch 5, train loss: 6.594, valid rmspe: 3.943\n",
      "new best:3.9434001445770264\n"
     ]
    },
    {
     "name": "stderr",
     "output_type": "stream",
     "text": [
      "Training: 100%|██████████| 269/269 [00:08<00:00, 32.32it/s]\n",
      "Evaluating: 100%|██████████| 68/68 [00:01<00:00, 57.04it/s]\n",
      "Training:   0%|          | 0/269 [00:00<?, ?it/s]"
     ]
    },
    {
     "name": "stdout",
     "output_type": "stream",
     "text": [
      "epoch 6, train loss: 4.245, valid rmspe: 5.223\n"
     ]
    },
    {
     "name": "stderr",
     "output_type": "stream",
     "text": [
      "Training: 100%|██████████| 269/269 [00:08<00:00, 32.86it/s]\n",
      "Evaluating: 100%|██████████| 68/68 [00:01<00:00, 58.01it/s]\n",
      "Training:   0%|          | 0/269 [00:00<?, ?it/s]"
     ]
    },
    {
     "name": "stdout",
     "output_type": "stream",
     "text": [
      "epoch 7, train loss: 3.839, valid rmspe: 2.869\n",
      "new best:2.8685333728790283\n"
     ]
    },
    {
     "name": "stderr",
     "output_type": "stream",
     "text": [
      "Training: 100%|██████████| 269/269 [00:08<00:00, 31.28it/s]\n",
      "Evaluating: 100%|██████████| 68/68 [00:01<00:00, 48.31it/s]\n",
      "Training:   0%|          | 0/269 [00:00<?, ?it/s]"
     ]
    },
    {
     "name": "stdout",
     "output_type": "stream",
     "text": [
      "epoch 8, train loss: 3.480, valid rmspe: 3.587\n"
     ]
    },
    {
     "name": "stderr",
     "output_type": "stream",
     "text": [
      "Training: 100%|██████████| 269/269 [00:09<00:00, 29.25it/s]\n",
      "Evaluating: 100%|██████████| 68/68 [00:01<00:00, 49.26it/s]\n",
      "Training:   0%|          | 0/269 [00:00<?, ?it/s]"
     ]
    },
    {
     "name": "stdout",
     "output_type": "stream",
     "text": [
      "epoch 9, train loss: 2.124, valid rmspe: 0.913\n",
      "new best:0.913148045539856\n"
     ]
    },
    {
     "name": "stderr",
     "output_type": "stream",
     "text": [
      "Training: 100%|██████████| 269/269 [00:08<00:00, 32.57it/s]\n",
      "Evaluating: 100%|██████████| 68/68 [00:01<00:00, 57.71it/s]\n",
      "Training:   0%|          | 0/269 [00:00<?, ?it/s]"
     ]
    },
    {
     "name": "stdout",
     "output_type": "stream",
     "text": [
      "epoch 10, train loss: 1.768, valid rmspe: 1.351\n"
     ]
    },
    {
     "name": "stderr",
     "output_type": "stream",
     "text": [
      "Training: 100%|██████████| 269/269 [00:08<00:00, 32.64it/s]\n",
      "Evaluating: 100%|██████████| 68/68 [00:01<00:00, 58.35it/s]\n",
      "Training:   0%|          | 0/269 [00:00<?, ?it/s]"
     ]
    },
    {
     "name": "stdout",
     "output_type": "stream",
     "text": [
      "epoch 11, train loss: 1.217, valid rmspe: 1.306\n"
     ]
    },
    {
     "name": "stderr",
     "output_type": "stream",
     "text": [
      "Training: 100%|██████████| 269/269 [00:08<00:00, 33.04it/s]\n",
      "Evaluating: 100%|██████████| 68/68 [00:01<00:00, 44.66it/s]\n",
      "Training:   0%|          | 0/269 [00:00<?, ?it/s]"
     ]
    },
    {
     "name": "stdout",
     "output_type": "stream",
     "text": [
      "epoch 12, train loss: 0.947, valid rmspe: 1.422\n"
     ]
    },
    {
     "name": "stderr",
     "output_type": "stream",
     "text": [
      "Training: 100%|██████████| 269/269 [00:08<00:00, 33.04it/s]\n",
      "Evaluating: 100%|██████████| 68/68 [00:01<00:00, 57.99it/s]\n",
      "Training:   0%|          | 0/269 [00:00<?, ?it/s]"
     ]
    },
    {
     "name": "stdout",
     "output_type": "stream",
     "text": [
      "epoch 13, train loss: 0.923, valid rmspe: 0.958\n"
     ]
    },
    {
     "name": "stderr",
     "output_type": "stream",
     "text": [
      "Training: 100%|██████████| 269/269 [00:08<00:00, 32.88it/s]\n",
      "Evaluating: 100%|██████████| 68/68 [00:01<00:00, 56.29it/s]\n",
      "Training:   0%|          | 0/269 [00:00<?, ?it/s]"
     ]
    },
    {
     "name": "stdout",
     "output_type": "stream",
     "text": [
      "epoch 14, train loss: 0.721, valid rmspe: 0.612\n",
      "new best:0.6116026639938354\n"
     ]
    },
    {
     "name": "stderr",
     "output_type": "stream",
     "text": [
      "Training: 100%|██████████| 269/269 [00:08<00:00, 32.60it/s]\n",
      "Evaluating: 100%|██████████| 68/68 [00:01<00:00, 57.81it/s]\n",
      "Training:   0%|          | 0/269 [00:00<?, ?it/s]"
     ]
    },
    {
     "name": "stdout",
     "output_type": "stream",
     "text": [
      "epoch 15, train loss: 0.590, valid rmspe: 0.406\n",
      "new best:0.40617501735687256\n"
     ]
    },
    {
     "name": "stderr",
     "output_type": "stream",
     "text": [
      "Training: 100%|██████████| 269/269 [00:08<00:00, 32.32it/s]\n",
      "Evaluating: 100%|██████████| 68/68 [00:01<00:00, 54.76it/s]\n",
      "Training:   0%|          | 0/269 [00:00<?, ?it/s]"
     ]
    },
    {
     "name": "stdout",
     "output_type": "stream",
     "text": [
      "epoch 16, train loss: 0.575, valid rmspe: 0.421\n"
     ]
    },
    {
     "name": "stderr",
     "output_type": "stream",
     "text": [
      "Training: 100%|██████████| 269/269 [00:08<00:00, 32.68it/s]\n",
      "Evaluating: 100%|██████████| 68/68 [00:01<00:00, 56.19it/s]\n",
      "Training:   0%|          | 0/269 [00:00<?, ?it/s]"
     ]
    },
    {
     "name": "stdout",
     "output_type": "stream",
     "text": [
      "epoch 17, train loss: 0.473, valid rmspe: 0.299\n",
      "new best:0.2994498312473297\n"
     ]
    },
    {
     "name": "stderr",
     "output_type": "stream",
     "text": [
      "Training: 100%|██████████| 269/269 [00:08<00:00, 33.09it/s]\n",
      "Evaluating: 100%|██████████| 68/68 [00:01<00:00, 56.42it/s]\n",
      "Training:   0%|          | 0/269 [00:00<?, ?it/s]"
     ]
    },
    {
     "name": "stdout",
     "output_type": "stream",
     "text": [
      "epoch 18, train loss: 0.465, valid rmspe: 0.310\n"
     ]
    },
    {
     "name": "stderr",
     "output_type": "stream",
     "text": [
      "Training: 100%|██████████| 269/269 [00:08<00:00, 31.86it/s]\n",
      "Evaluating: 100%|██████████| 68/68 [00:01<00:00, 57.46it/s]\n",
      "Training:   0%|          | 0/269 [00:00<?, ?it/s]"
     ]
    },
    {
     "name": "stdout",
     "output_type": "stream",
     "text": [
      "epoch 19, train loss: 0.343, valid rmspe: 0.370\n"
     ]
    },
    {
     "name": "stderr",
     "output_type": "stream",
     "text": [
      "Training: 100%|██████████| 269/269 [00:08<00:00, 32.93it/s]\n",
      "Evaluating: 100%|██████████| 68/68 [00:01<00:00, 58.56it/s]\n",
      "Training:   0%|          | 0/269 [00:00<?, ?it/s]"
     ]
    },
    {
     "name": "stdout",
     "output_type": "stream",
     "text": [
      "epoch 20, train loss: 0.339, valid rmspe: 0.256\n",
      "new best:0.2558667063713074\n"
     ]
    },
    {
     "name": "stderr",
     "output_type": "stream",
     "text": [
      "Training: 100%|██████████| 269/269 [00:08<00:00, 32.94it/s]\n",
      "Evaluating: 100%|██████████| 68/68 [00:01<00:00, 57.36it/s]\n",
      "Training:   0%|          | 0/269 [00:00<?, ?it/s]"
     ]
    },
    {
     "name": "stdout",
     "output_type": "stream",
     "text": [
      "epoch 21, train loss: 0.306, valid rmspe: 0.242\n",
      "new best:0.24223242700099945\n"
     ]
    },
    {
     "name": "stderr",
     "output_type": "stream",
     "text": [
      "Training: 100%|██████████| 269/269 [00:08<00:00, 31.83it/s]\n",
      "Evaluating: 100%|██████████| 68/68 [00:01<00:00, 39.18it/s]\n",
      "Training:   0%|          | 0/269 [00:00<?, ?it/s]"
     ]
    },
    {
     "name": "stdout",
     "output_type": "stream",
     "text": [
      "epoch 22, train loss: 0.338, valid rmspe: 0.370\n"
     ]
    },
    {
     "name": "stderr",
     "output_type": "stream",
     "text": [
      "Training: 100%|██████████| 269/269 [00:09<00:00, 29.55it/s]\n",
      "Evaluating: 100%|██████████| 68/68 [00:01<00:00, 47.41it/s]\n",
      "Training:   0%|          | 0/269 [00:00<?, ?it/s]"
     ]
    },
    {
     "name": "stdout",
     "output_type": "stream",
     "text": [
      "epoch 23, train loss: 0.310, valid rmspe: 0.300\n"
     ]
    },
    {
     "name": "stderr",
     "output_type": "stream",
     "text": [
      "Training: 100%|██████████| 269/269 [00:08<00:00, 32.58it/s]\n",
      "Evaluating: 100%|██████████| 68/68 [00:01<00:00, 55.87it/s]\n",
      "Training:   0%|          | 0/269 [00:00<?, ?it/s]"
     ]
    },
    {
     "name": "stdout",
     "output_type": "stream",
     "text": [
      "epoch 24, train loss: 0.273, valid rmspe: 0.249\n"
     ]
    },
    {
     "name": "stderr",
     "output_type": "stream",
     "text": [
      "Training: 100%|██████████| 269/269 [00:08<00:00, 32.48it/s]\n",
      "Evaluating: 100%|██████████| 68/68 [00:01<00:00, 55.09it/s]\n",
      "Training:   0%|          | 0/269 [00:00<?, ?it/s]"
     ]
    },
    {
     "name": "stdout",
     "output_type": "stream",
     "text": [
      "epoch 25, train loss: 0.246, valid rmspe: 0.246\n"
     ]
    },
    {
     "name": "stderr",
     "output_type": "stream",
     "text": [
      "Training: 100%|██████████| 269/269 [00:08<00:00, 32.53it/s]\n",
      "Evaluating: 100%|██████████| 68/68 [00:01<00:00, 56.00it/s]\n",
      "Training:   0%|          | 0/269 [00:00<?, ?it/s]"
     ]
    },
    {
     "name": "stdout",
     "output_type": "stream",
     "text": [
      "epoch 26, train loss: 0.244, valid rmspe: 0.226\n",
      "new best:0.22569625079631805\n"
     ]
    },
    {
     "name": "stderr",
     "output_type": "stream",
     "text": [
      "Training: 100%|██████████| 269/269 [00:08<00:00, 32.92it/s]\n",
      "Evaluating: 100%|██████████| 68/68 [00:01<00:00, 54.77it/s]\n",
      "Training:   0%|          | 0/269 [00:00<?, ?it/s]"
     ]
    },
    {
     "name": "stdout",
     "output_type": "stream",
     "text": [
      "epoch 27, train loss: 0.239, valid rmspe: 0.217\n",
      "new best:0.21726709604263306\n"
     ]
    },
    {
     "name": "stderr",
     "output_type": "stream",
     "text": [
      "Training: 100%|██████████| 269/269 [00:08<00:00, 32.74it/s]\n",
      "Evaluating: 100%|██████████| 68/68 [00:01<00:00, 54.51it/s]\n",
      "Training:   0%|          | 0/269 [00:00<?, ?it/s]"
     ]
    },
    {
     "name": "stdout",
     "output_type": "stream",
     "text": [
      "epoch 28, train loss: 0.226, valid rmspe: 0.211\n",
      "new best:0.21139837801456451\n"
     ]
    },
    {
     "name": "stderr",
     "output_type": "stream",
     "text": [
      "Training: 100%|██████████| 269/269 [00:08<00:00, 32.62it/s]\n",
      "Evaluating: 100%|██████████| 68/68 [00:01<00:00, 57.94it/s]\n",
      "Training:   0%|          | 0/269 [00:00<?, ?it/s]"
     ]
    },
    {
     "name": "stdout",
     "output_type": "stream",
     "text": [
      "epoch 29, train loss: 0.222, valid rmspe: 0.226\n"
     ]
    },
    {
     "name": "stderr",
     "output_type": "stream",
     "text": [
      "Training: 100%|██████████| 269/269 [00:08<00:00, 32.76it/s]\n",
      "Evaluating: 100%|██████████| 68/68 [00:01<00:00, 57.70it/s]\n",
      "Training:   0%|          | 0/269 [00:00<?, ?it/s]"
     ]
    },
    {
     "name": "stdout",
     "output_type": "stream",
     "text": [
      "epoch 30, train loss: 0.222, valid rmspe: 0.210\n",
      "new best:0.20975925028324127\n"
     ]
    },
    {
     "name": "stderr",
     "output_type": "stream",
     "text": [
      "Training: 100%|██████████| 269/269 [00:08<00:00, 33.05it/s]\n",
      "Evaluating: 100%|██████████| 68/68 [00:01<00:00, 58.73it/s]\n",
      "Training:   0%|          | 0/269 [00:00<?, ?it/s]"
     ]
    },
    {
     "name": "stdout",
     "output_type": "stream",
     "text": [
      "epoch 31, train loss: 0.215, valid rmspe: 0.234\n"
     ]
    },
    {
     "name": "stderr",
     "output_type": "stream",
     "text": [
      "Training: 100%|██████████| 269/269 [00:08<00:00, 32.48it/s]\n",
      "Evaluating: 100%|██████████| 68/68 [00:01<00:00, 57.83it/s]\n",
      "Training:   0%|          | 0/269 [00:00<?, ?it/s]"
     ]
    },
    {
     "name": "stdout",
     "output_type": "stream",
     "text": [
      "epoch 32, train loss: 0.215, valid rmspe: 0.209\n",
      "new best:0.2093946486711502\n"
     ]
    },
    {
     "name": "stderr",
     "output_type": "stream",
     "text": [
      "Training: 100%|██████████| 269/269 [00:08<00:00, 32.94it/s]\n",
      "Evaluating: 100%|██████████| 68/68 [00:01<00:00, 57.57it/s]\n",
      "Training:   0%|          | 0/269 [00:00<?, ?it/s]"
     ]
    },
    {
     "name": "stdout",
     "output_type": "stream",
     "text": [
      "epoch 33, train loss: 0.216, valid rmspe: 0.230\n"
     ]
    },
    {
     "name": "stderr",
     "output_type": "stream",
     "text": [
      "Training: 100%|██████████| 269/269 [00:08<00:00, 32.79it/s]\n",
      "Evaluating: 100%|██████████| 68/68 [00:01<00:00, 57.28it/s]\n",
      "Training:   0%|          | 0/269 [00:00<?, ?it/s]"
     ]
    },
    {
     "name": "stdout",
     "output_type": "stream",
     "text": [
      "epoch 34, train loss: 0.219, valid rmspe: 0.227\n"
     ]
    },
    {
     "name": "stderr",
     "output_type": "stream",
     "text": [
      "Training: 100%|██████████| 269/269 [00:08<00:00, 33.06it/s]\n",
      "Evaluating: 100%|██████████| 68/68 [00:01<00:00, 55.53it/s]\n",
      "Training:   0%|          | 0/269 [00:00<?, ?it/s]"
     ]
    },
    {
     "name": "stdout",
     "output_type": "stream",
     "text": [
      "epoch 35, train loss: 0.217, valid rmspe: 0.229\n"
     ]
    },
    {
     "name": "stderr",
     "output_type": "stream",
     "text": [
      "Training: 100%|██████████| 269/269 [00:08<00:00, 32.50it/s]\n",
      "Evaluating: 100%|██████████| 68/68 [00:01<00:00, 47.35it/s]\n",
      "Training:   0%|          | 0/269 [00:00<?, ?it/s]"
     ]
    },
    {
     "name": "stdout",
     "output_type": "stream",
     "text": [
      "epoch 36, train loss: 0.218, valid rmspe: 0.216\n"
     ]
    },
    {
     "name": "stderr",
     "output_type": "stream",
     "text": [
      "Training: 100%|██████████| 269/269 [00:08<00:00, 30.20it/s]\n",
      "Evaluating: 100%|██████████| 68/68 [00:01<00:00, 47.36it/s]\n",
      "Training:   0%|          | 0/269 [00:00<?, ?it/s]"
     ]
    },
    {
     "name": "stdout",
     "output_type": "stream",
     "text": [
      "epoch 37, train loss: 0.222, valid rmspe: 0.209\n"
     ]
    },
    {
     "name": "stderr",
     "output_type": "stream",
     "text": [
      "Training: 100%|██████████| 269/269 [00:08<00:00, 31.93it/s]\n",
      "Evaluating: 100%|██████████| 68/68 [00:01<00:00, 57.26it/s]\n",
      "Training:   0%|          | 0/269 [00:00<?, ?it/s]"
     ]
    },
    {
     "name": "stdout",
     "output_type": "stream",
     "text": [
      "epoch 38, train loss: 0.220, valid rmspe: 0.219\n"
     ]
    },
    {
     "name": "stderr",
     "output_type": "stream",
     "text": [
      "Training: 100%|██████████| 269/269 [00:08<00:00, 32.44it/s]\n",
      "Evaluating: 100%|██████████| 68/68 [00:01<00:00, 58.22it/s]\n",
      "Training:   0%|          | 0/269 [00:00<?, ?it/s]"
     ]
    },
    {
     "name": "stdout",
     "output_type": "stream",
     "text": [
      "epoch 39, train loss: 0.221, valid rmspe: 0.209\n",
      "new best:0.2091585248708725\n"
     ]
    },
    {
     "name": "stderr",
     "output_type": "stream",
     "text": [
      "Training: 100%|██████████| 269/269 [00:08<00:00, 33.10it/s]\n",
      "Evaluating: 100%|██████████| 68/68 [00:01<00:00, 58.11it/s]\n",
      "Training:   0%|          | 0/269 [00:00<?, ?it/s]"
     ]
    },
    {
     "name": "stdout",
     "output_type": "stream",
     "text": [
      "epoch 40, train loss: 0.217, valid rmspe: 0.220\n"
     ]
    },
    {
     "name": "stderr",
     "output_type": "stream",
     "text": [
      "Training: 100%|██████████| 269/269 [00:08<00:00, 33.17it/s]\n",
      "Evaluating: 100%|██████████| 68/68 [00:01<00:00, 58.08it/s]\n",
      "Training:   0%|          | 0/269 [00:00<?, ?it/s]"
     ]
    },
    {
     "name": "stdout",
     "output_type": "stream",
     "text": [
      "epoch 41, train loss: 0.229, valid rmspe: 0.218\n"
     ]
    },
    {
     "name": "stderr",
     "output_type": "stream",
     "text": [
      "Training: 100%|██████████| 269/269 [00:08<00:00, 32.35it/s]\n",
      "Evaluating: 100%|██████████| 68/68 [00:01<00:00, 57.81it/s]\n",
      "Training:   0%|          | 0/269 [00:00<?, ?it/s]"
     ]
    },
    {
     "name": "stdout",
     "output_type": "stream",
     "text": [
      "epoch 42, train loss: 0.221, valid rmspe: 0.229\n"
     ]
    },
    {
     "name": "stderr",
     "output_type": "stream",
     "text": [
      "Training: 100%|██████████| 269/269 [00:08<00:00, 33.17it/s]\n",
      "Evaluating: 100%|██████████| 68/68 [00:01<00:00, 57.46it/s]\n",
      "Training:   0%|          | 0/269 [00:00<?, ?it/s]"
     ]
    },
    {
     "name": "stdout",
     "output_type": "stream",
     "text": [
      "epoch 43, train loss: 0.216, valid rmspe: 0.219\n"
     ]
    },
    {
     "name": "stderr",
     "output_type": "stream",
     "text": [
      "Training: 100%|██████████| 269/269 [00:08<00:00, 33.23it/s]\n",
      "Evaluating: 100%|██████████| 68/68 [00:01<00:00, 58.11it/s]\n",
      "Training:   0%|          | 0/269 [00:00<?, ?it/s]"
     ]
    },
    {
     "name": "stdout",
     "output_type": "stream",
     "text": [
      "epoch 44, train loss: 0.219, valid rmspe: 0.228\n"
     ]
    },
    {
     "name": "stderr",
     "output_type": "stream",
     "text": [
      "Training: 100%|██████████| 269/269 [00:08<00:00, 33.01it/s]\n",
      "Evaluating: 100%|██████████| 68/68 [00:01<00:00, 43.51it/s]\n",
      "Training:   0%|          | 0/269 [00:00<?, ?it/s]"
     ]
    },
    {
     "name": "stdout",
     "output_type": "stream",
     "text": [
      "epoch 45, train loss: 0.227, valid rmspe: 0.215\n"
     ]
    },
    {
     "name": "stderr",
     "output_type": "stream",
     "text": [
      "Training: 100%|██████████| 269/269 [00:08<00:00, 33.01it/s]\n",
      "Evaluating: 100%|██████████| 68/68 [00:01<00:00, 56.48it/s]\n",
      "Training:   0%|          | 0/269 [00:00<?, ?it/s]"
     ]
    },
    {
     "name": "stdout",
     "output_type": "stream",
     "text": [
      "epoch 46, train loss: 0.218, valid rmspe: 0.248\n"
     ]
    },
    {
     "name": "stderr",
     "output_type": "stream",
     "text": [
      "Training: 100%|██████████| 269/269 [00:08<00:00, 33.15it/s]\n",
      "Evaluating: 100%|██████████| 68/68 [00:01<00:00, 57.23it/s]\n",
      "Training:   0%|          | 0/269 [00:00<?, ?it/s]"
     ]
    },
    {
     "name": "stdout",
     "output_type": "stream",
     "text": [
      "epoch 47, train loss: 0.218, valid rmspe: 0.207\n",
      "new best:0.20739293098449707\n"
     ]
    },
    {
     "name": "stderr",
     "output_type": "stream",
     "text": [
      "Training: 100%|██████████| 269/269 [00:08<00:00, 33.03it/s]\n",
      "Evaluating: 100%|██████████| 68/68 [00:01<00:00, 56.96it/s]\n",
      "Training:   0%|          | 0/269 [00:00<?, ?it/s]"
     ]
    },
    {
     "name": "stdout",
     "output_type": "stream",
     "text": [
      "epoch 48, train loss: 0.211, valid rmspe: 0.207\n",
      "new best:0.20736925303936005\n"
     ]
    },
    {
     "name": "stderr",
     "output_type": "stream",
     "text": [
      "Training: 100%|██████████| 269/269 [00:08<00:00, 32.45it/s]\n",
      "Evaluating: 100%|██████████| 68/68 [00:01<00:00, 57.99it/s]\n",
      "Training:   0%|          | 0/269 [00:00<?, ?it/s]"
     ]
    },
    {
     "name": "stdout",
     "output_type": "stream",
     "text": [
      "epoch 49, train loss: 0.213, valid rmspe: 0.247\n",
      "fold 4 train: (343146, 100), valid: (85786, 100)\n"
     ]
    },
    {
     "name": "stderr",
     "output_type": "stream",
     "text": [
      "Training: 100%|██████████| 269/269 [00:08<00:00, 33.05it/s]\n",
      "Evaluating: 100%|██████████| 68/68 [00:01<00:00, 54.16it/s]\n",
      "Training:   0%|          | 0/269 [00:00<?, ?it/s]"
     ]
    },
    {
     "name": "stdout",
     "output_type": "stream",
     "text": [
      "epoch 0, train loss: 64.995, valid rmspe: 140.336\n",
      "new best:140.33609008789062\n"
     ]
    },
    {
     "name": "stderr",
     "output_type": "stream",
     "text": [
      "Training: 100%|██████████| 269/269 [00:08<00:00, 30.28it/s]\n",
      "Evaluating: 100%|██████████| 68/68 [00:01<00:00, 47.73it/s]\n",
      "Training:   0%|          | 0/269 [00:00<?, ?it/s]"
     ]
    },
    {
     "name": "stdout",
     "output_type": "stream",
     "text": [
      "epoch 1, train loss: 20.926, valid rmspe: 25.520\n",
      "new best:25.520301818847656\n"
     ]
    },
    {
     "name": "stderr",
     "output_type": "stream",
     "text": [
      "Training: 100%|██████████| 269/269 [00:09<00:00, 29.65it/s]\n",
      "Evaluating: 100%|██████████| 68/68 [00:01<00:00, 57.61it/s]\n",
      "Training:   0%|          | 0/269 [00:00<?, ?it/s]"
     ]
    },
    {
     "name": "stdout",
     "output_type": "stream",
     "text": [
      "epoch 2, train loss: 12.025, valid rmspe: 12.186\n",
      "new best:12.186317443847656\n"
     ]
    },
    {
     "name": "stderr",
     "output_type": "stream",
     "text": [
      "Training: 100%|██████████| 269/269 [00:08<00:00, 32.99it/s]\n",
      "Evaluating: 100%|██████████| 68/68 [00:01<00:00, 57.99it/s]\n",
      "Training:   0%|          | 0/269 [00:00<?, ?it/s]"
     ]
    },
    {
     "name": "stdout",
     "output_type": "stream",
     "text": [
      "epoch 3, train loss: 9.850, valid rmspe: 105.198\n"
     ]
    },
    {
     "name": "stderr",
     "output_type": "stream",
     "text": [
      "Training: 100%|██████████| 269/269 [00:08<00:00, 33.44it/s]\n",
      "Evaluating: 100%|██████████| 68/68 [00:01<00:00, 55.61it/s]\n",
      "Training:   0%|          | 0/269 [00:00<?, ?it/s]"
     ]
    },
    {
     "name": "stdout",
     "output_type": "stream",
     "text": [
      "epoch 4, train loss: 6.733, valid rmspe: 4.640\n",
      "new best:4.640467166900635\n"
     ]
    },
    {
     "name": "stderr",
     "output_type": "stream",
     "text": [
      "Training: 100%|██████████| 269/269 [00:08<00:00, 32.55it/s]\n",
      "Evaluating: 100%|██████████| 68/68 [00:01<00:00, 59.08it/s]\n",
      "Training:   0%|          | 0/269 [00:00<?, ?it/s]"
     ]
    },
    {
     "name": "stdout",
     "output_type": "stream",
     "text": [
      "epoch 5, train loss: 5.766, valid rmspe: 4.722\n"
     ]
    },
    {
     "name": "stderr",
     "output_type": "stream",
     "text": [
      "Training: 100%|██████████| 269/269 [00:08<00:00, 33.44it/s]\n",
      "Evaluating: 100%|██████████| 68/68 [00:01<00:00, 57.49it/s]\n",
      "Training:   0%|          | 0/269 [00:00<?, ?it/s]"
     ]
    },
    {
     "name": "stdout",
     "output_type": "stream",
     "text": [
      "epoch 6, train loss: 4.819, valid rmspe: 8.671\n"
     ]
    },
    {
     "name": "stderr",
     "output_type": "stream",
     "text": [
      "Training: 100%|██████████| 269/269 [00:08<00:00, 32.78it/s]\n",
      "Evaluating: 100%|██████████| 68/68 [00:01<00:00, 57.90it/s]\n",
      "Training:   0%|          | 0/269 [00:00<?, ?it/s]"
     ]
    },
    {
     "name": "stdout",
     "output_type": "stream",
     "text": [
      "epoch 7, train loss: 3.279, valid rmspe: 18.057\n"
     ]
    },
    {
     "name": "stderr",
     "output_type": "stream",
     "text": [
      "Training: 100%|██████████| 269/269 [00:08<00:00, 32.66it/s]\n",
      "Evaluating: 100%|██████████| 68/68 [00:01<00:00, 58.04it/s]\n",
      "Training:   0%|          | 0/269 [00:00<?, ?it/s]"
     ]
    },
    {
     "name": "stdout",
     "output_type": "stream",
     "text": [
      "epoch 8, train loss: 3.360, valid rmspe: 3.607\n",
      "new best:3.6070730686187744\n"
     ]
    },
    {
     "name": "stderr",
     "output_type": "stream",
     "text": [
      "Training: 100%|██████████| 269/269 [00:08<00:00, 32.56it/s]\n",
      "Evaluating: 100%|██████████| 68/68 [00:01<00:00, 56.21it/s]\n",
      "Training:   0%|          | 0/269 [00:00<?, ?it/s]"
     ]
    },
    {
     "name": "stdout",
     "output_type": "stream",
     "text": [
      "epoch 9, train loss: 2.270, valid rmspe: 3.131\n",
      "new best:3.1312036514282227\n"
     ]
    },
    {
     "name": "stderr",
     "output_type": "stream",
     "text": [
      "Training: 100%|██████████| 269/269 [00:08<00:00, 33.27it/s]\n",
      "Evaluating: 100%|██████████| 68/68 [00:01<00:00, 57.50it/s]\n",
      "Training:   0%|          | 0/269 [00:00<?, ?it/s]"
     ]
    },
    {
     "name": "stdout",
     "output_type": "stream",
     "text": [
      "epoch 10, train loss: 1.524, valid rmspe: 5.095\n"
     ]
    },
    {
     "name": "stderr",
     "output_type": "stream",
     "text": [
      "Training: 100%|██████████| 269/269 [00:08<00:00, 33.09it/s]\n",
      "Evaluating: 100%|██████████| 68/68 [00:01<00:00, 56.82it/s]\n",
      "Training:   0%|          | 0/269 [00:00<?, ?it/s]"
     ]
    },
    {
     "name": "stdout",
     "output_type": "stream",
     "text": [
      "epoch 11, train loss: 1.519, valid rmspe: 1.885\n",
      "new best:1.8846184015274048\n"
     ]
    },
    {
     "name": "stderr",
     "output_type": "stream",
     "text": [
      "Training: 100%|██████████| 269/269 [00:08<00:00, 32.64it/s]\n",
      "Evaluating: 100%|██████████| 68/68 [00:01<00:00, 56.93it/s]\n",
      "Training:   0%|          | 0/269 [00:00<?, ?it/s]"
     ]
    },
    {
     "name": "stdout",
     "output_type": "stream",
     "text": [
      "epoch 12, train loss: 1.211, valid rmspe: 1.033\n",
      "new best:1.0327377319335938\n"
     ]
    },
    {
     "name": "stderr",
     "output_type": "stream",
     "text": [
      "Training: 100%|██████████| 269/269 [00:08<00:00, 32.92it/s]\n",
      "Evaluating: 100%|██████████| 68/68 [00:01<00:00, 57.67it/s]\n",
      "Training:   0%|          | 0/269 [00:00<?, ?it/s]"
     ]
    },
    {
     "name": "stdout",
     "output_type": "stream",
     "text": [
      "epoch 13, train loss: 0.916, valid rmspe: 1.558\n"
     ]
    },
    {
     "name": "stderr",
     "output_type": "stream",
     "text": [
      "Training: 100%|██████████| 269/269 [00:07<00:00, 33.65it/s]\n",
      "Evaluating: 100%|██████████| 68/68 [00:01<00:00, 57.02it/s]\n",
      "Training:   0%|          | 0/269 [00:00<?, ?it/s]"
     ]
    },
    {
     "name": "stdout",
     "output_type": "stream",
     "text": [
      "epoch 14, train loss: 0.773, valid rmspe: 0.827\n",
      "new best:0.8271812200546265\n"
     ]
    },
    {
     "name": "stderr",
     "output_type": "stream",
     "text": [
      "Training: 100%|██████████| 269/269 [00:08<00:00, 31.19it/s]\n",
      "Evaluating: 100%|██████████| 68/68 [00:01<00:00, 46.75it/s]\n",
      "Training:   0%|          | 0/269 [00:00<?, ?it/s]"
     ]
    },
    {
     "name": "stdout",
     "output_type": "stream",
     "text": [
      "epoch 15, train loss: 0.876, valid rmspe: 1.980\n"
     ]
    },
    {
     "name": "stderr",
     "output_type": "stream",
     "text": [
      "Training: 100%|██████████| 269/269 [00:08<00:00, 30.51it/s]\n",
      "Evaluating: 100%|██████████| 68/68 [00:01<00:00, 48.10it/s]\n",
      "Training:   0%|          | 0/269 [00:00<?, ?it/s]"
     ]
    },
    {
     "name": "stdout",
     "output_type": "stream",
     "text": [
      "epoch 16, train loss: 0.659, valid rmspe: 0.529\n",
      "new best:0.5286280512809753\n"
     ]
    },
    {
     "name": "stderr",
     "output_type": "stream",
     "text": [
      "Training: 100%|██████████| 269/269 [00:08<00:00, 32.08it/s]\n",
      "Evaluating: 100%|██████████| 68/68 [00:01<00:00, 57.60it/s]\n",
      "Training:   0%|          | 0/269 [00:00<?, ?it/s]"
     ]
    },
    {
     "name": "stdout",
     "output_type": "stream",
     "text": [
      "epoch 17, train loss: 0.573, valid rmspe: 0.277\n",
      "new best:0.27674928307533264\n"
     ]
    },
    {
     "name": "stderr",
     "output_type": "stream",
     "text": [
      "Training: 100%|██████████| 269/269 [00:08<00:00, 33.00it/s]\n",
      "Evaluating: 100%|██████████| 68/68 [00:01<00:00, 49.21it/s]\n",
      "Training:   0%|          | 0/269 [00:00<?, ?it/s]"
     ]
    },
    {
     "name": "stdout",
     "output_type": "stream",
     "text": [
      "epoch 18, train loss: 0.453, valid rmspe: 0.407\n"
     ]
    },
    {
     "name": "stderr",
     "output_type": "stream",
     "text": [
      "Training: 100%|██████████| 269/269 [00:08<00:00, 32.82it/s]\n",
      "Evaluating: 100%|██████████| 68/68 [00:01<00:00, 54.37it/s]\n",
      "Training:   0%|          | 0/269 [00:00<?, ?it/s]"
     ]
    },
    {
     "name": "stdout",
     "output_type": "stream",
     "text": [
      "epoch 19, train loss: 0.488, valid rmspe: 0.491\n"
     ]
    },
    {
     "name": "stderr",
     "output_type": "stream",
     "text": [
      "Training: 100%|██████████| 269/269 [00:08<00:00, 33.48it/s]\n",
      "Evaluating: 100%|██████████| 68/68 [00:01<00:00, 57.41it/s]\n",
      "Training:   0%|          | 0/269 [00:00<?, ?it/s]"
     ]
    },
    {
     "name": "stdout",
     "output_type": "stream",
     "text": [
      "epoch 20, train loss: 0.443, valid rmspe: 0.308\n"
     ]
    },
    {
     "name": "stderr",
     "output_type": "stream",
     "text": [
      "Training: 100%|██████████| 269/269 [00:08<00:00, 32.94it/s]\n",
      "Evaluating: 100%|██████████| 68/68 [00:01<00:00, 58.39it/s]\n",
      "Training:   0%|          | 0/269 [00:00<?, ?it/s]"
     ]
    },
    {
     "name": "stdout",
     "output_type": "stream",
     "text": [
      "epoch 21, train loss: 0.379, valid rmspe: 0.252\n",
      "new best:0.25160375237464905\n"
     ]
    },
    {
     "name": "stderr",
     "output_type": "stream",
     "text": [
      "Training: 100%|██████████| 269/269 [00:08<00:00, 32.71it/s]\n",
      "Evaluating: 100%|██████████| 68/68 [00:01<00:00, 58.73it/s]\n",
      "Training:   0%|          | 0/269 [00:00<?, ?it/s]"
     ]
    },
    {
     "name": "stdout",
     "output_type": "stream",
     "text": [
      "epoch 22, train loss: 0.454, valid rmspe: 0.367\n"
     ]
    },
    {
     "name": "stderr",
     "output_type": "stream",
     "text": [
      "Training: 100%|██████████| 269/269 [00:08<00:00, 33.08it/s]\n",
      "Evaluating: 100%|██████████| 68/68 [00:01<00:00, 58.93it/s]\n",
      "Training:   0%|          | 0/269 [00:00<?, ?it/s]"
     ]
    },
    {
     "name": "stdout",
     "output_type": "stream",
     "text": [
      "epoch 23, train loss: 0.298, valid rmspe: 0.262\n"
     ]
    },
    {
     "name": "stderr",
     "output_type": "stream",
     "text": [
      "Training: 100%|██████████| 269/269 [00:08<00:00, 32.75it/s]\n",
      "Evaluating: 100%|██████████| 68/68 [00:01<00:00, 56.81it/s]\n",
      "Training:   0%|          | 0/269 [00:00<?, ?it/s]"
     ]
    },
    {
     "name": "stdout",
     "output_type": "stream",
     "text": [
      "epoch 24, train loss: 0.322, valid rmspe: 0.252\n"
     ]
    },
    {
     "name": "stderr",
     "output_type": "stream",
     "text": [
      "Training: 100%|██████████| 269/269 [00:08<00:00, 32.81it/s]\n",
      "Evaluating: 100%|██████████| 68/68 [00:01<00:00, 58.17it/s]\n",
      "Training:   0%|          | 0/269 [00:00<?, ?it/s]"
     ]
    },
    {
     "name": "stdout",
     "output_type": "stream",
     "text": [
      "epoch 25, train loss: 0.379, valid rmspe: 0.269\n"
     ]
    },
    {
     "name": "stderr",
     "output_type": "stream",
     "text": [
      "Training: 100%|██████████| 269/269 [00:08<00:00, 32.80it/s]\n",
      "Evaluating: 100%|██████████| 68/68 [00:01<00:00, 57.65it/s]\n",
      "Training:   0%|          | 0/269 [00:00<?, ?it/s]"
     ]
    },
    {
     "name": "stdout",
     "output_type": "stream",
     "text": [
      "epoch 26, train loss: 0.393, valid rmspe: 0.452\n"
     ]
    },
    {
     "name": "stderr",
     "output_type": "stream",
     "text": [
      "Training: 100%|██████████| 269/269 [00:08<00:00, 33.33it/s]\n",
      "Evaluating: 100%|██████████| 68/68 [00:01<00:00, 57.10it/s]\n",
      "Training:   0%|          | 0/269 [00:00<?, ?it/s]"
     ]
    },
    {
     "name": "stdout",
     "output_type": "stream",
     "text": [
      "epoch 27, train loss: 0.284, valid rmspe: 0.244\n",
      "new best:0.24361968040466309\n"
     ]
    },
    {
     "name": "stderr",
     "output_type": "stream",
     "text": [
      "Training: 100%|██████████| 269/269 [00:08<00:00, 33.15it/s]\n",
      "Evaluating: 100%|██████████| 68/68 [00:01<00:00, 58.00it/s]\n",
      "Training:   0%|          | 0/269 [00:00<?, ?it/s]"
     ]
    },
    {
     "name": "stdout",
     "output_type": "stream",
     "text": [
      "epoch 28, train loss: 0.273, valid rmspe: 0.216\n",
      "new best:0.21649813652038574\n"
     ]
    },
    {
     "name": "stderr",
     "output_type": "stream",
     "text": [
      "Training: 100%|██████████| 269/269 [00:08<00:00, 32.58it/s]\n",
      "Evaluating: 100%|██████████| 68/68 [00:01<00:00, 59.17it/s]\n",
      "Training:   0%|          | 0/269 [00:00<?, ?it/s]"
     ]
    },
    {
     "name": "stdout",
     "output_type": "stream",
     "text": [
      "epoch 29, train loss: 0.250, valid rmspe: 0.252\n"
     ]
    },
    {
     "name": "stderr",
     "output_type": "stream",
     "text": [
      "Training: 100%|██████████| 269/269 [00:08<00:00, 30.19it/s]\n",
      "Evaluating: 100%|██████████| 68/68 [00:01<00:00, 47.24it/s]\n",
      "Training:   0%|          | 0/269 [00:00<?, ?it/s]"
     ]
    },
    {
     "name": "stdout",
     "output_type": "stream",
     "text": [
      "epoch 30, train loss: 0.239, valid rmspe: 0.230\n"
     ]
    },
    {
     "name": "stderr",
     "output_type": "stream",
     "text": [
      "Training: 100%|██████████| 269/269 [00:08<00:00, 30.54it/s]\n",
      "Evaluating: 100%|██████████| 68/68 [00:01<00:00, 57.85it/s]\n",
      "Training:   0%|          | 0/269 [00:00<?, ?it/s]"
     ]
    },
    {
     "name": "stdout",
     "output_type": "stream",
     "text": [
      "epoch 31, train loss: 0.235, valid rmspe: 0.237\n"
     ]
    },
    {
     "name": "stderr",
     "output_type": "stream",
     "text": [
      "Training: 100%|██████████| 269/269 [00:08<00:00, 32.50it/s]\n",
      "Evaluating: 100%|██████████| 68/68 [00:01<00:00, 58.17it/s]\n",
      "Training:   0%|          | 0/269 [00:00<?, ?it/s]"
     ]
    },
    {
     "name": "stdout",
     "output_type": "stream",
     "text": [
      "epoch 32, train loss: 0.229, valid rmspe: 0.234\n"
     ]
    },
    {
     "name": "stderr",
     "output_type": "stream",
     "text": [
      "Training: 100%|██████████| 269/269 [00:08<00:00, 33.19it/s]\n",
      "Evaluating: 100%|██████████| 68/68 [00:01<00:00, 57.24it/s]\n",
      "Training:   0%|          | 0/269 [00:00<?, ?it/s]"
     ]
    },
    {
     "name": "stdout",
     "output_type": "stream",
     "text": [
      "epoch 33, train loss: 0.225, valid rmspe: 0.343\n"
     ]
    },
    {
     "name": "stderr",
     "output_type": "stream",
     "text": [
      "Training: 100%|██████████| 269/269 [00:08<00:00, 32.88it/s]\n",
      "Evaluating: 100%|██████████| 68/68 [00:01<00:00, 55.60it/s]\n",
      "Training:   0%|          | 0/269 [00:00<?, ?it/s]"
     ]
    },
    {
     "name": "stdout",
     "output_type": "stream",
     "text": [
      "epoch 34, train loss: 0.218, valid rmspe: 0.249\n"
     ]
    },
    {
     "name": "stderr",
     "output_type": "stream",
     "text": [
      "Training: 100%|██████████| 269/269 [00:08<00:00, 32.51it/s]\n",
      "Evaluating: 100%|██████████| 68/68 [00:01<00:00, 57.85it/s]\n",
      "Training:   0%|          | 0/269 [00:00<?, ?it/s]"
     ]
    },
    {
     "name": "stdout",
     "output_type": "stream",
     "text": [
      "epoch 35, train loss: 0.214, valid rmspe: 0.218\n"
     ]
    },
    {
     "name": "stderr",
     "output_type": "stream",
     "text": [
      "Training: 100%|██████████| 269/269 [00:08<00:00, 32.99it/s]\n",
      "Evaluating: 100%|██████████| 68/68 [00:01<00:00, 57.47it/s]\n",
      "Training:   0%|          | 0/269 [00:00<?, ?it/s]"
     ]
    },
    {
     "name": "stdout",
     "output_type": "stream",
     "text": [
      "epoch 36, train loss: 0.213, valid rmspe: 0.217\n"
     ]
    },
    {
     "name": "stderr",
     "output_type": "stream",
     "text": [
      "Training: 100%|██████████| 269/269 [00:08<00:00, 32.86it/s]\n",
      "Evaluating: 100%|██████████| 68/68 [00:01<00:00, 56.10it/s]\n",
      "Training:   0%|          | 0/269 [00:00<?, ?it/s]"
     ]
    },
    {
     "name": "stdout",
     "output_type": "stream",
     "text": [
      "epoch 37, train loss: 0.213, valid rmspe: 0.212\n",
      "new best:0.21174734830856323\n"
     ]
    },
    {
     "name": "stderr",
     "output_type": "stream",
     "text": [
      "Training: 100%|██████████| 269/269 [00:08<00:00, 33.17it/s]\n",
      "Evaluating: 100%|██████████| 68/68 [00:01<00:00, 43.79it/s]\n",
      "Training:   0%|          | 0/269 [00:00<?, ?it/s]"
     ]
    },
    {
     "name": "stdout",
     "output_type": "stream",
     "text": [
      "epoch 38, train loss: 0.213, valid rmspe: 0.210\n",
      "new best:0.20987187325954437\n"
     ]
    },
    {
     "name": "stderr",
     "output_type": "stream",
     "text": [
      "Training: 100%|██████████| 269/269 [00:08<00:00, 32.89it/s]\n",
      "Evaluating: 100%|██████████| 68/68 [00:01<00:00, 57.41it/s]\n",
      "Training:   0%|          | 0/269 [00:00<?, ?it/s]"
     ]
    },
    {
     "name": "stdout",
     "output_type": "stream",
     "text": [
      "epoch 39, train loss: 0.209, valid rmspe: 0.212\n"
     ]
    },
    {
     "name": "stderr",
     "output_type": "stream",
     "text": [
      "Training: 100%|██████████| 269/269 [00:08<00:00, 33.40it/s]\n",
      "Evaluating: 100%|██████████| 68/68 [00:01<00:00, 58.26it/s]\n",
      "Training:   0%|          | 0/269 [00:00<?, ?it/s]"
     ]
    },
    {
     "name": "stdout",
     "output_type": "stream",
     "text": [
      "epoch 40, train loss: 0.207, valid rmspe: 0.225\n"
     ]
    },
    {
     "name": "stderr",
     "output_type": "stream",
     "text": [
      "Training: 100%|██████████| 269/269 [00:08<00:00, 33.14it/s]\n",
      "Evaluating: 100%|██████████| 68/68 [00:01<00:00, 57.30it/s]\n",
      "Training:   0%|          | 0/269 [00:00<?, ?it/s]"
     ]
    },
    {
     "name": "stdout",
     "output_type": "stream",
     "text": [
      "epoch 41, train loss: 0.206, valid rmspe: 0.295\n"
     ]
    },
    {
     "name": "stderr",
     "output_type": "stream",
     "text": [
      "Training: 100%|██████████| 269/269 [00:08<00:00, 32.66it/s]\n",
      "Evaluating: 100%|██████████| 68/68 [00:01<00:00, 58.41it/s]\n",
      "Training:   0%|          | 0/269 [00:00<?, ?it/s]"
     ]
    },
    {
     "name": "stdout",
     "output_type": "stream",
     "text": [
      "epoch 42, train loss: 0.211, valid rmspe: 0.211\n"
     ]
    },
    {
     "name": "stderr",
     "output_type": "stream",
     "text": [
      "Training: 100%|██████████| 269/269 [00:08<00:00, 32.52it/s]\n",
      "Evaluating: 100%|██████████| 68/68 [00:01<00:00, 56.57it/s]\n",
      "Training:   0%|          | 0/269 [00:00<?, ?it/s]"
     ]
    },
    {
     "name": "stdout",
     "output_type": "stream",
     "text": [
      "epoch 43, train loss: 0.208, valid rmspe: 0.236\n"
     ]
    },
    {
     "name": "stderr",
     "output_type": "stream",
     "text": [
      "Training: 100%|██████████| 269/269 [00:08<00:00, 32.09it/s]\n",
      "Evaluating: 100%|██████████| 68/68 [00:01<00:00, 46.23it/s]\n",
      "Training:   0%|          | 0/269 [00:00<?, ?it/s]"
     ]
    },
    {
     "name": "stdout",
     "output_type": "stream",
     "text": [
      "epoch 44, train loss: 0.206, valid rmspe: 0.223\n"
     ]
    },
    {
     "name": "stderr",
     "output_type": "stream",
     "text": [
      "Training: 100%|██████████| 269/269 [00:09<00:00, 29.38it/s]\n",
      "Evaluating: 100%|██████████| 68/68 [00:01<00:00, 47.87it/s]\n",
      "Training:   0%|          | 0/269 [00:00<?, ?it/s]"
     ]
    },
    {
     "name": "stdout",
     "output_type": "stream",
     "text": [
      "epoch 45, train loss: 0.206, valid rmspe: 0.216\n"
     ]
    },
    {
     "name": "stderr",
     "output_type": "stream",
     "text": [
      "Training: 100%|██████████| 269/269 [00:08<00:00, 31.97it/s]\n",
      "Evaluating: 100%|██████████| 68/68 [00:01<00:00, 57.78it/s]\n",
      "Training:   0%|          | 0/269 [00:00<?, ?it/s]"
     ]
    },
    {
     "name": "stdout",
     "output_type": "stream",
     "text": [
      "epoch 46, train loss: 0.205, valid rmspe: 0.217\n"
     ]
    },
    {
     "name": "stderr",
     "output_type": "stream",
     "text": [
      "Training: 100%|██████████| 269/269 [00:08<00:00, 32.92it/s]\n",
      "Evaluating: 100%|██████████| 68/68 [00:01<00:00, 58.00it/s]\n",
      "Training:   0%|          | 0/269 [00:00<?, ?it/s]"
     ]
    },
    {
     "name": "stdout",
     "output_type": "stream",
     "text": [
      "epoch 47, train loss: 0.199, valid rmspe: 0.209\n",
      "new best:0.20877887308597565\n"
     ]
    },
    {
     "name": "stderr",
     "output_type": "stream",
     "text": [
      "Training: 100%|██████████| 269/269 [00:08<00:00, 32.40it/s]\n",
      "Evaluating: 100%|██████████| 68/68 [00:01<00:00, 56.71it/s]\n",
      "Training:   0%|          | 0/269 [00:00<?, ?it/s]"
     ]
    },
    {
     "name": "stdout",
     "output_type": "stream",
     "text": [
      "epoch 48, train loss: 0.207, valid rmspe: 0.221\n"
     ]
    },
    {
     "name": "stderr",
     "output_type": "stream",
     "text": [
      "Training: 100%|██████████| 269/269 [00:08<00:00, 32.99it/s]\n",
      "Evaluating: 100%|██████████| 68/68 [00:01<00:00, 56.04it/s]\n"
     ]
    },
    {
     "name": "stdout",
     "output_type": "stream",
     "text": [
      "epoch 49, train loss: 0.199, valid rmspe: 0.217\n",
      "number of models are less than top_n. all models will be used\n",
      "total 0 models will be used.\n",
      "train full\n",
      "Device used : cuda\n",
      "epoch 0  | loss: 148.93938| val_0_rmspe: 182.3109130859375|  0:00:06s\n",
      "epoch 10 | loss: 0.37464 | val_0_rmspe: 0.3318299949169159|  0:01:06s\n",
      "epoch 20 | loss: 0.31154 | val_0_rmspe: 0.2739799916744232|  0:02:07s\n",
      "epoch 30 | loss: 0.26879 | val_0_rmspe: 0.3022800087928772|  0:03:10s\n",
      "epoch 40 | loss: 0.25805 | val_0_rmspe: 0.256879985332489|  0:04:11s\n",
      "epoch 50 | loss: 0.22806 | val_0_rmspe: 0.24426999688148499|  0:05:12s\n",
      "epoch 60 | loss: 0.27576 | val_0_rmspe: 0.2447900027036667|  0:06:15s\n",
      "epoch 70 | loss: 0.24968 | val_0_rmspe: 0.3140000104904175|  0:07:16s\n",
      "epoch 80 | loss: 0.23517 | val_0_rmspe: 0.2310200035572052|  0:08:17s\n",
      "epoch 90 | loss: 0.21914 | val_0_rmspe: 0.21807000041007996|  0:09:20s\n",
      "epoch 100| loss: 0.21627 | val_0_rmspe: 0.21592000126838684|  0:10:21s\n",
      "epoch 110| loss: 0.21365 | val_0_rmspe: 0.21478000283241272|  0:11:22s\n",
      "epoch 120| loss: 0.21627 | val_0_rmspe: 0.21517999470233917|  0:12:26s\n",
      "epoch 130| loss: 0.212   | val_0_rmspe: 0.2131499946117401|  0:13:28s\n",
      "epoch 140| loss: 0.21107 | val_0_rmspe: 0.2131900042295456|  0:14:29s\n",
      "epoch 150| loss: 0.20988 | val_0_rmspe: 0.21121999621391296|  0:15:33s\n",
      "epoch 160| loss: 0.20909 | val_0_rmspe: 0.21006999909877777|  0:16:34s\n",
      "epoch 170| loss: 0.20858 | val_0_rmspe: 0.2096800059080124|  0:17:36s\n",
      "epoch 180| loss: 0.2082  | val_0_rmspe: 0.20970000326633453|  0:18:40s\n",
      "epoch 190| loss: 0.20824 | val_0_rmspe: 0.209539994597435|  0:19:41s\n",
      "epoch 200| loss: 0.21689 | val_0_rmspe: 0.21735000610351562|  0:20:42s\n",
      "epoch 210| loss: 0.2794  | val_0_rmspe: 0.29025998711586|  0:21:48s\n",
      "epoch 220| loss: 0.26171 | val_0_rmspe: 0.24924999475479126|  0:22:50s\n",
      "epoch 230| loss: 0.23086 | val_0_rmspe: 0.23246000707149506|  0:23:51s\n",
      "epoch 240| loss: 0.22418 | val_0_rmspe: 0.22130000591278076|  0:24:55s\n",
      "\n",
      "Early stopping occured at epoch 241 with best_epoch = 191 and best_val_0_rmspe = 0.2093300074338913\n",
      "Best weights from best epoch are automatically used!\n",
      "Successfully saved model at artifacts/fold_0.pth.zip\n",
      "Device used : cuda\n",
      "epoch 0  | loss: 139.62633| val_0_rmspe: 25.75242042541504|  0:00:06s\n",
      "epoch 10 | loss: 0.48975 | val_0_rmspe: 0.661899983882904|  0:01:06s\n",
      "epoch 20 | loss: 0.27993 | val_0_rmspe: 0.26469001173973083|  0:02:09s\n",
      "epoch 30 | loss: 0.27961 | val_0_rmspe: 0.2571699917316437|  0:03:09s\n",
      "epoch 40 | loss: 0.23643 | val_0_rmspe: 0.23543000221252441|  0:04:11s\n",
      "epoch 50 | loss: 0.22072 | val_0_rmspe: 0.22450999915599823|  0:05:14s\n",
      "epoch 60 | loss: 0.21428 | val_0_rmspe: 0.21702000498771667|  0:06:16s\n",
      "epoch 70 | loss: 0.21041 | val_0_rmspe: 0.21578000485897064|  0:07:16s\n",
      "epoch 80 | loss: 0.2099  | val_0_rmspe: 0.21698999404907227|  0:08:19s\n",
      "epoch 90 | loss: 0.20984 | val_0_rmspe: 0.21860000491142273|  0:09:20s\n",
      "epoch 100| loss: 0.2066  | val_0_rmspe: 0.2145400047302246|  0:10:21s\n",
      "epoch 110| loss: 0.20624 | val_0_rmspe: 0.2147900015115738|  0:11:25s\n",
      "epoch 120| loss: 0.20437 | val_0_rmspe: 0.2147199958562851|  0:12:26s\n",
      "epoch 130| loss: 0.20353 | val_0_rmspe: 0.21593999862670898|  0:13:27s\n",
      "epoch 140| loss: 0.20241 | val_0_rmspe: 0.21789999306201935|  0:14:31s\n",
      "\n",
      "Early stopping occured at epoch 147 with best_epoch = 97 and best_val_0_rmspe = 0.21258999407291412\n",
      "Best weights from best epoch are automatically used!\n",
      "Successfully saved model at artifacts/fold_1.pth.zip\n",
      "Device used : cuda\n",
      "epoch 0  | loss: 148.40456| val_0_rmspe: 35.713111877441406|  0:00:06s\n",
      "epoch 10 | loss: 0.92911 | val_0_rmspe: 1.1637599468231201|  0:01:09s\n",
      "epoch 20 | loss: 0.80885 | val_0_rmspe: 0.47822999954223633|  0:02:14s\n",
      "epoch 30 | loss: 0.2538  | val_0_rmspe: 0.23902000486850739|  0:03:17s\n",
      "epoch 40 | loss: 0.23653 | val_0_rmspe: 0.23914000391960144|  0:04:19s\n",
      "epoch 50 | loss: 0.23733 | val_0_rmspe: 0.22982999682426453|  0:05:25s\n",
      "epoch 60 | loss: 0.22498 | val_0_rmspe: 0.22164000570774078|  0:06:27s\n",
      "epoch 70 | loss: 0.21725 | val_0_rmspe: 0.21493999660015106|  0:07:30s\n",
      "epoch 80 | loss: 0.21395 | val_0_rmspe: 0.21544000506401062|  0:08:35s\n",
      "epoch 90 | loss: 0.21688 | val_0_rmspe: 0.21594999730587006|  0:09:38s\n",
      "epoch 100| loss: 0.2135  | val_0_rmspe: 0.21469999849796295|  0:10:37s\n",
      "epoch 110| loss: 0.21102 | val_0_rmspe: 0.21161000430583954|  0:11:40s\n",
      "epoch 120| loss: 0.21061 | val_0_rmspe: 0.21469999849796295|  0:12:40s\n",
      "epoch 130| loss: 0.20919 | val_0_rmspe: 0.21069000661373138|  0:13:40s\n",
      "epoch 140| loss: 0.20759 | val_0_rmspe: 0.2096399962902069|  0:14:43s\n",
      "epoch 150| loss: 0.20696 | val_0_rmspe: 0.2094999998807907|  0:15:44s\n",
      "epoch 160| loss: 0.20791 | val_0_rmspe: 0.21104000508785248|  0:16:45s\n",
      "epoch 170| loss: 0.20605 | val_0_rmspe: 0.21008999645709991|  0:17:47s\n",
      "epoch 180| loss: 0.20557 | val_0_rmspe: 0.2100200057029724|  0:18:47s\n",
      "epoch 190| loss: 0.20544 | val_0_rmspe: 0.20935000479221344|  0:19:48s\n",
      "epoch 200| loss: 0.2788  | val_0_rmspe: 0.5748100280761719|  0:20:51s\n",
      "\n",
      "Early stopping occured at epoch 204 with best_epoch = 154 and best_val_0_rmspe = 0.20916999876499176\n",
      "Best weights from best epoch are automatically used!\n",
      "Successfully saved model at artifacts/fold_2.pth.zip\n",
      "number of models are less than top_n. all models will be used\n",
      "total 0 models will be used.\n"
     ]
    }
   ],
   "source": [
    "device = torch.device('cuda' if torch.cuda.is_available() else 'cpu')\n",
    "print(device)\n",
    "\n",
    "def get_X(df_src):\n",
    "    cols = [c for c in df_src.columns if c not in ['time_id', 'target', 'tick_size', 'row_id']]\n",
    "    return df_src[cols]\n",
    "\n",
    "X = get_X(train)\n",
    "y = train['target']\n",
    "\n",
    "device = torch.device('cuda' if torch.cuda.is_available() else 'cpu')\n",
    "print(device)\n",
    "\n",
    "gc.collect()\n",
    "\n",
    "def get_top_n_models(models, scores, top_n):\n",
    "    if len(models) <= top_n:\n",
    "        print('number of models are less than top_n. all models will be used')\n",
    "        return models\n",
    "    sorted_ = [(y, x) for y, x in sorted(zip(scores, models), key=lambda pair: pair[0])]\n",
    "    print(f'scores(sorted): {[y for y, _ in sorted_]}')\n",
    "    return [x for _, x in sorted_][:top_n]\n",
    "\n",
    "\n",
    "if False:\n",
    "    model_paths = []\n",
    "    scores = []\n",
    "    \n",
    "    if True:#if SHORTCUT_NN_IN_1ST_STAGE and IS_1ST_STAGE:\n",
    "        print('shortcut to save quota...')\n",
    "        epochs = 3\n",
    "        valid_th = 100\n",
    "    else:\n",
    "        epochs = 30\n",
    "        valid_th = NN_VALID_TH\n",
    "    \n",
    "    for i in range(3):\n",
    "        # MLP\n",
    "        nn_losses, nn_preds, scaler = train_nn(X, y, \n",
    "                                               # [folds[-1]], \n",
    "                                               device=device, \n",
    "                                               batch_size=512,\n",
    "                                               mlp_bn=True,\n",
    "                                               mlp_hidden=256,\n",
    "                                               mlp_dropout=0.0,\n",
    "                                               emb_dim=30,\n",
    "                                               epochs=epochs,\n",
    "                                               lr=0.002,\n",
    "                                               max_lr=0.0055,\n",
    "                                               weight_decay=1e-7,\n",
    "                                               model_path='mlp_fold_{}' + f\"_seed{i}.pth\",\n",
    "                                               seed=i)\n",
    "        if nn_losses[0] < NN_VALID_TH:\n",
    "            print(f'model of seed {i} added.')\n",
    "            scores.append(nn_losses[0])\n",
    "            model_paths.append(f'artifacts/mlp_fold_0_seed{i}.pth')\n",
    "            np.save(f'pred_mlp_seed{i}.npy', nn_preds[0])\n",
    "\n",
    "    model_paths = get_top_n_models(model_paths, scores, NN_MODEL_TOP_N)\n",
    "    mlp_model = [torch.load(path, device) for path in model_paths]\n",
    "    print(f'total {len(mlp_model)} models will be used.')\n",
    "    \n",
    "if True:\n",
    "    model_paths = []\n",
    "    scores = []\n",
    "        \n",
    "    if SHORTCUT_NN_IN_1ST_STAGE and IS_1ST_STAGE:\n",
    "        print('shortcut to save quota...')\n",
    "        epochs = 3\n",
    "        valid_th = 100\n",
    "    else:\n",
    "        epochs = 50\n",
    "        valid_th = NN_VALID_TH\n",
    "\n",
    "    for i in range(2):\n",
    "        nn_losses, nn_preds, scaler = train_nn(X, y, \n",
    "                                               #[folds[-1]], \n",
    "                                               device=device, \n",
    "                                               cnn_hidden=8*128,\n",
    "                                               batch_size=1280,\n",
    "                                               model_type='cnn',\n",
    "                                               emb_dim=30,\n",
    "                                               epochs=epochs, #epochs,\n",
    "                                               cnn_channel1=128,\n",
    "                                               cnn_channel2=3*128,\n",
    "                                               cnn_channel3=3*128,\n",
    "                                               lr=0.00038, #0.0011,\n",
    "                                               max_lr=0.0013,\n",
    "                                               weight_decay=6.5e-6,\n",
    "                                               optimizer_type='adam',\n",
    "                                               scheduler_type='reduce',\n",
    "                                               model_path='cnn_fold_{}' + f\"_seed{i}.pth\",\n",
    "                                               seed=i,\n",
    "                                               cnn_dropout=0.0,\n",
    "                                               cnn_weight_norm=True,\n",
    "                                               cnn_leaky_relu=False,\n",
    "                                               patience=8,\n",
    "                                               factor=0.3)\n",
    "        if nn_losses[0] < valid_th:\n",
    "            model_paths.append(f'artifacts/cnn_fold_0_seed{i}.pth')\n",
    "            scores.append(nn_losses[0])\n",
    "            np.save(f'pred_cnn_seed{i}.npy', nn_preds[0])\n",
    "            \n",
    "    model_paths = get_top_n_models(model_paths, scores, NN_MODEL_TOP_N)\n",
    "    cnn_model = [torch.load(path, device) for path in model_paths]\n",
    "    print(f'total {len(cnn_model)} models will be used.')\n",
    "\n",
    "    \n",
    "if True:\n",
    "    tab_model = []\n",
    "    scores = []\n",
    "        \n",
    "    if SHORTCUT_NN_IN_1ST_STAGE and IS_1ST_STAGE:\n",
    "        print('shortcut to save quota...')\n",
    "        epochs = 10\n",
    "        valid_th = 1000\n",
    "    else:\n",
    "        print('train full')\n",
    "        epochs = 250\n",
    "        valid_th = NN_VALID_TH\n",
    "\n",
    "    nn_losses, nn_preds, scaler, model = train_tabnet(X, y,  \n",
    "                                                      #[folds[-1]], \n",
    "                                                      batch_size=1280,\n",
    "                                                      epochs=epochs, #epochs,\n",
    "                                                      lr=0.04,\n",
    "                                                      patience=50,\n",
    "                                                      factor=0.5,\n",
    "                                                      gamma=1.6,\n",
    "                                                      lambda_sparse=3.55e-6,\n",
    "                                                      seed=2021,\n",
    "                                                      n_a=36)\n",
    "    if nn_losses[0] < valid_th:\n",
    "        tab_model.append(model)\n",
    "        scores.append(nn_losses[0])\n",
    "        np.save(f'pred_tab_seed.npy', nn_preds[0])\n",
    "        model.save_model(f'artifacts/tabnet_fold_0_seed')\n",
    "            \n",
    "    tab_model = get_top_n_models(tab_model, scores, TAB_MODEL_TOP_N)\n",
    "    print(f'total {len(tab_model)} models will be used.')\n",
    "    \n",
    "# about 1 hr\n",
    "# after pca to 100: about 45 min, weaker performance"
   ]
  },
  {
   "cell_type": "code",
   "execution_count": 15,
   "id": "024e8d2b",
   "metadata": {
    "execution": {
     "iopub.execute_input": "2023-12-13T17:00:39.491278Z",
     "iopub.status.busy": "2023-12-13T17:00:39.490670Z",
     "iopub.status.idle": "2023-12-13T17:00:39.502000Z",
     "shell.execute_reply": "2023-12-13T17:00:39.501378Z",
     "shell.execute_reply.started": "2023-12-13T11:31:27.170960Z"
    },
    "papermill": {
     "duration": 13.510345,
     "end_time": "2023-12-13T17:00:39.502153",
     "exception": false,
     "start_time": "2023-12-13T17:00:25.991808",
     "status": "completed"
    },
    "tags": []
   },
   "outputs": [
    {
     "name": "stderr",
     "output_type": "stream",
     "text": [
      "/opt/conda/lib/python3.7/site-packages/ipykernel_launcher.py:427: RuntimeWarning: Mean of empty slice.\n",
      "/opt/conda/lib/python3.7/site-packages/numpy/core/_methods.py:170: RuntimeWarning: invalid value encountered in double_scalars\n",
      "  ret = ret.dtype.type(ret / rcount)\n"
     ]
    }
   ],
   "source": [
    "X_test = get_X(test)\n",
    "tab_preds = predict_tabnet(X_test, tab_model, scaler, ensemble_method=ENSEMBLE_METHOD).flatten()\n",
    "#cnn_preds = predict_nn(X_test, cnn_model, scaler, device, ensemble_method=ENSEMBLE_METHOD)"
   ]
  },
  {
   "cell_type": "markdown",
   "id": "747bfc49",
   "metadata": {
    "papermill": {
     "duration": 13.421369,
     "end_time": "2023-12-13T17:01:06.309585",
     "exception": false,
     "start_time": "2023-12-13T17:00:52.888216",
     "status": "completed"
    },
    "tags": []
   },
   "source": [
    "## LGBM"
   ]
  },
  {
   "cell_type": "code",
   "execution_count": 16,
   "id": "fe4df4cf",
   "metadata": {
    "execution": {
     "iopub.execute_input": "2023-12-13T17:01:33.190769Z",
     "iopub.status.busy": "2023-12-13T17:01:33.190107Z",
     "iopub.status.idle": "2023-12-13T17:24:29.347751Z",
     "shell.execute_reply": "2023-12-13T17:24:29.347114Z",
     "shell.execute_reply.started": "2023-12-13T11:31:37.189917Z"
    },
    "papermill": {
     "duration": 1389.621721,
     "end_time": "2023-12-13T17:24:29.347898",
     "exception": false,
     "start_time": "2023-12-13T17:01:19.726177",
     "status": "completed"
    },
    "tags": []
   },
   "outputs": [
    {
     "data": {
      "text/html": [
       "<style type='text/css'>\n",
       ".datatable table.frame { margin-bottom: 0; }\n",
       ".datatable table.frame thead { border-bottom: none; }\n",
       ".datatable table.frame tr.coltypes td {  color: #FFFFFF;  line-height: 6px;  padding: 0 0.5em;}\n",
       ".datatable .bool    { background: #DDDD99; }\n",
       ".datatable .object  { background: #565656; }\n",
       ".datatable .int     { background: #5D9E5D; }\n",
       ".datatable .float   { background: #4040CC; }\n",
       ".datatable .str     { background: #CC4040; }\n",
       ".datatable .time    { background: #40CC40; }\n",
       ".datatable .row_index {  background: var(--jp-border-color3);  border-right: 1px solid var(--jp-border-color0);  color: var(--jp-ui-font-color3);  font-size: 9px;}\n",
       ".datatable .frame tbody td { text-align: left; }\n",
       ".datatable .frame tr.coltypes .row_index {  background: var(--jp-border-color0);}\n",
       ".datatable th:nth-child(2) { padding-left: 12px; }\n",
       ".datatable .hellipsis {  color: var(--jp-cell-editor-border-color);}\n",
       ".datatable .vellipsis {  background: var(--jp-layout-color0);  color: var(--jp-cell-editor-border-color);}\n",
       ".datatable .na {  color: var(--jp-cell-editor-border-color);  font-size: 80%;}\n",
       ".datatable .sp {  opacity: 0.25;}\n",
       ".datatable .footer { font-size: 9px; }\n",
       ".datatable .frame_dimensions {  background: var(--jp-border-color3);  border-top: 1px solid var(--jp-border-color0);  color: var(--jp-ui-font-color3);  display: inline-block;  opacity: 0.6;  padding: 1px 10px 1px 5px;}\n",
       ".datatable .frame thead tr.colnames {  background-image: url('data:image/png;base64,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');  background-repeat: repeat-x;  background-size: 14px;  height: 28px;}\n",
       "</style>\n"
      ],
      "text/plain": [
       "<IPython.core.display.HTML object>"
      ]
     },
     "metadata": {},
     "output_type": "display_data"
    },
    {
     "name": "stdout",
     "output_type": "stream",
     "text": [
      "Training fold 1\n",
      "Training until validation scores don't improve for 50 rounds\n",
      "[250]\ttraining's rmse: 0.000429005\ttraining's RMSPE: 0.198406\tvalid_1's rmse: 0.000441736\tvalid_1's RMSPE: 0.205029\n",
      "[500]\ttraining's rmse: 0.000406641\ttraining's RMSPE: 0.188063\tvalid_1's rmse: 0.000427725\tvalid_1's RMSPE: 0.198526\n",
      "[750]\ttraining's rmse: 0.000392987\ttraining's RMSPE: 0.181748\tvalid_1's rmse: 0.000420488\tvalid_1's RMSPE: 0.195167\n",
      "[1000]\ttraining's rmse: 0.000382851\ttraining's RMSPE: 0.177061\tvalid_1's rmse: 0.000416324\tvalid_1's RMSPE: 0.193234\n",
      "[1250]\ttraining's rmse: 0.000374682\ttraining's RMSPE: 0.173283\tvalid_1's rmse: 0.000413803\tvalid_1's RMSPE: 0.192064\n",
      "Did not meet early stopping. Best iteration is:\n",
      "[1300]\ttraining's rmse: 0.000373224\ttraining's RMSPE: 0.172609\tvalid_1's rmse: 0.000413174\tvalid_1's RMSPE: 0.191772\n",
      "Training fold 2\n",
      "Training until validation scores don't improve for 50 rounds\n",
      "[250]\ttraining's rmse: 0.000428514\ttraining's RMSPE: 0.198526\tvalid_1's rmse: 0.000440305\tvalid_1's RMSPE: 0.20294\n",
      "[500]\ttraining's rmse: 0.000406233\ttraining's RMSPE: 0.188203\tvalid_1's rmse: 0.000425532\tvalid_1's RMSPE: 0.196131\n",
      "[750]\ttraining's rmse: 0.000392085\ttraining's RMSPE: 0.181648\tvalid_1's rmse: 0.00041752\tvalid_1's RMSPE: 0.192438\n",
      "[1000]\ttraining's rmse: 0.000381894\ttraining's RMSPE: 0.176927\tvalid_1's rmse: 0.000412993\tvalid_1's RMSPE: 0.190351\n",
      "[1250]\ttraining's rmse: 0.000373694\ttraining's RMSPE: 0.173128\tvalid_1's rmse: 0.000410175\tvalid_1's RMSPE: 0.189053\n",
      "Did not meet early stopping. Best iteration is:\n",
      "[1300]\ttraining's rmse: 0.000372205\ttraining's RMSPE: 0.172438\tvalid_1's rmse: 0.000409671\tvalid_1's RMSPE: 0.18882\n",
      "Training fold 3\n",
      "Training until validation scores don't improve for 50 rounds\n",
      "[250]\ttraining's rmse: 0.000428116\ttraining's RMSPE: 0.197988\tvalid_1's rmse: 0.000469098\tvalid_1's RMSPE: 0.217759\n",
      "[500]\ttraining's rmse: 0.000406189\ttraining's RMSPE: 0.187847\tvalid_1's rmse: 0.000454434\tvalid_1's RMSPE: 0.210952\n",
      "[750]\ttraining's rmse: 0.000392273\ttraining's RMSPE: 0.181412\tvalid_1's rmse: 0.000447918\tvalid_1's RMSPE: 0.207927\n",
      "[1000]\ttraining's rmse: 0.000382141\ttraining's RMSPE: 0.176726\tvalid_1's rmse: 0.000443544\tvalid_1's RMSPE: 0.205896\n",
      "Early stopping, best iteration is:\n",
      "[1130]\ttraining's rmse: 0.000377742\ttraining's RMSPE: 0.174692\tvalid_1's rmse: 0.00044219\tvalid_1's RMSPE: 0.205268\n",
      "Training fold 4\n",
      "Training until validation scores don't improve for 50 rounds\n",
      "[250]\ttraining's rmse: 0.000427888\ttraining's RMSPE: 0.198236\tvalid_1's rmse: 0.000445434\tvalid_1's RMSPE: 0.205302\n",
      "[500]\ttraining's rmse: 0.000405576\ttraining's RMSPE: 0.187899\tvalid_1's rmse: 0.000430323\tvalid_1's RMSPE: 0.198337\n",
      "[750]\ttraining's rmse: 0.000392129\ttraining's RMSPE: 0.181669\tvalid_1's rmse: 0.000422881\tvalid_1's RMSPE: 0.194907\n",
      "[1000]\ttraining's rmse: 0.000381803\ttraining's RMSPE: 0.176885\tvalid_1's rmse: 0.000418265\tvalid_1's RMSPE: 0.19278\n",
      "[1250]\ttraining's rmse: 0.000373708\ttraining's RMSPE: 0.173135\tvalid_1's rmse: 0.00041568\tvalid_1's RMSPE: 0.191588\n",
      "Did not meet early stopping. Best iteration is:\n",
      "[1300]\ttraining's rmse: 0.000372255\ttraining's RMSPE: 0.172462\tvalid_1's rmse: 0.0004153\tvalid_1's RMSPE: 0.191413\n",
      "Training fold 5\n",
      "Training until validation scores don't improve for 50 rounds\n",
      "[250]\ttraining's rmse: 0.000429063\ttraining's RMSPE: 0.19846\tvalid_1's rmse: 0.000443587\tvalid_1's RMSPE: 0.205775\n",
      "[500]\ttraining's rmse: 0.000407102\ttraining's RMSPE: 0.188302\tvalid_1's rmse: 0.00043016\tvalid_1's RMSPE: 0.199546\n",
      "[750]\ttraining's rmse: 0.000393288\ttraining's RMSPE: 0.181913\tvalid_1's rmse: 0.000422968\tvalid_1's RMSPE: 0.19621\n",
      "[1000]\ttraining's rmse: 0.00038307\ttraining's RMSPE: 0.177186\tvalid_1's rmse: 0.000418925\tvalid_1's RMSPE: 0.194334\n",
      "[1250]\ttraining's rmse: 0.000374749\ttraining's RMSPE: 0.173338\tvalid_1's rmse: 0.000415775\tvalid_1's RMSPE: 0.192873\n",
      "Did not meet early stopping. Best iteration is:\n",
      "[1300]\ttraining's rmse: 0.000373259\ttraining's RMSPE: 0.172648\tvalid_1's rmse: 0.00041566\tvalid_1's RMSPE: 0.19282\n",
      "Our out of folds RMSPE is 0.19410481639395613\n"
     ]
    },
    {
     "data": {
      "image/png": "[encoded data removed]",
      "text/plain": [
       "<Figure size 432x288 with 1 Axes>"
      ]
     },
     "metadata": {
      "needs_background": "light"
     },
     "output_type": "display_data"
    }
   ],
   "source": [
    "from sklearn.model_selection import KFold\n",
    "import lightgbm as lgb\n",
    "\n",
    "seed0=2021\n",
    "params0 = {\n",
    "    'objective': 'rmse',\n",
    "    'boosting_type': 'gbdt',\n",
    "    'max_depth': -1,\n",
    "    'max_bin':100,\n",
    "    'min_data_in_leaf':500,\n",
    "    'learning_rate': 0.05,\n",
    "    'subsample': 0.72,\n",
    "    'subsample_freq': 4,\n",
    "    'feature_fraction': 0.5,\n",
    "    'lambda_l1': 0.5,\n",
    "    'lambda_l2': 1.0,\n",
    "    'categorical_column':[0],\n",
    "    'seed':seed0,\n",
    "    'feature_fraction_seed': seed0,\n",
    "    'bagging_seed': seed0,\n",
    "    'drop_seed': seed0,\n",
    "    'data_random_seed': seed0,\n",
    "    'n_jobs':-1,\n",
    "    'verbose': -1}\n",
    "seed1=42\n",
    "params1 = {\n",
    "        'learning_rate': 0.1,        \n",
    "        'lambda_l1': 2,\n",
    "        'lambda_l2': 7,\n",
    "        'num_leaves': 800,\n",
    "        'min_sum_hessian_in_leaf': 20,\n",
    "        'feature_fraction': 0.8,\n",
    "        'feature_fraction_bynode': 0.8,\n",
    "        'bagging_fraction': 0.9,\n",
    "        'bagging_freq': 42,\n",
    "        'min_data_in_leaf': 700,\n",
    "        'max_depth': 4,\n",
    "        'categorical_column':[0],\n",
    "        'seed': seed1,\n",
    "        'feature_fraction_seed': seed1,\n",
    "        'bagging_seed': seed1,\n",
    "        'drop_seed': seed1,\n",
    "        'data_random_seed': seed1,\n",
    "        'objective': 'rmse',\n",
    "        'boosting': 'gbdt',\n",
    "        'verbosity': -1,\n",
    "        'n_jobs':-1,\n",
    "    }\n",
    "# Function to early stop with root mean squared percentage error\n",
    "def rmspe(y_true, y_pred):\n",
    "    return np.sqrt(np.mean(np.square((y_true - y_pred) / y_true)))\n",
    "\n",
    "def feval_rmspe(y_pred, lgb_train):\n",
    "    y_true = lgb_train.get_label()\n",
    "    return 'RMSPE', rmspe(y_true, y_pred), False\n",
    "\n",
    "def train_and_evaluate_lgb(train, test, params):\n",
    "    # Hyperparammeters (just basic)\n",
    "    \n",
    "    features = [col for col in train.columns if col not in {\"time_id\", \"target\", \"row_id\"}]\n",
    "    # Create out of folds array\n",
    "    y = train['target']\n",
    "    oof_predictions = np.zeros(train.shape[0])\n",
    "    # Create test array to store predictions\n",
    "    test_predictions = np.zeros(test.shape[0])\n",
    "    # Create a KFold object\n",
    "    kfold = KFold(n_splits = 5, random_state = 2021, shuffle = True)\n",
    "    # Iterate through each fold\n",
    "    for fold, (trn_ind, val_ind) in enumerate(kfold.split(train)):\n",
    "        print(f'Training fold {fold + 1}')\n",
    "        x_train, x_val = train.iloc[trn_ind], train.iloc[val_ind]\n",
    "        y_train, y_val = y.iloc[trn_ind], y.iloc[val_ind]\n",
    "        # Root mean squared percentage error weights\n",
    "        train_weights = 1 / np.square(y_train)\n",
    "        val_weights = 1 / np.square(y_val)\n",
    "        train_dataset = lgb.Dataset(x_train[features], y_train, weight = train_weights)\n",
    "        val_dataset = lgb.Dataset(x_val[features], y_val, weight = val_weights)\n",
    "        model = lgb.train(params = params,\n",
    "                          num_boost_round=1300,\n",
    "                          train_set = train_dataset, \n",
    "                          valid_sets = [train_dataset, val_dataset], \n",
    "                          verbose_eval = 250,\n",
    "                          early_stopping_rounds=50,\n",
    "                          feval = feval_rmspe)\n",
    "        # Add predictions to the out of folds array\n",
    "        oof_predictions[val_ind] = model.predict(x_val[features])\n",
    "        # Predict the test set\n",
    "        test_predictions += model.predict(test[features]) / 5\n",
    "    rmspe_score = rmspe(y, oof_predictions)\n",
    "    print(f'Our out of folds RMSPE is {rmspe_score}')\n",
    "    lgb.plot_importance(model,max_num_features=20)\n",
    "    # Return test predictions\n",
    "    return test_predictions\n",
    "# Traing and evaluate\n",
    "predictions_lgb_1= train_and_evaluate_lgb(train, test,params0)\n",
    "# predictions_lgb_2= train_and_evaluate_lgb(train, test,params1)\n",
    "# test['target'] = predictions_lgb_1\n",
    "# test[['row_id', 'target']].to_csv('submission.csv',index = False)"
   ]
  },
  {
   "cell_type": "code",
   "execution_count": 17,
   "id": "abcfeb0b",
   "metadata": {
    "execution": {
     "iopub.execute_input": "2023-12-13T17:24:56.433745Z",
     "iopub.status.busy": "2023-12-13T17:24:56.432837Z",
     "iopub.status.idle": "2023-12-13T17:24:56.436614Z",
     "shell.execute_reply": "2023-12-13T17:24:56.436066Z",
     "shell.execute_reply.started": "2023-12-13T11:55:17.974448Z"
    },
    "papermill": {
     "duration": 13.619172,
     "end_time": "2023-12-13T17:24:56.436773",
     "exception": false,
     "start_time": "2023-12-13T17:24:42.817601",
     "status": "completed"
    },
    "tags": []
   },
   "outputs": [
    {
     "data": {
      "text/plain": [
       "280"
      ]
     },
     "execution_count": 17,
     "metadata": {},
     "output_type": "execute_result"
    }
   ],
   "source": [
    "train.shape[1]"
   ]
  },
  {
   "cell_type": "code",
   "execution_count": 18,
   "id": "da72feb1",
   "metadata": {
    "execution": {
     "iopub.execute_input": "2023-12-13T17:25:23.508882Z",
     "iopub.status.busy": "2023-12-13T17:25:23.508247Z",
     "iopub.status.idle": "2023-12-13T17:25:29.007353Z",
     "shell.execute_reply": "2023-12-13T17:25:29.006623Z",
     "shell.execute_reply.started": "2023-12-13T12:20:52.897048Z"
    },
    "papermill": {
     "duration": 19.063371,
     "end_time": "2023-12-13T17:25:29.007503",
     "exception": false,
     "start_time": "2023-12-13T17:25:09.944132",
     "status": "completed"
    },
    "tags": []
   },
   "outputs": [],
   "source": [
    "\n",
    "from numpy.random import seed\n",
    "seed(42)\n",
    "import tensorflow as tf\n",
    "tf.random.set_seed(42)\n",
    "from tensorflow import keras\n",
    "import numpy as np\n",
    "from keras import backend as K\n",
    "def root_mean_squared_per_error(y_true, y_pred):\n",
    "         return K.sqrt(K.mean(K.square( (y_true - y_pred)/ y_true )))\n",
    "    \n",
    "es = tf.keras.callbacks.EarlyStopping(\n",
    "    monitor='val_loss', patience=20, verbose=0,\n",
    "    mode='min',restore_best_weights=True)\n",
    "\n",
    "plateau = tf.keras.callbacks.ReduceLROnPlateau(\n",
    "    monitor='val_loss', factor=0.195, patience=7, verbose=0,\n",
    "    mode='min')\n"
   ]
  },
  {
   "cell_type": "code",
   "execution_count": 19,
   "id": "8e076a16",
   "metadata": {
    "execution": {
     "iopub.execute_input": "2023-12-13T17:25:56.205750Z",
     "iopub.status.busy": "2023-12-13T17:25:56.202036Z",
     "iopub.status.idle": "2023-12-13T17:26:05.148791Z",
     "shell.execute_reply": "2023-12-13T17:26:05.148006Z",
     "shell.execute_reply.started": "2023-12-13T12:21:01.051054Z"
    },
    "papermill": {
     "duration": 22.643394,
     "end_time": "2023-12-13T17:26:05.148960",
     "exception": false,
     "start_time": "2023-12-13T17:25:42.505566",
     "status": "completed"
    },
    "tags": []
   },
   "outputs": [],
   "source": [
    "# kfold based on the knn++ algorithm\n",
    "\n",
    "out_train = pd.read_csv('../input/optiver-realized-volatility-prediction/train.csv')\n",
    "out_train = out_train.pivot(index='time_id', columns='stock_id', values='target')\n",
    "\n",
    "#out_train[out_train.isna().any(axis=1)]\n",
    "out_train = out_train.fillna(out_train.mean())\n",
    "out_train.head()\n",
    "\n",
    "# code to add the just the read data after first execution\n",
    "\n",
    "# data separation based on knn ++\n",
    "nfolds = 5 # number of folds\n",
    "index = []\n",
    "totDist = []\n",
    "values = []\n",
    "# generates a matriz with the values of \n",
    "mat = out_train.values\n",
    "\n",
    "scaler = MinMaxScaler(feature_range=(-1, 1))\n",
    "mat = scaler.fit_transform(mat)\n",
    "\n",
    "nind = int(mat.shape[0]/nfolds) # number of individuals\n",
    "\n",
    "# adds index in the last column\n",
    "mat = np.c_[mat,np.arange(mat.shape[0])]\n",
    "\n",
    "\n",
    "lineNumber = np.random.choice(np.array(mat.shape[0]), size=nfolds, replace=False)\n",
    "\n",
    "lineNumber = np.sort(lineNumber)[::-1]\n",
    "\n",
    "for n in range(nfolds):\n",
    "    totDist.append(np.zeros(mat.shape[0]-nfolds))\n",
    "\n",
    "# saves index\n",
    "for n in range(nfolds):\n",
    "    \n",
    "    values.append([lineNumber[n]])    \n",
    "\n",
    "\n",
    "s=[]\n",
    "for n in range(nfolds):\n",
    "    s.append(mat[lineNumber[n],:])\n",
    "    \n",
    "    mat = np.delete(mat, obj=lineNumber[n], axis=0)\n",
    "\n",
    "for n in range(nind-1):    \n",
    "\n",
    "    luck = np.random.uniform(0,1,nfolds)\n",
    "    \n",
    "    for cycle in range(nfolds):\n",
    "         # saves the values of index           \n",
    "\n",
    "        s[cycle] = np.matlib.repmat(s[cycle], mat.shape[0], 1)\n",
    "\n",
    "        sumDist = np.sum( (mat[:,:-1] - s[cycle][:,:-1])**2 , axis=1)   \n",
    "        totDist[cycle] += sumDist        \n",
    "                \n",
    "        # probabilities\n",
    "        f = totDist[cycle]/np.sum(totDist[cycle]) # normalizing the totdist\n",
    "        j = 0\n",
    "        kn = 0\n",
    "        for val in f:\n",
    "            j += val        \n",
    "            if (j > luck[cycle]): # the column was selected\n",
    "                break\n",
    "            kn +=1\n",
    "        lineNumber[cycle] = kn\n",
    "        \n",
    "        # delete line of the value added    \n",
    "        for n_iter in range(nfolds):\n",
    "            \n",
    "            totDist[n_iter] = np.delete(totDist[n_iter],obj=lineNumber[cycle], axis=0)\n",
    "            j= 0\n",
    "        \n",
    "        s[cycle] = mat[lineNumber[cycle],:]\n",
    "        values[cycle].append(int(mat[lineNumber[cycle],-1]))\n",
    "        mat = np.delete(mat, obj=lineNumber[cycle], axis=0)\n",
    "\n",
    "\n",
    "for n_mod in range(nfolds):\n",
    "    values[n_mod] = out_train.index[values[n_mod]]"
   ]
  },
  {
   "cell_type": "code",
   "execution_count": 20,
   "id": "aed72f01",
   "metadata": {
    "execution": {
     "iopub.execute_input": "2023-12-13T17:26:32.239960Z",
     "iopub.status.busy": "2023-12-13T17:26:32.239299Z",
     "iopub.status.idle": "2023-12-13T17:27:00.939995Z",
     "shell.execute_reply": "2023-12-13T17:27:00.939348Z",
     "shell.execute_reply.started": "2023-12-13T12:46:27.943480Z"
    },
    "papermill": {
     "duration": 42.274169,
     "end_time": "2023-12-13T17:27:00.940144",
     "exception": false,
     "start_time": "2023-12-13T17:26:18.665975",
     "status": "completed"
    },
    "tags": []
   },
   "outputs": [],
   "source": [
    "#colNames.remove('row_id')\n",
    "train.replace([np.inf, -np.inf], np.nan,inplace=True)\n",
    "test.replace([np.inf, -np.inf], np.nan,inplace=True)\n",
    "qt_train = []\n",
    "train_nn=train[colNames].copy()\n",
    "test_nn=test[colNames].copy()\n",
    "for col in colNames:\n",
    "    #print(col)\n",
    "    qt = QuantileTransformer(random_state=21,n_quantiles=2000, output_distribution='normal')\n",
    "    train_nn[col] = qt.fit_transform(train_nn[[col]])\n",
    "    test_nn[col] = qt.transform(test_nn[[col]])    \n",
    "    qt_train.append(qt)\n"
   ]
  },
  {
   "cell_type": "code",
   "execution_count": 21,
   "id": "0aad9530",
   "metadata": {
    "execution": {
     "iopub.execute_input": "2023-12-13T17:27:27.921110Z",
     "iopub.status.busy": "2023-12-13T17:27:27.920457Z",
     "iopub.status.idle": "2023-12-13T17:27:27.928958Z",
     "shell.execute_reply": "2023-12-13T17:27:27.928325Z",
     "shell.execute_reply.started": "2023-12-13T12:53:28.506385Z"
    },
    "papermill": {
     "duration": 13.55237,
     "end_time": "2023-12-13T17:27:27.929091",
     "exception": false,
     "start_time": "2023-12-13T17:27:14.376721",
     "status": "completed"
    },
    "tags": []
   },
   "outputs": [],
   "source": [
    "train_nn[['stock_id','time_id','target']]=train[['stock_id','time_id','target']]\n",
    "test_nn[['stock_id','time_id']]=test[['stock_id','time_id']]"
   ]
  },
  {
   "cell_type": "code",
   "execution_count": 22,
   "id": "233fa69a",
   "metadata": {
    "execution": {
     "iopub.execute_input": "2023-12-13T17:27:55.031198Z",
     "iopub.status.busy": "2023-12-13T17:27:55.030566Z",
     "iopub.status.idle": "2023-12-13T17:27:56.999559Z",
     "shell.execute_reply": "2023-12-13T17:27:56.999084Z",
     "shell.execute_reply.started": "2023-12-13T12:53:30.879190Z"
    },
    "papermill": {
     "duration": 15.561077,
     "end_time": "2023-12-13T17:27:56.999694",
     "exception": false,
     "start_time": "2023-12-13T17:27:41.438617",
     "status": "completed"
    },
    "tags": []
   },
   "outputs": [
    {
     "name": "stdout",
     "output_type": "stream",
     "text": [
      "[1 0 4 2 1 1 2 4 6 2 1 0 4 4 1 1 1 2 4 4 4 0 1 1 3 1 1 4 3 4 3 4 4 1 3 3 4\n",
      " 3 4 1 4 1 4 4 1 0 4 4 1 0 0 3 3 3 2 0 2 4 1 4 4 1 4 1 0 3 3 0 3 0 6 5 3 3\n",
      " 0 1 2 0 3 3 3 4 1 1 0 2 3 3 1 0 1 4 4 4 4 4 1 3 1 0 1 4 1 0 1 4 1 0 4 0 4\n",
      " 0]\n",
      "[1, 11, 22, 50, 55, 56, 62, 73, 76, 78, 84, 87, 96, 101, 112, 116, 122, 124, 126]\n",
      "[0, 4, 5, 10, 15, 16, 17, 23, 26, 28, 29, 36, 42, 44, 48, 53, 66, 69, 72, 85, 94, 95, 100, 102, 109, 111, 113, 115, 118, 120]\n",
      "[3, 6, 9, 18, 61, 63, 86, 97]\n",
      "[27, 31, 33, 37, 38, 40, 58, 59, 60, 74, 75, 77, 82, 83, 88, 89, 90, 98, 99, 110]\n",
      "[2, 7, 13, 14, 19, 20, 21, 30, 32, 34, 35, 39, 41, 43, 46, 47, 51, 52, 64, 67, 68, 70, 93, 103, 104, 105, 107, 108, 114, 119, 123, 125]\n",
      "[81]\n",
      "[8, 80]\n"
     ]
    }
   ],
   "source": [
    "# making agg features\n",
    "from sklearn.cluster import KMeans\n",
    "train_p = pd.read_csv('../input/optiver-realized-volatility-prediction/train.csv')\n",
    "train_p = train_p.pivot(index='time_id', columns='stock_id', values='target')\n",
    "\n",
    "corr = train_p.corr()\n",
    "\n",
    "ids = corr.index\n",
    "\n",
    "kmeans = KMeans(n_clusters=7, random_state=0).fit(corr.values)\n",
    "print(kmeans.labels_)\n",
    "\n",
    "l = []\n",
    "for n in range(7):\n",
    "    l.append ( [ (x-1) for x in ( (ids+1)*(kmeans.labels_ == n)) if x > 0] )\n",
    "    \n",
    "\n",
    "mat = []\n",
    "matTest = []\n",
    "\n",
    "n = 0\n",
    "for ind in l:\n",
    "    print(ind)\n",
    "    newDf = train_nn.loc[train_nn['stock_id'].isin(ind) ]\n",
    "    newDf = newDf.groupby(['time_id']).agg(np.nanmean)\n",
    "    newDf.loc[:,'stock_id'] = str(n)+'c1'\n",
    "    mat.append ( newDf )\n",
    "    \n",
    "    newDf = test_nn.loc[test_nn['stock_id'].isin(ind) ]    \n",
    "    newDf = newDf.groupby(['time_id']).agg(np.nanmean)\n",
    "    newDf.loc[:,'stock_id'] = str(n)+'c1'\n",
    "    matTest.append ( newDf )\n",
    "    \n",
    "    n+=1\n",
    "    \n",
    "mat1 = pd.concat(mat).reset_index()\n",
    "mat1.drop(columns=['target'],inplace=True)\n",
    "\n",
    "mat2 = pd.concat(matTest).reset_index()\n",
    "mat2 = pd.concat([mat2,mat1.loc[mat1.time_id==5]])"
   ]
  },
  {
   "cell_type": "code",
   "execution_count": 23,
   "id": "d73fab4d",
   "metadata": {
    "execution": {
     "iopub.execute_input": "2023-12-13T17:28:23.777135Z",
     "iopub.status.busy": "2023-12-13T17:28:23.776143Z",
     "iopub.status.idle": "2023-12-13T17:28:23.779096Z",
     "shell.execute_reply": "2023-12-13T17:28:23.778548Z",
     "shell.execute_reply.started": "2023-12-13T12:53:37.524642Z"
    },
    "papermill": {
     "duration": 13.404579,
     "end_time": "2023-12-13T17:28:23.779239",
     "exception": false,
     "start_time": "2023-12-13T17:28:10.374660",
     "status": "completed"
    },
    "tags": []
   },
   "outputs": [],
   "source": [
    "nnn = ['time_id',\n",
    "     'log_return1_realized_volatility_0c1',\n",
    "     'log_return1_realized_volatility_1c1',     \n",
    "     'log_return1_realized_volatility_3c1',\n",
    "     'log_return1_realized_volatility_4c1',     \n",
    "     'log_return1_realized_volatility_6c1',\n",
    "     'total_volume_sum_0c1',\n",
    "     'total_volume_sum_1c1', \n",
    "     'total_volume_sum_3c1',\n",
    "     'total_volume_sum_4c1', \n",
    "     'total_volume_sum_6c1',\n",
    "     'trade_size_sum_0c1',\n",
    "     'trade_size_sum_1c1', \n",
    "     'trade_size_sum_3c1',\n",
    "     'trade_size_sum_4c1', \n",
    "     'trade_size_sum_6c1',\n",
    "     'trade_order_count_sum_0c1',\n",
    "     'trade_order_count_sum_1c1',\n",
    "     'trade_order_count_sum_3c1',\n",
    "     'trade_order_count_sum_4c1',\n",
    "     'trade_order_count_sum_6c1',      \n",
    "     'price_spread_sum_0c1',\n",
    "     'price_spread_sum_1c1',\n",
    "     'price_spread_sum_3c1',\n",
    "     'price_spread_sum_4c1',\n",
    "     'price_spread_sum_6c1',   \n",
    "     'bid_spread_sum_0c1',\n",
    "     'bid_spread_sum_1c1',\n",
    "     'bid_spread_sum_3c1',\n",
    "     'bid_spread_sum_4c1',\n",
    "     'bid_spread_sum_6c1',       \n",
    "     'ask_spread_sum_0c1',\n",
    "     'ask_spread_sum_1c1',\n",
    "     'ask_spread_sum_3c1',\n",
    "     'ask_spread_sum_4c1',\n",
    "     'ask_spread_sum_6c1',   \n",
    "     'volume_imbalance_sum_0c1',\n",
    "     'volume_imbalance_sum_1c1',\n",
    "     'volume_imbalance_sum_3c1',\n",
    "     'volume_imbalance_sum_4c1',\n",
    "     'volume_imbalance_sum_6c1',       \n",
    "     'bid_ask_spread_sum_0c1',\n",
    "     'bid_ask_spread_sum_1c1',\n",
    "     'bid_ask_spread_sum_3c1',\n",
    "     'bid_ask_spread_sum_4c1',\n",
    "     'bid_ask_spread_sum_6c1',\n",
    "     'size_tau2_0c1',\n",
    "     'size_tau2_1c1',\n",
    "     'size_tau2_3c1',\n",
    "     'size_tau2_4c1',\n",
    "     'size_tau2_6c1'] "
   ]
  },
  {
   "cell_type": "code",
   "execution_count": 24,
   "id": "61b7c1e9",
   "metadata": {
    "execution": {
     "iopub.execute_input": "2023-12-13T17:28:50.958997Z",
     "iopub.status.busy": "2023-12-13T17:28:50.958385Z",
     "iopub.status.idle": "2023-12-13T17:28:51.174630Z",
     "shell.execute_reply": "2023-12-13T17:28:51.175109Z",
     "shell.execute_reply.started": "2023-12-13T12:53:43.867189Z"
    },
    "papermill": {
     "duration": 13.831909,
     "end_time": "2023-12-13T17:28:51.175284",
     "exception": false,
     "start_time": "2023-12-13T17:28:37.343375",
     "status": "completed"
    },
    "tags": []
   },
   "outputs": [
    {
     "name": "stderr",
     "output_type": "stream",
     "text": [
      "/opt/conda/lib/python3.7/site-packages/ipykernel_launcher.py:2: FutureWarning: Index.ravel returning ndarray is deprecated; in a future version this will return a view on self.\n",
      "  \n",
      "/opt/conda/lib/python3.7/site-packages/ipykernel_launcher.py:6: FutureWarning: Index.ravel returning ndarray is deprecated; in a future version this will return a view on self.\n",
      "  \n"
     ]
    }
   ],
   "source": [
    "mat1 = mat1.pivot(index='time_id', columns='stock_id')\n",
    "mat1.columns = [\"_\".join(x) for x in mat1.columns.ravel()]\n",
    "mat1.reset_index(inplace=True)\n",
    "\n",
    "mat2 = mat2.pivot(index='time_id', columns='stock_id')\n",
    "mat2.columns = [\"_\".join(x) for x in mat2.columns.ravel()]\n",
    "mat2.reset_index(inplace=True)"
   ]
  },
  {
   "cell_type": "code",
   "execution_count": 25,
   "id": "0d38334d",
   "metadata": {
    "execution": {
     "iopub.execute_input": "2023-12-13T17:29:18.332583Z",
     "iopub.status.busy": "2023-12-13T17:29:18.331683Z",
     "iopub.status.idle": "2023-12-13T17:29:32.268547Z",
     "shell.execute_reply": "2023-12-13T17:29:32.267947Z",
     "shell.execute_reply.started": "2023-12-13T12:53:47.350756Z"
    },
    "papermill": {
     "duration": 27.512828,
     "end_time": "2023-12-13T17:29:32.268677",
     "exception": false,
     "start_time": "2023-12-13T17:29:04.755849",
     "status": "completed"
    },
    "tags": []
   },
   "outputs": [
    {
     "data": {
      "text/plain": [
       "33"
      ]
     },
     "execution_count": 25,
     "metadata": {},
     "output_type": "execute_result"
    }
   ],
   "source": [
    "import gc\n",
    "train_nn = pd.merge(train_nn,mat1[nnn],how='left',on='time_id')\n",
    "test_nn = pd.merge(test_nn,mat2[nnn],how='left',on='time_id')\n",
    "del mat1,mat2\n",
    "del train,test\n",
    "gc.collect()"
   ]
  },
  {
   "cell_type": "markdown",
   "id": "abc560f5",
   "metadata": {
    "papermill": {
     "duration": 13.47152,
     "end_time": "2023-12-13T17:29:59.233908",
     "exception": false,
     "start_time": "2023-12-13T17:29:45.762388",
     "status": "completed"
    },
    "tags": []
   },
   "source": [
    "## FFNN"
   ]
  },
  {
   "cell_type": "code",
   "execution_count": 26,
   "id": "cf5b61e4",
   "metadata": {
    "execution": {
     "iopub.execute_input": "2023-12-13T17:30:25.997596Z",
     "iopub.status.busy": "2023-12-13T17:30:25.996950Z",
     "iopub.status.idle": "2023-12-13T17:30:26.013290Z",
     "shell.execute_reply": "2023-12-13T17:30:26.012655Z",
     "shell.execute_reply.started": "2023-12-13T12:57:23.124477Z"
    },
    "papermill": {
     "duration": 13.413231,
     "end_time": "2023-12-13T17:30:26.013423",
     "exception": false,
     "start_time": "2023-12-13T17:30:12.600192",
     "status": "completed"
    },
    "tags": []
   },
   "outputs": [],
   "source": [
    "#https://bignerdranch.com/blog/implementing-swish-activation-function-in-keras/\n",
    "from keras.backend import sigmoid\n",
    "def swish(x, beta = 1):\n",
    "    return (x * sigmoid(beta * x))\n",
    "\n",
    "from keras.utils.generic_utils import get_custom_objects\n",
    "from keras.layers import Activation\n",
    "get_custom_objects().update({'swish': Activation(swish)})\n",
    "\n",
    "hidden_units = (128,64,32)\n",
    "stock_embedding_size = 24\n",
    "\n",
    "cat_data = train_nn['stock_id']\n",
    "\n",
    "def base_model():\n",
    "    \n",
    "    # Each instance will consist of two inputs: a single user id, and a single movie id\n",
    "    stock_id_input = keras.Input(shape=(1,), name='stock_id')\n",
    "    num_input = keras.Input(shape=(276,), name='num_data')\n",
    "\n",
    "\n",
    "    #embedding, flatenning and concatenating\n",
    "    stock_embedded = keras.layers.Embedding(max(cat_data)+1, stock_embedding_size, \n",
    "                                           input_length=1, name='stock_embedding')(stock_id_input)\n",
    "    stock_flattened = keras.layers.Flatten()(stock_embedded)\n",
    "    out = keras.layers.Concatenate()([stock_flattened, num_input])\n",
    "    \n",
    "    # Add one or more hidden layers\n",
    "    for n_hidden in hidden_units:\n",
    "\n",
    "        out = keras.layers.Dense(n_hidden, activation='swish')(out)\n",
    "        \n",
    "\n",
    "    #out = keras.layers.Concatenate()([out, num_input])\n",
    "\n",
    "    # A single output: our predicted rating\n",
    "    out = keras.layers.Dense(1, activation='linear', name='prediction')(out)\n",
    "    \n",
    "    model = keras.Model(\n",
    "    inputs = [stock_id_input, num_input],\n",
    "    outputs = out,\n",
    "    )\n",
    "    \n",
    "    return model\n"
   ]
  },
  {
   "cell_type": "code",
   "execution_count": 27,
   "id": "8b6aa7bc",
   "metadata": {
    "execution": {
     "iopub.execute_input": "2023-12-13T17:30:53.031720Z",
     "iopub.status.busy": "2023-12-13T17:30:53.030986Z",
     "iopub.status.idle": "2023-12-13T17:30:53.033946Z",
     "shell.execute_reply": "2023-12-13T17:30:53.033313Z",
     "shell.execute_reply.started": "2023-12-13T12:57:28.205844Z"
    },
    "papermill": {
     "duration": 13.411503,
     "end_time": "2023-12-13T17:30:53.034076",
     "exception": false,
     "start_time": "2023-12-13T17:30:39.622573",
     "status": "completed"
    },
    "tags": []
   },
   "outputs": [],
   "source": [
    "# Function to calculate the root mean squared percentage error\n",
    "def rmspe(y_true, y_pred):\n",
    "    return np.sqrt(np.mean(np.square((y_true - y_pred) / y_true)))\n",
    "\n",
    "# Function to early stop with root mean squared percentage error\n",
    "def feval_rmspe(y_pred, lgb_train):\n",
    "    y_true = lgb_train.get_label()\n",
    "    return 'RMSPE', rmspe(y_true, y_pred), False"
   ]
  },
  {
   "cell_type": "code",
   "execution_count": 28,
   "id": "97026712",
   "metadata": {
    "execution": {
     "iopub.execute_input": "2023-12-13T17:31:19.867982Z",
     "iopub.status.busy": "2023-12-13T17:31:19.852954Z",
     "iopub.status.idle": "2023-12-13T17:36:23.653782Z",
     "shell.execute_reply": "2023-12-13T17:36:23.653210Z",
     "shell.execute_reply.started": "2023-12-13T13:07:44.220554Z"
    },
    "papermill": {
     "duration": 317.172664,
     "end_time": "2023-12-13T17:36:23.653933",
     "exception": false,
     "start_time": "2023-12-13T17:31:06.481269",
     "status": "completed"
    },
    "tags": []
   },
   "outputs": [
    {
     "name": "stdout",
     "output_type": "stream",
     "text": [
      "CV 1/5\n",
      "Epoch 1/1000\n",
      "168/168 [==============================] - 3s 10ms/step - loss: 22.6877 - val_loss: 1.7882\n",
      "Epoch 2/1000\n",
      "168/168 [==============================] - 1s 5ms/step - loss: 0.9153 - val_loss: 0.6510\n",
      "Epoch 3/1000\n",
      "168/168 [==============================] - 1s 5ms/step - loss: 0.6791 - val_loss: 0.4982\n",
      "Epoch 4/1000\n",
      "168/168 [==============================] - 1s 5ms/step - loss: 0.6063 - val_loss: 0.5735\n",
      "Epoch 5/1000\n",
      "168/168 [==============================] - 1s 5ms/step - loss: 0.4864 - val_loss: 0.3252\n",
      "Epoch 6/1000\n",
      "168/168 [==============================] - 1s 5ms/step - loss: 0.3658 - val_loss: 2.8641\n",
      "Epoch 7/1000\n",
      "168/168 [==============================] - 1s 5ms/step - loss: 0.9092 - val_loss: 0.2422\n",
      "Epoch 8/1000\n",
      "168/168 [==============================] - 1s 5ms/step - loss: 0.2809 - val_loss: 0.3179\n",
      "Epoch 9/1000\n",
      "168/168 [==============================] - 1s 5ms/step - loss: 0.3134 - val_loss: 0.4352\n",
      "Epoch 10/1000\n",
      "168/168 [==============================] - 1s 5ms/step - loss: 0.5070 - val_loss: 2.5512\n",
      "Epoch 11/1000\n",
      "168/168 [==============================] - 1s 5ms/step - loss: 0.6662 - val_loss: 0.4738\n",
      "Epoch 12/1000\n",
      "168/168 [==============================] - 1s 5ms/step - loss: 0.3886 - val_loss: 0.4041\n",
      "Epoch 13/1000\n",
      "168/168 [==============================] - 1s 5ms/step - loss: 0.3124 - val_loss: 0.2184\n",
      "Epoch 14/1000\n",
      "168/168 [==============================] - 1s 5ms/step - loss: 0.2329 - val_loss: 0.2203\n",
      "Epoch 15/1000\n",
      "168/168 [==============================] - 1s 5ms/step - loss: 0.2341 - val_loss: 0.2398\n",
      "Epoch 16/1000\n",
      "168/168 [==============================] - 1s 5ms/step - loss: 0.2788 - val_loss: 0.2381\n",
      "Epoch 17/1000\n",
      "168/168 [==============================] - 1s 5ms/step - loss: 0.2411 - val_loss: 0.2542\n",
      "Epoch 18/1000\n",
      "168/168 [==============================] - 1s 5ms/step - loss: 0.2569 - val_loss: 0.2290\n",
      "Epoch 19/1000\n",
      "168/168 [==============================] - 1s 5ms/step - loss: 0.2544 - val_loss: 0.2158\n",
      "Epoch 20/1000\n",
      "168/168 [==============================] - 1s 5ms/step - loss: 0.2465 - val_loss: 0.2131\n",
      "Epoch 21/1000\n",
      "168/168 [==============================] - 1s 5ms/step - loss: 0.2489 - val_loss: 0.2221\n",
      "Epoch 22/1000\n",
      "168/168 [==============================] - 1s 5ms/step - loss: 0.2532 - val_loss: 0.2209\n",
      "Epoch 23/1000\n",
      "168/168 [==============================] - 1s 5ms/step - loss: 0.2539 - val_loss: 0.2858\n",
      "Epoch 24/1000\n",
      "168/168 [==============================] - 1s 5ms/step - loss: 0.2383 - val_loss: 0.2133\n",
      "Epoch 25/1000\n",
      "168/168 [==============================] - 1s 5ms/step - loss: 0.2405 - val_loss: 0.2532\n",
      "Epoch 26/1000\n",
      "168/168 [==============================] - 1s 5ms/step - loss: 0.2403 - val_loss: 0.2859\n",
      "Epoch 27/1000\n",
      "168/168 [==============================] - 1s 5ms/step - loss: 0.2563 - val_loss: 0.2133\n",
      "Epoch 28/1000\n",
      "168/168 [==============================] - 1s 5ms/step - loss: 0.2078 - val_loss: 0.2081\n",
      "Epoch 29/1000\n",
      "168/168 [==============================] - 1s 5ms/step - loss: 0.2061 - val_loss: 0.2086\n",
      "Epoch 30/1000\n",
      "168/168 [==============================] - 1s 5ms/step - loss: 0.2050 - val_loss: 0.2086\n",
      "Epoch 31/1000\n",
      "168/168 [==============================] - 1s 5ms/step - loss: 0.2060 - val_loss: 0.2093\n",
      "Epoch 32/1000\n",
      "168/168 [==============================] - 1s 5ms/step - loss: 0.2057 - val_loss: 0.2089\n",
      "Epoch 33/1000\n",
      "168/168 [==============================] - 1s 5ms/step - loss: 0.2055 - val_loss: 0.2085\n",
      "Epoch 34/1000\n",
      "168/168 [==============================] - 1s 5ms/step - loss: 0.2048 - val_loss: 0.2235\n",
      "Epoch 35/1000\n",
      "168/168 [==============================] - 1s 5ms/step - loss: 0.2114 - val_loss: 0.2101\n",
      "Epoch 36/1000\n",
      "168/168 [==============================] - 1s 5ms/step - loss: 0.2044 - val_loss: 0.2088\n",
      "Epoch 37/1000\n",
      "168/168 [==============================] - 1s 5ms/step - loss: 0.2033 - val_loss: 0.2080\n",
      "Epoch 38/1000\n",
      "168/168 [==============================] - 1s 5ms/step - loss: 0.2033 - val_loss: 0.2080\n",
      "Epoch 39/1000\n",
      "168/168 [==============================] - 1s 5ms/step - loss: 0.2031 - val_loss: 0.2090\n",
      "Epoch 40/1000\n",
      "168/168 [==============================] - 1s 5ms/step - loss: 0.2029 - val_loss: 0.2089\n",
      "Epoch 41/1000\n",
      "168/168 [==============================] - 1s 5ms/step - loss: 0.2033 - val_loss: 0.2087\n",
      "Epoch 42/1000\n",
      "168/168 [==============================] - 1s 5ms/step - loss: 0.2031 - val_loss: 0.2080\n",
      "Epoch 43/1000\n",
      "168/168 [==============================] - 1s 5ms/step - loss: 0.2036 - val_loss: 0.2089\n",
      "Epoch 44/1000\n",
      "168/168 [==============================] - 1s 5ms/step - loss: 0.2036 - val_loss: 0.2092\n",
      "Epoch 45/1000\n",
      "168/168 [==============================] - 1s 5ms/step - loss: 0.2031 - val_loss: 0.2081\n",
      "Epoch 46/1000\n",
      "168/168 [==============================] - 1s 5ms/step - loss: 0.2032 - val_loss: 0.2080\n",
      "Epoch 47/1000\n",
      "168/168 [==============================] - 1s 5ms/step - loss: 0.2026 - val_loss: 0.2083\n",
      "Epoch 48/1000\n",
      "168/168 [==============================] - 1s 5ms/step - loss: 0.2016 - val_loss: 0.2080\n",
      "Epoch 49/1000\n",
      "168/168 [==============================] - 1s 5ms/step - loss: 0.2022 - val_loss: 0.2079\n",
      "Epoch 50/1000\n",
      "168/168 [==============================] - 1s 5ms/step - loss: 0.2023 - val_loss: 0.2080\n",
      "Epoch 51/1000\n",
      "168/168 [==============================] - 1s 5ms/step - loss: 0.2031 - val_loss: 0.2082\n",
      "Epoch 52/1000\n",
      "168/168 [==============================] - 1s 5ms/step - loss: 0.2027 - val_loss: 0.2083\n",
      "Epoch 53/1000\n",
      "168/168 [==============================] - 1s 5ms/step - loss: 0.2022 - val_loss: 0.2081\n",
      "Epoch 54/1000\n",
      "168/168 [==============================] - 1s 5ms/step - loss: 0.2025 - val_loss: 0.2081\n",
      "Epoch 55/1000\n",
      "168/168 [==============================] - 1s 5ms/step - loss: 0.2023 - val_loss: 0.2083\n",
      "Epoch 56/1000\n",
      "168/168 [==============================] - 1s 5ms/step - loss: 0.2020 - val_loss: 0.2080\n",
      "Epoch 57/1000\n",
      "168/168 [==============================] - 1s 5ms/step - loss: 0.2015 - val_loss: 0.2080\n",
      "Epoch 58/1000\n",
      "168/168 [==============================] - 1s 5ms/step - loss: 0.2020 - val_loss: 0.2082\n",
      "Epoch 59/1000\n",
      "168/168 [==============================] - 1s 5ms/step - loss: 0.2010 - val_loss: 0.2080\n",
      "Epoch 60/1000\n",
      "168/168 [==============================] - 1s 5ms/step - loss: 0.2022 - val_loss: 0.2081\n",
      "Epoch 61/1000\n",
      "168/168 [==============================] - 1s 5ms/step - loss: 0.2016 - val_loss: 0.2080\n",
      "Epoch 62/1000\n",
      "168/168 [==============================] - 1s 5ms/step - loss: 0.2019 - val_loss: 0.2080\n",
      "Epoch 63/1000\n",
      "168/168 [==============================] - 1s 5ms/step - loss: 0.2019 - val_loss: 0.2080\n",
      "Epoch 64/1000\n",
      "168/168 [==============================] - 1s 5ms/step - loss: 0.2015 - val_loss: 0.2081\n",
      "Epoch 65/1000\n",
      "168/168 [==============================] - 1s 5ms/step - loss: 0.2021 - val_loss: 0.2081\n",
      "Epoch 66/1000\n",
      "168/168 [==============================] - 1s 5ms/step - loss: 0.2020 - val_loss: 0.2081\n",
      "Epoch 67/1000\n",
      "168/168 [==============================] - 1s 5ms/step - loss: 0.2013 - val_loss: 0.2081\n",
      "Epoch 68/1000\n",
      "168/168 [==============================] - 1s 5ms/step - loss: 0.2027 - val_loss: 0.2081\n",
      "Epoch 69/1000\n",
      "168/168 [==============================] - 1s 5ms/step - loss: 0.2011 - val_loss: 0.2081\n",
      "Fold 1 NN: 0.20795\n",
      "CV 2/5\n",
      "Epoch 1/1000\n",
      "168/168 [==============================] - 2s 7ms/step - loss: 26.5246 - val_loss: 0.5266\n",
      "Epoch 2/1000\n",
      "168/168 [==============================] - 1s 5ms/step - loss: 0.9618 - val_loss: 0.9174\n",
      "Epoch 3/1000\n",
      "168/168 [==============================] - 1s 6ms/step - loss: 0.7685 - val_loss: 2.2881\n",
      "Epoch 4/1000\n",
      "168/168 [==============================] - 1s 5ms/step - loss: 0.6339 - val_loss: 0.3307\n",
      "Epoch 5/1000\n",
      "168/168 [==============================] - 1s 5ms/step - loss: 2.2617 - val_loss: 0.3011\n",
      "Epoch 6/1000\n",
      "168/168 [==============================] - 1s 5ms/step - loss: 0.3358 - val_loss: 0.3348\n",
      "Epoch 7/1000\n",
      "168/168 [==============================] - 1s 5ms/step - loss: 0.4169 - val_loss: 0.6875\n",
      "Epoch 8/1000\n",
      "168/168 [==============================] - 1s 5ms/step - loss: 0.6735 - val_loss: 0.2649\n",
      "Epoch 9/1000\n",
      "168/168 [==============================] - 1s 5ms/step - loss: 0.2989 - val_loss: 0.4089\n",
      "Epoch 10/1000\n",
      "168/168 [==============================] - 1s 5ms/step - loss: 0.3107 - val_loss: 0.3531\n",
      "Epoch 11/1000\n",
      "168/168 [==============================] - 1s 5ms/step - loss: 1.0043 - val_loss: 0.6558\n",
      "Epoch 12/1000\n",
      "168/168 [==============================] - 1s 5ms/step - loss: 0.3563 - val_loss: 0.2442\n",
      "Epoch 13/1000\n",
      "168/168 [==============================] - 1s 5ms/step - loss: 0.2554 - val_loss: 0.2563\n",
      "Epoch 14/1000\n",
      "168/168 [==============================] - 1s 5ms/step - loss: 0.2548 - val_loss: 0.2578\n",
      "Epoch 15/1000\n",
      "168/168 [==============================] - 1s 5ms/step - loss: 0.2577 - val_loss: 0.2468\n",
      "Epoch 16/1000\n",
      "168/168 [==============================] - 1s 5ms/step - loss: 0.2588 - val_loss: 0.2923\n",
      "Epoch 17/1000\n",
      "168/168 [==============================] - 1s 5ms/step - loss: 0.2821 - val_loss: 0.2831\n",
      "Epoch 18/1000\n",
      "168/168 [==============================] - 1s 5ms/step - loss: 0.2713 - val_loss: 0.2685\n",
      "Epoch 19/1000\n",
      "168/168 [==============================] - 1s 5ms/step - loss: 0.2797 - val_loss: 0.2639\n",
      "Epoch 20/1000\n",
      "168/168 [==============================] - 1s 4ms/step - loss: 0.2182 - val_loss: 0.2199\n",
      "Epoch 21/1000\n",
      "168/168 [==============================] - 1s 5ms/step - loss: 0.2091 - val_loss: 0.2198\n",
      "Epoch 22/1000\n",
      "168/168 [==============================] - 1s 5ms/step - loss: 0.2080 - val_loss: 0.2229\n",
      "Epoch 23/1000\n",
      "168/168 [==============================] - 1s 5ms/step - loss: 0.2101 - val_loss: 0.2167\n",
      "Epoch 24/1000\n",
      "168/168 [==============================] - 1s 5ms/step - loss: 0.2088 - val_loss: 0.2163\n",
      "Epoch 25/1000\n",
      "168/168 [==============================] - 1s 5ms/step - loss: 0.2086 - val_loss: 0.2173\n",
      "Epoch 26/1000\n",
      "168/168 [==============================] - 1s 5ms/step - loss: 0.2086 - val_loss: 0.2186\n",
      "Epoch 27/1000\n",
      "168/168 [==============================] - 1s 5ms/step - loss: 0.2079 - val_loss: 0.2225\n",
      "Epoch 28/1000\n",
      "168/168 [==============================] - 1s 5ms/step - loss: 0.2099 - val_loss: 0.2182\n",
      "Epoch 29/1000\n",
      "168/168 [==============================] - 1s 5ms/step - loss: 0.2119 - val_loss: 0.2151\n",
      "Epoch 30/1000\n",
      "168/168 [==============================] - 1s 5ms/step - loss: 0.2081 - val_loss: 0.2155\n",
      "Epoch 31/1000\n",
      "168/168 [==============================] - 1s 5ms/step - loss: 0.2090 - val_loss: 0.2218\n",
      "Epoch 32/1000\n",
      "168/168 [==============================] - 1s 5ms/step - loss: 0.2087 - val_loss: 0.2177\n",
      "Epoch 33/1000\n",
      "168/168 [==============================] - 1s 5ms/step - loss: 0.2097 - val_loss: 0.2164\n",
      "Epoch 34/1000\n",
      "168/168 [==============================] - 1s 5ms/step - loss: 0.2091 - val_loss: 0.2181\n",
      "Epoch 35/1000\n",
      "168/168 [==============================] - 1s 5ms/step - loss: 0.2082 - val_loss: 0.2189\n",
      "Epoch 36/1000\n",
      "168/168 [==============================] - 1s 5ms/step - loss: 0.2106 - val_loss: 0.2213\n",
      "Epoch 37/1000\n",
      "168/168 [==============================] - 1s 5ms/step - loss: 0.2049 - val_loss: 0.2150\n",
      "Epoch 38/1000\n",
      "168/168 [==============================] - 1s 5ms/step - loss: 0.2036 - val_loss: 0.2150\n",
      "Epoch 39/1000\n",
      "168/168 [==============================] - 1s 5ms/step - loss: 0.2035 - val_loss: 0.2137\n",
      "Epoch 40/1000\n",
      "168/168 [==============================] - 1s 5ms/step - loss: 0.2031 - val_loss: 0.2149\n",
      "Epoch 41/1000\n",
      "168/168 [==============================] - 1s 5ms/step - loss: 0.2032 - val_loss: 0.2148\n",
      "Epoch 42/1000\n",
      "168/168 [==============================] - 1s 5ms/step - loss: 0.2030 - val_loss: 0.2145\n",
      "Epoch 43/1000\n",
      "168/168 [==============================] - 1s 5ms/step - loss: 0.2039 - val_loss: 0.2152\n",
      "Epoch 44/1000\n",
      "168/168 [==============================] - 1s 5ms/step - loss: 0.2032 - val_loss: 0.2141\n",
      "Epoch 45/1000\n",
      "168/168 [==============================] - 1s 5ms/step - loss: 0.2031 - val_loss: 0.2138\n",
      "Epoch 46/1000\n",
      "168/168 [==============================] - 1s 5ms/step - loss: 0.2035 - val_loss: 0.2167\n",
      "Epoch 47/1000\n",
      "168/168 [==============================] - 1s 4ms/step - loss: 0.2016 - val_loss: 0.2134\n",
      "Epoch 48/1000\n",
      "168/168 [==============================] - 1s 5ms/step - loss: 0.2019 - val_loss: 0.2138\n",
      "Epoch 49/1000\n",
      "168/168 [==============================] - 1s 4ms/step - loss: 0.2018 - val_loss: 0.2140\n",
      "Epoch 50/1000\n",
      "168/168 [==============================] - 1s 4ms/step - loss: 0.2012 - val_loss: 0.2137\n",
      "Epoch 51/1000\n",
      "168/168 [==============================] - 1s 4ms/step - loss: 0.2016 - val_loss: 0.2140\n",
      "Epoch 52/1000\n",
      "168/168 [==============================] - 1s 4ms/step - loss: 0.2018 - val_loss: 0.2131\n",
      "Epoch 53/1000\n",
      "168/168 [==============================] - 1s 5ms/step - loss: 0.2012 - val_loss: 0.2131\n",
      "Epoch 54/1000\n",
      "168/168 [==============================] - 1s 5ms/step - loss: 0.2023 - val_loss: 0.2137\n",
      "Epoch 55/1000\n",
      "168/168 [==============================] - 1s 5ms/step - loss: 0.2016 - val_loss: 0.2144\n",
      "Epoch 56/1000\n",
      "168/168 [==============================] - 1s 5ms/step - loss: 0.2012 - val_loss: 0.2139\n",
      "Epoch 57/1000\n",
      "168/168 [==============================] - 1s 5ms/step - loss: 0.2018 - val_loss: 0.2144\n",
      "Epoch 58/1000\n",
      "168/168 [==============================] - 1s 4ms/step - loss: 0.2014 - val_loss: 0.2145\n",
      "Epoch 59/1000\n",
      "168/168 [==============================] - 1s 5ms/step - loss: 0.2014 - val_loss: 0.2139\n",
      "Epoch 60/1000\n",
      "168/168 [==============================] - 1s 5ms/step - loss: 0.2011 - val_loss: 0.2137\n",
      "Epoch 61/1000\n",
      "168/168 [==============================] - 1s 5ms/step - loss: 0.2009 - val_loss: 0.2140\n",
      "Epoch 62/1000\n",
      "168/168 [==============================] - 1s 5ms/step - loss: 0.2004 - val_loss: 0.2139\n",
      "Epoch 63/1000\n",
      "168/168 [==============================] - 1s 5ms/step - loss: 0.2013 - val_loss: 0.2141\n",
      "Epoch 64/1000\n",
      "168/168 [==============================] - 1s 5ms/step - loss: 0.2005 - val_loss: 0.2142\n",
      "Epoch 65/1000\n",
      "168/168 [==============================] - 1s 5ms/step - loss: 0.2011 - val_loss: 0.2140\n",
      "Epoch 66/1000\n",
      "168/168 [==============================] - 1s 5ms/step - loss: 0.2015 - val_loss: 0.2142\n",
      "Epoch 67/1000\n",
      "168/168 [==============================] - 1s 6ms/step - loss: 0.2008 - val_loss: 0.2134\n",
      "Epoch 68/1000\n",
      "168/168 [==============================] - 1s 5ms/step - loss: 0.2012 - val_loss: 0.2139\n",
      "Epoch 69/1000\n",
      "168/168 [==============================] - 1s 5ms/step - loss: 0.2009 - val_loss: 0.2136\n",
      "Epoch 70/1000\n",
      "168/168 [==============================] - 1s 5ms/step - loss: 0.2008 - val_loss: 0.2136\n",
      "Epoch 71/1000\n",
      "168/168 [==============================] - 1s 5ms/step - loss: 0.2006 - val_loss: 0.2136\n",
      "Epoch 72/1000\n",
      "168/168 [==============================] - 1s 5ms/step - loss: 0.2005 - val_loss: 0.2136\n",
      "Fold 2 NN: 0.21307\n",
      "CV 3/5\n",
      "Epoch 1/1000\n",
      "168/168 [==============================] - 2s 8ms/step - loss: 26.6912 - val_loss: 0.6662\n",
      "Epoch 2/1000\n",
      "168/168 [==============================] - 1s 6ms/step - loss: 0.7493 - val_loss: 0.6094\n",
      "Epoch 3/1000\n",
      "168/168 [==============================] - 1s 5ms/step - loss: 0.6244 - val_loss: 0.5878\n",
      "Epoch 4/1000\n",
      "168/168 [==============================] - 1s 5ms/step - loss: 0.6243 - val_loss: 0.5725\n",
      "Epoch 5/1000\n",
      "168/168 [==============================] - 1s 5ms/step - loss: 0.5818 - val_loss: 0.4651\n",
      "Epoch 6/1000\n",
      "168/168 [==============================] - 1s 5ms/step - loss: 0.5408 - val_loss: 0.4145\n",
      "Epoch 7/1000\n",
      "168/168 [==============================] - 1s 5ms/step - loss: 0.8039 - val_loss: 0.4438\n",
      "Epoch 8/1000\n",
      "168/168 [==============================] - 1s 4ms/step - loss: 0.4414 - val_loss: 0.3611\n",
      "Epoch 9/1000\n",
      "168/168 [==============================] - 1s 5ms/step - loss: 0.4422 - val_loss: 0.4519\n",
      "Epoch 10/1000\n",
      "168/168 [==============================] - 1s 4ms/step - loss: 0.4401 - val_loss: 0.2951\n",
      "Epoch 11/1000\n",
      "168/168 [==============================] - 1s 5ms/step - loss: 0.4164 - val_loss: 0.3459\n",
      "Epoch 12/1000\n",
      "168/168 [==============================] - 1s 5ms/step - loss: 0.4029 - val_loss: 0.3308\n",
      "Epoch 13/1000\n",
      "168/168 [==============================] - 1s 5ms/step - loss: 0.7264 - val_loss: 0.2591\n",
      "Epoch 14/1000\n",
      "168/168 [==============================] - 1s 5ms/step - loss: 0.2270 - val_loss: 0.2278\n",
      "Epoch 15/1000\n",
      "168/168 [==============================] - 1s 5ms/step - loss: 0.2325 - val_loss: 0.2222\n",
      "Epoch 16/1000\n",
      "168/168 [==============================] - 1s 5ms/step - loss: 0.2251 - val_loss: 0.2401\n",
      "Epoch 17/1000\n",
      "168/168 [==============================] - 1s 5ms/step - loss: 0.2295 - val_loss: 0.2485\n",
      "Epoch 18/1000\n",
      "168/168 [==============================] - 1s 5ms/step - loss: 0.2382 - val_loss: 0.2193\n",
      "Epoch 19/1000\n",
      "168/168 [==============================] - 1s 5ms/step - loss: 0.2469 - val_loss: 0.3054\n",
      "Epoch 20/1000\n",
      "168/168 [==============================] - 1s 4ms/step - loss: 0.2484 - val_loss: 0.2658\n",
      "Epoch 21/1000\n",
      "168/168 [==============================] - 1s 5ms/step - loss: 0.2511 - val_loss: 0.2420\n",
      "Epoch 22/1000\n",
      "168/168 [==============================] - 1s 5ms/step - loss: 0.3061 - val_loss: 0.2568\n",
      "Epoch 23/1000\n",
      "168/168 [==============================] - 1s 5ms/step - loss: 0.2558 - val_loss: 0.2846\n",
      "Epoch 24/1000\n",
      "168/168 [==============================] - 1s 5ms/step - loss: 0.2523 - val_loss: 0.2363\n",
      "Epoch 25/1000\n",
      "168/168 [==============================] - 1s 5ms/step - loss: 0.2359 - val_loss: 0.2481\n",
      "Epoch 26/1000\n",
      "168/168 [==============================] - 1s 4ms/step - loss: 0.2121 - val_loss: 0.2094\n",
      "Epoch 27/1000\n",
      "168/168 [==============================] - 1s 4ms/step - loss: 0.2073 - val_loss: 0.2102\n",
      "Epoch 28/1000\n",
      "168/168 [==============================] - 1s 5ms/step - loss: 0.2072 - val_loss: 0.2115\n",
      "Epoch 29/1000\n",
      "168/168 [==============================] - 1s 4ms/step - loss: 0.2066 - val_loss: 0.2158\n",
      "Epoch 30/1000\n",
      "168/168 [==============================] - 1s 5ms/step - loss: 0.2085 - val_loss: 0.2104\n",
      "Epoch 31/1000\n",
      "168/168 [==============================] - 1s 4ms/step - loss: 0.2056 - val_loss: 0.2118\n",
      "Epoch 32/1000\n",
      "168/168 [==============================] - 1s 5ms/step - loss: 0.2075 - val_loss: 0.2114\n",
      "Epoch 33/1000\n",
      "168/168 [==============================] - 1s 5ms/step - loss: 0.2090 - val_loss: 0.2103\n",
      "Epoch 34/1000\n",
      "168/168 [==============================] - 1s 5ms/step - loss: 0.2047 - val_loss: 0.2104\n",
      "Epoch 35/1000\n",
      "168/168 [==============================] - 1s 4ms/step - loss: 0.2044 - val_loss: 0.2100\n",
      "Epoch 36/1000\n",
      "168/168 [==============================] - 1s 4ms/step - loss: 0.2037 - val_loss: 0.2104\n",
      "Epoch 37/1000\n",
      "168/168 [==============================] - 1s 5ms/step - loss: 0.2032 - val_loss: 0.2106\n",
      "Epoch 38/1000\n",
      "168/168 [==============================] - 1s 4ms/step - loss: 0.2034 - val_loss: 0.2106\n",
      "Epoch 39/1000\n",
      "168/168 [==============================] - 1s 4ms/step - loss: 0.2029 - val_loss: 0.2104\n",
      "Epoch 40/1000\n",
      "168/168 [==============================] - 1s 5ms/step - loss: 0.2037 - val_loss: 0.2103\n",
      "Epoch 41/1000\n",
      "168/168 [==============================] - 1s 5ms/step - loss: 0.2030 - val_loss: 0.2102\n",
      "Epoch 42/1000\n",
      "168/168 [==============================] - 1s 5ms/step - loss: 0.2042 - val_loss: 0.2101\n",
      "Epoch 43/1000\n",
      "168/168 [==============================] - 1s 5ms/step - loss: 0.2033 - val_loss: 0.2102\n",
      "Epoch 44/1000\n",
      "168/168 [==============================] - 1s 5ms/step - loss: 0.2025 - val_loss: 0.2100\n",
      "Epoch 45/1000\n",
      "168/168 [==============================] - 1s 5ms/step - loss: 0.2032 - val_loss: 0.2101\n",
      "Epoch 46/1000\n",
      "168/168 [==============================] - 1s 5ms/step - loss: 0.2029 - val_loss: 0.2101\n",
      "Fold 3 NN: 0.20941\n",
      "CV 4/5\n",
      "Epoch 1/1000\n",
      "168/168 [==============================] - 2s 6ms/step - loss: 36.1684 - val_loss: 1.4004\n",
      "Epoch 2/1000\n",
      "168/168 [==============================] - 1s 5ms/step - loss: 0.9063 - val_loss: 0.7478\n",
      "Epoch 3/1000\n",
      "168/168 [==============================] - 1s 5ms/step - loss: 0.7243 - val_loss: 0.7406\n",
      "Epoch 4/1000\n",
      "168/168 [==============================] - 1s 5ms/step - loss: 0.6432 - val_loss: 0.6156\n",
      "Epoch 5/1000\n",
      "168/168 [==============================] - 1s 5ms/step - loss: 0.6433 - val_loss: 0.4956\n",
      "Epoch 6/1000\n",
      "168/168 [==============================] - 1s 5ms/step - loss: 0.5698 - val_loss: 0.6028\n",
      "Epoch 7/1000\n",
      "168/168 [==============================] - 1s 4ms/step - loss: 0.5884 - val_loss: 0.4224\n",
      "Epoch 8/1000\n",
      "168/168 [==============================] - 1s 5ms/step - loss: 0.5032 - val_loss: 0.5738\n",
      "Epoch 9/1000\n",
      "168/168 [==============================] - 1s 5ms/step - loss: 0.5242 - val_loss: 0.4584\n",
      "Epoch 10/1000\n",
      "168/168 [==============================] - 1s 5ms/step - loss: 0.4566 - val_loss: 0.2808\n",
      "Epoch 11/1000\n",
      "168/168 [==============================] - 1s 5ms/step - loss: 0.2430 - val_loss: 0.2325\n",
      "Epoch 12/1000\n",
      "168/168 [==============================] - 1s 5ms/step - loss: 0.2445 - val_loss: 0.2753\n",
      "Epoch 13/1000\n",
      "168/168 [==============================] - 1s 4ms/step - loss: 0.2468 - val_loss: 0.2247\n",
      "Epoch 14/1000\n",
      "168/168 [==============================] - 1s 5ms/step - loss: 0.2719 - val_loss: 9.2817\n",
      "Epoch 15/1000\n",
      "168/168 [==============================] - 1s 5ms/step - loss: 2.1479 - val_loss: 0.3086\n",
      "Epoch 16/1000\n",
      "168/168 [==============================] - 1s 5ms/step - loss: 0.2413 - val_loss: 0.2656\n",
      "Epoch 17/1000\n",
      "168/168 [==============================] - 1s 5ms/step - loss: 0.2306 - val_loss: 0.2281\n",
      "Epoch 18/1000\n",
      "168/168 [==============================] - 1s 5ms/step - loss: 0.2237 - val_loss: 0.2228\n",
      "Epoch 19/1000\n",
      "168/168 [==============================] - 1s 5ms/step - loss: 0.2303 - val_loss: 0.2341\n",
      "Epoch 20/1000\n",
      "168/168 [==============================] - 1s 5ms/step - loss: 0.2331 - val_loss: 0.3565\n",
      "Epoch 21/1000\n",
      "168/168 [==============================] - 1s 5ms/step - loss: 0.2501 - val_loss: 0.3024\n",
      "Epoch 22/1000\n",
      "168/168 [==============================] - 1s 5ms/step - loss: 0.2476 - val_loss: 0.2768\n",
      "Epoch 23/1000\n",
      "168/168 [==============================] - 1s 5ms/step - loss: 0.2463 - val_loss: 0.2231\n",
      "Epoch 24/1000\n",
      "168/168 [==============================] - 1s 5ms/step - loss: 0.2364 - val_loss: 0.2589\n",
      "Epoch 25/1000\n",
      "168/168 [==============================] - 1s 5ms/step - loss: 0.2438 - val_loss: 0.2553\n",
      "Epoch 26/1000\n",
      "168/168 [==============================] - 1s 5ms/step - loss: 0.2128 - val_loss: 0.2168\n",
      "Epoch 27/1000\n",
      "168/168 [==============================] - 1s 6ms/step - loss: 0.2065 - val_loss: 0.2189\n",
      "Epoch 28/1000\n",
      "168/168 [==============================] - 1s 5ms/step - loss: 0.2063 - val_loss: 0.2175\n",
      "Epoch 29/1000\n",
      "168/168 [==============================] - 1s 5ms/step - loss: 0.2055 - val_loss: 0.2164\n",
      "Epoch 30/1000\n",
      "168/168 [==============================] - 1s 5ms/step - loss: 0.2064 - val_loss: 0.2161\n",
      "Epoch 31/1000\n",
      "168/168 [==============================] - 1s 5ms/step - loss: 0.2062 - val_loss: 0.2166\n",
      "Epoch 32/1000\n",
      "168/168 [==============================] - 1s 5ms/step - loss: 0.2055 - val_loss: 0.2174\n",
      "Epoch 33/1000\n",
      "168/168 [==============================] - 1s 5ms/step - loss: 0.2054 - val_loss: 0.2170\n",
      "Epoch 34/1000\n",
      "168/168 [==============================] - 1s 5ms/step - loss: 0.2056 - val_loss: 0.2165\n",
      "Epoch 35/1000\n",
      "168/168 [==============================] - 1s 5ms/step - loss: 0.2049 - val_loss: 0.2202\n",
      "Epoch 36/1000\n",
      "168/168 [==============================] - 1s 5ms/step - loss: 0.2065 - val_loss: 0.2190\n",
      "Epoch 37/1000\n",
      "168/168 [==============================] - 1s 5ms/step - loss: 0.2082 - val_loss: 0.2164\n",
      "Epoch 38/1000\n",
      "168/168 [==============================] - 1s 5ms/step - loss: 0.2033 - val_loss: 0.2159\n",
      "Epoch 39/1000\n",
      "168/168 [==============================] - 1s 5ms/step - loss: 0.2031 - val_loss: 0.2157\n",
      "Epoch 40/1000\n",
      "168/168 [==============================] - 1s 5ms/step - loss: 0.2032 - val_loss: 0.2153\n",
      "Epoch 41/1000\n",
      "168/168 [==============================] - 1s 5ms/step - loss: 0.2030 - val_loss: 0.2158\n",
      "Epoch 42/1000\n",
      "168/168 [==============================] - 1s 5ms/step - loss: 0.2025 - val_loss: 0.2164\n",
      "Epoch 43/1000\n",
      "168/168 [==============================] - 1s 4ms/step - loss: 0.2029 - val_loss: 0.2150\n",
      "Epoch 44/1000\n",
      "168/168 [==============================] - 1s 5ms/step - loss: 0.2024 - val_loss: 0.2161\n",
      "Epoch 45/1000\n",
      "168/168 [==============================] - 1s 5ms/step - loss: 0.2020 - val_loss: 0.2166\n",
      "Epoch 46/1000\n",
      "168/168 [==============================] - 1s 5ms/step - loss: 0.2032 - val_loss: 0.2169\n",
      "Epoch 47/1000\n",
      "168/168 [==============================] - 1s 5ms/step - loss: 0.2024 - val_loss: 0.2183\n",
      "Epoch 48/1000\n",
      "168/168 [==============================] - 1s 5ms/step - loss: 0.2026 - val_loss: 0.2159\n",
      "Epoch 49/1000\n",
      "168/168 [==============================] - 1s 5ms/step - loss: 0.2021 - val_loss: 0.2161\n",
      "Epoch 50/1000\n",
      "168/168 [==============================] - 1s 5ms/step - loss: 0.2024 - val_loss: 0.2172\n",
      "Epoch 51/1000\n",
      "168/168 [==============================] - 1s 5ms/step - loss: 0.2010 - val_loss: 0.2157\n",
      "Epoch 52/1000\n",
      "168/168 [==============================] - 1s 5ms/step - loss: 0.2008 - val_loss: 0.2157\n",
      "Epoch 53/1000\n",
      "168/168 [==============================] - 1s 5ms/step - loss: 0.2016 - val_loss: 0.2155\n",
      "Epoch 54/1000\n",
      "168/168 [==============================] - 1s 5ms/step - loss: 0.2014 - val_loss: 0.2161\n",
      "Epoch 55/1000\n",
      "168/168 [==============================] - 1s 5ms/step - loss: 0.2019 - val_loss: 0.2161\n",
      "Epoch 56/1000\n",
      "168/168 [==============================] - 1s 5ms/step - loss: 0.2010 - val_loss: 0.2160\n",
      "Epoch 57/1000\n",
      "168/168 [==============================] - 1s 5ms/step - loss: 0.2011 - val_loss: 0.2153\n",
      "Epoch 58/1000\n",
      "168/168 [==============================] - 1s 5ms/step - loss: 0.2013 - val_loss: 0.2154\n",
      "Epoch 59/1000\n",
      "168/168 [==============================] - 1s 5ms/step - loss: 0.2007 - val_loss: 0.2156\n",
      "Epoch 60/1000\n",
      "168/168 [==============================] - 1s 5ms/step - loss: 0.2016 - val_loss: 0.2156\n",
      "Epoch 61/1000\n",
      "168/168 [==============================] - 1s 5ms/step - loss: 0.2013 - val_loss: 0.2156\n",
      "Epoch 62/1000\n",
      "168/168 [==============================] - 1s 5ms/step - loss: 0.2007 - val_loss: 0.2154\n",
      "Epoch 63/1000\n",
      "168/168 [==============================] - 1s 5ms/step - loss: 0.2013 - val_loss: 0.2154\n",
      "Fold 4 NN: 0.21501\n",
      "CV 5/5\n",
      "Epoch 1/1000\n",
      "168/168 [==============================] - 2s 6ms/step - loss: 26.4445 - val_loss: 0.7371\n",
      "Epoch 2/1000\n",
      "168/168 [==============================] - 1s 5ms/step - loss: 0.7399 - val_loss: 0.4438\n",
      "Epoch 3/1000\n",
      "168/168 [==============================] - 1s 5ms/step - loss: 0.3954 - val_loss: 0.7947\n",
      "Epoch 4/1000\n",
      "168/168 [==============================] - 1s 4ms/step - loss: 0.6196 - val_loss: 0.4074\n",
      "Epoch 5/1000\n",
      "168/168 [==============================] - 1s 5ms/step - loss: 0.3506 - val_loss: 0.3957\n",
      "Epoch 6/1000\n",
      "168/168 [==============================] - 1s 5ms/step - loss: 0.3481 - val_loss: 5.3807\n",
      "Epoch 7/1000\n",
      "168/168 [==============================] - 1s 4ms/step - loss: 2.6073 - val_loss: 0.4789\n",
      "Epoch 8/1000\n",
      "168/168 [==============================] - 1s 5ms/step - loss: 0.4871 - val_loss: 0.4262\n",
      "Epoch 9/1000\n",
      "168/168 [==============================] - 1s 5ms/step - loss: 0.4419 - val_loss: 0.4208\n",
      "Epoch 10/1000\n",
      "168/168 [==============================] - 1s 4ms/step - loss: 0.4206 - val_loss: 0.4393\n",
      "Epoch 11/1000\n",
      "168/168 [==============================] - 1s 4ms/step - loss: 0.3982 - val_loss: 0.3166\n",
      "Epoch 12/1000\n",
      "168/168 [==============================] - 1s 5ms/step - loss: 0.3916 - val_loss: 0.9922\n",
      "Epoch 13/1000\n",
      "168/168 [==============================] - 1s 5ms/step - loss: 0.5261 - val_loss: 0.2413\n",
      "Epoch 14/1000\n",
      "168/168 [==============================] - 1s 5ms/step - loss: 0.2320 - val_loss: 0.2215\n",
      "Epoch 15/1000\n",
      "168/168 [==============================] - 1s 4ms/step - loss: 0.2212 - val_loss: 0.3106\n",
      "Epoch 16/1000\n",
      "168/168 [==============================] - 1s 5ms/step - loss: 0.8353 - val_loss: 0.2386\n",
      "Epoch 17/1000\n",
      "168/168 [==============================] - 1s 4ms/step - loss: 0.2317 - val_loss: 0.2347\n",
      "Epoch 18/1000\n",
      "168/168 [==============================] - 1s 4ms/step - loss: 0.2468 - val_loss: 0.2360\n",
      "Epoch 19/1000\n",
      "168/168 [==============================] - 1s 5ms/step - loss: 0.2280 - val_loss: 0.3511\n",
      "Epoch 20/1000\n",
      "168/168 [==============================] - 1s 5ms/step - loss: 0.3039 - val_loss: 0.2591\n",
      "Epoch 21/1000\n",
      "168/168 [==============================] - 1s 4ms/step - loss: 0.2317 - val_loss: 0.8238\n",
      "Epoch 22/1000\n",
      "168/168 [==============================] - 1s 5ms/step - loss: 0.3054 - val_loss: 0.2159\n",
      "Epoch 23/1000\n",
      "168/168 [==============================] - 1s 4ms/step - loss: 0.2090 - val_loss: 0.2152\n",
      "Epoch 24/1000\n",
      "168/168 [==============================] - 1s 5ms/step - loss: 0.2075 - val_loss: 0.2174\n",
      "Epoch 25/1000\n",
      "168/168 [==============================] - 1s 5ms/step - loss: 0.2091 - val_loss: 0.2154\n",
      "Epoch 26/1000\n",
      "168/168 [==============================] - 1s 4ms/step - loss: 0.2077 - val_loss: 0.2148\n",
      "Epoch 27/1000\n",
      "168/168 [==============================] - 1s 5ms/step - loss: 0.2084 - val_loss: 0.2203\n",
      "Epoch 28/1000\n",
      "168/168 [==============================] - 1s 5ms/step - loss: 0.2076 - val_loss: 0.2148\n",
      "Epoch 29/1000\n",
      "168/168 [==============================] - 1s 4ms/step - loss: 0.2068 - val_loss: 0.2143\n",
      "Epoch 30/1000\n",
      "168/168 [==============================] - 1s 4ms/step - loss: 0.2063 - val_loss: 0.2155\n",
      "Epoch 31/1000\n",
      "168/168 [==============================] - 1s 5ms/step - loss: 0.2061 - val_loss: 0.2256\n",
      "Epoch 32/1000\n",
      "168/168 [==============================] - 1s 4ms/step - loss: 0.2095 - val_loss: 0.2149\n",
      "Epoch 33/1000\n",
      "168/168 [==============================] - 1s 5ms/step - loss: 0.2075 - val_loss: 0.2149\n",
      "Epoch 34/1000\n",
      "168/168 [==============================] - 1s 5ms/step - loss: 0.2071 - val_loss: 0.2163\n",
      "Epoch 35/1000\n",
      "168/168 [==============================] - 1s 5ms/step - loss: 0.2080 - val_loss: 0.2143\n",
      "Epoch 36/1000\n",
      "168/168 [==============================] - 1s 6ms/step - loss: 0.2068 - val_loss: 0.2189\n",
      "Epoch 37/1000\n",
      "168/168 [==============================] - 1s 6ms/step - loss: 0.2041 - val_loss: 0.2152\n",
      "Epoch 38/1000\n",
      "168/168 [==============================] - 1s 5ms/step - loss: 0.2034 - val_loss: 0.2141\n",
      "Epoch 39/1000\n",
      "168/168 [==============================] - 1s 5ms/step - loss: 0.2026 - val_loss: 0.2142\n",
      "Epoch 40/1000\n",
      "168/168 [==============================] - 1s 5ms/step - loss: 0.2028 - val_loss: 0.2136\n",
      "Epoch 41/1000\n",
      "168/168 [==============================] - 1s 5ms/step - loss: 0.2027 - val_loss: 0.2134\n",
      "Epoch 42/1000\n",
      "168/168 [==============================] - 1s 5ms/step - loss: 0.2028 - val_loss: 0.2134\n",
      "Epoch 43/1000\n",
      "168/168 [==============================] - 1s 5ms/step - loss: 0.2025 - val_loss: 0.2143\n",
      "Epoch 44/1000\n",
      "168/168 [==============================] - 1s 5ms/step - loss: 0.2029 - val_loss: 0.2135\n",
      "Epoch 45/1000\n",
      "168/168 [==============================] - 1s 5ms/step - loss: 0.2027 - val_loss: 0.2133\n",
      "Epoch 46/1000\n",
      "168/168 [==============================] - 1s 5ms/step - loss: 0.2032 - val_loss: 0.2138\n",
      "Epoch 47/1000\n",
      "168/168 [==============================] - 1s 5ms/step - loss: 0.2032 - val_loss: 0.2135\n",
      "Epoch 48/1000\n",
      "168/168 [==============================] - 1s 5ms/step - loss: 0.2034 - val_loss: 0.2192\n",
      "Epoch 49/1000\n",
      "168/168 [==============================] - 1s 5ms/step - loss: 0.2032 - val_loss: 0.2133\n",
      "Epoch 50/1000\n",
      "168/168 [==============================] - 1s 5ms/step - loss: 0.2020 - val_loss: 0.2130\n",
      "Epoch 51/1000\n",
      "168/168 [==============================] - 1s 5ms/step - loss: 0.2019 - val_loss: 0.2130\n",
      "Epoch 52/1000\n",
      "168/168 [==============================] - 1s 5ms/step - loss: 0.2015 - val_loss: 0.2136\n",
      "Epoch 53/1000\n",
      "168/168 [==============================] - 1s 5ms/step - loss: 0.2019 - val_loss: 0.2129\n",
      "Epoch 54/1000\n",
      "168/168 [==============================] - 1s 5ms/step - loss: 0.2016 - val_loss: 0.2129\n",
      "Epoch 55/1000\n",
      "168/168 [==============================] - 1s 5ms/step - loss: 0.2027 - val_loss: 0.2140\n",
      "Epoch 56/1000\n",
      "168/168 [==============================] - 1s 5ms/step - loss: 0.2015 - val_loss: 0.2131\n",
      "Epoch 57/1000\n",
      "168/168 [==============================] - 1s 5ms/step - loss: 0.2014 - val_loss: 0.2132\n",
      "Epoch 58/1000\n",
      "168/168 [==============================] - 1s 5ms/step - loss: 0.2024 - val_loss: 0.2138\n",
      "Epoch 59/1000\n",
      "168/168 [==============================] - 1s 5ms/step - loss: 0.2008 - val_loss: 0.2130\n",
      "Epoch 60/1000\n",
      "168/168 [==============================] - 1s 5ms/step - loss: 0.2014 - val_loss: 0.2145\n",
      "Epoch 61/1000\n",
      "168/168 [==============================] - 1s 5ms/step - loss: 0.2012 - val_loss: 0.2127\n",
      "Epoch 62/1000\n",
      "168/168 [==============================] - 1s 5ms/step - loss: 0.2017 - val_loss: 0.2127\n",
      "Epoch 63/1000\n",
      "168/168 [==============================] - 1s 5ms/step - loss: 0.2008 - val_loss: 0.2127\n",
      "Epoch 64/1000\n",
      "168/168 [==============================] - 1s 5ms/step - loss: 0.2010 - val_loss: 0.2128\n",
      "Epoch 65/1000\n",
      "168/168 [==============================] - 1s 4ms/step - loss: 0.2013 - val_loss: 0.2127\n",
      "Epoch 66/1000\n",
      "168/168 [==============================] - 1s 5ms/step - loss: 0.2011 - val_loss: 0.2130\n",
      "Epoch 67/1000\n",
      "168/168 [==============================] - 1s 5ms/step - loss: 0.2014 - val_loss: 0.2129\n",
      "Epoch 68/1000\n",
      "168/168 [==============================] - 1s 4ms/step - loss: 0.2016 - val_loss: 0.2129\n",
      "Epoch 69/1000\n",
      "168/168 [==============================] - 1s 4ms/step - loss: 0.2016 - val_loss: 0.2129\n",
      "Epoch 70/1000\n",
      "168/168 [==============================] - 1s 5ms/step - loss: 0.2008 - val_loss: 0.2128\n",
      "Epoch 71/1000\n",
      "168/168 [==============================] - 1s 4ms/step - loss: 0.2012 - val_loss: 0.2129\n",
      "Epoch 72/1000\n",
      "168/168 [==============================] - 1s 4ms/step - loss: 0.2009 - val_loss: 0.2128\n",
      "Epoch 73/1000\n",
      "168/168 [==============================] - 1s 5ms/step - loss: 0.2025 - val_loss: 0.2130\n",
      "Epoch 74/1000\n",
      "168/168 [==============================] - 1s 5ms/step - loss: 0.2012 - val_loss: 0.2128\n",
      "Epoch 75/1000\n",
      "168/168 [==============================] - 1s 5ms/step - loss: 0.2015 - val_loss: 0.2129\n",
      "Epoch 76/1000\n",
      "168/168 [==============================] - 1s 5ms/step - loss: 0.2014 - val_loss: 0.2129\n",
      "Epoch 77/1000\n",
      "168/168 [==============================] - 1s 5ms/step - loss: 0.2014 - val_loss: 0.2129\n",
      "Epoch 78/1000\n",
      "168/168 [==============================] - 1s 5ms/step - loss: 0.2008 - val_loss: 0.2129\n",
      "Epoch 79/1000\n",
      "168/168 [==============================] - 1s 5ms/step - loss: 0.2009 - val_loss: 0.2129\n",
      "Epoch 80/1000\n",
      "168/168 [==============================] - 1s 4ms/step - loss: 0.2014 - val_loss: 0.2128\n",
      "Epoch 81/1000\n",
      "168/168 [==============================] - 1s 4ms/step - loss: 0.2007 - val_loss: 0.2129\n",
      "Epoch 82/1000\n",
      "168/168 [==============================] - 1s 5ms/step - loss: 0.2011 - val_loss: 0.2129\n",
      "Epoch 83/1000\n",
      "168/168 [==============================] - 1s 5ms/step - loss: 0.2021 - val_loss: 0.2129\n",
      "Epoch 84/1000\n",
      "168/168 [==============================] - 1s 4ms/step - loss: 0.2015 - val_loss: 0.2129\n",
      "Epoch 85/1000\n",
      "168/168 [==============================] - 1s 5ms/step - loss: 0.2013 - val_loss: 0.2129\n",
      "Fold 5 NN: 0.21266\n"
     ]
    }
   ],
   "source": [
    "plateau = tf.keras.callbacks.ReduceLROnPlateau(\n",
    "    monitor='val_loss', factor=0.19, patience=7, verbose=0,\n",
    "    mode='min')\n",
    "\n",
    "es = tf.keras.callbacks.EarlyStopping(\n",
    "    monitor='val_loss', patience=20, verbose=0,\n",
    "    mode='min',restore_best_weights=True)\n",
    "\n",
    "target_name='target'\n",
    "scores_folds = {}\n",
    "model_name = 'NN'\n",
    "pred_name = 'pred_{}'.format(model_name)\n",
    "\n",
    "n_folds = 5\n",
    "kf = model_selection.KFold(n_splits=n_folds, shuffle=True, random_state=2020)\n",
    "scores_folds[model_name] = []\n",
    "counter = 1\n",
    "\n",
    "features_to_consider = list(train_nn)\n",
    "\n",
    "features_to_consider.remove('time_id')\n",
    "features_to_consider.remove('target')\n",
    "try:\n",
    "    features_to_consider.remove('pred_NN')\n",
    "except:\n",
    "    pass\n",
    "\n",
    "\n",
    "train_nn[features_to_consider] = train_nn[features_to_consider].fillna(train_nn[features_to_consider].mean())\n",
    "test_nn[features_to_consider] = test_nn[features_to_consider].fillna(train_nn[features_to_consider].mean())\n",
    "\n",
    "train_nn[pred_name] = 0\n",
    "test_nn[target_name] = 0\n",
    "test_predictions_nn = np.zeros(test_nn.shape[0])\n",
    "\n",
    "for n_count in range(n_folds):\n",
    "    print('CV {}/{}'.format(counter, n_folds))\n",
    "    \n",
    "    indexes = np.arange(nfolds).astype(int)    \n",
    "    indexes = np.delete(indexes,obj=n_count, axis=0) \n",
    "    \n",
    "    indexes = np.r_[values[indexes[0]],values[indexes[1]],values[indexes[2]],values[indexes[3]]]\n",
    "    \n",
    "    X_train = train_nn.loc[train_nn.time_id.isin(indexes), features_to_consider]\n",
    "    y_train = train_nn.loc[train_nn.time_id.isin(indexes), target_name]\n",
    "    X_test = train_nn.loc[train_nn.time_id.isin(values[n_count]), features_to_consider]\n",
    "    y_test = train_nn.loc[train_nn.time_id.isin(values[n_count]), target_name]\n",
    "    \n",
    "    #############################################################################################\n",
    "    # NN\n",
    "    #############################################################################################\n",
    "    \n",
    "    model = base_model()\n",
    "    \n",
    "    model.compile(\n",
    "        keras.optimizers.Adam(learning_rate=0.006),\n",
    "        loss=root_mean_squared_per_error\n",
    "    )\n",
    "    \n",
    "    try:\n",
    "        features_to_consider.remove('stock_id')\n",
    "    except:\n",
    "        pass\n",
    "    \n",
    "    num_data = X_train[features_to_consider]\n",
    "    \n",
    "    scaler = MinMaxScaler(feature_range=(-1, 1))         \n",
    "    num_data = scaler.fit_transform(num_data.values)    \n",
    "    \n",
    "    cat_data = X_train['stock_id']    \n",
    "    target =  y_train\n",
    "    \n",
    "    num_data_test = X_test[features_to_consider]\n",
    "    num_data_test = scaler.transform(num_data_test.values)\n",
    "    cat_data_test = X_test['stock_id']\n",
    "\n",
    "    model.fit([cat_data, num_data], \n",
    "              target,               \n",
    "              batch_size=2048,\n",
    "              epochs=1000,\n",
    "              validation_data=([cat_data_test, num_data_test], y_test),\n",
    "              callbacks=[es, plateau],\n",
    "              validation_batch_size=len(y_test),\n",
    "              shuffle=True,\n",
    "             verbose = 1)\n",
    "\n",
    "    preds = model.predict([cat_data_test, num_data_test]).reshape(1,-1)[0]\n",
    "    \n",
    "    score = round(rmspe(y_true = y_test, y_pred = preds),5)\n",
    "    print('Fold {} {}: {}'.format(counter, model_name, score))\n",
    "    scores_folds[model_name].append(score)\n",
    "    \n",
    "    tt =scaler.transform(test_nn[features_to_consider].values)\n",
    "    #test_nn[target_name] += model.predict([test_nn['stock_id'], tt]).reshape(1,-1)[0].clip(0,1e10)\n",
    "    test_predictions_nn += model.predict([test_nn['stock_id'], tt]).reshape(1,-1)[0].clip(0,1e10)/n_folds\n",
    "    #test[target_name] += model.predict([test['stock_id'], test[features_to_consider]]).reshape(1,-1)[0].clip(0,1e10)\n",
    "       \n",
    "    counter += 1\n",
    "    features_to_consider.append('stock_id')"
   ]
  },
  {
   "cell_type": "code",
   "execution_count": 29,
   "id": "5c783cb3",
   "metadata": {
    "execution": {
     "iopub.execute_input": "2023-12-13T17:36:53.791113Z",
     "iopub.status.busy": "2023-12-13T17:36:53.789786Z",
     "iopub.status.idle": "2023-12-13T17:36:53.813063Z",
     "shell.execute_reply": "2023-12-13T17:36:53.812379Z",
     "shell.execute_reply.started": "2023-12-13T13:07:25.448684Z"
    },
    "papermill": {
     "duration": 15.077172,
     "end_time": "2023-12-13T17:36:53.813212",
     "exception": false,
     "start_time": "2023-12-13T17:36:38.736040",
     "status": "completed"
    },
    "tags": []
   },
   "outputs": [
    {
     "name": "stdout",
     "output_type": "stream",
     "text": [
      "RMSPE NN: 1.0 - Folds: [0.20795, 0.21307, 0.20941, 0.21501, 0.21266]\n"
     ]
    },
    {
     "data": {
      "text/html": [
       "<div>\n",
       "<style scoped>\n",
       "    .dataframe tbody tr th:only-of-type {\n",
       "        vertical-align: middle;\n",
       "    }\n",
       "\n",
       "    .dataframe tbody tr th {\n",
       "        vertical-align: top;\n",
       "    }\n",
       "\n",
       "    .dataframe thead th {\n",
       "        text-align: right;\n",
       "    }\n",
       "</style>\n",
       "<table border=\"1\" class=\"dataframe\">\n",
       "  <thead>\n",
       "    <tr style=\"text-align: right;\">\n",
       "      <th></th>\n",
       "      <th>row_id</th>\n",
       "      <th>target</th>\n",
       "    </tr>\n",
       "  </thead>\n",
       "  <tbody>\n",
       "    <tr>\n",
       "      <th>0</th>\n",
       "      <td>0-4</td>\n",
       "      <td>NaN</td>\n",
       "    </tr>\n",
       "    <tr>\n",
       "      <th>1</th>\n",
       "      <td>0-32</td>\n",
       "      <td>NaN</td>\n",
       "    </tr>\n",
       "    <tr>\n",
       "      <th>2</th>\n",
       "      <td>0-34</td>\n",
       "      <td>NaN</td>\n",
       "    </tr>\n",
       "  </tbody>\n",
       "</table>\n",
       "</div>"
      ],
      "text/plain": [
       "  row_id  target\n",
       "0    0-4     NaN\n",
       "1   0-32     NaN\n",
       "2   0-34     NaN"
      ]
     },
     "metadata": {},
     "output_type": "display_data"
    }
   ],
   "source": [
    "test_nn[\"row_id\"] = test_nn[\"stock_id\"].astype(str) + \"-\" + test_nn[\"time_id\"].astype(str) \n",
    "#test_nn[target_name] = (test_predictions_nn*0.455+predictions_lgb_1*0.265+preds_tab*0.3)\n",
    "test_nn[target_name] = (test_predictions_nn*0.4+predictions_lgb_1*0.3+tab_preds*0.3)\n",
    "\n",
    "\n",
    "score = round(rmspe(y_true = train_nn[target_name].values, y_pred = train_nn[pred_name].values),5)\n",
    "print('RMSPE {}: {} - Folds: {}'.format(model_name, score, scores_folds[model_name]))\n",
    "\n",
    "display(test_nn[['row_id', target_name]].head(3))\n",
    "test_nn[['row_id', target_name]].to_csv('submission.csv',index = False)"
   ]
  },
  {
   "cell_type": "markdown",
   "id": "41574932",
   "metadata": {
    "papermill": {
     "duration": 15.172958,
     "end_time": "2023-12-13T17:37:24.052344",
     "exception": false,
     "start_time": "2023-12-13T17:37:08.879386",
     "status": "completed"
    },
    "tags": []
   },
   "source": [
    "It's a fork from https://www.kaggle.com/alexioslyon/lgbm-baseline and other great kaggles.thanks a lot!"
   ]
  },
  {
   "cell_type": "code",
   "execution_count": 30,
   "id": "aa350cce",
   "metadata": {
    "execution": {
     "iopub.execute_input": "2023-12-13T17:37:54.196502Z",
     "iopub.status.busy": "2023-12-13T17:37:54.195854Z",
     "iopub.status.idle": "2023-12-13T17:37:54.198753Z",
     "shell.execute_reply": "2023-12-13T17:37:54.198164Z"
    },
    "papermill": {
     "duration": 15.065912,
     "end_time": "2023-12-13T17:37:54.198878",
     "exception": false,
     "start_time": "2023-12-13T17:37:39.132966",
     "status": "completed"
    },
    "tags": []
   },
   "outputs": [],
   "source": [
    "# total time is around 2:30"
   ]
  }
 ],
 "metadata": {
  "kaggle": {
   "accelerator": "nvidiaTeslaT4",
   "dataSources": [
    {
     "databundleVersionId": 2344753,
     "sourceId": 27233,
     "sourceType": "competition"
    },
    {
     "datasetId": 921302,
     "sourceId": 6182088,
     "sourceType": "datasetVersion"
    },
    {
     "datasetId": 4119387,
     "sourceId": 7138177,
     "sourceType": "datasetVersion"
    }
   ],
   "dockerImageVersionId": 30120,
   "isGpuEnabled": true,
   "isInternetEnabled": false,
   "language": "python",
   "sourceType": "notebook"
  },
  "kernelspec": {
   "display_name": "Python 3",
   "language": "python",
   "name": "python3"
  },
  "language_info": {
   "codemirror_mode": {
    "name": "ipython",
    "version": 3
   },
   "file_extension": ".py",
   "mimetype": "text/x-python",
   "name": "python",
   "nbconvert_exporter": "python",
   "pygments_lexer": "ipython3",
   "version": "3.7.10"
  },
  "papermill": {
   "default_parameters": {},
   "duration": 13415.674681,
   "end_time": "2023-12-13T17:38:12.454220",
   "environment_variables": {},
   "exception": null,
   "input_path": "__notebook__.ipynb",
   "output_path": "__notebook__.ipynb",
   "parameters": {},
   "start_time": "2023-12-13T13:54:36.779539",
   "version": "2.3.3"
  }
 },
 "nbformat": 4,
 "nbformat_minor": 5
}
